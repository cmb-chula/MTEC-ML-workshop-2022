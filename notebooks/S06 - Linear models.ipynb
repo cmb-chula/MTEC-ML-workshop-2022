{
 "cells": [
  {
   "cell_type": "markdown",
   "id": "BS6euoJOCDim",
   "metadata": {
    "id": "BS6euoJOCDim",
    "slideshow": {
     "slide_type": "slide"
    }
   },
   "source": [
    "# ช่วงที่ 1 โมเดลตระกูลเส้นตรง\n",
    "[scikit-learn](https://scikit-learn.org/stable/) library ที่เราจะใช้กันเป็นหลักมีคำอธิบายประกอบภาพชัดเจน แนะนำให้ศึกษาเพิ่มเติมเพื่อทำความรู้จักโมเดลอื่น ๆ ที่เราไม่ได้เรียนกันในคอร์สนี้\n",
    "\n",
    "สำหรับช่วงนี้เราจะเล่นกับโมเดลตระกูลเส้นตรง เช่น [Linear regression](https://scikit-learn.org/stable/modules/generated/sklearn.linear_model.LinearRegression.html), [Ridge regression](https://scikit-learn.org/stable/modules/generated/sklearn.linear_model.Ridge.html), [LASSO regression](https://scikit-learn.org/stable/modules/generated/sklearn.linear_model.Lasso.html), [Logistic regression](https://scikit-learn.org/stable/modules/generated/sklearn.linear_model.LogisticRegression.html), [SVM สำหรับ classification](https://scikit-learn.org/stable/modules/generated/sklearn.svm.SVC.html), และ [SVM สำหรับ regression](https://scikit-learn.org/stable/modules/generated/sklearn.svm.SVR.html) กัน"
   ]
  },
  {
   "cell_type": "markdown",
   "id": "CngGzx8oD0Lj",
   "metadata": {
    "id": "CngGzx8oD0Lj"
   },
   "source": [
    "# การเตรียมข้อมูล\n",
    "เราจะเชื่อมต่อ Google Colab เข้ากับ Google Drive ด้วยคำสั่งข้างล่าง โดยตำแหน่ง folder จะอยู่ที่ /content/drive/MyDrive"
   ]
  },
  {
   "cell_type": "code",
   "execution_count": 1,
   "id": "KKMkwGnPEJfu",
   "metadata": {
    "colab": {
     "base_uri": "https://localhost:8080/"
    },
    "executionInfo": {
     "elapsed": 26274,
     "status": "ok",
     "timestamp": 1667133305108,
     "user": {
      "displayName": "Sira Sriswasdi",
      "userId": "03069351775920236110"
     },
     "user_tz": -420
    },
    "id": "KKMkwGnPEJfu",
    "outputId": "3abab5b3-601f-4c52-cadc-39ca1b58ac18"
   },
   "outputs": [
    {
     "name": "stdout",
     "output_type": "stream",
     "text": [
      "Mounted at /content/drive\n"
     ]
    }
   ],
   "source": [
    "from google.colab import drive\n",
    "drive.mount('/content/drive')"
   ]
  },
  {
   "cell_type": "markdown",
   "id": "close-cleveland",
   "metadata": {
    "id": "close-cleveland"
   },
   "source": [
    "# ดึง library ต่าง ๆ ที่เราต้องใช้\n",
    "ใน scikit-learn จะกระจายฟังก์ชันที่ทำหน้าที่ต่าง ๆ ไว้ใน sub-library ย่อย เช่น [PCA](https://scikit-learn.org/stable/modules/generated/sklearn.decomposition.PCA.html) อยู่ใน sklearn.decomposition\n",
    "\n",
    "โดยส่วนใหญ่ ชื่อของ sub-library มักจะสื่่อถึงหน้าที่ของฟังก์ชันเหล่านี้อยู่แล้ว แต่สำหรับคนที่เพิ่งจะเริ่มใช้อาจจะต้องใช้เวลาเพื่อทำความคุ้นเคย"
   ]
  },
  {
   "cell_type": "code",
   "execution_count": 2,
   "id": "tracked-delight",
   "metadata": {
    "executionInfo": {
     "elapsed": 1705,
     "status": "ok",
     "timestamp": 1667133312899,
     "user": {
      "displayName": "Sira Sriswasdi",
      "userId": "03069351775920236110"
     },
     "user_tz": -420
    },
    "id": "tracked-delight"
   },
   "outputs": [],
   "source": [
    "import numpy as np\n",
    "import pandas as pd\n",
    "import seaborn as sns\n",
    "import matplotlib.pyplot as plt\n",
    "\n",
    "from sklearn.decomposition import PCA\n",
    "from sklearn.manifold import TSNE\n",
    "\n",
    "from sklearn.linear_model import LinearRegression, Ridge, Lasso, LogisticRegression\n",
    "from sklearn.svm import SVC, SVR\n",
    "\n",
    "from sklearn.preprocessing import StandardScaler\n",
    "from sklearn.model_selection import train_test_split, KFold, StratifiedKFold, GridSearchCV\n",
    "from sklearn.metrics import mean_absolute_error, classification_report, confusion_matrix\n",
    "\n",
    "from scipy.stats import pearsonr, spearmanr, kendalltau"
   ]
  },
  {
   "cell_type": "markdown",
   "id": "dense-vision",
   "metadata": {
    "id": "dense-vision"
   },
   "source": [
    "# ข้อมูลชุดที่ 1 ความแข็งแรงของคอนกรีต\n",
    "อย่าลืมเปลี่ยนตำแหน่งของไฟล์ ConcreteStrength.csv ให้เป็นไปตามตำแหน่งที่เราวางใน Google Drive ของเราเอง\n",
    "\n",
    "ข้อมูลชุดนี้เกี่ยวกับความแข็งแรงของคอนกรีต ซึ่งขึ้นอยู่กับปัจจัยสองส่วน คือ (1) ส่วนผสม และ (2) อายุ โดยส่วนผสมมีอยู่ 7 องค์ประกอบได้แก่\n",
    "* Cement\n",
    "* Blast Furnace Slag\n",
    "* Fly Ash\n",
    "* Water\n",
    "* Superplasticizer\n",
    "* Coarse Aggregate\n",
    "* Fine Aggregate"
   ]
  },
  {
   "cell_type": "code",
   "execution_count": 3,
   "id": "attempted-traveler",
   "metadata": {
    "colab": {
     "base_uri": "https://localhost:8080/",
     "height": 206
    },
    "executionInfo": {
     "elapsed": 720,
     "status": "ok",
     "timestamp": 1667133316446,
     "user": {
      "displayName": "Sira Sriswasdi",
      "userId": "03069351775920236110"
     },
     "user_tz": -420
    },
    "id": "attempted-traveler",
    "outputId": "3f5ae3a2-a922-4b15-c6ad-c03ecbb0b395"
   },
   "outputs": [
    {
     "data": {
      "text/html": [
       "\n",
       "  <div id=\"df-578a5d34-85b8-4966-8673-0f3d30f7d551\">\n",
       "    <div class=\"colab-df-container\">\n",
       "      <div>\n",
       "<style scoped>\n",
       "    .dataframe tbody tr th:only-of-type {\n",
       "        vertical-align: middle;\n",
       "    }\n",
       "\n",
       "    .dataframe tbody tr th {\n",
       "        vertical-align: top;\n",
       "    }\n",
       "\n",
       "    .dataframe thead th {\n",
       "        text-align: right;\n",
       "    }\n",
       "</style>\n",
       "<table border=\"1\" class=\"dataframe\">\n",
       "  <thead>\n",
       "    <tr style=\"text-align: right;\">\n",
       "      <th></th>\n",
       "      <th>Cement</th>\n",
       "      <th>Blast Furnace Slag</th>\n",
       "      <th>Fly Ash</th>\n",
       "      <th>Water</th>\n",
       "      <th>Superplasticizer</th>\n",
       "      <th>Coarse Aggregate</th>\n",
       "      <th>Fine Aggregate</th>\n",
       "      <th>Age</th>\n",
       "      <th>Concrete compressive strength</th>\n",
       "    </tr>\n",
       "  </thead>\n",
       "  <tbody>\n",
       "    <tr>\n",
       "      <th>0</th>\n",
       "      <td>540.0</td>\n",
       "      <td>0.0</td>\n",
       "      <td>0.0</td>\n",
       "      <td>162.0</td>\n",
       "      <td>2.5</td>\n",
       "      <td>1040.0</td>\n",
       "      <td>676.0</td>\n",
       "      <td>28</td>\n",
       "      <td>79.99</td>\n",
       "    </tr>\n",
       "    <tr>\n",
       "      <th>1</th>\n",
       "      <td>540.0</td>\n",
       "      <td>0.0</td>\n",
       "      <td>0.0</td>\n",
       "      <td>162.0</td>\n",
       "      <td>2.5</td>\n",
       "      <td>1055.0</td>\n",
       "      <td>676.0</td>\n",
       "      <td>28</td>\n",
       "      <td>61.89</td>\n",
       "    </tr>\n",
       "    <tr>\n",
       "      <th>2</th>\n",
       "      <td>332.5</td>\n",
       "      <td>142.5</td>\n",
       "      <td>0.0</td>\n",
       "      <td>228.0</td>\n",
       "      <td>0.0</td>\n",
       "      <td>932.0</td>\n",
       "      <td>594.0</td>\n",
       "      <td>270</td>\n",
       "      <td>40.27</td>\n",
       "    </tr>\n",
       "    <tr>\n",
       "      <th>3</th>\n",
       "      <td>332.5</td>\n",
       "      <td>142.5</td>\n",
       "      <td>0.0</td>\n",
       "      <td>228.0</td>\n",
       "      <td>0.0</td>\n",
       "      <td>932.0</td>\n",
       "      <td>594.0</td>\n",
       "      <td>365</td>\n",
       "      <td>41.05</td>\n",
       "    </tr>\n",
       "    <tr>\n",
       "      <th>4</th>\n",
       "      <td>198.6</td>\n",
       "      <td>132.4</td>\n",
       "      <td>0.0</td>\n",
       "      <td>192.0</td>\n",
       "      <td>0.0</td>\n",
       "      <td>978.4</td>\n",
       "      <td>825.5</td>\n",
       "      <td>360</td>\n",
       "      <td>44.30</td>\n",
       "    </tr>\n",
       "  </tbody>\n",
       "</table>\n",
       "</div>\n",
       "      <button class=\"colab-df-convert\" onclick=\"convertToInteractive('df-578a5d34-85b8-4966-8673-0f3d30f7d551')\"\n",
       "              title=\"Convert this dataframe to an interactive table.\"\n",
       "              style=\"display:none;\">\n",
       "        \n",
       "  <svg xmlns=\"http://www.w3.org/2000/svg\" height=\"24px\"viewBox=\"0 0 24 24\"\n",
       "       width=\"24px\">\n",
       "    <path d=\"M0 0h24v24H0V0z\" fill=\"none\"/>\n",
       "    <path d=\"M18.56 5.44l.94 2.06.94-2.06 2.06-.94-2.06-.94-.94-2.06-.94 2.06-2.06.94zm-11 1L8.5 8.5l.94-2.06 2.06-.94-2.06-.94L8.5 2.5l-.94 2.06-2.06.94zm10 10l.94 2.06.94-2.06 2.06-.94-2.06-.94-.94-2.06-.94 2.06-2.06.94z\"/><path d=\"M17.41 7.96l-1.37-1.37c-.4-.4-.92-.59-1.43-.59-.52 0-1.04.2-1.43.59L10.3 9.45l-7.72 7.72c-.78.78-.78 2.05 0 2.83L4 21.41c.39.39.9.59 1.41.59.51 0 1.02-.2 1.41-.59l7.78-7.78 2.81-2.81c.8-.78.8-2.07 0-2.86zM5.41 20L4 18.59l7.72-7.72 1.47 1.35L5.41 20z\"/>\n",
       "  </svg>\n",
       "      </button>\n",
       "      \n",
       "  <style>\n",
       "    .colab-df-container {\n",
       "      display:flex;\n",
       "      flex-wrap:wrap;\n",
       "      gap: 12px;\n",
       "    }\n",
       "\n",
       "    .colab-df-convert {\n",
       "      background-color: #E8F0FE;\n",
       "      border: none;\n",
       "      border-radius: 50%;\n",
       "      cursor: pointer;\n",
       "      display: none;\n",
       "      fill: #1967D2;\n",
       "      height: 32px;\n",
       "      padding: 0 0 0 0;\n",
       "      width: 32px;\n",
       "    }\n",
       "\n",
       "    .colab-df-convert:hover {\n",
       "      background-color: #E2EBFA;\n",
       "      box-shadow: 0px 1px 2px rgba(60, 64, 67, 0.3), 0px 1px 3px 1px rgba(60, 64, 67, 0.15);\n",
       "      fill: #174EA6;\n",
       "    }\n",
       "\n",
       "    [theme=dark] .colab-df-convert {\n",
       "      background-color: #3B4455;\n",
       "      fill: #D2E3FC;\n",
       "    }\n",
       "\n",
       "    [theme=dark] .colab-df-convert:hover {\n",
       "      background-color: #434B5C;\n",
       "      box-shadow: 0px 1px 3px 1px rgba(0, 0, 0, 0.15);\n",
       "      filter: drop-shadow(0px 1px 2px rgba(0, 0, 0, 0.3));\n",
       "      fill: #FFFFFF;\n",
       "    }\n",
       "  </style>\n",
       "\n",
       "      <script>\n",
       "        const buttonEl =\n",
       "          document.querySelector('#df-578a5d34-85b8-4966-8673-0f3d30f7d551 button.colab-df-convert');\n",
       "        buttonEl.style.display =\n",
       "          google.colab.kernel.accessAllowed ? 'block' : 'none';\n",
       "\n",
       "        async function convertToInteractive(key) {\n",
       "          const element = document.querySelector('#df-578a5d34-85b8-4966-8673-0f3d30f7d551');\n",
       "          const dataTable =\n",
       "            await google.colab.kernel.invokeFunction('convertToInteractive',\n",
       "                                                     [key], {});\n",
       "          if (!dataTable) return;\n",
       "\n",
       "          const docLinkHtml = 'Like what you see? Visit the ' +\n",
       "            '<a target=\"_blank\" href=https://colab.research.google.com/notebooks/data_table.ipynb>data table notebook</a>'\n",
       "            + ' to learn more about interactive tables.';\n",
       "          element.innerHTML = '';\n",
       "          dataTable['output_type'] = 'display_data';\n",
       "          await google.colab.output.renderOutput(dataTable, element);\n",
       "          const docLink = document.createElement('div');\n",
       "          docLink.innerHTML = docLinkHtml;\n",
       "          element.appendChild(docLink);\n",
       "        }\n",
       "      </script>\n",
       "    </div>\n",
       "  </div>\n",
       "  "
      ],
      "text/plain": [
       "   Cement  Blast Furnace Slag  Fly Ash  Water  Superplasticizer  \\\n",
       "0   540.0                 0.0      0.0  162.0               2.5   \n",
       "1   540.0                 0.0      0.0  162.0               2.5   \n",
       "2   332.5               142.5      0.0  228.0               0.0   \n",
       "3   332.5               142.5      0.0  228.0               0.0   \n",
       "4   198.6               132.4      0.0  192.0               0.0   \n",
       "\n",
       "   Coarse Aggregate  Fine Aggregate  Age  Concrete compressive strength  \n",
       "0            1040.0           676.0   28                          79.99  \n",
       "1            1055.0           676.0   28                          61.89  \n",
       "2             932.0           594.0  270                          40.27  \n",
       "3             932.0           594.0  365                          41.05  \n",
       "4             978.4           825.5  360                          44.30  "
      ]
     },
     "execution_count": 3,
     "metadata": {},
     "output_type": "execute_result"
    }
   ],
   "source": [
    "data = pd.read_csv('/content/drive/MyDrive/Datasets/ConcreteStrength.csv', index_col = None) ## ข้อมูลนี้ไม่มี row index\n",
    "data.columns = [x.split('(')[0].strip() for x in data.columns] ## ปรับชื่อคอลัมน์ให้กระชับ\n",
    "data.head()"
   ]
  },
  {
   "cell_type": "markdown",
   "id": "69YvE6GfIlGB",
   "metadata": {
    "id": "69YvE6GfIlGB"
   },
   "source": [
    "ปริมาณของข้อมูล มี 1030 ตัวอย่าง"
   ]
  },
  {
   "cell_type": "code",
   "execution_count": 4,
   "id": "disciplinary-assist",
   "metadata": {
    "colab": {
     "base_uri": "https://localhost:8080/"
    },
    "executionInfo": {
     "elapsed": 685,
     "status": "ok",
     "timestamp": 1667133319669,
     "user": {
      "displayName": "Sira Sriswasdi",
      "userId": "03069351775920236110"
     },
     "user_tz": -420
    },
    "id": "disciplinary-assist",
    "outputId": "6455f88c-a619-4ab0-eedd-73562dd16e48"
   },
   "outputs": [
    {
     "name": "stdout",
     "output_type": "stream",
     "text": [
      "data shape: (1030, 9)\n"
     ]
    }
   ],
   "source": [
    "print('data shape:', data.shape)"
   ]
  },
  {
   "cell_type": "markdown",
   "id": "documented-generation",
   "metadata": {
    "id": "documented-generation"
   },
   "source": [
    "## แยกตัวแปร input กับ output ออกจากกัน\n",
    "output คือคอลัมน์สุดท้าย ที่เป็นความแข็งแรงของคอนกรีต (Concrete compressive strength)"
   ]
  },
  {
   "cell_type": "code",
   "execution_count": 6,
   "id": "civil-finder",
   "metadata": {
    "colab": {
     "base_uri": "https://localhost:8080/",
     "height": 164
    },
    "executionInfo": {
     "elapsed": 502,
     "status": "ok",
     "timestamp": 1667133327004,
     "user": {
      "displayName": "Sira Sriswasdi",
      "userId": "03069351775920236110"
     },
     "user_tz": -420
    },
    "id": "civil-finder",
    "outputId": "106b6935-3ae1-4f22-8bd6-f2dc02026999"
   },
   "outputs": [
    {
     "data": {
      "text/html": [
       "\n",
       "  <div id=\"df-d822c53e-0b5a-41c8-88a6-99ad599e5b9c\">\n",
       "    <div class=\"colab-df-container\">\n",
       "      <div>\n",
       "<style scoped>\n",
       "    .dataframe tbody tr th:only-of-type {\n",
       "        vertical-align: middle;\n",
       "    }\n",
       "\n",
       "    .dataframe tbody tr th {\n",
       "        vertical-align: top;\n",
       "    }\n",
       "\n",
       "    .dataframe thead th {\n",
       "        text-align: right;\n",
       "    }\n",
       "</style>\n",
       "<table border=\"1\" class=\"dataframe\">\n",
       "  <thead>\n",
       "    <tr style=\"text-align: right;\">\n",
       "      <th></th>\n",
       "      <th>Cement</th>\n",
       "      <th>Blast Furnace Slag</th>\n",
       "      <th>Fly Ash</th>\n",
       "      <th>Water</th>\n",
       "      <th>Superplasticizer</th>\n",
       "      <th>Coarse Aggregate</th>\n",
       "      <th>Fine Aggregate</th>\n",
       "      <th>Age</th>\n",
       "    </tr>\n",
       "  </thead>\n",
       "  <tbody>\n",
       "    <tr>\n",
       "      <th>0</th>\n",
       "      <td>540.0</td>\n",
       "      <td>0.0</td>\n",
       "      <td>0.0</td>\n",
       "      <td>162.0</td>\n",
       "      <td>2.5</td>\n",
       "      <td>1040.0</td>\n",
       "      <td>676.0</td>\n",
       "      <td>28</td>\n",
       "    </tr>\n",
       "    <tr>\n",
       "      <th>1</th>\n",
       "      <td>540.0</td>\n",
       "      <td>0.0</td>\n",
       "      <td>0.0</td>\n",
       "      <td>162.0</td>\n",
       "      <td>2.5</td>\n",
       "      <td>1055.0</td>\n",
       "      <td>676.0</td>\n",
       "      <td>28</td>\n",
       "    </tr>\n",
       "  </tbody>\n",
       "</table>\n",
       "</div>\n",
       "      <button class=\"colab-df-convert\" onclick=\"convertToInteractive('df-d822c53e-0b5a-41c8-88a6-99ad599e5b9c')\"\n",
       "              title=\"Convert this dataframe to an interactive table.\"\n",
       "              style=\"display:none;\">\n",
       "        \n",
       "  <svg xmlns=\"http://www.w3.org/2000/svg\" height=\"24px\"viewBox=\"0 0 24 24\"\n",
       "       width=\"24px\">\n",
       "    <path d=\"M0 0h24v24H0V0z\" fill=\"none\"/>\n",
       "    <path d=\"M18.56 5.44l.94 2.06.94-2.06 2.06-.94-2.06-.94-.94-2.06-.94 2.06-2.06.94zm-11 1L8.5 8.5l.94-2.06 2.06-.94-2.06-.94L8.5 2.5l-.94 2.06-2.06.94zm10 10l.94 2.06.94-2.06 2.06-.94-2.06-.94-.94-2.06-.94 2.06-2.06.94z\"/><path d=\"M17.41 7.96l-1.37-1.37c-.4-.4-.92-.59-1.43-.59-.52 0-1.04.2-1.43.59L10.3 9.45l-7.72 7.72c-.78.78-.78 2.05 0 2.83L4 21.41c.39.39.9.59 1.41.59.51 0 1.02-.2 1.41-.59l7.78-7.78 2.81-2.81c.8-.78.8-2.07 0-2.86zM5.41 20L4 18.59l7.72-7.72 1.47 1.35L5.41 20z\"/>\n",
       "  </svg>\n",
       "      </button>\n",
       "      \n",
       "  <style>\n",
       "    .colab-df-container {\n",
       "      display:flex;\n",
       "      flex-wrap:wrap;\n",
       "      gap: 12px;\n",
       "    }\n",
       "\n",
       "    .colab-df-convert {\n",
       "      background-color: #E8F0FE;\n",
       "      border: none;\n",
       "      border-radius: 50%;\n",
       "      cursor: pointer;\n",
       "      display: none;\n",
       "      fill: #1967D2;\n",
       "      height: 32px;\n",
       "      padding: 0 0 0 0;\n",
       "      width: 32px;\n",
       "    }\n",
       "\n",
       "    .colab-df-convert:hover {\n",
       "      background-color: #E2EBFA;\n",
       "      box-shadow: 0px 1px 2px rgba(60, 64, 67, 0.3), 0px 1px 3px 1px rgba(60, 64, 67, 0.15);\n",
       "      fill: #174EA6;\n",
       "    }\n",
       "\n",
       "    [theme=dark] .colab-df-convert {\n",
       "      background-color: #3B4455;\n",
       "      fill: #D2E3FC;\n",
       "    }\n",
       "\n",
       "    [theme=dark] .colab-df-convert:hover {\n",
       "      background-color: #434B5C;\n",
       "      box-shadow: 0px 1px 3px 1px rgba(0, 0, 0, 0.15);\n",
       "      filter: drop-shadow(0px 1px 2px rgba(0, 0, 0, 0.3));\n",
       "      fill: #FFFFFF;\n",
       "    }\n",
       "  </style>\n",
       "\n",
       "      <script>\n",
       "        const buttonEl =\n",
       "          document.querySelector('#df-d822c53e-0b5a-41c8-88a6-99ad599e5b9c button.colab-df-convert');\n",
       "        buttonEl.style.display =\n",
       "          google.colab.kernel.accessAllowed ? 'block' : 'none';\n",
       "\n",
       "        async function convertToInteractive(key) {\n",
       "          const element = document.querySelector('#df-d822c53e-0b5a-41c8-88a6-99ad599e5b9c');\n",
       "          const dataTable =\n",
       "            await google.colab.kernel.invokeFunction('convertToInteractive',\n",
       "                                                     [key], {});\n",
       "          if (!dataTable) return;\n",
       "\n",
       "          const docLinkHtml = 'Like what you see? Visit the ' +\n",
       "            '<a target=\"_blank\" href=https://colab.research.google.com/notebooks/data_table.ipynb>data table notebook</a>'\n",
       "            + ' to learn more about interactive tables.';\n",
       "          element.innerHTML = '';\n",
       "          dataTable['output_type'] = 'display_data';\n",
       "          await google.colab.output.renderOutput(dataTable, element);\n",
       "          const docLink = document.createElement('div');\n",
       "          docLink.innerHTML = docLinkHtml;\n",
       "          element.appendChild(docLink);\n",
       "        }\n",
       "      </script>\n",
       "    </div>\n",
       "  </div>\n",
       "  "
      ],
      "text/plain": [
       "   Cement  Blast Furnace Slag  Fly Ash  Water  Superplasticizer  \\\n",
       "0   540.0                 0.0      0.0  162.0               2.5   \n",
       "1   540.0                 0.0      0.0  162.0               2.5   \n",
       "\n",
       "   Coarse Aggregate  Fine Aggregate  Age  \n",
       "0            1040.0           676.0   28  \n",
       "1            1055.0           676.0   28  "
      ]
     },
     "metadata": {},
     "output_type": "display_data"
    },
    {
     "data": {
      "text/plain": [
       "0    79.99\n",
       "1    61.89\n",
       "Name: Concrete compressive strength, dtype: float64"
      ]
     },
     "metadata": {},
     "output_type": "display_data"
    }
   ],
   "source": [
    "input_data = data.iloc[:, :-1]\n",
    "output_data = data.iloc[:, -1]\n",
    "\n",
    "display(input_data.head(2))\n",
    "display(output_data.head(2))"
   ]
  },
  {
   "cell_type": "markdown",
   "id": "adverse-activation",
   "metadata": {
    "id": "adverse-activation"
   },
   "source": [
    "## ดูความสัมพันธ์ระหว่างข้อมูล input กับ output\n",
    "รายละเอียดเหล่านี้จะบอกเราคร่าว ๆ ได้ว่าจะสามารถทำนาย output ได้ยากหรือง่ายแค่ไหน"
   ]
  },
  {
   "cell_type": "markdown",
   "id": "b1BlgKAhJeY6",
   "metadata": {
    "id": "b1BlgKAhJeY6"
   },
   "source": [
    "### ดูด้วยตาผ่าน scatter"
   ]
  },
  {
   "cell_type": "code",
   "execution_count": 7,
   "id": "reserved-chance",
   "metadata": {
    "colab": {
     "base_uri": "https://localhost:8080/",
     "height": 513
    },
    "executionInfo": {
     "elapsed": 2441,
     "status": "ok",
     "timestamp": 1667133329995,
     "user": {
      "displayName": "Sira Sriswasdi",
      "userId": "03069351775920236110"
     },
     "user_tz": -420
    },
    "id": "reserved-chance",
    "outputId": "35ad77d4-dd3f-4711-c977-4f785afc162b"
   },
   "outputs": [
    {
     "data": {
      "image/png": "[encoded data removed]",
      "text/plain": [
       "<Figure size 1080x504 with 8 Axes>"
      ]
     },
     "metadata": {
      "needs_background": "light"
     },
     "output_type": "display_data"
    }
   ],
   "source": [
    "plt.figure(figsize = (15, 7))\n",
    "\n",
    "for i in range(input_data.shape[1]):\n",
    "    plt.subplot(2, 4, i + 1)\n",
    "    plt.scatter(input_data.iloc[:, i], output_data)\n",
    "    plt.xlabel(input_data.columns[i]); plt.ylabel('Compressive Strength')\n",
    "\n",
    "plt.tight_layout()\n",
    "plt.show()"
   ]
  },
  {
   "cell_type": "markdown",
   "id": "f_50k-JuOnhs",
   "metadata": {
    "id": "f_50k-JuOnhs"
   },
   "source": [
    "### วัดความสัมพันธ์ด้วย correlation แบบต่าง ๆ\n",
    "* Pearson's linear correlation\n",
    "* Spearman's rank correlation\n",
    "* Kendall's tau"
   ]
  },
  {
   "cell_type": "code",
   "execution_count": 8,
   "id": "qbD1pZX8OoNQ",
   "metadata": {
    "colab": {
     "base_uri": "https://localhost:8080/",
     "height": 300
    },
    "executionInfo": {
     "elapsed": 35,
     "status": "ok",
     "timestamp": 1667133329996,
     "user": {
      "displayName": "Sira Sriswasdi",
      "userId": "03069351775920236110"
     },
     "user_tz": -420
    },
    "id": "qbD1pZX8OoNQ",
    "outputId": "420b076f-f3be-4058-a2dc-c81c0cc4deb4"
   },
   "outputs": [
    {
     "data": {
      "text/html": [
       "\n",
       "  <div id=\"df-4de965a1-0383-40c4-bbf3-bb71de7aa782\">\n",
       "    <div class=\"colab-df-container\">\n",
       "      <div>\n",
       "<style scoped>\n",
       "    .dataframe tbody tr th:only-of-type {\n",
       "        vertical-align: middle;\n",
       "    }\n",
       "\n",
       "    .dataframe tbody tr th {\n",
       "        vertical-align: top;\n",
       "    }\n",
       "\n",
       "    .dataframe thead th {\n",
       "        text-align: right;\n",
       "    }\n",
       "</style>\n",
       "<table border=\"1\" class=\"dataframe\">\n",
       "  <thead>\n",
       "    <tr style=\"text-align: right;\">\n",
       "      <th></th>\n",
       "      <th>Pearson</th>\n",
       "      <th>Spearman</th>\n",
       "      <th>Kendall</th>\n",
       "    </tr>\n",
       "  </thead>\n",
       "  <tbody>\n",
       "    <tr>\n",
       "      <th>Cement</th>\n",
       "      <td>0.497832</td>\n",
       "      <td>0.477614</td>\n",
       "      <td>0.327237</td>\n",
       "    </tr>\n",
       "    <tr>\n",
       "      <th>Blast Furnace Slag</th>\n",
       "      <td>0.134829</td>\n",
       "      <td>0.164105</td>\n",
       "      <td>0.119335</td>\n",
       "    </tr>\n",
       "    <tr>\n",
       "      <th>Fly Ash</th>\n",
       "      <td>-0.105755</td>\n",
       "      <td>-0.077830</td>\n",
       "      <td>-0.059587</td>\n",
       "    </tr>\n",
       "    <tr>\n",
       "      <th>Water</th>\n",
       "      <td>-0.289633</td>\n",
       "      <td>-0.308414</td>\n",
       "      <td>-0.206085</td>\n",
       "    </tr>\n",
       "    <tr>\n",
       "      <th>Superplasticizer</th>\n",
       "      <td>0.366079</td>\n",
       "      <td>0.347786</td>\n",
       "      <td>0.249662</td>\n",
       "    </tr>\n",
       "    <tr>\n",
       "      <th>Coarse Aggregate</th>\n",
       "      <td>-0.164935</td>\n",
       "      <td>-0.183542</td>\n",
       "      <td>-0.123757</td>\n",
       "    </tr>\n",
       "    <tr>\n",
       "      <th>Fine Aggregate</th>\n",
       "      <td>-0.167241</td>\n",
       "      <td>-0.179962</td>\n",
       "      <td>-0.122255</td>\n",
       "    </tr>\n",
       "    <tr>\n",
       "      <th>Age</th>\n",
       "      <td>0.328873</td>\n",
       "      <td>0.596028</td>\n",
       "      <td>0.449080</td>\n",
       "    </tr>\n",
       "  </tbody>\n",
       "</table>\n",
       "</div>\n",
       "      <button class=\"colab-df-convert\" onclick=\"convertToInteractive('df-4de965a1-0383-40c4-bbf3-bb71de7aa782')\"\n",
       "              title=\"Convert this dataframe to an interactive table.\"\n",
       "              style=\"display:none;\">\n",
       "        \n",
       "  <svg xmlns=\"http://www.w3.org/2000/svg\" height=\"24px\"viewBox=\"0 0 24 24\"\n",
       "       width=\"24px\">\n",
       "    <path d=\"M0 0h24v24H0V0z\" fill=\"none\"/>\n",
       "    <path d=\"M18.56 5.44l.94 2.06.94-2.06 2.06-.94-2.06-.94-.94-2.06-.94 2.06-2.06.94zm-11 1L8.5 8.5l.94-2.06 2.06-.94-2.06-.94L8.5 2.5l-.94 2.06-2.06.94zm10 10l.94 2.06.94-2.06 2.06-.94-2.06-.94-.94-2.06-.94 2.06-2.06.94z\"/><path d=\"M17.41 7.96l-1.37-1.37c-.4-.4-.92-.59-1.43-.59-.52 0-1.04.2-1.43.59L10.3 9.45l-7.72 7.72c-.78.78-.78 2.05 0 2.83L4 21.41c.39.39.9.59 1.41.59.51 0 1.02-.2 1.41-.59l7.78-7.78 2.81-2.81c.8-.78.8-2.07 0-2.86zM5.41 20L4 18.59l7.72-7.72 1.47 1.35L5.41 20z\"/>\n",
       "  </svg>\n",
       "      </button>\n",
       "      \n",
       "  <style>\n",
       "    .colab-df-container {\n",
       "      display:flex;\n",
       "      flex-wrap:wrap;\n",
       "      gap: 12px;\n",
       "    }\n",
       "\n",
       "    .colab-df-convert {\n",
       "      background-color: #E8F0FE;\n",
       "      border: none;\n",
       "      border-radius: 50%;\n",
       "      cursor: pointer;\n",
       "      display: none;\n",
       "      fill: #1967D2;\n",
       "      height: 32px;\n",
       "      padding: 0 0 0 0;\n",
       "      width: 32px;\n",
       "    }\n",
       "\n",
       "    .colab-df-convert:hover {\n",
       "      background-color: #E2EBFA;\n",
       "      box-shadow: 0px 1px 2px rgba(60, 64, 67, 0.3), 0px 1px 3px 1px rgba(60, 64, 67, 0.15);\n",
       "      fill: #174EA6;\n",
       "    }\n",
       "\n",
       "    [theme=dark] .colab-df-convert {\n",
       "      background-color: #3B4455;\n",
       "      fill: #D2E3FC;\n",
       "    }\n",
       "\n",
       "    [theme=dark] .colab-df-convert:hover {\n",
       "      background-color: #434B5C;\n",
       "      box-shadow: 0px 1px 3px 1px rgba(0, 0, 0, 0.15);\n",
       "      filter: drop-shadow(0px 1px 2px rgba(0, 0, 0, 0.3));\n",
       "      fill: #FFFFFF;\n",
       "    }\n",
       "  </style>\n",
       "\n",
       "      <script>\n",
       "        const buttonEl =\n",
       "          document.querySelector('#df-4de965a1-0383-40c4-bbf3-bb71de7aa782 button.colab-df-convert');\n",
       "        buttonEl.style.display =\n",
       "          google.colab.kernel.accessAllowed ? 'block' : 'none';\n",
       "\n",
       "        async function convertToInteractive(key) {\n",
       "          const element = document.querySelector('#df-4de965a1-0383-40c4-bbf3-bb71de7aa782');\n",
       "          const dataTable =\n",
       "            await google.colab.kernel.invokeFunction('convertToInteractive',\n",
       "                                                     [key], {});\n",
       "          if (!dataTable) return;\n",
       "\n",
       "          const docLinkHtml = 'Like what you see? Visit the ' +\n",
       "            '<a target=\"_blank\" href=https://colab.research.google.com/notebooks/data_table.ipynb>data table notebook</a>'\n",
       "            + ' to learn more about interactive tables.';\n",
       "          element.innerHTML = '';\n",
       "          dataTable['output_type'] = 'display_data';\n",
       "          await google.colab.output.renderOutput(dataTable, element);\n",
       "          const docLink = document.createElement('div');\n",
       "          docLink.innerHTML = docLinkHtml;\n",
       "          element.appendChild(docLink);\n",
       "        }\n",
       "      </script>\n",
       "    </div>\n",
       "  </div>\n",
       "  "
      ],
      "text/plain": [
       "                     Pearson  Spearman   Kendall\n",
       "Cement              0.497832  0.477614  0.327237\n",
       "Blast Furnace Slag  0.134829  0.164105  0.119335\n",
       "Fly Ash            -0.105755 -0.077830 -0.059587\n",
       "Water              -0.289633 -0.308414 -0.206085\n",
       "Superplasticizer    0.366079  0.347786  0.249662\n",
       "Coarse Aggregate   -0.164935 -0.183542 -0.123757\n",
       "Fine Aggregate     -0.167241 -0.179962 -0.122255\n",
       "Age                 0.328873  0.596028  0.449080"
      ]
     },
     "execution_count": 8,
     "metadata": {},
     "output_type": "execute_result"
    }
   ],
   "source": [
    "correlations = pd.DataFrame(0, index = input_data.columns, columns = ['Pearson', 'Spearman', 'Kendall'])\n",
    "\n",
    "for x in input_data.columns:\n",
    "    correlations.loc[x, :] = [pearsonr(input_data[x], output_data)[0], ## ฟังก์ชันเหล่านี้จะคืนค่า correlation และ p-value \n",
    "                              spearmanr(input_data[x], output_data)[0],\n",
    "                              kendalltau(input_data[x], output_data)[0]]\n",
    "\n",
    "correlations.head(10)"
   ]
  },
  {
   "cell_type": "markdown",
   "id": "insured-snowboard",
   "metadata": {
    "id": "insured-snowboard"
   },
   "source": [
    "## แบ่งข้อมูลสำหรับพัฒนาโมเดล\n",
    "สำหรับตอนนี้เราจะยังไม่กำกับเงื่อนไขการแบ่งใด ๆ นอกจากกำหนดสัดส่วนจำนวนข้อมูลเท่านั้น\n",
    "\n",
    "แบ่ง 20% เป็น test set แล้วที่เหลือนำมาแบ่งเป็น 5-fold cross-validation"
   ]
  },
  {
   "cell_type": "code",
   "execution_count": 9,
   "id": "interested-landing",
   "metadata": {
    "colab": {
     "base_uri": "https://localhost:8080/"
    },
    "executionInfo": {
     "elapsed": 31,
     "status": "ok",
     "timestamp": 1667133329996,
     "user": {
      "displayName": "Sira Sriswasdi",
      "userId": "03069351775920236110"
     },
     "user_tz": -420
    },
    "id": "interested-landing",
    "outputId": "12db39d3-86e0-4641-846c-b394e9968205"
   },
   "outputs": [
    {
     "name": "stdout",
     "output_type": "stream",
     "text": [
      "train data shape: (824, 8)\n",
      "test data shape: (206, 8)\n"
     ]
    }
   ],
   "source": [
    "X_train, X_test, y_train, y_test = train_test_split(input_data, output_data, test_size = 0.2, random_state = 4649)\n",
    "\n",
    "print('train data shape:', X_train.shape)\n",
    "print('test data shape:', X_test.shape)"
   ]
  },
  {
   "cell_type": "markdown",
   "id": "noble-installation",
   "metadata": {
    "id": "noble-installation"
   },
   "source": [
    "### แบ่งข้อมูล training ด้วย 5-fold cross-validation\n",
    "ใช้ [KFold](https://scikit-learn.org/stable/modules/generated/sklearn.model_selection.KFold.html) เนื่องจากไม่มีเงื่อนไขใด ๆ"
   ]
  },
  {
   "cell_type": "code",
   "execution_count": 10,
   "id": "younger-lucas",
   "metadata": {
    "colab": {
     "base_uri": "https://localhost:8080/"
    },
    "executionInfo": {
     "elapsed": 25,
     "status": "ok",
     "timestamp": 1667133329998,
     "user": {
      "displayName": "Sira Sriswasdi",
      "userId": "03069351775920236110"
     },
     "user_tz": -420
    },
    "id": "younger-lucas",
    "outputId": "8583fc5d-774c-414f-fb28-5486240bf0c9"
   },
   "outputs": [
    {
     "name": "stdout",
     "output_type": "stream",
     "text": [
      "train size: (659,) test size: (165,)\n",
      "train size: (659,) test size: (165,)\n",
      "train size: (659,) test size: (165,)\n",
      "train size: (659,) test size: (165,)\n",
      "train size: (660,) test size: (164,)\n"
     ]
    }
   ],
   "source": [
    "cv_splitter = KFold(n_splits = 5, shuffle = True, random_state = 4649)\n",
    "\n",
    "for train_indices, test_indices in cv_splitter.split(X_train): ## ทดสอบการแบ่ง\n",
    "    print('train size:', train_indices.shape, 'test size:', test_indices.shape)"
   ]
  },
  {
   "cell_type": "markdown",
   "id": "later-transfer",
   "metadata": {
    "id": "later-transfer"
   },
   "source": [
    "## ทำการ standardize ข้อมูลทั้งหมด\n",
    "ใช้ mean และ SD จาก training set ในการ standardize test set เพื่อป้องกัน information leak"
   ]
  },
  {
   "cell_type": "code",
   "execution_count": 11,
   "id": "bronze-genome",
   "metadata": {
    "executionInfo": {
     "elapsed": 23,
     "status": "ok",
     "timestamp": 1667133329999,
     "user": {
      "displayName": "Sira Sriswasdi",
      "userId": "03069351775920236110"
     },
     "user_tz": -420
    },
    "id": "bronze-genome"
   },
   "outputs": [],
   "source": [
    "X_scaler = StandardScaler().fit(X_train)\n",
    "y_scaler = StandardScaler().fit(y_train.values.reshape([-1, 1])) ## ฟังก์ชันบางตัวจะจุกจิกนิดหน่อยในเรื่อง 1D หรือ 2D array\n",
    "\n",
    "X_train_std = pd.DataFrame(X_scaler.transform(X_train), index = X_train.index, columns = X_train.columns) ## เพื่อความสะดวกในตอนวิเคราะห์ผลหลังทำโมเดล\n",
    "X_test_std = pd.DataFrame(X_scaler.transform(X_test), index = X_test.index, columns = X_test.columns)\n",
    "\n",
    "y_train_std = y_scaler.transform(y_train.values.reshape([-1, 1]))\n",
    "y_test_std = y_scaler.transform(y_test.values.reshape([-1, 1]))"
   ]
  },
  {
   "cell_type": "code",
   "execution_count": 12,
   "id": "incredible-coffee",
   "metadata": {
    "colab": {
     "base_uri": "https://localhost:8080/",
     "height": 206
    },
    "executionInfo": {
     "elapsed": 22,
     "status": "ok",
     "timestamp": 1667133329999,
     "user": {
      "displayName": "Sira Sriswasdi",
      "userId": "03069351775920236110"
     },
     "user_tz": -420
    },
    "id": "incredible-coffee",
    "outputId": "f578152d-c563-4517-9118-b02cb6b61e1e"
   },
   "outputs": [
    {
     "data": {
      "text/html": [
       "\n",
       "  <div id=\"df-3cf85b41-b310-4e55-a908-2d1fcbb00608\">\n",
       "    <div class=\"colab-df-container\">\n",
       "      <div>\n",
       "<style scoped>\n",
       "    .dataframe tbody tr th:only-of-type {\n",
       "        vertical-align: middle;\n",
       "    }\n",
       "\n",
       "    .dataframe tbody tr th {\n",
       "        vertical-align: top;\n",
       "    }\n",
       "\n",
       "    .dataframe thead th {\n",
       "        text-align: right;\n",
       "    }\n",
       "</style>\n",
       "<table border=\"1\" class=\"dataframe\">\n",
       "  <thead>\n",
       "    <tr style=\"text-align: right;\">\n",
       "      <th></th>\n",
       "      <th>Cement</th>\n",
       "      <th>Blast Furnace Slag</th>\n",
       "      <th>Fly Ash</th>\n",
       "      <th>Water</th>\n",
       "      <th>Superplasticizer</th>\n",
       "      <th>Coarse Aggregate</th>\n",
       "      <th>Fine Aggregate</th>\n",
       "      <th>Age</th>\n",
       "    </tr>\n",
       "  </thead>\n",
       "  <tbody>\n",
       "    <tr>\n",
       "      <th>623</th>\n",
       "      <td>0.239325</td>\n",
       "      <td>-0.857452</td>\n",
       "      <td>-0.821476</td>\n",
       "      <td>0.523296</td>\n",
       "      <td>-1.017372</td>\n",
       "      <td>-0.072157</td>\n",
       "      <td>0.497285</td>\n",
       "      <td>-0.670388</td>\n",
       "    </tr>\n",
       "    <tr>\n",
       "      <th>701</th>\n",
       "      <td>0.054765</td>\n",
       "      <td>1.339100</td>\n",
       "      <td>-0.821476</td>\n",
       "      <td>0.476938</td>\n",
       "      <td>-1.017372</td>\n",
       "      <td>-0.540345</td>\n",
       "      <td>-0.687732</td>\n",
       "      <td>0.654713</td>\n",
       "    </tr>\n",
       "    <tr>\n",
       "      <th>652</th>\n",
       "      <td>-1.751986</td>\n",
       "      <td>0.892926</td>\n",
       "      <td>-0.821476</td>\n",
       "      <td>0.476938</td>\n",
       "      <td>-1.017372</td>\n",
       "      <td>-1.125579</td>\n",
       "      <td>2.132660</td>\n",
       "      <td>-0.670388</td>\n",
       "    </tr>\n",
       "    <tr>\n",
       "      <th>271</th>\n",
       "      <td>-0.491146</td>\n",
       "      <td>-0.857452</td>\n",
       "      <td>1.085292</td>\n",
       "      <td>-0.357490</td>\n",
       "      <td>0.096767</td>\n",
       "      <td>1.077504</td>\n",
       "      <td>0.075862</td>\n",
       "      <td>-0.289612</td>\n",
       "    </tr>\n",
       "    <tr>\n",
       "      <th>553</th>\n",
       "      <td>-0.415379</td>\n",
       "      <td>3.254220</td>\n",
       "      <td>-0.821476</td>\n",
       "      <td>0.184888</td>\n",
       "      <td>-1.017372</td>\n",
       "      <td>-0.415494</td>\n",
       "      <td>-1.360752</td>\n",
       "      <td>-0.609463</td>\n",
       "    </tr>\n",
       "  </tbody>\n",
       "</table>\n",
       "</div>\n",
       "      <button class=\"colab-df-convert\" onclick=\"convertToInteractive('df-3cf85b41-b310-4e55-a908-2d1fcbb00608')\"\n",
       "              title=\"Convert this dataframe to an interactive table.\"\n",
       "              style=\"display:none;\">\n",
       "        \n",
       "  <svg xmlns=\"http://www.w3.org/2000/svg\" height=\"24px\"viewBox=\"0 0 24 24\"\n",
       "       width=\"24px\">\n",
       "    <path d=\"M0 0h24v24H0V0z\" fill=\"none\"/>\n",
       "    <path d=\"M18.56 5.44l.94 2.06.94-2.06 2.06-.94-2.06-.94-.94-2.06-.94 2.06-2.06.94zm-11 1L8.5 8.5l.94-2.06 2.06-.94-2.06-.94L8.5 2.5l-.94 2.06-2.06.94zm10 10l.94 2.06.94-2.06 2.06-.94-2.06-.94-.94-2.06-.94 2.06-2.06.94z\"/><path d=\"M17.41 7.96l-1.37-1.37c-.4-.4-.92-.59-1.43-.59-.52 0-1.04.2-1.43.59L10.3 9.45l-7.72 7.72c-.78.78-.78 2.05 0 2.83L4 21.41c.39.39.9.59 1.41.59.51 0 1.02-.2 1.41-.59l7.78-7.78 2.81-2.81c.8-.78.8-2.07 0-2.86zM5.41 20L4 18.59l7.72-7.72 1.47 1.35L5.41 20z\"/>\n",
       "  </svg>\n",
       "      </button>\n",
       "      \n",
       "  <style>\n",
       "    .colab-df-container {\n",
       "      display:flex;\n",
       "      flex-wrap:wrap;\n",
       "      gap: 12px;\n",
       "    }\n",
       "\n",
       "    .colab-df-convert {\n",
       "      background-color: #E8F0FE;\n",
       "      border: none;\n",
       "      border-radius: 50%;\n",
       "      cursor: pointer;\n",
       "      display: none;\n",
       "      fill: #1967D2;\n",
       "      height: 32px;\n",
       "      padding: 0 0 0 0;\n",
       "      width: 32px;\n",
       "    }\n",
       "\n",
       "    .colab-df-convert:hover {\n",
       "      background-color: #E2EBFA;\n",
       "      box-shadow: 0px 1px 2px rgba(60, 64, 67, 0.3), 0px 1px 3px 1px rgba(60, 64, 67, 0.15);\n",
       "      fill: #174EA6;\n",
       "    }\n",
       "\n",
       "    [theme=dark] .colab-df-convert {\n",
       "      background-color: #3B4455;\n",
       "      fill: #D2E3FC;\n",
       "    }\n",
       "\n",
       "    [theme=dark] .colab-df-convert:hover {\n",
       "      background-color: #434B5C;\n",
       "      box-shadow: 0px 1px 3px 1px rgba(0, 0, 0, 0.15);\n",
       "      filter: drop-shadow(0px 1px 2px rgba(0, 0, 0, 0.3));\n",
       "      fill: #FFFFFF;\n",
       "    }\n",
       "  </style>\n",
       "\n",
       "      <script>\n",
       "        const buttonEl =\n",
       "          document.querySelector('#df-3cf85b41-b310-4e55-a908-2d1fcbb00608 button.colab-df-convert');\n",
       "        buttonEl.style.display =\n",
       "          google.colab.kernel.accessAllowed ? 'block' : 'none';\n",
       "\n",
       "        async function convertToInteractive(key) {\n",
       "          const element = document.querySelector('#df-3cf85b41-b310-4e55-a908-2d1fcbb00608');\n",
       "          const dataTable =\n",
       "            await google.colab.kernel.invokeFunction('convertToInteractive',\n",
       "                                                     [key], {});\n",
       "          if (!dataTable) return;\n",
       "\n",
       "          const docLinkHtml = 'Like what you see? Visit the ' +\n",
       "            '<a target=\"_blank\" href=https://colab.research.google.com/notebooks/data_table.ipynb>data table notebook</a>'\n",
       "            + ' to learn more about interactive tables.';\n",
       "          element.innerHTML = '';\n",
       "          dataTable['output_type'] = 'display_data';\n",
       "          await google.colab.output.renderOutput(dataTable, element);\n",
       "          const docLink = document.createElement('div');\n",
       "          docLink.innerHTML = docLinkHtml;\n",
       "          element.appendChild(docLink);\n",
       "        }\n",
       "      </script>\n",
       "    </div>\n",
       "  </div>\n",
       "  "
      ],
      "text/plain": [
       "       Cement  Blast Furnace Slag   Fly Ash     Water  Superplasticizer  \\\n",
       "623  0.239325           -0.857452 -0.821476  0.523296         -1.017372   \n",
       "701  0.054765            1.339100 -0.821476  0.476938         -1.017372   \n",
       "652 -1.751986            0.892926 -0.821476  0.476938         -1.017372   \n",
       "271 -0.491146           -0.857452  1.085292 -0.357490          0.096767   \n",
       "553 -0.415379            3.254220 -0.821476  0.184888         -1.017372   \n",
       "\n",
       "     Coarse Aggregate  Fine Aggregate       Age  \n",
       "623         -0.072157        0.497285 -0.670388  \n",
       "701         -0.540345       -0.687732  0.654713  \n",
       "652         -1.125579        2.132660 -0.670388  \n",
       "271          1.077504        0.075862 -0.289612  \n",
       "553         -0.415494       -1.360752 -0.609463  "
      ]
     },
     "execution_count": 12,
     "metadata": {},
     "output_type": "execute_result"
    }
   ],
   "source": [
    "X_train_std.head()"
   ]
  },
  {
   "cell_type": "markdown",
   "id": "serial-orlando",
   "metadata": {
    "id": "serial-orlando"
   },
   "source": [
    "## ลองเทรนโมเดลแบบ default ดูก่อน\n",
    "* Linear Regression\n",
    "* Ridge\n",
    "* LASSO\n",
    "\n",
    "ตั้งค่า $\\alpha$ = 1.0 เพื่อกำกับขนาดของ regularization"
   ]
  },
  {
   "cell_type": "code",
   "execution_count": 13,
   "id": "hindu-agency",
   "metadata": {
    "colab": {
     "base_uri": "https://localhost:8080/"
    },
    "executionInfo": {
     "elapsed": 22,
     "status": "ok",
     "timestamp": 1667133330000,
     "user": {
      "displayName": "Sira Sriswasdi",
      "userId": "03069351775920236110"
     },
     "user_tz": -420
    },
    "id": "hindu-agency",
    "outputId": "f8203ac5-fa05-4298-c083-6316a44e7b2e"
   },
   "outputs": [
    {
     "data": {
      "text/plain": [
       "Lasso(random_state=4649)"
      ]
     },
     "execution_count": 13,
     "metadata": {},
     "output_type": "execute_result"
    }
   ],
   "source": [
    "base_linear = LinearRegression()\n",
    "base_ridge = Ridge(alpha = 1.0, random_state = 4649)\n",
    "base_lasso = Lasso(alpha = 1.0, random_state = 4649)\n",
    "\n",
    "base_linear.fit(X_train_std, y_train_std)\n",
    "base_ridge.fit(X_train_std, y_train_std)\n",
    "base_lasso.fit(X_train_std, y_train_std)"
   ]
  },
  {
   "cell_type": "markdown",
   "id": "8CxCbSl0dyJJ",
   "metadata": {
    "id": "8CxCbSl0dyJJ"
   },
   "source": [
    "### ทำนายค่าบน training set และ test set เพื่อดูว่าตอบได้ดีแค่ไหน"
   ]
  },
  {
   "cell_type": "code",
   "execution_count": 14,
   "id": "executive-holder",
   "metadata": {
    "executionInfo": {
     "elapsed": 18,
     "status": "ok",
     "timestamp": 1667133330000,
     "user": {
      "displayName": "Sira Sriswasdi",
      "userId": "03069351775920236110"
     },
     "user_tz": -420
    },
    "id": "executive-holder"
   },
   "outputs": [],
   "source": [
    "base_linear_pred_train = base_linear.predict(X_train_std)\n",
    "base_ridge_pred_train = base_ridge.predict(X_train_std)\n",
    "base_lasso_pred_train = base_lasso.predict(X_train_std)\n",
    "\n",
    "base_linear_pred_test = base_linear.predict(X_test_std)\n",
    "base_ridge_pred_test = base_ridge.predict(X_test_std)\n",
    "base_lasso_pred_test = base_lasso.predict(X_test_std)"
   ]
  },
  {
   "cell_type": "markdown",
   "id": "Y_s5itYteDoB",
   "metadata": {
    "id": "Y_s5itYteDoB"
   },
   "source": [
    "### ดูผลจากตัวเลขค่าความคลาดเคลื่อน\n",
    "ใช้ Mean Absolute Error (MAE)"
   ]
  },
  {
   "cell_type": "code",
   "execution_count": 15,
   "id": "aELk2s-PeEFW",
   "metadata": {
    "colab": {
     "base_uri": "https://localhost:8080/",
     "height": 143
    },
    "executionInfo": {
     "elapsed": 18,
     "status": "ok",
     "timestamp": 1667133330001,
     "user": {
      "displayName": "Sira Sriswasdi",
      "userId": "03069351775920236110"
     },
     "user_tz": -420
    },
    "id": "aELk2s-PeEFW",
    "outputId": "521b1697-050b-40d0-8bb6-9a84bcf851be"
   },
   "outputs": [
    {
     "data": {
      "text/html": [
       "\n",
       "  <div id=\"df-7b2dd071-eeb3-4cdd-89fb-02989264112c\">\n",
       "    <div class=\"colab-df-container\">\n",
       "      <div>\n",
       "<style scoped>\n",
       "    .dataframe tbody tr th:only-of-type {\n",
       "        vertical-align: middle;\n",
       "    }\n",
       "\n",
       "    .dataframe tbody tr th {\n",
       "        vertical-align: top;\n",
       "    }\n",
       "\n",
       "    .dataframe thead th {\n",
       "        text-align: right;\n",
       "    }\n",
       "</style>\n",
       "<table border=\"1\" class=\"dataframe\">\n",
       "  <thead>\n",
       "    <tr style=\"text-align: right;\">\n",
       "      <th></th>\n",
       "      <th>Train</th>\n",
       "      <th>Test</th>\n",
       "    </tr>\n",
       "  </thead>\n",
       "  <tbody>\n",
       "    <tr>\n",
       "      <th>Linear</th>\n",
       "      <td>0.502314</td>\n",
       "      <td>0.437730</td>\n",
       "    </tr>\n",
       "    <tr>\n",
       "      <th>Ridge</th>\n",
       "      <td>0.502637</td>\n",
       "      <td>0.438212</td>\n",
       "    </tr>\n",
       "    <tr>\n",
       "      <th>LASSO</th>\n",
       "      <td>0.807704</td>\n",
       "      <td>0.773017</td>\n",
       "    </tr>\n",
       "  </tbody>\n",
       "</table>\n",
       "</div>\n",
       "      <button class=\"colab-df-convert\" onclick=\"convertToInteractive('df-7b2dd071-eeb3-4cdd-89fb-02989264112c')\"\n",
       "              title=\"Convert this dataframe to an interactive table.\"\n",
       "              style=\"display:none;\">\n",
       "        \n",
       "  <svg xmlns=\"http://www.w3.org/2000/svg\" height=\"24px\"viewBox=\"0 0 24 24\"\n",
       "       width=\"24px\">\n",
       "    <path d=\"M0 0h24v24H0V0z\" fill=\"none\"/>\n",
       "    <path d=\"M18.56 5.44l.94 2.06.94-2.06 2.06-.94-2.06-.94-.94-2.06-.94 2.06-2.06.94zm-11 1L8.5 8.5l.94-2.06 2.06-.94-2.06-.94L8.5 2.5l-.94 2.06-2.06.94zm10 10l.94 2.06.94-2.06 2.06-.94-2.06-.94-.94-2.06-.94 2.06-2.06.94z\"/><path d=\"M17.41 7.96l-1.37-1.37c-.4-.4-.92-.59-1.43-.59-.52 0-1.04.2-1.43.59L10.3 9.45l-7.72 7.72c-.78.78-.78 2.05 0 2.83L4 21.41c.39.39.9.59 1.41.59.51 0 1.02-.2 1.41-.59l7.78-7.78 2.81-2.81c.8-.78.8-2.07 0-2.86zM5.41 20L4 18.59l7.72-7.72 1.47 1.35L5.41 20z\"/>\n",
       "  </svg>\n",
       "      </button>\n",
       "      \n",
       "  <style>\n",
       "    .colab-df-container {\n",
       "      display:flex;\n",
       "      flex-wrap:wrap;\n",
       "      gap: 12px;\n",
       "    }\n",
       "\n",
       "    .colab-df-convert {\n",
       "      background-color: #E8F0FE;\n",
       "      border: none;\n",
       "      border-radius: 50%;\n",
       "      cursor: pointer;\n",
       "      display: none;\n",
       "      fill: #1967D2;\n",
       "      height: 32px;\n",
       "      padding: 0 0 0 0;\n",
       "      width: 32px;\n",
       "    }\n",
       "\n",
       "    .colab-df-convert:hover {\n",
       "      background-color: #E2EBFA;\n",
       "      box-shadow: 0px 1px 2px rgba(60, 64, 67, 0.3), 0px 1px 3px 1px rgba(60, 64, 67, 0.15);\n",
       "      fill: #174EA6;\n",
       "    }\n",
       "\n",
       "    [theme=dark] .colab-df-convert {\n",
       "      background-color: #3B4455;\n",
       "      fill: #D2E3FC;\n",
       "    }\n",
       "\n",
       "    [theme=dark] .colab-df-convert:hover {\n",
       "      background-color: #434B5C;\n",
       "      box-shadow: 0px 1px 3px 1px rgba(0, 0, 0, 0.15);\n",
       "      filter: drop-shadow(0px 1px 2px rgba(0, 0, 0, 0.3));\n",
       "      fill: #FFFFFF;\n",
       "    }\n",
       "  </style>\n",
       "\n",
       "      <script>\n",
       "        const buttonEl =\n",
       "          document.querySelector('#df-7b2dd071-eeb3-4cdd-89fb-02989264112c button.colab-df-convert');\n",
       "        buttonEl.style.display =\n",
       "          google.colab.kernel.accessAllowed ? 'block' : 'none';\n",
       "\n",
       "        async function convertToInteractive(key) {\n",
       "          const element = document.querySelector('#df-7b2dd071-eeb3-4cdd-89fb-02989264112c');\n",
       "          const dataTable =\n",
       "            await google.colab.kernel.invokeFunction('convertToInteractive',\n",
       "                                                     [key], {});\n",
       "          if (!dataTable) return;\n",
       "\n",
       "          const docLinkHtml = 'Like what you see? Visit the ' +\n",
       "            '<a target=\"_blank\" href=https://colab.research.google.com/notebooks/data_table.ipynb>data table notebook</a>'\n",
       "            + ' to learn more about interactive tables.';\n",
       "          element.innerHTML = '';\n",
       "          dataTable['output_type'] = 'display_data';\n",
       "          await google.colab.output.renderOutput(dataTable, element);\n",
       "          const docLink = document.createElement('div');\n",
       "          docLink.innerHTML = docLinkHtml;\n",
       "          element.appendChild(docLink);\n",
       "        }\n",
       "      </script>\n",
       "    </div>\n",
       "  </div>\n",
       "  "
      ],
      "text/plain": [
       "           Train      Test\n",
       "Linear  0.502314  0.437730\n",
       "Ridge   0.502637  0.438212\n",
       "LASSO   0.807704  0.773017"
      ]
     },
     "execution_count": 15,
     "metadata": {},
     "output_type": "execute_result"
    }
   ],
   "source": [
    "base_maes = pd.DataFrame(0, index = ['Linear', 'Ridge', 'LASSO'], columns = ['Train', 'Test'])\n",
    "base_maes.loc['Linear', :] = [mean_absolute_error(y_train_std, base_linear_pred_train), mean_absolute_error(y_test_std, base_linear_pred_test)]\n",
    "base_maes.loc['Ridge', :] = [mean_absolute_error(y_train_std, base_ridge_pred_train), mean_absolute_error(y_test_std, base_ridge_pred_test)]\n",
    "base_maes.loc['LASSO', :] = [mean_absolute_error(y_train_std, base_lasso_pred_train), mean_absolute_error(y_test_std, base_lasso_pred_test)]\n",
    "\n",
    "base_maes.head()"
   ]
  },
  {
   "cell_type": "markdown",
   "id": "b9R-PSzZfPWy",
   "metadata": {
    "id": "b9R-PSzZfPWy"
   },
   "source": [
    "ผลของ LASSO ยังดูแย่ ซึ่งเกิดจากการที่ค่า $\\alpha$ = 1.0 ยังไม่เหมาะสม"
   ]
  },
  {
   "cell_type": "markdown",
   "id": "izSRtZeOgc3F",
   "metadata": {
    "id": "izSRtZeOgc3F"
   },
   "source": [
    "### ดูผลด้วยตาผ่าน scatter"
   ]
  },
  {
   "cell_type": "code",
   "execution_count": 16,
   "id": "vvexh4OzgdU6",
   "metadata": {
    "colab": {
     "base_uri": "https://localhost:8080/",
     "height": 297
    },
    "executionInfo": {
     "elapsed": 968,
     "status": "ok",
     "timestamp": 1667133330953,
     "user": {
      "displayName": "Sira Sriswasdi",
      "userId": "03069351775920236110"
     },
     "user_tz": -420
    },
    "id": "vvexh4OzgdU6",
    "outputId": "45380f9b-1a83-42be-9bcc-35d3e6f374c2"
   },
   "outputs": [
    {
     "data": {
      "image/png": "[encoded data removed]",
      "text/plain": [
       "<Figure size 864x288 with 3 Axes>"
      ]
     },
     "metadata": {
      "needs_background": "light"
     },
     "output_type": "display_data"
    }
   ],
   "source": [
    "plt.figure(figsize = (12, 4))\n",
    "\n",
    "plt.subplot(1, 3, 1)\n",
    "plt.scatter(y_test_std, base_linear_pred_test); plt.xlabel('Standardized y_true'); plt.ylabel('Prediction'); plt.title('Linear')\n",
    "plt.plot([y_test_std.min(), y_test_std.max()], [y_test_std.min(), y_test_std.max()], '--k')\n",
    "\n",
    "plt.subplot(1, 3, 2)\n",
    "plt.scatter(y_test_std, base_ridge_pred_test); plt.xlabel('Standardized y_true'); plt.ylabel('Prediction'); plt.title('Ridge')\n",
    "plt.plot([y_test_std.min(), y_test_std.max()], [y_test_std.min(), y_test_std.max()], '--k')\n",
    "\n",
    "plt.subplot(1, 3, 3)\n",
    "plt.scatter(y_test_std, base_lasso_pred_test); plt.xlabel('Standardized y_true'); plt.ylabel('Prediction'); plt.title('LASSO')\n",
    "plt.plot([y_test_std.min(), y_test_std.max()], [y_test_std.min(), y_test_std.max()], '--k')\n",
    "\n",
    "plt.tight_layout()\n",
    "plt.show()"
   ]
  },
  {
   "cell_type": "markdown",
   "id": "XhMf_AS2UAkl",
   "metadata": {
    "id": "XhMf_AS2UAkl"
   },
   "source": [
    "### ปรับขนาดของ error ให้กลับมาอยู่ในระดับเดียวกับข้อมูล output ตั้งต้น \n",
    "ถ้าหากเราทำการ standardize ข้อมูล output ในตอนเทรนโมเดล"
   ]
  },
  {
   "cell_type": "code",
   "execution_count": 17,
   "id": "Aw3AWxqNfPqu",
   "metadata": {
    "colab": {
     "base_uri": "https://localhost:8080/",
     "height": 143
    },
    "executionInfo": {
     "elapsed": 19,
     "status": "ok",
     "timestamp": 1667133330953,
     "user": {
      "displayName": "Sira Sriswasdi",
      "userId": "03069351775920236110"
     },
     "user_tz": -420
    },
    "id": "Aw3AWxqNfPqu",
    "outputId": "566384d7-b547-40a3-884b-f64c98f694a7"
   },
   "outputs": [
    {
     "data": {
      "text/html": [
       "\n",
       "  <div id=\"df-281b6b35-40f3-4aef-915f-992911c9bbb4\">\n",
       "    <div class=\"colab-df-container\">\n",
       "      <div>\n",
       "<style scoped>\n",
       "    .dataframe tbody tr th:only-of-type {\n",
       "        vertical-align: middle;\n",
       "    }\n",
       "\n",
       "    .dataframe tbody tr th {\n",
       "        vertical-align: top;\n",
       "    }\n",
       "\n",
       "    .dataframe thead th {\n",
       "        text-align: right;\n",
       "    }\n",
       "</style>\n",
       "<table border=\"1\" class=\"dataframe\">\n",
       "  <thead>\n",
       "    <tr style=\"text-align: right;\">\n",
       "      <th></th>\n",
       "      <th>Train</th>\n",
       "      <th>Test</th>\n",
       "    </tr>\n",
       "  </thead>\n",
       "  <tbody>\n",
       "    <tr>\n",
       "      <th>Linear</th>\n",
       "      <td>8.449350</td>\n",
       "      <td>7.362984</td>\n",
       "    </tr>\n",
       "    <tr>\n",
       "      <th>Ridge</th>\n",
       "      <td>8.454771</td>\n",
       "      <td>7.371091</td>\n",
       "    </tr>\n",
       "    <tr>\n",
       "      <th>LASSO</th>\n",
       "      <td>13.586260</td>\n",
       "      <td>13.002786</td>\n",
       "    </tr>\n",
       "  </tbody>\n",
       "</table>\n",
       "</div>\n",
       "      <button class=\"colab-df-convert\" onclick=\"convertToInteractive('df-281b6b35-40f3-4aef-915f-992911c9bbb4')\"\n",
       "              title=\"Convert this dataframe to an interactive table.\"\n",
       "              style=\"display:none;\">\n",
       "        \n",
       "  <svg xmlns=\"http://www.w3.org/2000/svg\" height=\"24px\"viewBox=\"0 0 24 24\"\n",
       "       width=\"24px\">\n",
       "    <path d=\"M0 0h24v24H0V0z\" fill=\"none\"/>\n",
       "    <path d=\"M18.56 5.44l.94 2.06.94-2.06 2.06-.94-2.06-.94-.94-2.06-.94 2.06-2.06.94zm-11 1L8.5 8.5l.94-2.06 2.06-.94-2.06-.94L8.5 2.5l-.94 2.06-2.06.94zm10 10l.94 2.06.94-2.06 2.06-.94-2.06-.94-.94-2.06-.94 2.06-2.06.94z\"/><path d=\"M17.41 7.96l-1.37-1.37c-.4-.4-.92-.59-1.43-.59-.52 0-1.04.2-1.43.59L10.3 9.45l-7.72 7.72c-.78.78-.78 2.05 0 2.83L4 21.41c.39.39.9.59 1.41.59.51 0 1.02-.2 1.41-.59l7.78-7.78 2.81-2.81c.8-.78.8-2.07 0-2.86zM5.41 20L4 18.59l7.72-7.72 1.47 1.35L5.41 20z\"/>\n",
       "  </svg>\n",
       "      </button>\n",
       "      \n",
       "  <style>\n",
       "    .colab-df-container {\n",
       "      display:flex;\n",
       "      flex-wrap:wrap;\n",
       "      gap: 12px;\n",
       "    }\n",
       "\n",
       "    .colab-df-convert {\n",
       "      background-color: #E8F0FE;\n",
       "      border: none;\n",
       "      border-radius: 50%;\n",
       "      cursor: pointer;\n",
       "      display: none;\n",
       "      fill: #1967D2;\n",
       "      height: 32px;\n",
       "      padding: 0 0 0 0;\n",
       "      width: 32px;\n",
       "    }\n",
       "\n",
       "    .colab-df-convert:hover {\n",
       "      background-color: #E2EBFA;\n",
       "      box-shadow: 0px 1px 2px rgba(60, 64, 67, 0.3), 0px 1px 3px 1px rgba(60, 64, 67, 0.15);\n",
       "      fill: #174EA6;\n",
       "    }\n",
       "\n",
       "    [theme=dark] .colab-df-convert {\n",
       "      background-color: #3B4455;\n",
       "      fill: #D2E3FC;\n",
       "    }\n",
       "\n",
       "    [theme=dark] .colab-df-convert:hover {\n",
       "      background-color: #434B5C;\n",
       "      box-shadow: 0px 1px 3px 1px rgba(0, 0, 0, 0.15);\n",
       "      filter: drop-shadow(0px 1px 2px rgba(0, 0, 0, 0.3));\n",
       "      fill: #FFFFFF;\n",
       "    }\n",
       "  </style>\n",
       "\n",
       "      <script>\n",
       "        const buttonEl =\n",
       "          document.querySelector('#df-281b6b35-40f3-4aef-915f-992911c9bbb4 button.colab-df-convert');\n",
       "        buttonEl.style.display =\n",
       "          google.colab.kernel.accessAllowed ? 'block' : 'none';\n",
       "\n",
       "        async function convertToInteractive(key) {\n",
       "          const element = document.querySelector('#df-281b6b35-40f3-4aef-915f-992911c9bbb4');\n",
       "          const dataTable =\n",
       "            await google.colab.kernel.invokeFunction('convertToInteractive',\n",
       "                                                     [key], {});\n",
       "          if (!dataTable) return;\n",
       "\n",
       "          const docLinkHtml = 'Like what you see? Visit the ' +\n",
       "            '<a target=\"_blank\" href=https://colab.research.google.com/notebooks/data_table.ipynb>data table notebook</a>'\n",
       "            + ' to learn more about interactive tables.';\n",
       "          element.innerHTML = '';\n",
       "          dataTable['output_type'] = 'display_data';\n",
       "          await google.colab.output.renderOutput(dataTable, element);\n",
       "          const docLink = document.createElement('div');\n",
       "          docLink.innerHTML = docLinkHtml;\n",
       "          element.appendChild(docLink);\n",
       "        }\n",
       "      </script>\n",
       "    </div>\n",
       "  </div>\n",
       "  "
      ],
      "text/plain": [
       "            Train       Test\n",
       "Linear   8.449350   7.362984\n",
       "Ridge    8.454771   7.371091\n",
       "LASSO   13.586260  13.002786"
      ]
     },
     "execution_count": 17,
     "metadata": {},
     "output_type": "execute_result"
    }
   ],
   "source": [
    "base_maes = base_maes * y_scaler.scale_[0]\n",
    "base_maes.head()"
   ]
  },
  {
   "cell_type": "markdown",
   "id": "XIJ-kRmmf8zt",
   "metadata": {
    "id": "XIJ-kRmmf8zt"
   },
   "source": [
    "วาดกราฟการกระจายตัวของ output เพื่อช่วยในการตีความ performance ของโมเดล"
   ]
  },
  {
   "cell_type": "code",
   "execution_count": 18,
   "id": "oqL1Heh9f9Js",
   "metadata": {
    "colab": {
     "base_uri": "https://localhost:8080/",
     "height": 279
    },
    "executionInfo": {
     "elapsed": 20,
     "status": "ok",
     "timestamp": 1667133330955,
     "user": {
      "displayName": "Sira Sriswasdi",
      "userId": "03069351775920236110"
     },
     "user_tz": -420
    },
    "id": "oqL1Heh9f9Js",
    "outputId": "44c36906-caf8-44d8-e26b-4a1f5ae18729"
   },
   "outputs": [
    {
     "data": {
      "image/png": "[encoded data removed]",
      "text/plain": [
       "<Figure size 432x288 with 1 Axes>"
      ]
     },
     "metadata": {
      "needs_background": "light"
     },
     "output_type": "display_data"
    }
   ],
   "source": [
    "plt.figure()\n",
    "plt.hist(output_data, bins = 20); plt.xlabel('Concrete compressive strength')\n",
    "plt.show()"
   ]
  },
  {
   "cell_type": "markdown",
   "id": "hydraulic-lebanon",
   "metadata": {
    "id": "hydraulic-lebanon"
   },
   "source": [
    "## ได้เวลา tune โมเดล \n",
    "ปรับค่า $\\alpha$ สำหรับ Ridge และ LASSO\n",
    "\n",
    "ใช้ [GridSearchCV](https://scikit-learn.org/stable/modules/generated/sklearn.model_selection.GridSearchCV.html) เพื่ออำนวยความสะดวก สามารถรับการแบ่ง k-fold cross-validation เข้าไปได้ด้วย\n",
    "\n",
    "สามารถใส่การวัดผลได้หลายแบบ และสามารถสั่งให้เทรนโมเดลที่ได้ผลดีที่สุดออกมาเลย"
   ]
  },
  {
   "cell_type": "code",
   "execution_count": 19,
   "id": "still-frost",
   "metadata": {
    "colab": {
     "base_uri": "https://localhost:8080/"
    },
    "executionInfo": {
     "elapsed": 18,
     "status": "ok",
     "timestamp": 1667133330955,
     "user": {
      "displayName": "Sira Sriswasdi",
      "userId": "03069351775920236110"
     },
     "user_tz": -420
    },
    "id": "still-frost",
    "outputId": "9ef1602d-c820-4f15-9122-47069b33b2a2"
   },
   "outputs": [
    {
     "data": {
      "text/plain": [
       "GridSearchCV(cv=KFold(n_splits=5, random_state=4649, shuffle=True),\n",
       "             estimator=Lasso(random_state=4649),\n",
       "             param_grid={'alpha': [0.0001, 0.001, 0.01, 1, 10, 100]},\n",
       "             refit='neg_mean_absolute_error',\n",
       "             scoring=['neg_mean_absolute_error',\n",
       "                      'neg_mean_absolute_percentage_error'])"
      ]
     },
     "execution_count": 19,
     "metadata": {},
     "output_type": "execute_result"
    }
   ],
   "source": [
    "parameters = {'alpha':[0.0001, 0.001, 0.01, 1, 10, 100]}\n",
    "\n",
    "grid_lasso = GridSearchCV(estimator = base_lasso, param_grid = parameters, \n",
    "                          scoring = ['neg_mean_absolute_error', 'neg_mean_absolute_percentage_error'], \n",
    "                          refit = 'neg_mean_absolute_error', cv = cv_splitter)\n",
    "\n",
    "grid_lasso.fit(X_train_std, y_train_std)"
   ]
  },
  {
   "cell_type": "markdown",
   "id": "gRcQfRy2jPtj",
   "metadata": {
    "id": "gRcQfRy2jPtj"
   },
   "source": [
    "### ดูผลภาพรวมของการ tune"
   ]
  },
  {
   "cell_type": "code",
   "execution_count": 20,
   "id": "2Cku4nzfjQFE",
   "metadata": {
    "colab": {
     "base_uri": "https://localhost:8080/",
     "height": 240
    },
    "executionInfo": {
     "elapsed": 16,
     "status": "ok",
     "timestamp": 1667133330955,
     "user": {
      "displayName": "Sira Sriswasdi",
      "userId": "03069351775920236110"
     },
     "user_tz": -420
    },
    "id": "2Cku4nzfjQFE",
    "outputId": "a9dbbd54-3aab-404a-ee6b-5277165d11de"
   },
   "outputs": [
    {
     "data": {
      "text/html": [
       "\n",
       "  <div id=\"df-a8a1bcb3-cf17-46d5-ae92-d634f819ff19\">\n",
       "    <div class=\"colab-df-container\">\n",
       "      <div>\n",
       "<style scoped>\n",
       "    .dataframe tbody tr th:only-of-type {\n",
       "        vertical-align: middle;\n",
       "    }\n",
       "\n",
       "    .dataframe tbody tr th {\n",
       "        vertical-align: top;\n",
       "    }\n",
       "\n",
       "    .dataframe thead th {\n",
       "        text-align: right;\n",
       "    }\n",
       "</style>\n",
       "<table border=\"1\" class=\"dataframe\">\n",
       "  <thead>\n",
       "    <tr style=\"text-align: right;\">\n",
       "      <th></th>\n",
       "      <th>mean_fit_time</th>\n",
       "      <th>std_fit_time</th>\n",
       "      <th>mean_score_time</th>\n",
       "      <th>std_score_time</th>\n",
       "      <th>param_alpha</th>\n",
       "      <th>params</th>\n",
       "      <th>split0_test_neg_mean_absolute_error</th>\n",
       "      <th>split1_test_neg_mean_absolute_error</th>\n",
       "      <th>split2_test_neg_mean_absolute_error</th>\n",
       "      <th>split3_test_neg_mean_absolute_error</th>\n",
       "      <th>...</th>\n",
       "      <th>std_test_neg_mean_absolute_error</th>\n",
       "      <th>rank_test_neg_mean_absolute_error</th>\n",
       "      <th>split0_test_neg_mean_absolute_percentage_error</th>\n",
       "      <th>split1_test_neg_mean_absolute_percentage_error</th>\n",
       "      <th>split2_test_neg_mean_absolute_percentage_error</th>\n",
       "      <th>split3_test_neg_mean_absolute_percentage_error</th>\n",
       "      <th>split4_test_neg_mean_absolute_percentage_error</th>\n",
       "      <th>mean_test_neg_mean_absolute_percentage_error</th>\n",
       "      <th>std_test_neg_mean_absolute_percentage_error</th>\n",
       "      <th>rank_test_neg_mean_absolute_percentage_error</th>\n",
       "    </tr>\n",
       "  </thead>\n",
       "  <tbody>\n",
       "    <tr>\n",
       "      <th>0</th>\n",
       "      <td>0.003477</td>\n",
       "      <td>0.001213</td>\n",
       "      <td>0.001958</td>\n",
       "      <td>0.000536</td>\n",
       "      <td>0.0001</td>\n",
       "      <td>{'alpha': 0.0001}</td>\n",
       "      <td>-0.518673</td>\n",
       "      <td>-0.449985</td>\n",
       "      <td>-0.576159</td>\n",
       "      <td>-0.477985</td>\n",
       "      <td>...</td>\n",
       "      <td>0.042865</td>\n",
       "      <td>1</td>\n",
       "      <td>-1.556710</td>\n",
       "      <td>-1.768678</td>\n",
       "      <td>-2.690993</td>\n",
       "      <td>-1.105463</td>\n",
       "      <td>-1.428947</td>\n",
       "      <td>-1.710158</td>\n",
       "      <td>0.535489</td>\n",
       "      <td>5</td>\n",
       "    </tr>\n",
       "    <tr>\n",
       "      <th>1</th>\n",
       "      <td>0.002584</td>\n",
       "      <td>0.000028</td>\n",
       "      <td>0.001682</td>\n",
       "      <td>0.000011</td>\n",
       "      <td>0.001</td>\n",
       "      <td>{'alpha': 0.001}</td>\n",
       "      <td>-0.519464</td>\n",
       "      <td>-0.450522</td>\n",
       "      <td>-0.576730</td>\n",
       "      <td>-0.479208</td>\n",
       "      <td>...</td>\n",
       "      <td>0.042744</td>\n",
       "      <td>2</td>\n",
       "      <td>-1.555526</td>\n",
       "      <td>-1.763834</td>\n",
       "      <td>-2.702313</td>\n",
       "      <td>-1.105312</td>\n",
       "      <td>-1.426787</td>\n",
       "      <td>-1.710754</td>\n",
       "      <td>0.539870</td>\n",
       "      <td>6</td>\n",
       "    </tr>\n",
       "  </tbody>\n",
       "</table>\n",
       "<p>2 rows × 22 columns</p>\n",
       "</div>\n",
       "      <button class=\"colab-df-convert\" onclick=\"convertToInteractive('df-a8a1bcb3-cf17-46d5-ae92-d634f819ff19')\"\n",
       "              title=\"Convert this dataframe to an interactive table.\"\n",
       "              style=\"display:none;\">\n",
       "        \n",
       "  <svg xmlns=\"http://www.w3.org/2000/svg\" height=\"24px\"viewBox=\"0 0 24 24\"\n",
       "       width=\"24px\">\n",
       "    <path d=\"M0 0h24v24H0V0z\" fill=\"none\"/>\n",
       "    <path d=\"M18.56 5.44l.94 2.06.94-2.06 2.06-.94-2.06-.94-.94-2.06-.94 2.06-2.06.94zm-11 1L8.5 8.5l.94-2.06 2.06-.94-2.06-.94L8.5 2.5l-.94 2.06-2.06.94zm10 10l.94 2.06.94-2.06 2.06-.94-2.06-.94-.94-2.06-.94 2.06-2.06.94z\"/><path d=\"M17.41 7.96l-1.37-1.37c-.4-.4-.92-.59-1.43-.59-.52 0-1.04.2-1.43.59L10.3 9.45l-7.72 7.72c-.78.78-.78 2.05 0 2.83L4 21.41c.39.39.9.59 1.41.59.51 0 1.02-.2 1.41-.59l7.78-7.78 2.81-2.81c.8-.78.8-2.07 0-2.86zM5.41 20L4 18.59l7.72-7.72 1.47 1.35L5.41 20z\"/>\n",
       "  </svg>\n",
       "      </button>\n",
       "      \n",
       "  <style>\n",
       "    .colab-df-container {\n",
       "      display:flex;\n",
       "      flex-wrap:wrap;\n",
       "      gap: 12px;\n",
       "    }\n",
       "\n",
       "    .colab-df-convert {\n",
       "      background-color: #E8F0FE;\n",
       "      border: none;\n",
       "      border-radius: 50%;\n",
       "      cursor: pointer;\n",
       "      display: none;\n",
       "      fill: #1967D2;\n",
       "      height: 32px;\n",
       "      padding: 0 0 0 0;\n",
       "      width: 32px;\n",
       "    }\n",
       "\n",
       "    .colab-df-convert:hover {\n",
       "      background-color: #E2EBFA;\n",
       "      box-shadow: 0px 1px 2px rgba(60, 64, 67, 0.3), 0px 1px 3px 1px rgba(60, 64, 67, 0.15);\n",
       "      fill: #174EA6;\n",
       "    }\n",
       "\n",
       "    [theme=dark] .colab-df-convert {\n",
       "      background-color: #3B4455;\n",
       "      fill: #D2E3FC;\n",
       "    }\n",
       "\n",
       "    [theme=dark] .colab-df-convert:hover {\n",
       "      background-color: #434B5C;\n",
       "      box-shadow: 0px 1px 3px 1px rgba(0, 0, 0, 0.15);\n",
       "      filter: drop-shadow(0px 1px 2px rgba(0, 0, 0, 0.3));\n",
       "      fill: #FFFFFF;\n",
       "    }\n",
       "  </style>\n",
       "\n",
       "      <script>\n",
       "        const buttonEl =\n",
       "          document.querySelector('#df-a8a1bcb3-cf17-46d5-ae92-d634f819ff19 button.colab-df-convert');\n",
       "        buttonEl.style.display =\n",
       "          google.colab.kernel.accessAllowed ? 'block' : 'none';\n",
       "\n",
       "        async function convertToInteractive(key) {\n",
       "          const element = document.querySelector('#df-a8a1bcb3-cf17-46d5-ae92-d634f819ff19');\n",
       "          const dataTable =\n",
       "            await google.colab.kernel.invokeFunction('convertToInteractive',\n",
       "                                                     [key], {});\n",
       "          if (!dataTable) return;\n",
       "\n",
       "          const docLinkHtml = 'Like what you see? Visit the ' +\n",
       "            '<a target=\"_blank\" href=https://colab.research.google.com/notebooks/data_table.ipynb>data table notebook</a>'\n",
       "            + ' to learn more about interactive tables.';\n",
       "          element.innerHTML = '';\n",
       "          dataTable['output_type'] = 'display_data';\n",
       "          await google.colab.output.renderOutput(dataTable, element);\n",
       "          const docLink = document.createElement('div');\n",
       "          docLink.innerHTML = docLinkHtml;\n",
       "          element.appendChild(docLink);\n",
       "        }\n",
       "      </script>\n",
       "    </div>\n",
       "  </div>\n",
       "  "
      ],
      "text/plain": [
       "   mean_fit_time  std_fit_time  mean_score_time  std_score_time param_alpha  \\\n",
       "0       0.003477      0.001213         0.001958        0.000536      0.0001   \n",
       "1       0.002584      0.000028         0.001682        0.000011       0.001   \n",
       "\n",
       "              params  split0_test_neg_mean_absolute_error  \\\n",
       "0  {'alpha': 0.0001}                            -0.518673   \n",
       "1   {'alpha': 0.001}                            -0.519464   \n",
       "\n",
       "   split1_test_neg_mean_absolute_error  split2_test_neg_mean_absolute_error  \\\n",
       "0                            -0.449985                            -0.576159   \n",
       "1                            -0.450522                            -0.576730   \n",
       "\n",
       "   split3_test_neg_mean_absolute_error  ...  std_test_neg_mean_absolute_error  \\\n",
       "0                            -0.477985  ...                          0.042865   \n",
       "1                            -0.479208  ...                          0.042744   \n",
       "\n",
       "   rank_test_neg_mean_absolute_error  \\\n",
       "0                                  1   \n",
       "1                                  2   \n",
       "\n",
       "   split0_test_neg_mean_absolute_percentage_error  \\\n",
       "0                                       -1.556710   \n",
       "1                                       -1.555526   \n",
       "\n",
       "   split1_test_neg_mean_absolute_percentage_error  \\\n",
       "0                                       -1.768678   \n",
       "1                                       -1.763834   \n",
       "\n",
       "   split2_test_neg_mean_absolute_percentage_error  \\\n",
       "0                                       -2.690993   \n",
       "1                                       -2.702313   \n",
       "\n",
       "   split3_test_neg_mean_absolute_percentage_error  \\\n",
       "0                                       -1.105463   \n",
       "1                                       -1.105312   \n",
       "\n",
       "   split4_test_neg_mean_absolute_percentage_error  \\\n",
       "0                                       -1.428947   \n",
       "1                                       -1.426787   \n",
       "\n",
       "   mean_test_neg_mean_absolute_percentage_error  \\\n",
       "0                                     -1.710158   \n",
       "1                                     -1.710754   \n",
       "\n",
       "   std_test_neg_mean_absolute_percentage_error  \\\n",
       "0                                     0.535489   \n",
       "1                                     0.539870   \n",
       "\n",
       "   rank_test_neg_mean_absolute_percentage_error  \n",
       "0                                             5  \n",
       "1                                             6  \n",
       "\n",
       "[2 rows x 22 columns]"
      ]
     },
     "execution_count": 20,
     "metadata": {},
     "output_type": "execute_result"
    }
   ],
   "source": [
    "grid_lasso_result = pd.DataFrame.from_dict(grid_lasso.cv_results_)\n",
    "grid_lasso_result.head(2)"
   ]
  },
  {
   "cell_type": "markdown",
   "id": "J3GsabF9jmGS",
   "metadata": {
    "id": "J3GsabF9jmGS"
   },
   "source": [
    "เรียงลำดับตามคะแนน MAE และเลือกแสดงเฉพาะบางคอลัมน์"
   ]
  },
  {
   "cell_type": "code",
   "execution_count": 21,
   "id": "wODcbyLPjnRt",
   "metadata": {
    "colab": {
     "base_uri": "https://localhost:8080/",
     "height": 206
    },
    "executionInfo": {
     "elapsed": 16,
     "status": "ok",
     "timestamp": 1667133330956,
     "user": {
      "displayName": "Sira Sriswasdi",
      "userId": "03069351775920236110"
     },
     "user_tz": -420
    },
    "id": "wODcbyLPjnRt",
    "outputId": "633782d3-37d3-4f54-aaa3-32148e69d301"
   },
   "outputs": [
    {
     "data": {
      "text/html": [
       "\n",
       "  <div id=\"df-3eb7aed8-5bf6-48b9-9fd3-45c4cd3872d9\">\n",
       "    <div class=\"colab-df-container\">\n",
       "      <div>\n",
       "<style scoped>\n",
       "    .dataframe tbody tr th:only-of-type {\n",
       "        vertical-align: middle;\n",
       "    }\n",
       "\n",
       "    .dataframe tbody tr th {\n",
       "        vertical-align: top;\n",
       "    }\n",
       "\n",
       "    .dataframe thead th {\n",
       "        text-align: right;\n",
       "    }\n",
       "</style>\n",
       "<table border=\"1\" class=\"dataframe\">\n",
       "  <thead>\n",
       "    <tr style=\"text-align: right;\">\n",
       "      <th></th>\n",
       "      <th>params</th>\n",
       "      <th>mean_test_neg_mean_absolute_error</th>\n",
       "      <th>std_test_neg_mean_absolute_error</th>\n",
       "    </tr>\n",
       "  </thead>\n",
       "  <tbody>\n",
       "    <tr>\n",
       "      <th>0</th>\n",
       "      <td>{'alpha': 0.0001}</td>\n",
       "      <td>-0.508719</td>\n",
       "      <td>0.042865</td>\n",
       "    </tr>\n",
       "    <tr>\n",
       "      <th>1</th>\n",
       "      <td>{'alpha': 0.001}</td>\n",
       "      <td>-0.509276</td>\n",
       "      <td>0.042744</td>\n",
       "    </tr>\n",
       "    <tr>\n",
       "      <th>2</th>\n",
       "      <td>{'alpha': 0.01}</td>\n",
       "      <td>-0.512125</td>\n",
       "      <td>0.043499</td>\n",
       "    </tr>\n",
       "    <tr>\n",
       "      <th>3</th>\n",
       "      <td>{'alpha': 1}</td>\n",
       "      <td>-0.808461</td>\n",
       "      <td>0.044536</td>\n",
       "    </tr>\n",
       "    <tr>\n",
       "      <th>4</th>\n",
       "      <td>{'alpha': 10}</td>\n",
       "      <td>-0.808461</td>\n",
       "      <td>0.044536</td>\n",
       "    </tr>\n",
       "  </tbody>\n",
       "</table>\n",
       "</div>\n",
       "      <button class=\"colab-df-convert\" onclick=\"convertToInteractive('df-3eb7aed8-5bf6-48b9-9fd3-45c4cd3872d9')\"\n",
       "              title=\"Convert this dataframe to an interactive table.\"\n",
       "              style=\"display:none;\">\n",
       "        \n",
       "  <svg xmlns=\"http://www.w3.org/2000/svg\" height=\"24px\"viewBox=\"0 0 24 24\"\n",
       "       width=\"24px\">\n",
       "    <path d=\"M0 0h24v24H0V0z\" fill=\"none\"/>\n",
       "    <path d=\"M18.56 5.44l.94 2.06.94-2.06 2.06-.94-2.06-.94-.94-2.06-.94 2.06-2.06.94zm-11 1L8.5 8.5l.94-2.06 2.06-.94-2.06-.94L8.5 2.5l-.94 2.06-2.06.94zm10 10l.94 2.06.94-2.06 2.06-.94-2.06-.94-.94-2.06-.94 2.06-2.06.94z\"/><path d=\"M17.41 7.96l-1.37-1.37c-.4-.4-.92-.59-1.43-.59-.52 0-1.04.2-1.43.59L10.3 9.45l-7.72 7.72c-.78.78-.78 2.05 0 2.83L4 21.41c.39.39.9.59 1.41.59.51 0 1.02-.2 1.41-.59l7.78-7.78 2.81-2.81c.8-.78.8-2.07 0-2.86zM5.41 20L4 18.59l7.72-7.72 1.47 1.35L5.41 20z\"/>\n",
       "  </svg>\n",
       "      </button>\n",
       "      \n",
       "  <style>\n",
       "    .colab-df-container {\n",
       "      display:flex;\n",
       "      flex-wrap:wrap;\n",
       "      gap: 12px;\n",
       "    }\n",
       "\n",
       "    .colab-df-convert {\n",
       "      background-color: #E8F0FE;\n",
       "      border: none;\n",
       "      border-radius: 50%;\n",
       "      cursor: pointer;\n",
       "      display: none;\n",
       "      fill: #1967D2;\n",
       "      height: 32px;\n",
       "      padding: 0 0 0 0;\n",
       "      width: 32px;\n",
       "    }\n",
       "\n",
       "    .colab-df-convert:hover {\n",
       "      background-color: #E2EBFA;\n",
       "      box-shadow: 0px 1px 2px rgba(60, 64, 67, 0.3), 0px 1px 3px 1px rgba(60, 64, 67, 0.15);\n",
       "      fill: #174EA6;\n",
       "    }\n",
       "\n",
       "    [theme=dark] .colab-df-convert {\n",
       "      background-color: #3B4455;\n",
       "      fill: #D2E3FC;\n",
       "    }\n",
       "\n",
       "    [theme=dark] .colab-df-convert:hover {\n",
       "      background-color: #434B5C;\n",
       "      box-shadow: 0px 1px 3px 1px rgba(0, 0, 0, 0.15);\n",
       "      filter: drop-shadow(0px 1px 2px rgba(0, 0, 0, 0.3));\n",
       "      fill: #FFFFFF;\n",
       "    }\n",
       "  </style>\n",
       "\n",
       "      <script>\n",
       "        const buttonEl =\n",
       "          document.querySelector('#df-3eb7aed8-5bf6-48b9-9fd3-45c4cd3872d9 button.colab-df-convert');\n",
       "        buttonEl.style.display =\n",
       "          google.colab.kernel.accessAllowed ? 'block' : 'none';\n",
       "\n",
       "        async function convertToInteractive(key) {\n",
       "          const element = document.querySelector('#df-3eb7aed8-5bf6-48b9-9fd3-45c4cd3872d9');\n",
       "          const dataTable =\n",
       "            await google.colab.kernel.invokeFunction('convertToInteractive',\n",
       "                                                     [key], {});\n",
       "          if (!dataTable) return;\n",
       "\n",
       "          const docLinkHtml = 'Like what you see? Visit the ' +\n",
       "            '<a target=\"_blank\" href=https://colab.research.google.com/notebooks/data_table.ipynb>data table notebook</a>'\n",
       "            + ' to learn more about interactive tables.';\n",
       "          element.innerHTML = '';\n",
       "          dataTable['output_type'] = 'display_data';\n",
       "          await google.colab.output.renderOutput(dataTable, element);\n",
       "          const docLink = document.createElement('div');\n",
       "          docLink.innerHTML = docLinkHtml;\n",
       "          element.appendChild(docLink);\n",
       "        }\n",
       "      </script>\n",
       "    </div>\n",
       "  </div>\n",
       "  "
      ],
      "text/plain": [
       "              params  mean_test_neg_mean_absolute_error  \\\n",
       "0  {'alpha': 0.0001}                          -0.508719   \n",
       "1   {'alpha': 0.001}                          -0.509276   \n",
       "2    {'alpha': 0.01}                          -0.512125   \n",
       "3       {'alpha': 1}                          -0.808461   \n",
       "4      {'alpha': 10}                          -0.808461   \n",
       "\n",
       "   std_test_neg_mean_absolute_error  \n",
       "0                          0.042865  \n",
       "1                          0.042744  \n",
       "2                          0.043499  \n",
       "3                          0.044536  \n",
       "4                          0.044536  "
      ]
     },
     "execution_count": 21,
     "metadata": {},
     "output_type": "execute_result"
    }
   ],
   "source": [
    "grid_lasso_result = grid_lasso_result.sort_values('rank_test_neg_mean_absolute_error')\n",
    "grid_lasso_result[['params', 'mean_test_neg_mean_absolute_error', 'std_test_neg_mean_absolute_error']].head()"
   ]
  },
  {
   "cell_type": "markdown",
   "id": "w_4N6FtrkGzz",
   "metadata": {
    "id": "w_4N6FtrkGzz"
   },
   "source": [
    "### เปรียบเทียบผลการทำงานหลังจากที่ tune แล้ว\n",
    "บน cross-validation และ test set"
   ]
  },
  {
   "cell_type": "code",
   "execution_count": 22,
   "id": "mOEk0B6ckt3d",
   "metadata": {
    "colab": {
     "base_uri": "https://localhost:8080/"
    },
    "executionInfo": {
     "elapsed": 15,
     "status": "ok",
     "timestamp": 1667133330956,
     "user": {
      "displayName": "Sira Sriswasdi",
      "userId": "03069351775920236110"
     },
     "user_tz": -420
    },
    "id": "mOEk0B6ckt3d",
    "outputId": "99bd80a8-43d9-43e5-ecaf-aa16fba66511"
   },
   "outputs": [
    {
     "name": "stdout",
     "output_type": "stream",
     "text": [
      "Cross-validated LASSO MAE: 0.5087188781070362\n",
      "Test LASSO MAE: 0.43781527902015294\n"
     ]
    }
   ],
   "source": [
    "print('Cross-validated LASSO MAE:', -grid_lasso_result['mean_test_neg_mean_absolute_error'].iloc[0])\n",
    "\n",
    "grid_lasso_pred_test = grid_lasso.predict(X_test_std)\n",
    "print('Test LASSO MAE:', mean_absolute_error(y_test_std, grid_lasso_pred_test))"
   ]
  },
  {
   "cell_type": "code",
   "execution_count": 23,
   "id": "CBfUDacLlemd",
   "metadata": {
    "colab": {
     "base_uri": "https://localhost:8080/",
     "height": 297
    },
    "executionInfo": {
     "elapsed": 718,
     "status": "ok",
     "timestamp": 1667133331661,
     "user": {
      "displayName": "Sira Sriswasdi",
      "userId": "03069351775920236110"
     },
     "user_tz": -420
    },
    "id": "CBfUDacLlemd",
    "outputId": "010d1d09-9593-4b3d-c62b-0b179a8750b4"
   },
   "outputs": [
    {
     "data": {
      "image/png": "[encoded data removed]",
      "text/plain": [
       "<Figure size 864x288 with 3 Axes>"
      ]
     },
     "metadata": {
      "needs_background": "light"
     },
     "output_type": "display_data"
    }
   ],
   "source": [
    "plt.figure(figsize = (12, 4))\n",
    "\n",
    "plt.subplot(1, 3, 1)\n",
    "plt.scatter(y_test_std, base_linear_pred_test); plt.xlabel('Standardized y_true'); plt.ylabel('Prediction'); plt.title('Linear')\n",
    "plt.plot([y_test_std.min(), y_test_std.max()], [y_test_std.min(), y_test_std.max()], '--k')\n",
    "\n",
    "plt.subplot(1, 3, 2)\n",
    "plt.scatter(y_test_std, base_ridge_pred_test); plt.xlabel('Standardized y_true'); plt.ylabel('Prediction'); plt.title('Ridge')\n",
    "plt.plot([y_test_std.min(), y_test_std.max()], [y_test_std.min(), y_test_std.max()], '--k')\n",
    "\n",
    "plt.subplot(1, 3, 3)\n",
    "plt.scatter(y_test_std, grid_lasso_pred_test); plt.xlabel('Standardized y_true'); plt.ylabel('Prediction'); plt.title('Tuned LASSO')\n",
    "plt.plot([y_test_std.min(), y_test_std.max()], [y_test_std.min(), y_test_std.max()], '--k')\n",
    "\n",
    "plt.tight_layout()\n",
    "plt.show()"
   ]
  },
  {
   "cell_type": "markdown",
   "id": "U3kJNxQyn2ib",
   "metadata": {
    "id": "U3kJNxQyn2ib"
   },
   "source": [
    "## ลองใช้ Support Vector Machine กับ radial basis kernel\n",
    "ต้อง tune สองตัวแปรหลักคือ *C* ซึ่งกำกับ regularization และ *$\\epsilon$* ซึ่งกำกับขนาดของ error ที่ยอมรับได้\n",
    "\n",
    "เพิ่ม argument *n_jobs* เพื่อใช้หลาย CPU ในการเร่งความเร็ว"
   ]
  },
  {
   "cell_type": "code",
   "execution_count": 24,
   "id": "76dHxzkgn3Cz",
   "metadata": {
    "colab": {
     "base_uri": "https://localhost:8080/"
    },
    "executionInfo": {
     "elapsed": 43960,
     "status": "ok",
     "timestamp": 1667133375608,
     "user": {
      "displayName": "Sira Sriswasdi",
      "userId": "03069351775920236110"
     },
     "user_tz": -420
    },
    "id": "76dHxzkgn3Cz",
    "outputId": "7653993f-86d1-4e35-ca4c-9f27eddfb2fe"
   },
   "outputs": [
    {
     "data": {
      "text/plain": [
       "GridSearchCV(cv=KFold(n_splits=5, random_state=4649, shuffle=True),\n",
       "             estimator=SVR(), n_jobs=4,\n",
       "             param_grid={'C': array([1.00000000e-03, 3.16227766e-02, 1.00000000e+00, 3.16227766e+01,\n",
       "       1.00000000e+03]),\n",
       "                         'epsilon': array([0.  , 0.05, 0.1 , 0.15, 0.2 ])},\n",
       "             refit='neg_mean_absolute_error',\n",
       "             scoring=['neg_mean_absolute_error',\n",
       "                      'neg_mean_absolute_percentage_error'])"
      ]
     },
     "execution_count": 24,
     "metadata": {},
     "output_type": "execute_result"
    }
   ],
   "source": [
    "rbf_svr = SVR(kernel = 'rbf')\n",
    "parameters = {'epsilon': np.arange(0, 0.21, 0.05), 'C': np.power(10, np.linspace(-3, 3, 5))}\n",
    "\n",
    "grid_rbf_svr = GridSearchCV(estimator = rbf_svr, param_grid = parameters, \n",
    "                            scoring = ['neg_mean_absolute_error', 'neg_mean_absolute_percentage_error'], \n",
    "                            refit = 'neg_mean_absolute_error', cv = cv_splitter, n_jobs = 4)\n",
    "\n",
    "grid_rbf_svr.fit(X_train_std, y_train_std.reshape([-1, ])) ## SVR อยากให้ output เป็น 1D array"
   ]
  },
  {
   "cell_type": "markdown",
   "id": "zhbRaxyno0ps",
   "metadata": {
    "id": "zhbRaxyno0ps"
   },
   "source": [
    "MAE ดีขึ้นบน cross-validation"
   ]
  },
  {
   "cell_type": "code",
   "execution_count": 25,
   "id": "9QT65OGUp8Vz",
   "metadata": {
    "colab": {
     "base_uri": "https://localhost:8080/",
     "height": 206
    },
    "executionInfo": {
     "elapsed": 17,
     "status": "ok",
     "timestamp": 1667133375608,
     "user": {
      "displayName": "Sira Sriswasdi",
      "userId": "03069351775920236110"
     },
     "user_tz": -420
    },
    "id": "9QT65OGUp8Vz",
    "outputId": "058780f4-fb9a-4a0e-c602-bc6d26e3fcd2"
   },
   "outputs": [
    {
     "data": {
      "text/html": [
       "\n",
       "  <div id=\"df-820702cc-ed39-48bd-99a7-f00a47c38eb6\">\n",
       "    <div class=\"colab-df-container\">\n",
       "      <div>\n",
       "<style scoped>\n",
       "    .dataframe tbody tr th:only-of-type {\n",
       "        vertical-align: middle;\n",
       "    }\n",
       "\n",
       "    .dataframe tbody tr th {\n",
       "        vertical-align: top;\n",
       "    }\n",
       "\n",
       "    .dataframe thead th {\n",
       "        text-align: right;\n",
       "    }\n",
       "</style>\n",
       "<table border=\"1\" class=\"dataframe\">\n",
       "  <thead>\n",
       "    <tr style=\"text-align: right;\">\n",
       "      <th></th>\n",
       "      <th>params</th>\n",
       "      <th>mean_test_neg_mean_absolute_error</th>\n",
       "      <th>std_test_neg_mean_absolute_error</th>\n",
       "    </tr>\n",
       "  </thead>\n",
       "  <tbody>\n",
       "    <tr>\n",
       "      <th>16</th>\n",
       "      <td>{'C': 31.622776601683793, 'epsilon': 0.05}</td>\n",
       "      <td>-0.249800</td>\n",
       "      <td>0.015711</td>\n",
       "    </tr>\n",
       "    <tr>\n",
       "      <th>15</th>\n",
       "      <td>{'C': 31.622776601683793, 'epsilon': 0.0}</td>\n",
       "      <td>-0.250907</td>\n",
       "      <td>0.015308</td>\n",
       "    </tr>\n",
       "    <tr>\n",
       "      <th>17</th>\n",
       "      <td>{'C': 31.622776601683793, 'epsilon': 0.1}</td>\n",
       "      <td>-0.252415</td>\n",
       "      <td>0.017523</td>\n",
       "    </tr>\n",
       "    <tr>\n",
       "      <th>18</th>\n",
       "      <td>{'C': 31.622776601683793, 'epsilon': 0.1500000...</td>\n",
       "      <td>-0.255480</td>\n",
       "      <td>0.016183</td>\n",
       "    </tr>\n",
       "    <tr>\n",
       "      <th>19</th>\n",
       "      <td>{'C': 31.622776601683793, 'epsilon': 0.2}</td>\n",
       "      <td>-0.256850</td>\n",
       "      <td>0.014925</td>\n",
       "    </tr>\n",
       "  </tbody>\n",
       "</table>\n",
       "</div>\n",
       "      <button class=\"colab-df-convert\" onclick=\"convertToInteractive('df-820702cc-ed39-48bd-99a7-f00a47c38eb6')\"\n",
       "              title=\"Convert this dataframe to an interactive table.\"\n",
       "              style=\"display:none;\">\n",
       "        \n",
       "  <svg xmlns=\"http://www.w3.org/2000/svg\" height=\"24px\"viewBox=\"0 0 24 24\"\n",
       "       width=\"24px\">\n",
       "    <path d=\"M0 0h24v24H0V0z\" fill=\"none\"/>\n",
       "    <path d=\"M18.56 5.44l.94 2.06.94-2.06 2.06-.94-2.06-.94-.94-2.06-.94 2.06-2.06.94zm-11 1L8.5 8.5l.94-2.06 2.06-.94-2.06-.94L8.5 2.5l-.94 2.06-2.06.94zm10 10l.94 2.06.94-2.06 2.06-.94-2.06-.94-.94-2.06-.94 2.06-2.06.94z\"/><path d=\"M17.41 7.96l-1.37-1.37c-.4-.4-.92-.59-1.43-.59-.52 0-1.04.2-1.43.59L10.3 9.45l-7.72 7.72c-.78.78-.78 2.05 0 2.83L4 21.41c.39.39.9.59 1.41.59.51 0 1.02-.2 1.41-.59l7.78-7.78 2.81-2.81c.8-.78.8-2.07 0-2.86zM5.41 20L4 18.59l7.72-7.72 1.47 1.35L5.41 20z\"/>\n",
       "  </svg>\n",
       "      </button>\n",
       "      \n",
       "  <style>\n",
       "    .colab-df-container {\n",
       "      display:flex;\n",
       "      flex-wrap:wrap;\n",
       "      gap: 12px;\n",
       "    }\n",
       "\n",
       "    .colab-df-convert {\n",
       "      background-color: #E8F0FE;\n",
       "      border: none;\n",
       "      border-radius: 50%;\n",
       "      cursor: pointer;\n",
       "      display: none;\n",
       "      fill: #1967D2;\n",
       "      height: 32px;\n",
       "      padding: 0 0 0 0;\n",
       "      width: 32px;\n",
       "    }\n",
       "\n",
       "    .colab-df-convert:hover {\n",
       "      background-color: #E2EBFA;\n",
       "      box-shadow: 0px 1px 2px rgba(60, 64, 67, 0.3), 0px 1px 3px 1px rgba(60, 64, 67, 0.15);\n",
       "      fill: #174EA6;\n",
       "    }\n",
       "\n",
       "    [theme=dark] .colab-df-convert {\n",
       "      background-color: #3B4455;\n",
       "      fill: #D2E3FC;\n",
       "    }\n",
       "\n",
       "    [theme=dark] .colab-df-convert:hover {\n",
       "      background-color: #434B5C;\n",
       "      box-shadow: 0px 1px 3px 1px rgba(0, 0, 0, 0.15);\n",
       "      filter: drop-shadow(0px 1px 2px rgba(0, 0, 0, 0.3));\n",
       "      fill: #FFFFFF;\n",
       "    }\n",
       "  </style>\n",
       "\n",
       "      <script>\n",
       "        const buttonEl =\n",
       "          document.querySelector('#df-820702cc-ed39-48bd-99a7-f00a47c38eb6 button.colab-df-convert');\n",
       "        buttonEl.style.display =\n",
       "          google.colab.kernel.accessAllowed ? 'block' : 'none';\n",
       "\n",
       "        async function convertToInteractive(key) {\n",
       "          const element = document.querySelector('#df-820702cc-ed39-48bd-99a7-f00a47c38eb6');\n",
       "          const dataTable =\n",
       "            await google.colab.kernel.invokeFunction('convertToInteractive',\n",
       "                                                     [key], {});\n",
       "          if (!dataTable) return;\n",
       "\n",
       "          const docLinkHtml = 'Like what you see? Visit the ' +\n",
       "            '<a target=\"_blank\" href=https://colab.research.google.com/notebooks/data_table.ipynb>data table notebook</a>'\n",
       "            + ' to learn more about interactive tables.';\n",
       "          element.innerHTML = '';\n",
       "          dataTable['output_type'] = 'display_data';\n",
       "          await google.colab.output.renderOutput(dataTable, element);\n",
       "          const docLink = document.createElement('div');\n",
       "          docLink.innerHTML = docLinkHtml;\n",
       "          element.appendChild(docLink);\n",
       "        }\n",
       "      </script>\n",
       "    </div>\n",
       "  </div>\n",
       "  "
      ],
      "text/plain": [
       "                                               params  \\\n",
       "16         {'C': 31.622776601683793, 'epsilon': 0.05}   \n",
       "15          {'C': 31.622776601683793, 'epsilon': 0.0}   \n",
       "17          {'C': 31.622776601683793, 'epsilon': 0.1}   \n",
       "18  {'C': 31.622776601683793, 'epsilon': 0.1500000...   \n",
       "19          {'C': 31.622776601683793, 'epsilon': 0.2}   \n",
       "\n",
       "    mean_test_neg_mean_absolute_error  std_test_neg_mean_absolute_error  \n",
       "16                          -0.249800                          0.015711  \n",
       "15                          -0.250907                          0.015308  \n",
       "17                          -0.252415                          0.017523  \n",
       "18                          -0.255480                          0.016183  \n",
       "19                          -0.256850                          0.014925  "
      ]
     },
     "execution_count": 25,
     "metadata": {},
     "output_type": "execute_result"
    }
   ],
   "source": [
    "grid_rbf_svr_result = pd.DataFrame.from_dict(grid_rbf_svr.cv_results_)\n",
    "grid_rbf_svr_result = grid_rbf_svr_result.sort_values('rank_test_neg_mean_absolute_error')\n",
    "grid_rbf_svr_result[['params', 'mean_test_neg_mean_absolute_error', 'std_test_neg_mean_absolute_error']].head(5)"
   ]
  },
  {
   "cell_type": "markdown",
   "id": "tuYRK_AMp0gu",
   "metadata": {
    "id": "tuYRK_AMp0gu"
   },
   "source": [
    "### ผลบน test set"
   ]
  },
  {
   "cell_type": "code",
   "execution_count": 26,
   "id": "Zm2Cdldgp0wX",
   "metadata": {
    "colab": {
     "base_uri": "https://localhost:8080/"
    },
    "executionInfo": {
     "elapsed": 16,
     "status": "ok",
     "timestamp": 1667133375609,
     "user": {
      "displayName": "Sira Sriswasdi",
      "userId": "03069351775920236110"
     },
     "user_tz": -420
    },
    "id": "Zm2Cdldgp0wX",
    "outputId": "1fed6f57-800c-4fc1-eb9e-955e71a06fb5"
   },
   "outputs": [
    {
     "name": "stdout",
     "output_type": "stream",
     "text": [
      "Test RBF SVM MAE: 0.22776192543877458\n"
     ]
    }
   ],
   "source": [
    "grid_rbf_svr_pred_test = grid_rbf_svr.predict(X_test_std)\n",
    "print('Test RBF SVM MAE:', mean_absolute_error(y_test_std, grid_rbf_svr_pred_test))"
   ]
  },
  {
   "cell_type": "code",
   "execution_count": 27,
   "id": "AlGkGrD8kaSn",
   "metadata": {
    "colab": {
     "base_uri": "https://localhost:8080/",
     "height": 297
    },
    "executionInfo": {
     "elapsed": 800,
     "status": "ok",
     "timestamp": 1667133376395,
     "user": {
      "displayName": "Sira Sriswasdi",
      "userId": "03069351775920236110"
     },
     "user_tz": -420
    },
    "id": "AlGkGrD8kaSn",
    "outputId": "956ab8da-9102-45a2-996b-b9d7e1d54031"
   },
   "outputs": [
    {
     "data": {
      "image/png": "[encoded data removed]",
      "text/plain": [
       "<Figure size 576x288 with 2 Axes>"
      ]
     },
     "metadata": {
      "needs_background": "light"
     },
     "output_type": "display_data"
    }
   ],
   "source": [
    "plt.figure(figsize = (8, 4))\n",
    "\n",
    "plt.subplot(1, 2, 1)\n",
    "plt.scatter(y_test_std, grid_lasso_pred_test); plt.xlabel('Standardized y_true'); plt.ylabel('Prediction'); plt.title('Tuned LASSO')\n",
    "plt.plot([y_test_std.min(), y_test_std.max()], [y_test_std.min(), y_test_std.max()], '--k')\n",
    "\n",
    "plt.subplot(1, 2, 2)\n",
    "plt.scatter(y_test_std, grid_rbf_svr_pred_test); plt.xlabel('Standardized y_true'); plt.ylabel('Prediction'); plt.title('Tuned RBF SVM')\n",
    "plt.plot([y_test_std.min(), y_test_std.max()], [y_test_std.min(), y_test_std.max()], '--k')\n",
    "\n",
    "plt.tight_layout()\n",
    "plt.show()"
   ]
  },
  {
   "cell_type": "markdown",
   "id": "MknfhNdpnpC5",
   "metadata": {
    "id": "MknfhNdpnpC5"
   },
   "source": [
    "# ข้อมูลชุดที่ 2 ราคาขายบ้าน\n",
    "อย่าลืมเปลี่ยนตำแหน่งของไฟล์ HousePrices.csv ให้เป็นไปตามตำแหน่งที่เราวางใน Google Drive ของเราเอง\n",
    "\n",
    "ข้อมูลชุดนี้เกี่ยวกับราคาขายบ้าน ซึ่งขึ้นอยู่กับขนาดและลักษณะต่าง ๆ โดยเพื่อความสะดวก เราจะใช้เฉพาะตัวแปรที่เป็นตัวเลขจำนวน 11 ตัวแปร"
   ]
  },
  {
   "cell_type": "code",
   "execution_count": 28,
   "id": "QCXJT7bRnomc",
   "metadata": {
    "colab": {
     "base_uri": "https://localhost:8080/",
     "height": 206
    },
    "executionInfo": {
     "elapsed": 500,
     "status": "ok",
     "timestamp": 1667133376884,
     "user": {
      "displayName": "Sira Sriswasdi",
      "userId": "03069351775920236110"
     },
     "user_tz": -420
    },
    "id": "QCXJT7bRnomc",
    "outputId": "476490e3-beeb-48b5-bf6b-be49c73e10a4"
   },
   "outputs": [
    {
     "data": {
      "text/html": [
       "\n",
       "  <div id=\"df-7ce36548-a559-418d-a7b6-9b91995066e2\">\n",
       "    <div class=\"colab-df-container\">\n",
       "      <div>\n",
       "<style scoped>\n",
       "    .dataframe tbody tr th:only-of-type {\n",
       "        vertical-align: middle;\n",
       "    }\n",
       "\n",
       "    .dataframe tbody tr th {\n",
       "        vertical-align: top;\n",
       "    }\n",
       "\n",
       "    .dataframe thead th {\n",
       "        text-align: right;\n",
       "    }\n",
       "</style>\n",
       "<table border=\"1\" class=\"dataframe\">\n",
       "  <thead>\n",
       "    <tr style=\"text-align: right;\">\n",
       "      <th></th>\n",
       "      <th>LotFrontage</th>\n",
       "      <th>LotArea</th>\n",
       "      <th>MasVnrArea</th>\n",
       "      <th>BsmtFinSF1</th>\n",
       "      <th>BsmtUnfSF</th>\n",
       "      <th>1stFlrSF</th>\n",
       "      <th>GrLivArea</th>\n",
       "      <th>GarageArea</th>\n",
       "      <th>WoodDeckSF</th>\n",
       "      <th>OpenPorchSF</th>\n",
       "      <th>SalePrice</th>\n",
       "    </tr>\n",
       "  </thead>\n",
       "  <tbody>\n",
       "    <tr>\n",
       "      <th>0</th>\n",
       "      <td>65.0</td>\n",
       "      <td>8450</td>\n",
       "      <td>196.0</td>\n",
       "      <td>706</td>\n",
       "      <td>150</td>\n",
       "      <td>856</td>\n",
       "      <td>1710</td>\n",
       "      <td>548</td>\n",
       "      <td>0</td>\n",
       "      <td>61</td>\n",
       "      <td>208500</td>\n",
       "    </tr>\n",
       "    <tr>\n",
       "      <th>1</th>\n",
       "      <td>80.0</td>\n",
       "      <td>9600</td>\n",
       "      <td>0.0</td>\n",
       "      <td>978</td>\n",
       "      <td>284</td>\n",
       "      <td>1262</td>\n",
       "      <td>1262</td>\n",
       "      <td>460</td>\n",
       "      <td>298</td>\n",
       "      <td>0</td>\n",
       "      <td>181500</td>\n",
       "    </tr>\n",
       "    <tr>\n",
       "      <th>2</th>\n",
       "      <td>68.0</td>\n",
       "      <td>11250</td>\n",
       "      <td>162.0</td>\n",
       "      <td>486</td>\n",
       "      <td>434</td>\n",
       "      <td>920</td>\n",
       "      <td>1786</td>\n",
       "      <td>608</td>\n",
       "      <td>0</td>\n",
       "      <td>42</td>\n",
       "      <td>223500</td>\n",
       "    </tr>\n",
       "    <tr>\n",
       "      <th>3</th>\n",
       "      <td>60.0</td>\n",
       "      <td>9550</td>\n",
       "      <td>0.0</td>\n",
       "      <td>216</td>\n",
       "      <td>540</td>\n",
       "      <td>961</td>\n",
       "      <td>1717</td>\n",
       "      <td>642</td>\n",
       "      <td>0</td>\n",
       "      <td>35</td>\n",
       "      <td>140000</td>\n",
       "    </tr>\n",
       "    <tr>\n",
       "      <th>4</th>\n",
       "      <td>84.0</td>\n",
       "      <td>14260</td>\n",
       "      <td>350.0</td>\n",
       "      <td>655</td>\n",
       "      <td>490</td>\n",
       "      <td>1145</td>\n",
       "      <td>2198</td>\n",
       "      <td>836</td>\n",
       "      <td>192</td>\n",
       "      <td>84</td>\n",
       "      <td>250000</td>\n",
       "    </tr>\n",
       "  </tbody>\n",
       "</table>\n",
       "</div>\n",
       "      <button class=\"colab-df-convert\" onclick=\"convertToInteractive('df-7ce36548-a559-418d-a7b6-9b91995066e2')\"\n",
       "              title=\"Convert this dataframe to an interactive table.\"\n",
       "              style=\"display:none;\">\n",
       "        \n",
       "  <svg xmlns=\"http://www.w3.org/2000/svg\" height=\"24px\"viewBox=\"0 0 24 24\"\n",
       "       width=\"24px\">\n",
       "    <path d=\"M0 0h24v24H0V0z\" fill=\"none\"/>\n",
       "    <path d=\"M18.56 5.44l.94 2.06.94-2.06 2.06-.94-2.06-.94-.94-2.06-.94 2.06-2.06.94zm-11 1L8.5 8.5l.94-2.06 2.06-.94-2.06-.94L8.5 2.5l-.94 2.06-2.06.94zm10 10l.94 2.06.94-2.06 2.06-.94-2.06-.94-.94-2.06-.94 2.06-2.06.94z\"/><path d=\"M17.41 7.96l-1.37-1.37c-.4-.4-.92-.59-1.43-.59-.52 0-1.04.2-1.43.59L10.3 9.45l-7.72 7.72c-.78.78-.78 2.05 0 2.83L4 21.41c.39.39.9.59 1.41.59.51 0 1.02-.2 1.41-.59l7.78-7.78 2.81-2.81c.8-.78.8-2.07 0-2.86zM5.41 20L4 18.59l7.72-7.72 1.47 1.35L5.41 20z\"/>\n",
       "  </svg>\n",
       "      </button>\n",
       "      \n",
       "  <style>\n",
       "    .colab-df-container {\n",
       "      display:flex;\n",
       "      flex-wrap:wrap;\n",
       "      gap: 12px;\n",
       "    }\n",
       "\n",
       "    .colab-df-convert {\n",
       "      background-color: #E8F0FE;\n",
       "      border: none;\n",
       "      border-radius: 50%;\n",
       "      cursor: pointer;\n",
       "      display: none;\n",
       "      fill: #1967D2;\n",
       "      height: 32px;\n",
       "      padding: 0 0 0 0;\n",
       "      width: 32px;\n",
       "    }\n",
       "\n",
       "    .colab-df-convert:hover {\n",
       "      background-color: #E2EBFA;\n",
       "      box-shadow: 0px 1px 2px rgba(60, 64, 67, 0.3), 0px 1px 3px 1px rgba(60, 64, 67, 0.15);\n",
       "      fill: #174EA6;\n",
       "    }\n",
       "\n",
       "    [theme=dark] .colab-df-convert {\n",
       "      background-color: #3B4455;\n",
       "      fill: #D2E3FC;\n",
       "    }\n",
       "\n",
       "    [theme=dark] .colab-df-convert:hover {\n",
       "      background-color: #434B5C;\n",
       "      box-shadow: 0px 1px 3px 1px rgba(0, 0, 0, 0.15);\n",
       "      filter: drop-shadow(0px 1px 2px rgba(0, 0, 0, 0.3));\n",
       "      fill: #FFFFFF;\n",
       "    }\n",
       "  </style>\n",
       "\n",
       "      <script>\n",
       "        const buttonEl =\n",
       "          document.querySelector('#df-7ce36548-a559-418d-a7b6-9b91995066e2 button.colab-df-convert');\n",
       "        buttonEl.style.display =\n",
       "          google.colab.kernel.accessAllowed ? 'block' : 'none';\n",
       "\n",
       "        async function convertToInteractive(key) {\n",
       "          const element = document.querySelector('#df-7ce36548-a559-418d-a7b6-9b91995066e2');\n",
       "          const dataTable =\n",
       "            await google.colab.kernel.invokeFunction('convertToInteractive',\n",
       "                                                     [key], {});\n",
       "          if (!dataTable) return;\n",
       "\n",
       "          const docLinkHtml = 'Like what you see? Visit the ' +\n",
       "            '<a target=\"_blank\" href=https://colab.research.google.com/notebooks/data_table.ipynb>data table notebook</a>'\n",
       "            + ' to learn more about interactive tables.';\n",
       "          element.innerHTML = '';\n",
       "          dataTable['output_type'] = 'display_data';\n",
       "          await google.colab.output.renderOutput(dataTable, element);\n",
       "          const docLink = document.createElement('div');\n",
       "          docLink.innerHTML = docLinkHtml;\n",
       "          element.appendChild(docLink);\n",
       "        }\n",
       "      </script>\n",
       "    </div>\n",
       "  </div>\n",
       "  "
      ],
      "text/plain": [
       "   LotFrontage  LotArea  MasVnrArea  BsmtFinSF1  BsmtUnfSF  1stFlrSF  \\\n",
       "0         65.0     8450       196.0         706        150       856   \n",
       "1         80.0     9600         0.0         978        284      1262   \n",
       "2         68.0    11250       162.0         486        434       920   \n",
       "3         60.0     9550         0.0         216        540       961   \n",
       "4         84.0    14260       350.0         655        490      1145   \n",
       "\n",
       "   GrLivArea  GarageArea  WoodDeckSF  OpenPorchSF  SalePrice  \n",
       "0       1710         548           0           61     208500  \n",
       "1       1262         460         298            0     181500  \n",
       "2       1786         608           0           42     223500  \n",
       "3       1717         642           0           35     140000  \n",
       "4       2198         836         192           84     250000  "
      ]
     },
     "execution_count": 28,
     "metadata": {},
     "output_type": "execute_result"
    }
   ],
   "source": [
    "data = pd.read_csv('/content/drive/MyDrive/Datasets/HousePrices.csv', index_col = None) ## ข้อมูลนี้ไม่มี row index\n",
    "numerical_features = ['LotFrontage', 'LotArea', 'MasVnrArea', 'BsmtFinSF1', 'BsmtUnfSF', '1stFlrSF', 'GrLivArea', 'GarageArea',\n",
    "                      'WoodDeckSF', 'OpenPorchSF', 'SalePrice']\n",
    "data = data[numerical_features]\n",
    "data.head()"
   ]
  },
  {
   "cell_type": "markdown",
   "id": "qBBUlI7uomol",
   "metadata": {
    "id": "qBBUlI7uomol"
   },
   "source": [
    "## ตรวจจับและเติม missing value"
   ]
  },
  {
   "cell_type": "code",
   "execution_count": 29,
   "id": "HfnSQafaom9N",
   "metadata": {
    "colab": {
     "base_uri": "https://localhost:8080/"
    },
    "executionInfo": {
     "elapsed": 16,
     "status": "ok",
     "timestamp": 1667133376885,
     "user": {
      "displayName": "Sira Sriswasdi",
      "userId": "03069351775920236110"
     },
     "user_tz": -420
    },
    "id": "HfnSQafaom9N",
    "outputId": "7ae93cd3-413d-45e0-c307-c3211564dbc8"
   },
   "outputs": [
    {
     "name": "stdout",
     "output_type": "stream",
     "text": [
      "Total data size: 1456\n",
      "Missing data: LotFrontage    259\n",
      "dtype: int64\n"
     ]
    }
   ],
   "source": [
    "missing_count = pd.isna(data).sum()\n",
    "print('Total data size:', data.shape[0])\n",
    "print('Missing data:', missing_count[missing_count > 0])"
   ]
  },
  {
   "cell_type": "code",
   "execution_count": 30,
   "id": "OxgXnIALr_4U",
   "metadata": {
    "executionInfo": {
     "elapsed": 15,
     "status": "ok",
     "timestamp": 1667133376886,
     "user": {
      "displayName": "Sira Sriswasdi",
      "userId": "03069351775920236110"
     },
     "user_tz": -420
    },
    "id": "OxgXnIALr_4U"
   },
   "outputs": [],
   "source": [
    "imputed_data = data.copy()\n",
    "m = imputed_data['LotFrontage'].mean()\n",
    "imputed_data['LotFrontage'] = imputed_data['LotFrontage'].fillna(int(m))"
   ]
  },
  {
   "cell_type": "markdown",
   "id": "Ruay_BozxhYq",
   "metadata": {
    "id": "Ruay_BozxhYq"
   },
   "source": [
    "แบ่งเป็น input / output"
   ]
  },
  {
   "cell_type": "code",
   "execution_count": 31,
   "id": "hlSCSuePxhpi",
   "metadata": {
    "executionInfo": {
     "elapsed": 14,
     "status": "ok",
     "timestamp": 1667133376886,
     "user": {
      "displayName": "Sira Sriswasdi",
      "userId": "03069351775920236110"
     },
     "user_tz": -420
    },
    "id": "hlSCSuePxhpi"
   },
   "outputs": [],
   "source": [
    "input_data = imputed_data.iloc[:, :-1]\n",
    "output_data = imputed_data.iloc[:, -1]"
   ]
  },
  {
   "cell_type": "markdown",
   "id": "OWopLQonw4j0",
   "metadata": {
    "id": "OWopLQonw4j0"
   },
   "source": [
    "## คำนวณ correlation"
   ]
  },
  {
   "cell_type": "code",
   "execution_count": 32,
   "id": "hhFfRGGzw417",
   "metadata": {
    "colab": {
     "base_uri": "https://localhost:8080/",
     "height": 363
    },
    "executionInfo": {
     "elapsed": 14,
     "status": "ok",
     "timestamp": 1667133376886,
     "user": {
      "displayName": "Sira Sriswasdi",
      "userId": "03069351775920236110"
     },
     "user_tz": -420
    },
    "id": "hhFfRGGzw417",
    "outputId": "597fb293-76d5-4362-f42a-5b62bfb418eb"
   },
   "outputs": [
    {
     "data": {
      "text/html": [
       "\n",
       "  <div id=\"df-a9cfabd4-7b0c-417e-8b44-82858243e8fa\">\n",
       "    <div class=\"colab-df-container\">\n",
       "      <div>\n",
       "<style scoped>\n",
       "    .dataframe tbody tr th:only-of-type {\n",
       "        vertical-align: middle;\n",
       "    }\n",
       "\n",
       "    .dataframe tbody tr th {\n",
       "        vertical-align: top;\n",
       "    }\n",
       "\n",
       "    .dataframe thead th {\n",
       "        text-align: right;\n",
       "    }\n",
       "</style>\n",
       "<table border=\"1\" class=\"dataframe\">\n",
       "  <thead>\n",
       "    <tr style=\"text-align: right;\">\n",
       "      <th></th>\n",
       "      <th>Pearson</th>\n",
       "      <th>Spearman</th>\n",
       "      <th>Kendall</th>\n",
       "    </tr>\n",
       "  </thead>\n",
       "  <tbody>\n",
       "    <tr>\n",
       "      <th>LotFrontage</th>\n",
       "      <td>0.338149</td>\n",
       "      <td>0.373547</td>\n",
       "      <td>0.265657</td>\n",
       "    </tr>\n",
       "    <tr>\n",
       "      <th>LotArea</th>\n",
       "      <td>0.269866</td>\n",
       "      <td>0.454983</td>\n",
       "      <td>0.313076</td>\n",
       "    </tr>\n",
       "    <tr>\n",
       "      <th>MasVnrArea</th>\n",
       "      <td>0.473650</td>\n",
       "      <td>0.416597</td>\n",
       "      <td>0.317771</td>\n",
       "    </tr>\n",
       "    <tr>\n",
       "      <th>BsmtFinSF1</th>\n",
       "      <td>0.395923</td>\n",
       "      <td>0.299285</td>\n",
       "      <td>0.218968</td>\n",
       "    </tr>\n",
       "    <tr>\n",
       "      <th>BsmtUnfSF</th>\n",
       "      <td>0.220678</td>\n",
       "      <td>0.184640</td>\n",
       "      <td>0.127113</td>\n",
       "    </tr>\n",
       "    <tr>\n",
       "      <th>1stFlrSF</th>\n",
       "      <td>0.625235</td>\n",
       "      <td>0.574478</td>\n",
       "      <td>0.410764</td>\n",
       "    </tr>\n",
       "    <tr>\n",
       "      <th>GrLivArea</th>\n",
       "      <td>0.720516</td>\n",
       "      <td>0.731238</td>\n",
       "      <td>0.543864</td>\n",
       "    </tr>\n",
       "    <tr>\n",
       "      <th>GarageArea</th>\n",
       "      <td>0.636964</td>\n",
       "      <td>0.649030</td>\n",
       "      <td>0.478032</td>\n",
       "    </tr>\n",
       "    <tr>\n",
       "      <th>WoodDeckSF</th>\n",
       "      <td>0.322538</td>\n",
       "      <td>0.351925</td>\n",
       "      <td>0.259093</td>\n",
       "    </tr>\n",
       "    <tr>\n",
       "      <th>OpenPorchSF</th>\n",
       "      <td>0.330361</td>\n",
       "      <td>0.477450</td>\n",
       "      <td>0.350553</td>\n",
       "    </tr>\n",
       "  </tbody>\n",
       "</table>\n",
       "</div>\n",
       "      <button class=\"colab-df-convert\" onclick=\"convertToInteractive('df-a9cfabd4-7b0c-417e-8b44-82858243e8fa')\"\n",
       "              title=\"Convert this dataframe to an interactive table.\"\n",
       "              style=\"display:none;\">\n",
       "        \n",
       "  <svg xmlns=\"http://www.w3.org/2000/svg\" height=\"24px\"viewBox=\"0 0 24 24\"\n",
       "       width=\"24px\">\n",
       "    <path d=\"M0 0h24v24H0V0z\" fill=\"none\"/>\n",
       "    <path d=\"M18.56 5.44l.94 2.06.94-2.06 2.06-.94-2.06-.94-.94-2.06-.94 2.06-2.06.94zm-11 1L8.5 8.5l.94-2.06 2.06-.94-2.06-.94L8.5 2.5l-.94 2.06-2.06.94zm10 10l.94 2.06.94-2.06 2.06-.94-2.06-.94-.94-2.06-.94 2.06-2.06.94z\"/><path d=\"M17.41 7.96l-1.37-1.37c-.4-.4-.92-.59-1.43-.59-.52 0-1.04.2-1.43.59L10.3 9.45l-7.72 7.72c-.78.78-.78 2.05 0 2.83L4 21.41c.39.39.9.59 1.41.59.51 0 1.02-.2 1.41-.59l7.78-7.78 2.81-2.81c.8-.78.8-2.07 0-2.86zM5.41 20L4 18.59l7.72-7.72 1.47 1.35L5.41 20z\"/>\n",
       "  </svg>\n",
       "      </button>\n",
       "      \n",
       "  <style>\n",
       "    .colab-df-container {\n",
       "      display:flex;\n",
       "      flex-wrap:wrap;\n",
       "      gap: 12px;\n",
       "    }\n",
       "\n",
       "    .colab-df-convert {\n",
       "      background-color: #E8F0FE;\n",
       "      border: none;\n",
       "      border-radius: 50%;\n",
       "      cursor: pointer;\n",
       "      display: none;\n",
       "      fill: #1967D2;\n",
       "      height: 32px;\n",
       "      padding: 0 0 0 0;\n",
       "      width: 32px;\n",
       "    }\n",
       "\n",
       "    .colab-df-convert:hover {\n",
       "      background-color: #E2EBFA;\n",
       "      box-shadow: 0px 1px 2px rgba(60, 64, 67, 0.3), 0px 1px 3px 1px rgba(60, 64, 67, 0.15);\n",
       "      fill: #174EA6;\n",
       "    }\n",
       "\n",
       "    [theme=dark] .colab-df-convert {\n",
       "      background-color: #3B4455;\n",
       "      fill: #D2E3FC;\n",
       "    }\n",
       "\n",
       "    [theme=dark] .colab-df-convert:hover {\n",
       "      background-color: #434B5C;\n",
       "      box-shadow: 0px 1px 3px 1px rgba(0, 0, 0, 0.15);\n",
       "      filter: drop-shadow(0px 1px 2px rgba(0, 0, 0, 0.3));\n",
       "      fill: #FFFFFF;\n",
       "    }\n",
       "  </style>\n",
       "\n",
       "      <script>\n",
       "        const buttonEl =\n",
       "          document.querySelector('#df-a9cfabd4-7b0c-417e-8b44-82858243e8fa button.colab-df-convert');\n",
       "        buttonEl.style.display =\n",
       "          google.colab.kernel.accessAllowed ? 'block' : 'none';\n",
       "\n",
       "        async function convertToInteractive(key) {\n",
       "          const element = document.querySelector('#df-a9cfabd4-7b0c-417e-8b44-82858243e8fa');\n",
       "          const dataTable =\n",
       "            await google.colab.kernel.invokeFunction('convertToInteractive',\n",
       "                                                     [key], {});\n",
       "          if (!dataTable) return;\n",
       "\n",
       "          const docLinkHtml = 'Like what you see? Visit the ' +\n",
       "            '<a target=\"_blank\" href=https://colab.research.google.com/notebooks/data_table.ipynb>data table notebook</a>'\n",
       "            + ' to learn more about interactive tables.';\n",
       "          element.innerHTML = '';\n",
       "          dataTable['output_type'] = 'display_data';\n",
       "          await google.colab.output.renderOutput(dataTable, element);\n",
       "          const docLink = document.createElement('div');\n",
       "          docLink.innerHTML = docLinkHtml;\n",
       "          element.appendChild(docLink);\n",
       "        }\n",
       "      </script>\n",
       "    </div>\n",
       "  </div>\n",
       "  "
      ],
      "text/plain": [
       "              Pearson  Spearman   Kendall\n",
       "LotFrontage  0.338149  0.373547  0.265657\n",
       "LotArea      0.269866  0.454983  0.313076\n",
       "MasVnrArea   0.473650  0.416597  0.317771\n",
       "BsmtFinSF1   0.395923  0.299285  0.218968\n",
       "BsmtUnfSF    0.220678  0.184640  0.127113\n",
       "1stFlrSF     0.625235  0.574478  0.410764\n",
       "GrLivArea    0.720516  0.731238  0.543864\n",
       "GarageArea   0.636964  0.649030  0.478032\n",
       "WoodDeckSF   0.322538  0.351925  0.259093\n",
       "OpenPorchSF  0.330361  0.477450  0.350553"
      ]
     },
     "execution_count": 32,
     "metadata": {},
     "output_type": "execute_result"
    }
   ],
   "source": [
    "correlations = pd.DataFrame(0, index = input_data.columns, columns = ['Pearson', 'Spearman', 'Kendall'])\n",
    "\n",
    "for x in input_data.columns:\n",
    "    correlations.loc[x, :] = [pearsonr(input_data[x], output_data)[0], ## ฟังก์ชันเหล่านี้จะคืนค่า correlation และ p-value \n",
    "                              spearmanr(input_data[x], output_data)[0],\n",
    "                              kendalltau(input_data[x], output_data)[0]]\n",
    "\n",
    "correlations.head(10)"
   ]
  },
  {
   "cell_type": "markdown",
   "id": "_eKvPdMVs8wz",
   "metadata": {
    "id": "_eKvPdMVs8wz"
   },
   "source": [
    "## แบ่งข้อมูลเป็น train-test และ cross-validation"
   ]
  },
  {
   "cell_type": "code",
   "execution_count": 33,
   "id": "LY6DYRyOs9Jr",
   "metadata": {
    "colab": {
     "base_uri": "https://localhost:8080/"
    },
    "executionInfo": {
     "elapsed": 11,
     "status": "ok",
     "timestamp": 1667133376886,
     "user": {
      "displayName": "Sira Sriswasdi",
      "userId": "03069351775920236110"
     },
     "user_tz": -420
    },
    "id": "LY6DYRyOs9Jr",
    "outputId": "6e537110-c080-43e4-b819-63350c487ec5"
   },
   "outputs": [
    {
     "name": "stdout",
     "output_type": "stream",
     "text": [
      "train data shape: (1164, 10)\n",
      "test data shape: (292, 10)\n"
     ]
    }
   ],
   "source": [
    "X_train, X_test, y_train, y_test = train_test_split(imputed_data.iloc[:, :-1], imputed_data.iloc[:, -1], test_size = 0.2, random_state = 4649)\n",
    "\n",
    "print('train data shape:', X_train.shape)\n",
    "print('test data shape:', X_test.shape)"
   ]
  },
  {
   "cell_type": "code",
   "execution_count": 34,
   "id": "I-4eRdCjtR-b",
   "metadata": {
    "executionInfo": {
     "elapsed": 10,
     "status": "ok",
     "timestamp": 1667133376887,
     "user": {
      "displayName": "Sira Sriswasdi",
      "userId": "03069351775920236110"
     },
     "user_tz": -420
    },
    "id": "I-4eRdCjtR-b"
   },
   "outputs": [],
   "source": [
    "X_scaler = StandardScaler().fit(X_train)\n",
    "y_scaler = StandardScaler().fit(y_train.values.reshape([-1, 1])) ## ฟังก์ชันบางตัวจะจุกจิกนิดหน่อยในเรื่อง 1D หรือ 2D array\n",
    "\n",
    "X_train_std = pd.DataFrame(X_scaler.transform(X_train), index = X_train.index, columns = X_train.columns) ## เพื่อความสะดวกในตอนวิเคราะห์ผลหลังทำโมเดล\n",
    "X_test_std = pd.DataFrame(X_scaler.transform(X_test), index = X_test.index, columns = X_test.columns)\n",
    "\n",
    "y_train_std = y_scaler.transform(y_train.values.reshape([-1, 1]))\n",
    "y_test_std = y_scaler.transform(y_test.values.reshape([-1, 1]))"
   ]
  },
  {
   "cell_type": "code",
   "execution_count": 35,
   "id": "kicUq32ktNLK",
   "metadata": {
    "executionInfo": {
     "elapsed": 9,
     "status": "ok",
     "timestamp": 1667133376887,
     "user": {
      "displayName": "Sira Sriswasdi",
      "userId": "03069351775920236110"
     },
     "user_tz": -420
    },
    "id": "kicUq32ktNLK"
   },
   "outputs": [],
   "source": [
    "cv_splitter = KFold(n_splits = 5, shuffle = True, random_state = 4649)"
   ]
  },
  {
   "cell_type": "markdown",
   "id": "PaLHxaRUsndz",
   "metadata": {
    "id": "PaLHxaRUsndz"
   },
   "source": [
    "## เทรนโมเดลด้วย LASSO และ RBF SVM\n",
    "สังเกตว่า RBF SVM จะใช้เวลาเทรนนานขึ้นมา ตามปริมาณข้อมูล"
   ]
  },
  {
   "cell_type": "code",
   "execution_count": 36,
   "id": "Rd3tJdKMsntV",
   "metadata": {
    "colab": {
     "base_uri": "https://localhost:8080/"
    },
    "executionInfo": {
     "elapsed": 106583,
     "status": "ok",
     "timestamp": 1667133483461,
     "user": {
      "displayName": "Sira Sriswasdi",
      "userId": "03069351775920236110"
     },
     "user_tz": -420
    },
    "id": "Rd3tJdKMsntV",
    "outputId": "fa791da2-5ce6-4d74-be2e-f0af8cc519f9"
   },
   "outputs": [
    {
     "data": {
      "text/plain": [
       "GridSearchCV(cv=KFold(n_splits=5, random_state=4649, shuffle=True),\n",
       "             estimator=SVR(), n_jobs=4,\n",
       "             param_grid={'C': array([1.00000000e-03, 3.16227766e-02, 1.00000000e+00, 3.16227766e+01,\n",
       "       1.00000000e+03]),\n",
       "                         'epsilon': array([0.  , 0.05, 0.1 , 0.15, 0.2 ])},\n",
       "             refit='neg_mean_absolute_error',\n",
       "             scoring=['neg_mean_absolute_error',\n",
       "                      'neg_mean_absolute_percentage_error'])"
      ]
     },
     "execution_count": 36,
     "metadata": {},
     "output_type": "execute_result"
    }
   ],
   "source": [
    "lasso_params = {'alpha': [1e-4, 1e-3, 0.01, 0.1, 1, 10]}\n",
    "grid_lasso = GridSearchCV(estimator = base_lasso, param_grid = lasso_params, \n",
    "                          scoring = ['neg_mean_absolute_error', 'neg_mean_absolute_percentage_error'], \n",
    "                          refit = 'neg_mean_absolute_error', cv = cv_splitter)\n",
    "\n",
    "grid_lasso.fit(X_train_std, y_train_std)\n",
    "\n",
    "rbf_svm_params = {'epsilon': np.arange(0, 0.21, 0.05), 'C': np.power(10, np.linspace(-3, 3, 5))}\n",
    "grid_rbf_svr = GridSearchCV(estimator = rbf_svr, param_grid = rbf_svm_params, \n",
    "                            scoring = ['neg_mean_absolute_error', 'neg_mean_absolute_percentage_error'], \n",
    "                            refit = 'neg_mean_absolute_error', cv = cv_splitter, n_jobs = 4)\n",
    "\n",
    "grid_rbf_svr.fit(X_train_std, y_train_std.reshape([-1, ]))"
   ]
  },
  {
   "cell_type": "markdown",
   "id": "oV_XJGHWvGz6",
   "metadata": {
    "id": "oV_XJGHWvGz6"
   },
   "source": [
    "### ผลของ LASSO"
   ]
  },
  {
   "cell_type": "code",
   "execution_count": 37,
   "id": "ER2IRgSmvHGz",
   "metadata": {
    "colab": {
     "base_uri": "https://localhost:8080/",
     "height": 206
    },
    "executionInfo": {
     "elapsed": 62,
     "status": "ok",
     "timestamp": 1667133483461,
     "user": {
      "displayName": "Sira Sriswasdi",
      "userId": "03069351775920236110"
     },
     "user_tz": -420
    },
    "id": "ER2IRgSmvHGz",
    "outputId": "20e91151-15e2-4da0-8570-70c6969269bb"
   },
   "outputs": [
    {
     "data": {
      "text/html": [
       "\n",
       "  <div id=\"df-30ead6bd-f68f-415d-96c3-d7a80a29a371\">\n",
       "    <div class=\"colab-df-container\">\n",
       "      <div>\n",
       "<style scoped>\n",
       "    .dataframe tbody tr th:only-of-type {\n",
       "        vertical-align: middle;\n",
       "    }\n",
       "\n",
       "    .dataframe tbody tr th {\n",
       "        vertical-align: top;\n",
       "    }\n",
       "\n",
       "    .dataframe thead th {\n",
       "        text-align: right;\n",
       "    }\n",
       "</style>\n",
       "<table border=\"1\" class=\"dataframe\">\n",
       "  <thead>\n",
       "    <tr style=\"text-align: right;\">\n",
       "      <th></th>\n",
       "      <th>params</th>\n",
       "      <th>mean_test_neg_mean_absolute_error</th>\n",
       "      <th>std_test_neg_mean_absolute_error</th>\n",
       "    </tr>\n",
       "  </thead>\n",
       "  <tbody>\n",
       "    <tr>\n",
       "      <th>2</th>\n",
       "      <td>{'alpha': 0.01}</td>\n",
       "      <td>-0.348824</td>\n",
       "      <td>0.023050</td>\n",
       "    </tr>\n",
       "    <tr>\n",
       "      <th>1</th>\n",
       "      <td>{'alpha': 0.001}</td>\n",
       "      <td>-0.349863</td>\n",
       "      <td>0.022957</td>\n",
       "    </tr>\n",
       "    <tr>\n",
       "      <th>0</th>\n",
       "      <td>{'alpha': 0.0001}</td>\n",
       "      <td>-0.350095</td>\n",
       "      <td>0.022936</td>\n",
       "    </tr>\n",
       "    <tr>\n",
       "      <th>3</th>\n",
       "      <td>{'alpha': 0.1}</td>\n",
       "      <td>-0.378600</td>\n",
       "      <td>0.029744</td>\n",
       "    </tr>\n",
       "    <tr>\n",
       "      <th>4</th>\n",
       "      <td>{'alpha': 1}</td>\n",
       "      <td>-0.741870</td>\n",
       "      <td>0.038814</td>\n",
       "    </tr>\n",
       "  </tbody>\n",
       "</table>\n",
       "</div>\n",
       "      <button class=\"colab-df-convert\" onclick=\"convertToInteractive('df-30ead6bd-f68f-415d-96c3-d7a80a29a371')\"\n",
       "              title=\"Convert this dataframe to an interactive table.\"\n",
       "              style=\"display:none;\">\n",
       "        \n",
       "  <svg xmlns=\"http://www.w3.org/2000/svg\" height=\"24px\"viewBox=\"0 0 24 24\"\n",
       "       width=\"24px\">\n",
       "    <path d=\"M0 0h24v24H0V0z\" fill=\"none\"/>\n",
       "    <path d=\"M18.56 5.44l.94 2.06.94-2.06 2.06-.94-2.06-.94-.94-2.06-.94 2.06-2.06.94zm-11 1L8.5 8.5l.94-2.06 2.06-.94-2.06-.94L8.5 2.5l-.94 2.06-2.06.94zm10 10l.94 2.06.94-2.06 2.06-.94-2.06-.94-.94-2.06-.94 2.06-2.06.94z\"/><path d=\"M17.41 7.96l-1.37-1.37c-.4-.4-.92-.59-1.43-.59-.52 0-1.04.2-1.43.59L10.3 9.45l-7.72 7.72c-.78.78-.78 2.05 0 2.83L4 21.41c.39.39.9.59 1.41.59.51 0 1.02-.2 1.41-.59l7.78-7.78 2.81-2.81c.8-.78.8-2.07 0-2.86zM5.41 20L4 18.59l7.72-7.72 1.47 1.35L5.41 20z\"/>\n",
       "  </svg>\n",
       "      </button>\n",
       "      \n",
       "  <style>\n",
       "    .colab-df-container {\n",
       "      display:flex;\n",
       "      flex-wrap:wrap;\n",
       "      gap: 12px;\n",
       "    }\n",
       "\n",
       "    .colab-df-convert {\n",
       "      background-color: #E8F0FE;\n",
       "      border: none;\n",
       "      border-radius: 50%;\n",
       "      cursor: pointer;\n",
       "      display: none;\n",
       "      fill: #1967D2;\n",
       "      height: 32px;\n",
       "      padding: 0 0 0 0;\n",
       "      width: 32px;\n",
       "    }\n",
       "\n",
       "    .colab-df-convert:hover {\n",
       "      background-color: #E2EBFA;\n",
       "      box-shadow: 0px 1px 2px rgba(60, 64, 67, 0.3), 0px 1px 3px 1px rgba(60, 64, 67, 0.15);\n",
       "      fill: #174EA6;\n",
       "    }\n",
       "\n",
       "    [theme=dark] .colab-df-convert {\n",
       "      background-color: #3B4455;\n",
       "      fill: #D2E3FC;\n",
       "    }\n",
       "\n",
       "    [theme=dark] .colab-df-convert:hover {\n",
       "      background-color: #434B5C;\n",
       "      box-shadow: 0px 1px 3px 1px rgba(0, 0, 0, 0.15);\n",
       "      filter: drop-shadow(0px 1px 2px rgba(0, 0, 0, 0.3));\n",
       "      fill: #FFFFFF;\n",
       "    }\n",
       "  </style>\n",
       "\n",
       "      <script>\n",
       "        const buttonEl =\n",
       "          document.querySelector('#df-30ead6bd-f68f-415d-96c3-d7a80a29a371 button.colab-df-convert');\n",
       "        buttonEl.style.display =\n",
       "          google.colab.kernel.accessAllowed ? 'block' : 'none';\n",
       "\n",
       "        async function convertToInteractive(key) {\n",
       "          const element = document.querySelector('#df-30ead6bd-f68f-415d-96c3-d7a80a29a371');\n",
       "          const dataTable =\n",
       "            await google.colab.kernel.invokeFunction('convertToInteractive',\n",
       "                                                     [key], {});\n",
       "          if (!dataTable) return;\n",
       "\n",
       "          const docLinkHtml = 'Like what you see? Visit the ' +\n",
       "            '<a target=\"_blank\" href=https://colab.research.google.com/notebooks/data_table.ipynb>data table notebook</a>'\n",
       "            + ' to learn more about interactive tables.';\n",
       "          element.innerHTML = '';\n",
       "          dataTable['output_type'] = 'display_data';\n",
       "          await google.colab.output.renderOutput(dataTable, element);\n",
       "          const docLink = document.createElement('div');\n",
       "          docLink.innerHTML = docLinkHtml;\n",
       "          element.appendChild(docLink);\n",
       "        }\n",
       "      </script>\n",
       "    </div>\n",
       "  </div>\n",
       "  "
      ],
      "text/plain": [
       "              params  mean_test_neg_mean_absolute_error  \\\n",
       "2    {'alpha': 0.01}                          -0.348824   \n",
       "1   {'alpha': 0.001}                          -0.349863   \n",
       "0  {'alpha': 0.0001}                          -0.350095   \n",
       "3     {'alpha': 0.1}                          -0.378600   \n",
       "4       {'alpha': 1}                          -0.741870   \n",
       "\n",
       "   std_test_neg_mean_absolute_error  \n",
       "2                          0.023050  \n",
       "1                          0.022957  \n",
       "0                          0.022936  \n",
       "3                          0.029744  \n",
       "4                          0.038814  "
      ]
     },
     "execution_count": 37,
     "metadata": {},
     "output_type": "execute_result"
    }
   ],
   "source": [
    "grid_lasso_result = pd.DataFrame.from_dict(grid_lasso.cv_results_)\n",
    "grid_lasso_result = grid_lasso_result.sort_values('rank_test_neg_mean_absolute_error')\n",
    "grid_lasso_result[['params', 'mean_test_neg_mean_absolute_error', 'std_test_neg_mean_absolute_error']].head(5)"
   ]
  },
  {
   "cell_type": "markdown",
   "id": "zuqQE5WFuiu7",
   "metadata": {
    "id": "zuqQE5WFuiu7"
   },
   "source": [
    "### ผลของ RBF SVM"
   ]
  },
  {
   "cell_type": "code",
   "execution_count": 38,
   "id": "RhbmJNs5ujFr",
   "metadata": {
    "colab": {
     "base_uri": "https://localhost:8080/",
     "height": 206
    },
    "executionInfo": {
     "elapsed": 58,
     "status": "ok",
     "timestamp": 1667133483462,
     "user": {
      "displayName": "Sira Sriswasdi",
      "userId": "03069351775920236110"
     },
     "user_tz": -420
    },
    "id": "RhbmJNs5ujFr",
    "outputId": "bb8b8116-42e5-4d3f-8094-980dce998ada"
   },
   "outputs": [
    {
     "data": {
      "text/html": [
       "\n",
       "  <div id=\"df-0e9ada3d-da68-4af8-864c-29269e94f6a0\">\n",
       "    <div class=\"colab-df-container\">\n",
       "      <div>\n",
       "<style scoped>\n",
       "    .dataframe tbody tr th:only-of-type {\n",
       "        vertical-align: middle;\n",
       "    }\n",
       "\n",
       "    .dataframe tbody tr th {\n",
       "        vertical-align: top;\n",
       "    }\n",
       "\n",
       "    .dataframe thead th {\n",
       "        text-align: right;\n",
       "    }\n",
       "</style>\n",
       "<table border=\"1\" class=\"dataframe\">\n",
       "  <thead>\n",
       "    <tr style=\"text-align: right;\">\n",
       "      <th></th>\n",
       "      <th>params</th>\n",
       "      <th>mean_test_neg_mean_absolute_error</th>\n",
       "      <th>std_test_neg_mean_absolute_error</th>\n",
       "    </tr>\n",
       "  </thead>\n",
       "  <tbody>\n",
       "    <tr>\n",
       "      <th>12</th>\n",
       "      <td>{'C': 1.0, 'epsilon': 0.1}</td>\n",
       "      <td>-0.321884</td>\n",
       "      <td>0.025337</td>\n",
       "    </tr>\n",
       "    <tr>\n",
       "      <th>13</th>\n",
       "      <td>{'C': 1.0, 'epsilon': 0.15000000000000002}</td>\n",
       "      <td>-0.322806</td>\n",
       "      <td>0.024922</td>\n",
       "    </tr>\n",
       "    <tr>\n",
       "      <th>11</th>\n",
       "      <td>{'C': 1.0, 'epsilon': 0.05}</td>\n",
       "      <td>-0.324270</td>\n",
       "      <td>0.025056</td>\n",
       "    </tr>\n",
       "    <tr>\n",
       "      <th>14</th>\n",
       "      <td>{'C': 1.0, 'epsilon': 0.2}</td>\n",
       "      <td>-0.325986</td>\n",
       "      <td>0.023516</td>\n",
       "    </tr>\n",
       "    <tr>\n",
       "      <th>10</th>\n",
       "      <td>{'C': 1.0, 'epsilon': 0.0}</td>\n",
       "      <td>-0.326579</td>\n",
       "      <td>0.025635</td>\n",
       "    </tr>\n",
       "  </tbody>\n",
       "</table>\n",
       "</div>\n",
       "      <button class=\"colab-df-convert\" onclick=\"convertToInteractive('df-0e9ada3d-da68-4af8-864c-29269e94f6a0')\"\n",
       "              title=\"Convert this dataframe to an interactive table.\"\n",
       "              style=\"display:none;\">\n",
       "        \n",
       "  <svg xmlns=\"http://www.w3.org/2000/svg\" height=\"24px\"viewBox=\"0 0 24 24\"\n",
       "       width=\"24px\">\n",
       "    <path d=\"M0 0h24v24H0V0z\" fill=\"none\"/>\n",
       "    <path d=\"M18.56 5.44l.94 2.06.94-2.06 2.06-.94-2.06-.94-.94-2.06-.94 2.06-2.06.94zm-11 1L8.5 8.5l.94-2.06 2.06-.94-2.06-.94L8.5 2.5l-.94 2.06-2.06.94zm10 10l.94 2.06.94-2.06 2.06-.94-2.06-.94-.94-2.06-.94 2.06-2.06.94z\"/><path d=\"M17.41 7.96l-1.37-1.37c-.4-.4-.92-.59-1.43-.59-.52 0-1.04.2-1.43.59L10.3 9.45l-7.72 7.72c-.78.78-.78 2.05 0 2.83L4 21.41c.39.39.9.59 1.41.59.51 0 1.02-.2 1.41-.59l7.78-7.78 2.81-2.81c.8-.78.8-2.07 0-2.86zM5.41 20L4 18.59l7.72-7.72 1.47 1.35L5.41 20z\"/>\n",
       "  </svg>\n",
       "      </button>\n",
       "      \n",
       "  <style>\n",
       "    .colab-df-container {\n",
       "      display:flex;\n",
       "      flex-wrap:wrap;\n",
       "      gap: 12px;\n",
       "    }\n",
       "\n",
       "    .colab-df-convert {\n",
       "      background-color: #E8F0FE;\n",
       "      border: none;\n",
       "      border-radius: 50%;\n",
       "      cursor: pointer;\n",
       "      display: none;\n",
       "      fill: #1967D2;\n",
       "      height: 32px;\n",
       "      padding: 0 0 0 0;\n",
       "      width: 32px;\n",
       "    }\n",
       "\n",
       "    .colab-df-convert:hover {\n",
       "      background-color: #E2EBFA;\n",
       "      box-shadow: 0px 1px 2px rgba(60, 64, 67, 0.3), 0px 1px 3px 1px rgba(60, 64, 67, 0.15);\n",
       "      fill: #174EA6;\n",
       "    }\n",
       "\n",
       "    [theme=dark] .colab-df-convert {\n",
       "      background-color: #3B4455;\n",
       "      fill: #D2E3FC;\n",
       "    }\n",
       "\n",
       "    [theme=dark] .colab-df-convert:hover {\n",
       "      background-color: #434B5C;\n",
       "      box-shadow: 0px 1px 3px 1px rgba(0, 0, 0, 0.15);\n",
       "      filter: drop-shadow(0px 1px 2px rgba(0, 0, 0, 0.3));\n",
       "      fill: #FFFFFF;\n",
       "    }\n",
       "  </style>\n",
       "\n",
       "      <script>\n",
       "        const buttonEl =\n",
       "          document.querySelector('#df-0e9ada3d-da68-4af8-864c-29269e94f6a0 button.colab-df-convert');\n",
       "        buttonEl.style.display =\n",
       "          google.colab.kernel.accessAllowed ? 'block' : 'none';\n",
       "\n",
       "        async function convertToInteractive(key) {\n",
       "          const element = document.querySelector('#df-0e9ada3d-da68-4af8-864c-29269e94f6a0');\n",
       "          const dataTable =\n",
       "            await google.colab.kernel.invokeFunction('convertToInteractive',\n",
       "                                                     [key], {});\n",
       "          if (!dataTable) return;\n",
       "\n",
       "          const docLinkHtml = 'Like what you see? Visit the ' +\n",
       "            '<a target=\"_blank\" href=https://colab.research.google.com/notebooks/data_table.ipynb>data table notebook</a>'\n",
       "            + ' to learn more about interactive tables.';\n",
       "          element.innerHTML = '';\n",
       "          dataTable['output_type'] = 'display_data';\n",
       "          await google.colab.output.renderOutput(dataTable, element);\n",
       "          const docLink = document.createElement('div');\n",
       "          docLink.innerHTML = docLinkHtml;\n",
       "          element.appendChild(docLink);\n",
       "        }\n",
       "      </script>\n",
       "    </div>\n",
       "  </div>\n",
       "  "
      ],
      "text/plain": [
       "                                        params  \\\n",
       "12                  {'C': 1.0, 'epsilon': 0.1}   \n",
       "13  {'C': 1.0, 'epsilon': 0.15000000000000002}   \n",
       "11                 {'C': 1.0, 'epsilon': 0.05}   \n",
       "14                  {'C': 1.0, 'epsilon': 0.2}   \n",
       "10                  {'C': 1.0, 'epsilon': 0.0}   \n",
       "\n",
       "    mean_test_neg_mean_absolute_error  std_test_neg_mean_absolute_error  \n",
       "12                          -0.321884                          0.025337  \n",
       "13                          -0.322806                          0.024922  \n",
       "11                          -0.324270                          0.025056  \n",
       "14                          -0.325986                          0.023516  \n",
       "10                          -0.326579                          0.025635  "
      ]
     },
     "execution_count": 38,
     "metadata": {},
     "output_type": "execute_result"
    }
   ],
   "source": [
    "grid_rbf_svr_result = pd.DataFrame.from_dict(grid_rbf_svr.cv_results_)\n",
    "grid_rbf_svr_result = grid_rbf_svr_result.sort_values('rank_test_neg_mean_absolute_error')\n",
    "grid_rbf_svr_result[['params', 'mean_test_neg_mean_absolute_error', 'std_test_neg_mean_absolute_error']].head(5)"
   ]
  },
  {
   "cell_type": "markdown",
   "id": "AYDI7WyT3wJ4",
   "metadata": {
    "id": "AYDI7WyT3wJ4"
   },
   "source": [
    "## แสดงผลการทำนายบน test set"
   ]
  },
  {
   "cell_type": "code",
   "execution_count": 39,
   "id": "ke1t3kgRwV1i",
   "metadata": {
    "executionInfo": {
     "elapsed": 53,
     "status": "ok",
     "timestamp": 1667133483462,
     "user": {
      "displayName": "Sira Sriswasdi",
      "userId": "03069351775920236110"
     },
     "user_tz": -420
    },
    "id": "ke1t3kgRwV1i"
   },
   "outputs": [],
   "source": [
    "grid_lasso_pred_test = grid_lasso.predict(X_test_std)\n",
    "grid_rbf_svr_pred_test = grid_rbf_svr.predict(X_test_std)"
   ]
  },
  {
   "cell_type": "code",
   "execution_count": 40,
   "id": "8nfqUwWkv93C",
   "metadata": {
    "colab": {
     "base_uri": "https://localhost:8080/",
     "height": 297
    },
    "executionInfo": {
     "elapsed": 54,
     "status": "ok",
     "timestamp": 1667133483464,
     "user": {
      "displayName": "Sira Sriswasdi",
      "userId": "03069351775920236110"
     },
     "user_tz": -420
    },
    "id": "8nfqUwWkv93C",
    "outputId": "200a92be-b80c-47de-c96d-e12e399a1485"
   },
   "outputs": [
    {
     "data": {
      "image/png": "[encoded data removed]",
      "text/plain": [
       "<Figure size 576x288 with 2 Axes>"
      ]
     },
     "metadata": {
      "needs_background": "light"
     },
     "output_type": "display_data"
    }
   ],
   "source": [
    "plt.figure(figsize = (8, 4))\n",
    "\n",
    "plt.subplot(1, 2, 1)\n",
    "plt.scatter(y_test_std, grid_lasso_pred_test); plt.xlabel('Standardized y_true'); plt.ylabel('Prediction'); plt.title('Tuned LASSO')\n",
    "plt.plot([y_test_std.min(), y_test_std.max()], [y_test_std.min(), y_test_std.max()], '--k')\n",
    "\n",
    "plt.subplot(1, 2, 2)\n",
    "plt.scatter(y_test_std, grid_rbf_svr_pred_test); plt.xlabel('Standardized y_true'); plt.ylabel('Prediction'); plt.title('Tuned RBF SVM')\n",
    "plt.plot([y_test_std.min(), y_test_std.max()], [y_test_std.min(), y_test_std.max()], '--k')\n",
    "\n",
    "plt.tight_layout()\n",
    "plt.show()"
   ]
  },
  {
   "cell_type": "markdown",
   "id": "JOgdm68vdSy6",
   "metadata": {
    "id": "JOgdm68vdSy6"
   },
   "source": [
    "## ดูสัมประสิทธ์ของโมเดล LASSO เทียบกับ correlation ที่คำนวณไว้ "
   ]
  },
  {
   "cell_type": "code",
   "execution_count": 41,
   "id": "1WoL-aF_dTCa",
   "metadata": {
    "colab": {
     "base_uri": "https://localhost:8080/",
     "height": 363
    },
    "executionInfo": {
     "elapsed": 852,
     "status": "ok",
     "timestamp": 1667133484264,
     "user": {
      "displayName": "Sira Sriswasdi",
      "userId": "03069351775920236110"
     },
     "user_tz": -420
    },
    "id": "1WoL-aF_dTCa",
    "outputId": "df490f29-5a42-4a32-a4db-c8ad367545b7"
   },
   "outputs": [
    {
     "data": {
      "text/html": [
       "\n",
       "  <div id=\"df-20c8593a-b26a-4ed0-a766-96a5ad131b56\">\n",
       "    <div class=\"colab-df-container\">\n",
       "      <div>\n",
       "<style scoped>\n",
       "    .dataframe tbody tr th:only-of-type {\n",
       "        vertical-align: middle;\n",
       "    }\n",
       "\n",
       "    .dataframe tbody tr th {\n",
       "        vertical-align: top;\n",
       "    }\n",
       "\n",
       "    .dataframe thead th {\n",
       "        text-align: right;\n",
       "    }\n",
       "</style>\n",
       "<table border=\"1\" class=\"dataframe\">\n",
       "  <thead>\n",
       "    <tr style=\"text-align: right;\">\n",
       "      <th></th>\n",
       "      <th>LASSO coefficient</th>\n",
       "      <th>Pearson</th>\n",
       "      <th>Spearman</th>\n",
       "      <th>Kendall</th>\n",
       "    </tr>\n",
       "  </thead>\n",
       "  <tbody>\n",
       "    <tr>\n",
       "      <th>LotFrontage</th>\n",
       "      <td>0.021069</td>\n",
       "      <td>0.338149</td>\n",
       "      <td>0.373547</td>\n",
       "      <td>0.265657</td>\n",
       "    </tr>\n",
       "    <tr>\n",
       "      <th>LotArea</th>\n",
       "      <td>0.037054</td>\n",
       "      <td>0.269866</td>\n",
       "      <td>0.454983</td>\n",
       "      <td>0.313076</td>\n",
       "    </tr>\n",
       "    <tr>\n",
       "      <th>MasVnrArea</th>\n",
       "      <td>0.116549</td>\n",
       "      <td>0.473650</td>\n",
       "      <td>0.416597</td>\n",
       "      <td>0.317771</td>\n",
       "    </tr>\n",
       "    <tr>\n",
       "      <th>BsmtFinSF1</th>\n",
       "      <td>0.336151</td>\n",
       "      <td>0.395923</td>\n",
       "      <td>0.299285</td>\n",
       "      <td>0.218968</td>\n",
       "    </tr>\n",
       "    <tr>\n",
       "      <th>BsmtUnfSF</th>\n",
       "      <td>0.213153</td>\n",
       "      <td>0.220678</td>\n",
       "      <td>0.184640</td>\n",
       "      <td>0.127113</td>\n",
       "    </tr>\n",
       "    <tr>\n",
       "      <th>1stFlrSF</th>\n",
       "      <td>0.014376</td>\n",
       "      <td>0.625235</td>\n",
       "      <td>0.574478</td>\n",
       "      <td>0.410764</td>\n",
       "    </tr>\n",
       "    <tr>\n",
       "      <th>GrLivArea</th>\n",
       "      <td>0.421389</td>\n",
       "      <td>0.720516</td>\n",
       "      <td>0.731238</td>\n",
       "      <td>0.543864</td>\n",
       "    </tr>\n",
       "    <tr>\n",
       "      <th>GarageArea</th>\n",
       "      <td>0.214996</td>\n",
       "      <td>0.636964</td>\n",
       "      <td>0.649030</td>\n",
       "      <td>0.478032</td>\n",
       "    </tr>\n",
       "    <tr>\n",
       "      <th>WoodDeckSF</th>\n",
       "      <td>0.058800</td>\n",
       "      <td>0.322538</td>\n",
       "      <td>0.351925</td>\n",
       "      <td>0.259093</td>\n",
       "    </tr>\n",
       "    <tr>\n",
       "      <th>OpenPorchSF</th>\n",
       "      <td>0.062311</td>\n",
       "      <td>0.330361</td>\n",
       "      <td>0.477450</td>\n",
       "      <td>0.350553</td>\n",
       "    </tr>\n",
       "  </tbody>\n",
       "</table>\n",
       "</div>\n",
       "      <button class=\"colab-df-convert\" onclick=\"convertToInteractive('df-20c8593a-b26a-4ed0-a766-96a5ad131b56')\"\n",
       "              title=\"Convert this dataframe to an interactive table.\"\n",
       "              style=\"display:none;\">\n",
       "        \n",
       "  <svg xmlns=\"http://www.w3.org/2000/svg\" height=\"24px\"viewBox=\"0 0 24 24\"\n",
       "       width=\"24px\">\n",
       "    <path d=\"M0 0h24v24H0V0z\" fill=\"none\"/>\n",
       "    <path d=\"M18.56 5.44l.94 2.06.94-2.06 2.06-.94-2.06-.94-.94-2.06-.94 2.06-2.06.94zm-11 1L8.5 8.5l.94-2.06 2.06-.94-2.06-.94L8.5 2.5l-.94 2.06-2.06.94zm10 10l.94 2.06.94-2.06 2.06-.94-2.06-.94-.94-2.06-.94 2.06-2.06.94z\"/><path d=\"M17.41 7.96l-1.37-1.37c-.4-.4-.92-.59-1.43-.59-.52 0-1.04.2-1.43.59L10.3 9.45l-7.72 7.72c-.78.78-.78 2.05 0 2.83L4 21.41c.39.39.9.59 1.41.59.51 0 1.02-.2 1.41-.59l7.78-7.78 2.81-2.81c.8-.78.8-2.07 0-2.86zM5.41 20L4 18.59l7.72-7.72 1.47 1.35L5.41 20z\"/>\n",
       "  </svg>\n",
       "      </button>\n",
       "      \n",
       "  <style>\n",
       "    .colab-df-container {\n",
       "      display:flex;\n",
       "      flex-wrap:wrap;\n",
       "      gap: 12px;\n",
       "    }\n",
       "\n",
       "    .colab-df-convert {\n",
       "      background-color: #E8F0FE;\n",
       "      border: none;\n",
       "      border-radius: 50%;\n",
       "      cursor: pointer;\n",
       "      display: none;\n",
       "      fill: #1967D2;\n",
       "      height: 32px;\n",
       "      padding: 0 0 0 0;\n",
       "      width: 32px;\n",
       "    }\n",
       "\n",
       "    .colab-df-convert:hover {\n",
       "      background-color: #E2EBFA;\n",
       "      box-shadow: 0px 1px 2px rgba(60, 64, 67, 0.3), 0px 1px 3px 1px rgba(60, 64, 67, 0.15);\n",
       "      fill: #174EA6;\n",
       "    }\n",
       "\n",
       "    [theme=dark] .colab-df-convert {\n",
       "      background-color: #3B4455;\n",
       "      fill: #D2E3FC;\n",
       "    }\n",
       "\n",
       "    [theme=dark] .colab-df-convert:hover {\n",
       "      background-color: #434B5C;\n",
       "      box-shadow: 0px 1px 3px 1px rgba(0, 0, 0, 0.15);\n",
       "      filter: drop-shadow(0px 1px 2px rgba(0, 0, 0, 0.3));\n",
       "      fill: #FFFFFF;\n",
       "    }\n",
       "  </style>\n",
       "\n",
       "      <script>\n",
       "        const buttonEl =\n",
       "          document.querySelector('#df-20c8593a-b26a-4ed0-a766-96a5ad131b56 button.colab-df-convert');\n",
       "        buttonEl.style.display =\n",
       "          google.colab.kernel.accessAllowed ? 'block' : 'none';\n",
       "\n",
       "        async function convertToInteractive(key) {\n",
       "          const element = document.querySelector('#df-20c8593a-b26a-4ed0-a766-96a5ad131b56');\n",
       "          const dataTable =\n",
       "            await google.colab.kernel.invokeFunction('convertToInteractive',\n",
       "                                                     [key], {});\n",
       "          if (!dataTable) return;\n",
       "\n",
       "          const docLinkHtml = 'Like what you see? Visit the ' +\n",
       "            '<a target=\"_blank\" href=https://colab.research.google.com/notebooks/data_table.ipynb>data table notebook</a>'\n",
       "            + ' to learn more about interactive tables.';\n",
       "          element.innerHTML = '';\n",
       "          dataTable['output_type'] = 'display_data';\n",
       "          await google.colab.output.renderOutput(dataTable, element);\n",
       "          const docLink = document.createElement('div');\n",
       "          docLink.innerHTML = docLinkHtml;\n",
       "          element.appendChild(docLink);\n",
       "        }\n",
       "      </script>\n",
       "    </div>\n",
       "  </div>\n",
       "  "
      ],
      "text/plain": [
       "             LASSO coefficient   Pearson  Spearman   Kendall\n",
       "LotFrontage           0.021069  0.338149  0.373547  0.265657\n",
       "LotArea               0.037054  0.269866  0.454983  0.313076\n",
       "MasVnrArea            0.116549  0.473650  0.416597  0.317771\n",
       "BsmtFinSF1            0.336151  0.395923  0.299285  0.218968\n",
       "BsmtUnfSF             0.213153  0.220678  0.184640  0.127113\n",
       "1stFlrSF              0.014376  0.625235  0.574478  0.410764\n",
       "GrLivArea             0.421389  0.720516  0.731238  0.543864\n",
       "GarageArea            0.214996  0.636964  0.649030  0.478032\n",
       "WoodDeckSF            0.058800  0.322538  0.351925  0.259093\n",
       "OpenPorchSF           0.062311  0.330361  0.477450  0.350553"
      ]
     },
     "execution_count": 41,
     "metadata": {},
     "output_type": "execute_result"
    }
   ],
   "source": [
    "lasso_coefficients = grid_lasso.best_estimator_.coef_\n",
    "lasso_coefficients = pd.DataFrame(lasso_coefficients, index = input_data.columns, columns = ['LASSO coefficient'])\n",
    "\n",
    "pd.concat([lasso_coefficients, correlations], axis = 1).head(20)"
   ]
  },
  {
   "cell_type": "code",
   "execution_count": 42,
   "id": "wyzciyf-eKjK",
   "metadata": {
    "colab": {
     "base_uri": "https://localhost:8080/",
     "height": 334
    },
    "executionInfo": {
     "elapsed": 864,
     "status": "ok",
     "timestamp": 1667133484281,
     "user": {
      "displayName": "Sira Sriswasdi",
      "userId": "03069351775920236110"
     },
     "user_tz": -420
    },
    "id": "wyzciyf-eKjK",
    "outputId": "8466ab05-74bd-42ee-bece-904490bdb946"
   },
   "outputs": [
    {
     "data": {
      "image/png": "[encoded data removed]",
      "text/plain": [
       "<Figure size 360x360 with 1 Axes>"
      ]
     },
     "metadata": {
      "needs_background": "light"
     },
     "output_type": "display_data"
    }
   ],
   "source": [
    "plt.figure(figsize = (5, 5))\n",
    "plt.scatter(correlations['Pearson'], lasso_coefficients)\n",
    "plt.xlabel('Pearson correlation'); plt.ylabel('LASSO coefficient')\n",
    "plt.show()"
   ]
  },
  {
   "cell_type": "markdown",
   "id": "Aa_rCjY3ej_S",
   "metadata": {
    "id": "Aa_rCjY3ej_S"
   },
   "source": [
    "ตัวแปรบางตัวมี correlation กับผลเฉลย แต่โมเดล LASSO ไม่สนใจ เช่น **1stFlrSF**\n",
    "\n",
    "เมื่อเราคำนวณ correlation ระหว่างตัวแปรด้วยกันเอง จะพบว่า **1stFlrSF** มีความสัมพันธ์กับ **GrLivArea** และ **GarageArea** สูง\n",
    "\n",
    "LASSO อาศัยข้อมูลผ่านตัวแปร **GrLivArea** และ **GarageArea** ไปแล้ว จึงไม่ให้ความสำคัญกับ **1stFlrSF** "
   ]
  },
  {
   "cell_type": "code",
   "execution_count": 43,
   "id": "xNSJsj-8ekRy",
   "metadata": {
    "colab": {
     "base_uri": "https://localhost:8080/",
     "height": 376
    },
    "executionInfo": {
     "elapsed": 61,
     "status": "ok",
     "timestamp": 1667133484282,
     "user": {
      "displayName": "Sira Sriswasdi",
      "userId": "03069351775920236110"
     },
     "user_tz": -420
    },
    "id": "xNSJsj-8ekRy",
    "outputId": "71ee73f5-6741-40fa-9f46-de697246b4a8"
   },
   "outputs": [
    {
     "data": {
      "image/png": "[encoded data removed]",
      "text/plain": [
       "<Figure size 432x360 with 2 Axes>"
      ]
     },
     "metadata": {
      "needs_background": "light"
     },
     "output_type": "display_data"
    }
   ],
   "source": [
    "corr_mat = np.corrcoef(input_data.T)\n",
    "corr_mat = pd.DataFrame(corr_mat, index = input_data.columns, columns = input_data.columns)\n",
    "\n",
    "plt.figure(figsize = (6, 5))\n",
    "sns.heatmap(corr_mat, center = 0, vmin = -0.5, vmax = 0.5)\n",
    "plt.show()"
   ]
  },
  {
   "cell_type": "markdown",
   "id": "fIKF1o424jhy",
   "metadata": {
    "id": "fIKF1o424jhy"
   },
   "source": [
    "# ข้อมูลชุดที่ 3 ทำนายกลุ่มลูกค้า\n",
    "เป็นข้อมูลการทำนายกลุ่มลูกค้า (Customer segmentation) โดยอาศัยข้อมูลส่วนตัว เช่น เพศ อายุ สถานะสมรส อาชีพ เป็นต้น"
   ]
  },
  {
   "cell_type": "code",
   "execution_count": 44,
   "id": "yLSDc7i74jy4",
   "metadata": {
    "colab": {
     "base_uri": "https://localhost:8080/",
     "height": 238
    },
    "executionInfo": {
     "elapsed": 58,
     "status": "ok",
     "timestamp": 1667133484282,
     "user": {
      "displayName": "Sira Sriswasdi",
      "userId": "03069351775920236110"
     },
     "user_tz": -420
    },
    "id": "yLSDc7i74jy4",
    "outputId": "84497112-369c-4af7-a6b6-d6e37e8ccb92"
   },
   "outputs": [
    {
     "data": {
      "text/html": [
       "\n",
       "  <div id=\"df-299d70da-c5ba-42c0-b649-3a39505b325c\">\n",
       "    <div class=\"colab-df-container\">\n",
       "      <div>\n",
       "<style scoped>\n",
       "    .dataframe tbody tr th:only-of-type {\n",
       "        vertical-align: middle;\n",
       "    }\n",
       "\n",
       "    .dataframe tbody tr th {\n",
       "        vertical-align: top;\n",
       "    }\n",
       "\n",
       "    .dataframe thead th {\n",
       "        text-align: right;\n",
       "    }\n",
       "</style>\n",
       "<table border=\"1\" class=\"dataframe\">\n",
       "  <thead>\n",
       "    <tr style=\"text-align: right;\">\n",
       "      <th></th>\n",
       "      <th>Gender</th>\n",
       "      <th>Ever_Married</th>\n",
       "      <th>Age</th>\n",
       "      <th>Graduated</th>\n",
       "      <th>Profession</th>\n",
       "      <th>Work_Experience</th>\n",
       "      <th>Spending_Score</th>\n",
       "      <th>Family_Size</th>\n",
       "      <th>Var_1</th>\n",
       "      <th>Segmentation</th>\n",
       "    </tr>\n",
       "    <tr>\n",
       "      <th>ID</th>\n",
       "      <th></th>\n",
       "      <th></th>\n",
       "      <th></th>\n",
       "      <th></th>\n",
       "      <th></th>\n",
       "      <th></th>\n",
       "      <th></th>\n",
       "      <th></th>\n",
       "      <th></th>\n",
       "      <th></th>\n",
       "    </tr>\n",
       "  </thead>\n",
       "  <tbody>\n",
       "    <tr>\n",
       "      <th>462809</th>\n",
       "      <td>Male</td>\n",
       "      <td>No</td>\n",
       "      <td>22</td>\n",
       "      <td>No</td>\n",
       "      <td>Healthcare</td>\n",
       "      <td>1.0</td>\n",
       "      <td>Low</td>\n",
       "      <td>4.0</td>\n",
       "      <td>Cat_4</td>\n",
       "      <td>D</td>\n",
       "    </tr>\n",
       "    <tr>\n",
       "      <th>462643</th>\n",
       "      <td>Female</td>\n",
       "      <td>Yes</td>\n",
       "      <td>38</td>\n",
       "      <td>Yes</td>\n",
       "      <td>Engineer</td>\n",
       "      <td>NaN</td>\n",
       "      <td>Average</td>\n",
       "      <td>3.0</td>\n",
       "      <td>Cat_4</td>\n",
       "      <td>A</td>\n",
       "    </tr>\n",
       "    <tr>\n",
       "      <th>466315</th>\n",
       "      <td>Female</td>\n",
       "      <td>Yes</td>\n",
       "      <td>67</td>\n",
       "      <td>Yes</td>\n",
       "      <td>Engineer</td>\n",
       "      <td>1.0</td>\n",
       "      <td>Low</td>\n",
       "      <td>1.0</td>\n",
       "      <td>Cat_6</td>\n",
       "      <td>B</td>\n",
       "    </tr>\n",
       "    <tr>\n",
       "      <th>461735</th>\n",
       "      <td>Male</td>\n",
       "      <td>Yes</td>\n",
       "      <td>67</td>\n",
       "      <td>Yes</td>\n",
       "      <td>Lawyer</td>\n",
       "      <td>0.0</td>\n",
       "      <td>High</td>\n",
       "      <td>2.0</td>\n",
       "      <td>Cat_6</td>\n",
       "      <td>B</td>\n",
       "    </tr>\n",
       "    <tr>\n",
       "      <th>462669</th>\n",
       "      <td>Female</td>\n",
       "      <td>Yes</td>\n",
       "      <td>40</td>\n",
       "      <td>Yes</td>\n",
       "      <td>Entertainment</td>\n",
       "      <td>NaN</td>\n",
       "      <td>High</td>\n",
       "      <td>6.0</td>\n",
       "      <td>Cat_6</td>\n",
       "      <td>A</td>\n",
       "    </tr>\n",
       "  </tbody>\n",
       "</table>\n",
       "</div>\n",
       "      <button class=\"colab-df-convert\" onclick=\"convertToInteractive('df-299d70da-c5ba-42c0-b649-3a39505b325c')\"\n",
       "              title=\"Convert this dataframe to an interactive table.\"\n",
       "              style=\"display:none;\">\n",
       "        \n",
       "  <svg xmlns=\"http://www.w3.org/2000/svg\" height=\"24px\"viewBox=\"0 0 24 24\"\n",
       "       width=\"24px\">\n",
       "    <path d=\"M0 0h24v24H0V0z\" fill=\"none\"/>\n",
       "    <path d=\"M18.56 5.44l.94 2.06.94-2.06 2.06-.94-2.06-.94-.94-2.06-.94 2.06-2.06.94zm-11 1L8.5 8.5l.94-2.06 2.06-.94-2.06-.94L8.5 2.5l-.94 2.06-2.06.94zm10 10l.94 2.06.94-2.06 2.06-.94-2.06-.94-.94-2.06-.94 2.06-2.06.94z\"/><path d=\"M17.41 7.96l-1.37-1.37c-.4-.4-.92-.59-1.43-.59-.52 0-1.04.2-1.43.59L10.3 9.45l-7.72 7.72c-.78.78-.78 2.05 0 2.83L4 21.41c.39.39.9.59 1.41.59.51 0 1.02-.2 1.41-.59l7.78-7.78 2.81-2.81c.8-.78.8-2.07 0-2.86zM5.41 20L4 18.59l7.72-7.72 1.47 1.35L5.41 20z\"/>\n",
       "  </svg>\n",
       "      </button>\n",
       "      \n",
       "  <style>\n",
       "    .colab-df-container {\n",
       "      display:flex;\n",
       "      flex-wrap:wrap;\n",
       "      gap: 12px;\n",
       "    }\n",
       "\n",
       "    .colab-df-convert {\n",
       "      background-color: #E8F0FE;\n",
       "      border: none;\n",
       "      border-radius: 50%;\n",
       "      cursor: pointer;\n",
       "      display: none;\n",
       "      fill: #1967D2;\n",
       "      height: 32px;\n",
       "      padding: 0 0 0 0;\n",
       "      width: 32px;\n",
       "    }\n",
       "\n",
       "    .colab-df-convert:hover {\n",
       "      background-color: #E2EBFA;\n",
       "      box-shadow: 0px 1px 2px rgba(60, 64, 67, 0.3), 0px 1px 3px 1px rgba(60, 64, 67, 0.15);\n",
       "      fill: #174EA6;\n",
       "    }\n",
       "\n",
       "    [theme=dark] .colab-df-convert {\n",
       "      background-color: #3B4455;\n",
       "      fill: #D2E3FC;\n",
       "    }\n",
       "\n",
       "    [theme=dark] .colab-df-convert:hover {\n",
       "      background-color: #434B5C;\n",
       "      box-shadow: 0px 1px 3px 1px rgba(0, 0, 0, 0.15);\n",
       "      filter: drop-shadow(0px 1px 2px rgba(0, 0, 0, 0.3));\n",
       "      fill: #FFFFFF;\n",
       "    }\n",
       "  </style>\n",
       "\n",
       "      <script>\n",
       "        const buttonEl =\n",
       "          document.querySelector('#df-299d70da-c5ba-42c0-b649-3a39505b325c button.colab-df-convert');\n",
       "        buttonEl.style.display =\n",
       "          google.colab.kernel.accessAllowed ? 'block' : 'none';\n",
       "\n",
       "        async function convertToInteractive(key) {\n",
       "          const element = document.querySelector('#df-299d70da-c5ba-42c0-b649-3a39505b325c');\n",
       "          const dataTable =\n",
       "            await google.colab.kernel.invokeFunction('convertToInteractive',\n",
       "                                                     [key], {});\n",
       "          if (!dataTable) return;\n",
       "\n",
       "          const docLinkHtml = 'Like what you see? Visit the ' +\n",
       "            '<a target=\"_blank\" href=https://colab.research.google.com/notebooks/data_table.ipynb>data table notebook</a>'\n",
       "            + ' to learn more about interactive tables.';\n",
       "          element.innerHTML = '';\n",
       "          dataTable['output_type'] = 'display_data';\n",
       "          await google.colab.output.renderOutput(dataTable, element);\n",
       "          const docLink = document.createElement('div');\n",
       "          docLink.innerHTML = docLinkHtml;\n",
       "          element.appendChild(docLink);\n",
       "        }\n",
       "      </script>\n",
       "    </div>\n",
       "  </div>\n",
       "  "
      ],
      "text/plain": [
       "        Gender Ever_Married  Age Graduated     Profession  Work_Experience  \\\n",
       "ID                                                                           \n",
       "462809    Male           No   22        No     Healthcare              1.0   \n",
       "462643  Female          Yes   38       Yes       Engineer              NaN   \n",
       "466315  Female          Yes   67       Yes       Engineer              1.0   \n",
       "461735    Male          Yes   67       Yes         Lawyer              0.0   \n",
       "462669  Female          Yes   40       Yes  Entertainment              NaN   \n",
       "\n",
       "       Spending_Score  Family_Size  Var_1 Segmentation  \n",
       "ID                                                      \n",
       "462809            Low          4.0  Cat_4            D  \n",
       "462643        Average          3.0  Cat_4            A  \n",
       "466315            Low          1.0  Cat_6            B  \n",
       "461735           High          2.0  Cat_6            B  \n",
       "462669           High          6.0  Cat_6            A  "
      ]
     },
     "execution_count": 44,
     "metadata": {},
     "output_type": "execute_result"
    }
   ],
   "source": [
    "data = pd.read_csv('/content/drive/MyDrive/Datasets/CustomerSegment.csv', index_col = 0)\n",
    "data.head()"
   ]
  },
  {
   "cell_type": "markdown",
   "id": "5JDoB_Zq7iNH",
   "metadata": {
    "id": "5JDoB_Zq7iNH"
   },
   "source": [
    "## ตรวจจับและเติม missing value"
   ]
  },
  {
   "cell_type": "code",
   "execution_count": 45,
   "id": "CIhcB1v27sa3",
   "metadata": {
    "colab": {
     "base_uri": "https://localhost:8080/"
    },
    "executionInfo": {
     "elapsed": 56,
     "status": "ok",
     "timestamp": 1667133484283,
     "user": {
      "displayName": "Sira Sriswasdi",
      "userId": "03069351775920236110"
     },
     "user_tz": -420
    },
    "id": "CIhcB1v27sa3",
    "outputId": "93624582-3577-4851-ff8d-a98d563f64b2"
   },
   "outputs": [
    {
     "name": "stdout",
     "output_type": "stream",
     "text": [
      "Total data size: 8068\n",
      "Missing data: Ever_Married       140\n",
      "Graduated           78\n",
      "Profession         124\n",
      "Work_Experience    829\n",
      "Family_Size        335\n",
      "Var_1               76\n",
      "dtype: int64\n"
     ]
    }
   ],
   "source": [
    "missing_count = pd.isna(data).sum()\n",
    "print('Total data size:', data.shape[0])\n",
    "print('Missing data:', missing_count[missing_count > 0])"
   ]
  },
  {
   "cell_type": "markdown",
   "id": "YjpuxqSg7_zl",
   "metadata": {
    "id": "YjpuxqSg7_zl"
   },
   "source": [
    "### ทิ้งตัวแปรและข้อมูลที่มีปัญหา\n",
    "ทิ้งตัวแปร Work_Experience เพราะข้อมูลหายเป็นปริมาณมาก\n",
    "\n",
    "ทิ้งข้อมูลที่ไม่มี Profession เพราะเติมยาก"
   ]
  },
  {
   "cell_type": "code",
   "execution_count": 46,
   "id": "KPc-KCYz8AS_",
   "metadata": {
    "colab": {
     "base_uri": "https://localhost:8080/"
    },
    "executionInfo": {
     "elapsed": 46,
     "status": "ok",
     "timestamp": 1667133484283,
     "user": {
      "displayName": "Sira Sriswasdi",
      "userId": "03069351775920236110"
     },
     "user_tz": -420
    },
    "id": "KPc-KCYz8AS_",
    "outputId": "e5d15dc7-98b8-4805-f219-1432a338c49f"
   },
   "outputs": [
    {
     "name": "stdout",
     "output_type": "stream",
     "text": [
      "Data size before dropping: (8068, 10)\n",
      "Data size after dropping: (7944, 9)\n"
     ]
    }
   ],
   "source": [
    "print('Data size before dropping:', data.shape)\n",
    "\n",
    "data = data.drop('Work_Experience', axis = 1)\n",
    "data = data.loc[~pd.isna(data['Profession']), :]\n",
    "\n",
    "print('Data size after dropping:', data.shape)"
   ]
  },
  {
   "cell_type": "markdown",
   "id": "jvAP-4gVBTA8",
   "metadata": {
    "id": "jvAP-4gVBTA8"
   },
   "source": [
    "### แยกตัวแปร input กับ output ออกจากกัน"
   ]
  },
  {
   "cell_type": "code",
   "execution_count": 47,
   "id": "rQlXkPkNBSq0",
   "metadata": {
    "executionInfo": {
     "elapsed": 41,
     "status": "ok",
     "timestamp": 1667133484284,
     "user": {
      "displayName": "Sira Sriswasdi",
      "userId": "03069351775920236110"
     },
     "user_tz": -420
    },
    "id": "rQlXkPkNBSq0"
   },
   "outputs": [],
   "source": [
    "input_data = data.iloc[:, :-1]\n",
    "output_data = data.iloc[:, -1]"
   ]
  },
  {
   "cell_type": "markdown",
   "id": "AyML_oSD8nZ_",
   "metadata": {
    "id": "AyML_oSD8nZ_"
   },
   "source": [
    "### เติมค่าตัวแปรอื่นด้วย mode หรือ mean ตามชนิดของตัวแปร"
   ]
  },
  {
   "cell_type": "code",
   "execution_count": 48,
   "id": "ju9rBgLg8noV",
   "metadata": {
    "executionInfo": {
     "elapsed": 40,
     "status": "ok",
     "timestamp": 1667133484284,
     "user": {
      "displayName": "Sira Sriswasdi",
      "userId": "03069351775920236110"
     },
     "user_tz": -420
    },
    "id": "ju9rBgLg8noV"
   },
   "outputs": [],
   "source": [
    "categorical_features = ['Gender', 'Ever_Married', 'Graduated', 'Profession', 'Spending_Score', 'Var_1']\n",
    "\n",
    "imputed_data = input_data.copy()\n",
    "imputed_data[categorical_features] = imputed_data[categorical_features].fillna(imputed_data[categorical_features].mode().iloc[0])\n",
    "imputed_data['Family_Size'] = imputed_data['Family_Size'].fillna(imputed_data['Family_Size'].mean()).astype(int) ## ปรับจำนวนสมาชิกในครอบครัวเป็นจำนวนเต็ม"
   ]
  },
  {
   "cell_type": "markdown",
   "id": "K9W-PI72-KQ1",
   "metadata": {
    "id": "K9W-PI72-KQ1"
   },
   "source": [
    "## แปลงข้อมูล categorical ให้เป็นตัวเลข"
   ]
  },
  {
   "cell_type": "code",
   "execution_count": 49,
   "id": "iaMWJ0GY-Kin",
   "metadata": {
    "colab": {
     "base_uri": "https://localhost:8080/"
    },
    "executionInfo": {
     "elapsed": 39,
     "status": "ok",
     "timestamp": 1667133484284,
     "user": {
      "displayName": "Sira Sriswasdi",
      "userId": "03069351775920236110"
     },
     "user_tz": -420
    },
    "id": "iaMWJ0GY-Kin",
    "outputId": "770b1cce-5d52-4982-da10-a09cbfdf3ba5"
   },
   "outputs": [
    {
     "name": "stdout",
     "output_type": "stream",
     "text": [
      "Gender ['Male' 'Female']\n",
      "Ever_Married ['No' 'Yes']\n",
      "Graduated ['No' 'Yes']\n",
      "Profession ['Healthcare' 'Engineer' 'Lawyer' 'Entertainment' 'Artist' 'Executive'\n",
      " 'Doctor' 'Homemaker' 'Marketing']\n",
      "Spending_Score ['Low' 'Average' 'High']\n",
      "Var_1 ['Cat_4' 'Cat_6' 'Cat_7' 'Cat_3' 'Cat_1' 'Cat_2' 'Cat_5']\n"
     ]
    }
   ],
   "source": [
    "for f in categorical_features:\n",
    "    print(f, pd.unique(imputed_data[f]))\n",
    "\n",
    "formatted_data = imputed_data.copy()"
   ]
  },
  {
   "cell_type": "markdown",
   "id": "4CuCVsfYAmU9",
   "metadata": {
    "id": "4CuCVsfYAmU9"
   },
   "source": [
    "ตัวแปร binary"
   ]
  },
  {
   "cell_type": "code",
   "execution_count": 50,
   "id": "IF7SzHzgAJSt",
   "metadata": {
    "executionInfo": {
     "elapsed": 33,
     "status": "ok",
     "timestamp": 1667133484284,
     "user": {
      "displayName": "Sira Sriswasdi",
      "userId": "03069351775920236110"
     },
     "user_tz": -420
    },
    "id": "IF7SzHzgAJSt"
   },
   "outputs": [],
   "source": [
    "formatted_data['Gender'] = (imputed_data['Gender'] == 'Male').astype(int)\n",
    "formatted_data['Ever_Married'] = (imputed_data['Ever_Married'] == 'Yes').astype(int)\n",
    "formatted_data['Graduated'] = (imputed_data['Graduated'] == 'Yes').astype(int)"
   ]
  },
  {
   "cell_type": "markdown",
   "id": "MRBGKxJF-Whu",
   "metadata": {
    "id": "MRBGKxJF-Whu"
   },
   "source": [
    "ตัวแปรที่มีหลาย category จะใช้ [pandas.get_dummies](https://pandas.pydata.org/docs/reference/api/pandas.get_dummies.html)"
   ]
  },
  {
   "cell_type": "code",
   "execution_count": 51,
   "id": "iOut6Zfd-WzR",
   "metadata": {
    "colab": {
     "base_uri": "https://localhost:8080/",
     "height": 237
    },
    "executionInfo": {
     "elapsed": 33,
     "status": "ok",
     "timestamp": 1667133484285,
     "user": {
      "displayName": "Sira Sriswasdi",
      "userId": "03069351775920236110"
     },
     "user_tz": -420
    },
    "id": "iOut6Zfd-WzR",
    "outputId": "2e8cd4b6-7fc9-459a-eacb-e17b97b04fb1"
   },
   "outputs": [
    {
     "data": {
      "text/html": [
       "\n",
       "  <div id=\"df-c6d74791-f499-49fe-ba32-86f1d65150ce\">\n",
       "    <div class=\"colab-df-container\">\n",
       "      <div>\n",
       "<style scoped>\n",
       "    .dataframe tbody tr th:only-of-type {\n",
       "        vertical-align: middle;\n",
       "    }\n",
       "\n",
       "    .dataframe tbody tr th {\n",
       "        vertical-align: top;\n",
       "    }\n",
       "\n",
       "    .dataframe thead th {\n",
       "        text-align: right;\n",
       "    }\n",
       "</style>\n",
       "<table border=\"1\" class=\"dataframe\">\n",
       "  <thead>\n",
       "    <tr style=\"text-align: right;\">\n",
       "      <th></th>\n",
       "      <th>Gender</th>\n",
       "      <th>Ever_Married</th>\n",
       "      <th>Age</th>\n",
       "      <th>Graduated</th>\n",
       "      <th>Spending_Score</th>\n",
       "      <th>Family_Size</th>\n",
       "      <th>Var_1:Cat_1</th>\n",
       "      <th>Var_1:Cat_2</th>\n",
       "      <th>Var_1:Cat_3</th>\n",
       "      <th>Var_1:Cat_4</th>\n",
       "      <th>...</th>\n",
       "      <th>Var_1:Cat_7</th>\n",
       "      <th>Profession:Artist</th>\n",
       "      <th>Profession:Doctor</th>\n",
       "      <th>Profession:Engineer</th>\n",
       "      <th>Profession:Entertainment</th>\n",
       "      <th>Profession:Executive</th>\n",
       "      <th>Profession:Healthcare</th>\n",
       "      <th>Profession:Homemaker</th>\n",
       "      <th>Profession:Lawyer</th>\n",
       "      <th>Profession:Marketing</th>\n",
       "    </tr>\n",
       "    <tr>\n",
       "      <th>ID</th>\n",
       "      <th></th>\n",
       "      <th></th>\n",
       "      <th></th>\n",
       "      <th></th>\n",
       "      <th></th>\n",
       "      <th></th>\n",
       "      <th></th>\n",
       "      <th></th>\n",
       "      <th></th>\n",
       "      <th></th>\n",
       "      <th></th>\n",
       "      <th></th>\n",
       "      <th></th>\n",
       "      <th></th>\n",
       "      <th></th>\n",
       "      <th></th>\n",
       "      <th></th>\n",
       "      <th></th>\n",
       "      <th></th>\n",
       "      <th></th>\n",
       "      <th></th>\n",
       "    </tr>\n",
       "  </thead>\n",
       "  <tbody>\n",
       "    <tr>\n",
       "      <th>462809</th>\n",
       "      <td>1</td>\n",
       "      <td>0</td>\n",
       "      <td>22</td>\n",
       "      <td>0</td>\n",
       "      <td>Low</td>\n",
       "      <td>4</td>\n",
       "      <td>0</td>\n",
       "      <td>0</td>\n",
       "      <td>0</td>\n",
       "      <td>1</td>\n",
       "      <td>...</td>\n",
       "      <td>0</td>\n",
       "      <td>0</td>\n",
       "      <td>0</td>\n",
       "      <td>0</td>\n",
       "      <td>0</td>\n",
       "      <td>0</td>\n",
       "      <td>1</td>\n",
       "      <td>0</td>\n",
       "      <td>0</td>\n",
       "      <td>0</td>\n",
       "    </tr>\n",
       "    <tr>\n",
       "      <th>462643</th>\n",
       "      <td>0</td>\n",
       "      <td>1</td>\n",
       "      <td>38</td>\n",
       "      <td>1</td>\n",
       "      <td>Average</td>\n",
       "      <td>3</td>\n",
       "      <td>0</td>\n",
       "      <td>0</td>\n",
       "      <td>0</td>\n",
       "      <td>1</td>\n",
       "      <td>...</td>\n",
       "      <td>0</td>\n",
       "      <td>0</td>\n",
       "      <td>0</td>\n",
       "      <td>1</td>\n",
       "      <td>0</td>\n",
       "      <td>0</td>\n",
       "      <td>0</td>\n",
       "      <td>0</td>\n",
       "      <td>0</td>\n",
       "      <td>0</td>\n",
       "    </tr>\n",
       "  </tbody>\n",
       "</table>\n",
       "<p>2 rows × 22 columns</p>\n",
       "</div>\n",
       "      <button class=\"colab-df-convert\" onclick=\"convertToInteractive('df-c6d74791-f499-49fe-ba32-86f1d65150ce')\"\n",
       "              title=\"Convert this dataframe to an interactive table.\"\n",
       "              style=\"display:none;\">\n",
       "        \n",
       "  <svg xmlns=\"http://www.w3.org/2000/svg\" height=\"24px\"viewBox=\"0 0 24 24\"\n",
       "       width=\"24px\">\n",
       "    <path d=\"M0 0h24v24H0V0z\" fill=\"none\"/>\n",
       "    <path d=\"M18.56 5.44l.94 2.06.94-2.06 2.06-.94-2.06-.94-.94-2.06-.94 2.06-2.06.94zm-11 1L8.5 8.5l.94-2.06 2.06-.94-2.06-.94L8.5 2.5l-.94 2.06-2.06.94zm10 10l.94 2.06.94-2.06 2.06-.94-2.06-.94-.94-2.06-.94 2.06-2.06.94z\"/><path d=\"M17.41 7.96l-1.37-1.37c-.4-.4-.92-.59-1.43-.59-.52 0-1.04.2-1.43.59L10.3 9.45l-7.72 7.72c-.78.78-.78 2.05 0 2.83L4 21.41c.39.39.9.59 1.41.59.51 0 1.02-.2 1.41-.59l7.78-7.78 2.81-2.81c.8-.78.8-2.07 0-2.86zM5.41 20L4 18.59l7.72-7.72 1.47 1.35L5.41 20z\"/>\n",
       "  </svg>\n",
       "      </button>\n",
       "      \n",
       "  <style>\n",
       "    .colab-df-container {\n",
       "      display:flex;\n",
       "      flex-wrap:wrap;\n",
       "      gap: 12px;\n",
       "    }\n",
       "\n",
       "    .colab-df-convert {\n",
       "      background-color: #E8F0FE;\n",
       "      border: none;\n",
       "      border-radius: 50%;\n",
       "      cursor: pointer;\n",
       "      display: none;\n",
       "      fill: #1967D2;\n",
       "      height: 32px;\n",
       "      padding: 0 0 0 0;\n",
       "      width: 32px;\n",
       "    }\n",
       "\n",
       "    .colab-df-convert:hover {\n",
       "      background-color: #E2EBFA;\n",
       "      box-shadow: 0px 1px 2px rgba(60, 64, 67, 0.3), 0px 1px 3px 1px rgba(60, 64, 67, 0.15);\n",
       "      fill: #174EA6;\n",
       "    }\n",
       "\n",
       "    [theme=dark] .colab-df-convert {\n",
       "      background-color: #3B4455;\n",
       "      fill: #D2E3FC;\n",
       "    }\n",
       "\n",
       "    [theme=dark] .colab-df-convert:hover {\n",
       "      background-color: #434B5C;\n",
       "      box-shadow: 0px 1px 3px 1px rgba(0, 0, 0, 0.15);\n",
       "      filter: drop-shadow(0px 1px 2px rgba(0, 0, 0, 0.3));\n",
       "      fill: #FFFFFF;\n",
       "    }\n",
       "  </style>\n",
       "\n",
       "      <script>\n",
       "        const buttonEl =\n",
       "          document.querySelector('#df-c6d74791-f499-49fe-ba32-86f1d65150ce button.colab-df-convert');\n",
       "        buttonEl.style.display =\n",
       "          google.colab.kernel.accessAllowed ? 'block' : 'none';\n",
       "\n",
       "        async function convertToInteractive(key) {\n",
       "          const element = document.querySelector('#df-c6d74791-f499-49fe-ba32-86f1d65150ce');\n",
       "          const dataTable =\n",
       "            await google.colab.kernel.invokeFunction('convertToInteractive',\n",
       "                                                     [key], {});\n",
       "          if (!dataTable) return;\n",
       "\n",
       "          const docLinkHtml = 'Like what you see? Visit the ' +\n",
       "            '<a target=\"_blank\" href=https://colab.research.google.com/notebooks/data_table.ipynb>data table notebook</a>'\n",
       "            + ' to learn more about interactive tables.';\n",
       "          element.innerHTML = '';\n",
       "          dataTable['output_type'] = 'display_data';\n",
       "          await google.colab.output.renderOutput(dataTable, element);\n",
       "          const docLink = document.createElement('div');\n",
       "          docLink.innerHTML = docLinkHtml;\n",
       "          element.appendChild(docLink);\n",
       "        }\n",
       "      </script>\n",
       "    </div>\n",
       "  </div>\n",
       "  "
      ],
      "text/plain": [
       "        Gender  Ever_Married  Age  Graduated Spending_Score  Family_Size  \\\n",
       "ID                                                                         \n",
       "462809       1             0   22          0            Low            4   \n",
       "462643       0             1   38          1        Average            3   \n",
       "\n",
       "        Var_1:Cat_1  Var_1:Cat_2  Var_1:Cat_3  Var_1:Cat_4  ...  Var_1:Cat_7  \\\n",
       "ID                                                          ...                \n",
       "462809            0            0            0            1  ...            0   \n",
       "462643            0            0            0            1  ...            0   \n",
       "\n",
       "        Profession:Artist  Profession:Doctor  Profession:Engineer  \\\n",
       "ID                                                                  \n",
       "462809                  0                  0                    0   \n",
       "462643                  0                  0                    1   \n",
       "\n",
       "        Profession:Entertainment  Profession:Executive  Profession:Healthcare  \\\n",
       "ID                                                                              \n",
       "462809                         0                     0                      1   \n",
       "462643                         0                     0                      0   \n",
       "\n",
       "        Profession:Homemaker  Profession:Lawyer  Profession:Marketing  \n",
       "ID                                                                     \n",
       "462809                     0                  0                     0  \n",
       "462643                     0                  0                     0  \n",
       "\n",
       "[2 rows x 22 columns]"
      ]
     },
     "execution_count": 51,
     "metadata": {},
     "output_type": "execute_result"
    }
   ],
   "source": [
    "dummies = pd.get_dummies(formatted_data['Var_1'], prefix = 'Var_1', prefix_sep = ':')\n",
    "formatted_data = pd.concat([formatted_data.drop('Var_1', axis = 1), dummies], axis = 1)\n",
    "\n",
    "dummies = pd.get_dummies(formatted_data['Profession'], prefix = 'Profession', prefix_sep = ':')\n",
    "formatted_data = pd.concat([formatted_data.drop('Profession', axis = 1), dummies], axis = 1)\n",
    "\n",
    "formatted_data.head(2)"
   ]
  },
  {
   "cell_type": "markdown",
   "id": "6Q9mzog7CArN",
   "metadata": {
    "id": "6Q9mzog7CArN"
   },
   "source": [
    "### ตัวแปรที่มีลำดับจะต้องแปลงค่าแบบเป็นขั้น\n",
    "\n",
    "สำหรับกรณี Spending_Score มีค่าที่เป็นไปได้คือ Low, Average, High ดังนั้นเราอาจจะแทนค่าเป็น 0, 1, 2 ตามลำดับ\n",
    "\n",
    "หรืออาจจะตั้งตัวแปรใหม่เพื่อสะท้อนความแตกต่างของ Average เทียบกับ Low และค High เทียบกับ Average ซึ่งจะทำให้โมเดลสามารถเรียนรู้ขนาด (effect size) ที่การเปลี่ยนขั้นของค่าตัวแปรมีผลต่อคำทำนายได้\n",
    "\n",
    "| ระดับเดิม | Low ไป Average | Average ไป High |\n",
    "| --- | --- | --- |\n",
    "| Low | 0 | 0 | \n",
    "| Average | 1 | 0 | \n",
    "| High | 1 | 1 | "
   ]
  },
  {
   "cell_type": "code",
   "execution_count": 52,
   "id": "cJcTgNOuCBDE",
   "metadata": {
    "colab": {
     "base_uri": "https://localhost:8080/",
     "height": 237
    },
    "executionInfo": {
     "elapsed": 31,
     "status": "ok",
     "timestamp": 1667133484285,
     "user": {
      "displayName": "Sira Sriswasdi",
      "userId": "03069351775920236110"
     },
     "user_tz": -420
    },
    "id": "cJcTgNOuCBDE",
    "outputId": "55f30956-126b-43ee-8708-6dba02651c85"
   },
   "outputs": [
    {
     "data": {
      "text/html": [
       "\n",
       "  <div id=\"df-8bdd78fe-a256-407c-bd89-e142804ff4d5\">\n",
       "    <div class=\"colab-df-container\">\n",
       "      <div>\n",
       "<style scoped>\n",
       "    .dataframe tbody tr th:only-of-type {\n",
       "        vertical-align: middle;\n",
       "    }\n",
       "\n",
       "    .dataframe tbody tr th {\n",
       "        vertical-align: top;\n",
       "    }\n",
       "\n",
       "    .dataframe thead th {\n",
       "        text-align: right;\n",
       "    }\n",
       "</style>\n",
       "<table border=\"1\" class=\"dataframe\">\n",
       "  <thead>\n",
       "    <tr style=\"text-align: right;\">\n",
       "      <th></th>\n",
       "      <th>Gender</th>\n",
       "      <th>Ever_Married</th>\n",
       "      <th>Age</th>\n",
       "      <th>Graduated</th>\n",
       "      <th>Spending_Score</th>\n",
       "      <th>Family_Size</th>\n",
       "      <th>Var_1:Cat_1</th>\n",
       "      <th>Var_1:Cat_2</th>\n",
       "      <th>Var_1:Cat_3</th>\n",
       "      <th>Var_1:Cat_4</th>\n",
       "      <th>...</th>\n",
       "      <th>Var_1:Cat_7</th>\n",
       "      <th>Profession:Artist</th>\n",
       "      <th>Profession:Doctor</th>\n",
       "      <th>Profession:Engineer</th>\n",
       "      <th>Profession:Entertainment</th>\n",
       "      <th>Profession:Executive</th>\n",
       "      <th>Profession:Healthcare</th>\n",
       "      <th>Profession:Homemaker</th>\n",
       "      <th>Profession:Lawyer</th>\n",
       "      <th>Profession:Marketing</th>\n",
       "    </tr>\n",
       "    <tr>\n",
       "      <th>ID</th>\n",
       "      <th></th>\n",
       "      <th></th>\n",
       "      <th></th>\n",
       "      <th></th>\n",
       "      <th></th>\n",
       "      <th></th>\n",
       "      <th></th>\n",
       "      <th></th>\n",
       "      <th></th>\n",
       "      <th></th>\n",
       "      <th></th>\n",
       "      <th></th>\n",
       "      <th></th>\n",
       "      <th></th>\n",
       "      <th></th>\n",
       "      <th></th>\n",
       "      <th></th>\n",
       "      <th></th>\n",
       "      <th></th>\n",
       "      <th></th>\n",
       "      <th></th>\n",
       "    </tr>\n",
       "  </thead>\n",
       "  <tbody>\n",
       "    <tr>\n",
       "      <th>462809</th>\n",
       "      <td>1</td>\n",
       "      <td>0</td>\n",
       "      <td>22</td>\n",
       "      <td>0</td>\n",
       "      <td>0</td>\n",
       "      <td>4</td>\n",
       "      <td>0</td>\n",
       "      <td>0</td>\n",
       "      <td>0</td>\n",
       "      <td>1</td>\n",
       "      <td>...</td>\n",
       "      <td>0</td>\n",
       "      <td>0</td>\n",
       "      <td>0</td>\n",
       "      <td>0</td>\n",
       "      <td>0</td>\n",
       "      <td>0</td>\n",
       "      <td>1</td>\n",
       "      <td>0</td>\n",
       "      <td>0</td>\n",
       "      <td>0</td>\n",
       "    </tr>\n",
       "    <tr>\n",
       "      <th>462643</th>\n",
       "      <td>0</td>\n",
       "      <td>1</td>\n",
       "      <td>38</td>\n",
       "      <td>1</td>\n",
       "      <td>1</td>\n",
       "      <td>3</td>\n",
       "      <td>0</td>\n",
       "      <td>0</td>\n",
       "      <td>0</td>\n",
       "      <td>1</td>\n",
       "      <td>...</td>\n",
       "      <td>0</td>\n",
       "      <td>0</td>\n",
       "      <td>0</td>\n",
       "      <td>1</td>\n",
       "      <td>0</td>\n",
       "      <td>0</td>\n",
       "      <td>0</td>\n",
       "      <td>0</td>\n",
       "      <td>0</td>\n",
       "      <td>0</td>\n",
       "    </tr>\n",
       "  </tbody>\n",
       "</table>\n",
       "<p>2 rows × 22 columns</p>\n",
       "</div>\n",
       "      <button class=\"colab-df-convert\" onclick=\"convertToInteractive('df-8bdd78fe-a256-407c-bd89-e142804ff4d5')\"\n",
       "              title=\"Convert this dataframe to an interactive table.\"\n",
       "              style=\"display:none;\">\n",
       "        \n",
       "  <svg xmlns=\"http://www.w3.org/2000/svg\" height=\"24px\"viewBox=\"0 0 24 24\"\n",
       "       width=\"24px\">\n",
       "    <path d=\"M0 0h24v24H0V0z\" fill=\"none\"/>\n",
       "    <path d=\"M18.56 5.44l.94 2.06.94-2.06 2.06-.94-2.06-.94-.94-2.06-.94 2.06-2.06.94zm-11 1L8.5 8.5l.94-2.06 2.06-.94-2.06-.94L8.5 2.5l-.94 2.06-2.06.94zm10 10l.94 2.06.94-2.06 2.06-.94-2.06-.94-.94-2.06-.94 2.06-2.06.94z\"/><path d=\"M17.41 7.96l-1.37-1.37c-.4-.4-.92-.59-1.43-.59-.52 0-1.04.2-1.43.59L10.3 9.45l-7.72 7.72c-.78.78-.78 2.05 0 2.83L4 21.41c.39.39.9.59 1.41.59.51 0 1.02-.2 1.41-.59l7.78-7.78 2.81-2.81c.8-.78.8-2.07 0-2.86zM5.41 20L4 18.59l7.72-7.72 1.47 1.35L5.41 20z\"/>\n",
       "  </svg>\n",
       "      </button>\n",
       "      \n",
       "  <style>\n",
       "    .colab-df-container {\n",
       "      display:flex;\n",
       "      flex-wrap:wrap;\n",
       "      gap: 12px;\n",
       "    }\n",
       "\n",
       "    .colab-df-convert {\n",
       "      background-color: #E8F0FE;\n",
       "      border: none;\n",
       "      border-radius: 50%;\n",
       "      cursor: pointer;\n",
       "      display: none;\n",
       "      fill: #1967D2;\n",
       "      height: 32px;\n",
       "      padding: 0 0 0 0;\n",
       "      width: 32px;\n",
       "    }\n",
       "\n",
       "    .colab-df-convert:hover {\n",
       "      background-color: #E2EBFA;\n",
       "      box-shadow: 0px 1px 2px rgba(60, 64, 67, 0.3), 0px 1px 3px 1px rgba(60, 64, 67, 0.15);\n",
       "      fill: #174EA6;\n",
       "    }\n",
       "\n",
       "    [theme=dark] .colab-df-convert {\n",
       "      background-color: #3B4455;\n",
       "      fill: #D2E3FC;\n",
       "    }\n",
       "\n",
       "    [theme=dark] .colab-df-convert:hover {\n",
       "      background-color: #434B5C;\n",
       "      box-shadow: 0px 1px 3px 1px rgba(0, 0, 0, 0.15);\n",
       "      filter: drop-shadow(0px 1px 2px rgba(0, 0, 0, 0.3));\n",
       "      fill: #FFFFFF;\n",
       "    }\n",
       "  </style>\n",
       "\n",
       "      <script>\n",
       "        const buttonEl =\n",
       "          document.querySelector('#df-8bdd78fe-a256-407c-bd89-e142804ff4d5 button.colab-df-convert');\n",
       "        buttonEl.style.display =\n",
       "          google.colab.kernel.accessAllowed ? 'block' : 'none';\n",
       "\n",
       "        async function convertToInteractive(key) {\n",
       "          const element = document.querySelector('#df-8bdd78fe-a256-407c-bd89-e142804ff4d5');\n",
       "          const dataTable =\n",
       "            await google.colab.kernel.invokeFunction('convertToInteractive',\n",
       "                                                     [key], {});\n",
       "          if (!dataTable) return;\n",
       "\n",
       "          const docLinkHtml = 'Like what you see? Visit the ' +\n",
       "            '<a target=\"_blank\" href=https://colab.research.google.com/notebooks/data_table.ipynb>data table notebook</a>'\n",
       "            + ' to learn more about interactive tables.';\n",
       "          element.innerHTML = '';\n",
       "          dataTable['output_type'] = 'display_data';\n",
       "          await google.colab.output.renderOutput(dataTable, element);\n",
       "          const docLink = document.createElement('div');\n",
       "          docLink.innerHTML = docLinkHtml;\n",
       "          element.appendChild(docLink);\n",
       "        }\n",
       "      </script>\n",
       "    </div>\n",
       "  </div>\n",
       "  "
      ],
      "text/plain": [
       "        Gender  Ever_Married  Age  Graduated  Spending_Score  Family_Size  \\\n",
       "ID                                                                          \n",
       "462809       1             0   22          0               0            4   \n",
       "462643       0             1   38          1               1            3   \n",
       "\n",
       "        Var_1:Cat_1  Var_1:Cat_2  Var_1:Cat_3  Var_1:Cat_4  ...  Var_1:Cat_7  \\\n",
       "ID                                                          ...                \n",
       "462809            0            0            0            1  ...            0   \n",
       "462643            0            0            0            1  ...            0   \n",
       "\n",
       "        Profession:Artist  Profession:Doctor  Profession:Engineer  \\\n",
       "ID                                                                  \n",
       "462809                  0                  0                    0   \n",
       "462643                  0                  0                    1   \n",
       "\n",
       "        Profession:Entertainment  Profession:Executive  Profession:Healthcare  \\\n",
       "ID                                                                              \n",
       "462809                         0                     0                      1   \n",
       "462643                         0                     0                      0   \n",
       "\n",
       "        Profession:Homemaker  Profession:Lawyer  Profession:Marketing  \n",
       "ID                                                                     \n",
       "462809                     0                  0                     0  \n",
       "462643                     0                  0                     0  \n",
       "\n",
       "[2 rows x 22 columns]"
      ]
     },
     "execution_count": 52,
     "metadata": {},
     "output_type": "execute_result"
    }
   ],
   "source": [
    "formatted_data['Spending_Score'] = formatted_data['Spending_Score'].map({'Low':0, 'Average':1, 'High':2})\n",
    "formatted_data.head(2)"
   ]
  },
  {
   "cell_type": "markdown",
   "id": "Jfy0yJwR9vPd",
   "metadata": {
    "id": "Jfy0yJwR9vPd"
   },
   "source": [
    "## แบ่งข้อมูลเป็น train-test และ cross-validation\n",
    "กำกับการแบ่งตามสัดส่วนคลาสของคำตอบ (stratification)"
   ]
  },
  {
   "cell_type": "code",
   "execution_count": 53,
   "id": "Q3neWubM9ZFd",
   "metadata": {
    "colab": {
     "base_uri": "https://localhost:8080/",
     "height": 175
    },
    "executionInfo": {
     "elapsed": 541,
     "status": "ok",
     "timestamp": 1667133484796,
     "user": {
      "displayName": "Sira Sriswasdi",
      "userId": "03069351775920236110"
     },
     "user_tz": -420
    },
    "id": "Q3neWubM9ZFd",
    "outputId": "314b9a6b-6963-4516-b34b-e2fd8d627383"
   },
   "outputs": [
    {
     "data": {
      "text/html": [
       "\n",
       "  <div id=\"df-1546bab1-f894-47f2-b2fb-77768b42af96\">\n",
       "    <div class=\"colab-df-container\">\n",
       "      <div>\n",
       "<style scoped>\n",
       "    .dataframe tbody tr th:only-of-type {\n",
       "        vertical-align: middle;\n",
       "    }\n",
       "\n",
       "    .dataframe tbody tr th {\n",
       "        vertical-align: top;\n",
       "    }\n",
       "\n",
       "    .dataframe thead th {\n",
       "        text-align: right;\n",
       "    }\n",
       "</style>\n",
       "<table border=\"1\" class=\"dataframe\">\n",
       "  <thead>\n",
       "    <tr style=\"text-align: right;\">\n",
       "      <th></th>\n",
       "      <th>Train</th>\n",
       "      <th>Test</th>\n",
       "    </tr>\n",
       "  </thead>\n",
       "  <tbody>\n",
       "    <tr>\n",
       "      <th>A</th>\n",
       "      <td>1551</td>\n",
       "      <td>388</td>\n",
       "    </tr>\n",
       "    <tr>\n",
       "      <th>B</th>\n",
       "      <td>1469</td>\n",
       "      <td>367</td>\n",
       "    </tr>\n",
       "    <tr>\n",
       "      <th>C</th>\n",
       "      <td>1562</td>\n",
       "      <td>390</td>\n",
       "    </tr>\n",
       "    <tr>\n",
       "      <th>D</th>\n",
       "      <td>1773</td>\n",
       "      <td>444</td>\n",
       "    </tr>\n",
       "  </tbody>\n",
       "</table>\n",
       "</div>\n",
       "      <button class=\"colab-df-convert\" onclick=\"convertToInteractive('df-1546bab1-f894-47f2-b2fb-77768b42af96')\"\n",
       "              title=\"Convert this dataframe to an interactive table.\"\n",
       "              style=\"display:none;\">\n",
       "        \n",
       "  <svg xmlns=\"http://www.w3.org/2000/svg\" height=\"24px\"viewBox=\"0 0 24 24\"\n",
       "       width=\"24px\">\n",
       "    <path d=\"M0 0h24v24H0V0z\" fill=\"none\"/>\n",
       "    <path d=\"M18.56 5.44l.94 2.06.94-2.06 2.06-.94-2.06-.94-.94-2.06-.94 2.06-2.06.94zm-11 1L8.5 8.5l.94-2.06 2.06-.94-2.06-.94L8.5 2.5l-.94 2.06-2.06.94zm10 10l.94 2.06.94-2.06 2.06-.94-2.06-.94-.94-2.06-.94 2.06-2.06.94z\"/><path d=\"M17.41 7.96l-1.37-1.37c-.4-.4-.92-.59-1.43-.59-.52 0-1.04.2-1.43.59L10.3 9.45l-7.72 7.72c-.78.78-.78 2.05 0 2.83L4 21.41c.39.39.9.59 1.41.59.51 0 1.02-.2 1.41-.59l7.78-7.78 2.81-2.81c.8-.78.8-2.07 0-2.86zM5.41 20L4 18.59l7.72-7.72 1.47 1.35L5.41 20z\"/>\n",
       "  </svg>\n",
       "      </button>\n",
       "      \n",
       "  <style>\n",
       "    .colab-df-container {\n",
       "      display:flex;\n",
       "      flex-wrap:wrap;\n",
       "      gap: 12px;\n",
       "    }\n",
       "\n",
       "    .colab-df-convert {\n",
       "      background-color: #E8F0FE;\n",
       "      border: none;\n",
       "      border-radius: 50%;\n",
       "      cursor: pointer;\n",
       "      display: none;\n",
       "      fill: #1967D2;\n",
       "      height: 32px;\n",
       "      padding: 0 0 0 0;\n",
       "      width: 32px;\n",
       "    }\n",
       "\n",
       "    .colab-df-convert:hover {\n",
       "      background-color: #E2EBFA;\n",
       "      box-shadow: 0px 1px 2px rgba(60, 64, 67, 0.3), 0px 1px 3px 1px rgba(60, 64, 67, 0.15);\n",
       "      fill: #174EA6;\n",
       "    }\n",
       "\n",
       "    [theme=dark] .colab-df-convert {\n",
       "      background-color: #3B4455;\n",
       "      fill: #D2E3FC;\n",
       "    }\n",
       "\n",
       "    [theme=dark] .colab-df-convert:hover {\n",
       "      background-color: #434B5C;\n",
       "      box-shadow: 0px 1px 3px 1px rgba(0, 0, 0, 0.15);\n",
       "      filter: drop-shadow(0px 1px 2px rgba(0, 0, 0, 0.3));\n",
       "      fill: #FFFFFF;\n",
       "    }\n",
       "  </style>\n",
       "\n",
       "      <script>\n",
       "        const buttonEl =\n",
       "          document.querySelector('#df-1546bab1-f894-47f2-b2fb-77768b42af96 button.colab-df-convert');\n",
       "        buttonEl.style.display =\n",
       "          google.colab.kernel.accessAllowed ? 'block' : 'none';\n",
       "\n",
       "        async function convertToInteractive(key) {\n",
       "          const element = document.querySelector('#df-1546bab1-f894-47f2-b2fb-77768b42af96');\n",
       "          const dataTable =\n",
       "            await google.colab.kernel.invokeFunction('convertToInteractive',\n",
       "                                                     [key], {});\n",
       "          if (!dataTable) return;\n",
       "\n",
       "          const docLinkHtml = 'Like what you see? Visit the ' +\n",
       "            '<a target=\"_blank\" href=https://colab.research.google.com/notebooks/data_table.ipynb>data table notebook</a>'\n",
       "            + ' to learn more about interactive tables.';\n",
       "          element.innerHTML = '';\n",
       "          dataTable['output_type'] = 'display_data';\n",
       "          await google.colab.output.renderOutput(dataTable, element);\n",
       "          const docLink = document.createElement('div');\n",
       "          docLink.innerHTML = docLinkHtml;\n",
       "          element.appendChild(docLink);\n",
       "        }\n",
       "      </script>\n",
       "    </div>\n",
       "  </div>\n",
       "  "
      ],
      "text/plain": [
       "   Train  Test\n",
       "A   1551   388\n",
       "B   1469   367\n",
       "C   1562   390\n",
       "D   1773   444"
      ]
     },
     "execution_count": 53,
     "metadata": {},
     "output_type": "execute_result"
    }
   ],
   "source": [
    "X_train, X_test, y_train, y_test = train_test_split(formatted_data, output_data, test_size = 0.2,\n",
    "                                                    stratify = output_data, random_state = 4649)\n",
    "\n",
    "ordered_class = sorted(pd.unique(output_data))\n",
    "y_class_table = pd.concat([y_train.value_counts().loc[ordered_class], \n",
    "                           y_test.value_counts().loc[ordered_class]], axis = 1)\n",
    "y_class_table.columns = ['Train', 'Test']\n",
    "y_class_table.head(5)"
   ]
  },
  {
   "cell_type": "code",
   "execution_count": 54,
   "id": "9nTG5JLX9Yvt",
   "metadata": {
    "executionInfo": {
     "elapsed": 16,
     "status": "ok",
     "timestamp": 1667133484800,
     "user": {
      "displayName": "Sira Sriswasdi",
      "userId": "03069351775920236110"
     },
     "user_tz": -420
    },
    "id": "9nTG5JLX9Yvt"
   },
   "outputs": [],
   "source": [
    "X_scaler = StandardScaler().fit(X_train)\n",
    "\n",
    "X_train_std = pd.DataFrame(X_scaler.transform(X_train), index = X_train.index, columns = X_train.columns) ## เพื่อความสะดวกในตอนวิเคราะห์ผลหลังทำโมเดล\n",
    "X_test_std = pd.DataFrame(X_scaler.transform(X_test), index = X_test.index, columns = X_test.columns)"
   ]
  },
  {
   "cell_type": "code",
   "execution_count": 55,
   "id": "j2Iy4fao7iqe",
   "metadata": {
    "executionInfo": {
     "elapsed": 16,
     "status": "ok",
     "timestamp": 1667133484802,
     "user": {
      "displayName": "Sira Sriswasdi",
      "userId": "03069351775920236110"
     },
     "user_tz": -420
    },
    "id": "j2Iy4fao7iqe"
   },
   "outputs": [],
   "source": [
    "cv_splitter = StratifiedKFold(n_splits = 5, shuffle = True, random_state = 4649)"
   ]
  },
  {
   "cell_type": "markdown",
   "id": "2bOhG0ryD-E0",
   "metadata": {
    "id": "2bOhG0ryD-E0"
   },
   "source": [
    "## เทรนโมเดล Logistic Regression กับ RBF SVM"
   ]
  },
  {
   "cell_type": "code",
   "execution_count": 56,
   "id": "HdTD4Ft-gz56",
   "metadata": {
    "executionInfo": {
     "elapsed": 17,
     "status": "ok",
     "timestamp": 1667133484804,
     "user": {
      "displayName": "Sira Sriswasdi",
      "userId": "03069351775920236110"
     },
     "user_tz": -420
    },
    "id": "HdTD4Ft-gz56"
   },
   "outputs": [],
   "source": [
    "base_logistic = LogisticRegression(random_state = 4649, solver = 'liblinear') ## ตั้งค่าตัว optimizer เป็น liblinear ซึ่งรองรับ L1-regularization\n",
    "rbf_svm = SVC(kernel = 'rbf')"
   ]
  },
  {
   "cell_type": "code",
   "execution_count": 57,
   "id": "n8CoPH-2D-hU",
   "metadata": {
    "colab": {
     "base_uri": "https://localhost:8080/"
    },
    "executionInfo": {
     "elapsed": 147863,
     "status": "ok",
     "timestamp": 1667133632651,
     "user": {
      "displayName": "Sira Sriswasdi",
      "userId": "03069351775920236110"
     },
     "user_tz": -420
    },
    "id": "n8CoPH-2D-hU",
    "outputId": "14ed8e61-f805-433d-f63d-a8fb52d0bcc3"
   },
   "outputs": [
    {
     "data": {
      "text/plain": [
       "GridSearchCV(cv=StratifiedKFold(n_splits=5, random_state=4649, shuffle=True),\n",
       "             estimator=SVC(), n_jobs=4,\n",
       "             param_grid={'C': array([1.00000000e-03, 3.16227766e-02, 1.00000000e+00, 3.16227766e+01,\n",
       "       1.00000000e+03])},\n",
       "             refit='accuracy', scoring=['accuracy'])"
      ]
     },
     "execution_count": 57,
     "metadata": {},
     "output_type": "execute_result"
    }
   ],
   "source": [
    "logistic_params = {'C': [1e-4, 1e-3, 0.01, 0.1, 1, 10], 'penalty': ['l1', 'l2']}\n",
    "grid_logistic = GridSearchCV(estimator = base_logistic, param_grid = logistic_params, \n",
    "                             scoring = ['accuracy'], refit = 'accuracy', cv = cv_splitter)\n",
    "\n",
    "grid_logistic.fit(X_train_std, y_train)\n",
    "\n",
    "rbf_svm_params = {'C': np.power(10, np.linspace(-3, 3, 5))}\n",
    "grid_rbf_svm = GridSearchCV(estimator = rbf_svm, param_grid = rbf_svm_params, \n",
    "                            scoring = ['accuracy'], refit = 'accuracy', cv = cv_splitter, n_jobs = 4)\n",
    "\n",
    "grid_rbf_svm.fit(X_train_std, y_train.to_numpy().reshape([-1, ])) ## ต้องแปลงเป็น 1 มิติ"
   ]
  },
  {
   "cell_type": "markdown",
   "id": "XGPtkg3AiWPg",
   "metadata": {
    "id": "XGPtkg3AiWPg"
   },
   "source": [
    "### ผลของ Logistic Regression"
   ]
  },
  {
   "cell_type": "code",
   "execution_count": 58,
   "id": "dnnoh_MbiWgg",
   "metadata": {
    "colab": {
     "base_uri": "https://localhost:8080/",
     "height": 206
    },
    "executionInfo": {
     "elapsed": 6,
     "status": "ok",
     "timestamp": 1667133632651,
     "user": {
      "displayName": "Sira Sriswasdi",
      "userId": "03069351775920236110"
     },
     "user_tz": -420
    },
    "id": "dnnoh_MbiWgg",
    "outputId": "0a1d5c06-bcfd-45e7-d77f-9cda6e690543"
   },
   "outputs": [
    {
     "data": {
      "text/html": [
       "\n",
       "  <div id=\"df-5e5e9c31-8c3b-4bba-b594-1de2158b82d1\">\n",
       "    <div class=\"colab-df-container\">\n",
       "      <div>\n",
       "<style scoped>\n",
       "    .dataframe tbody tr th:only-of-type {\n",
       "        vertical-align: middle;\n",
       "    }\n",
       "\n",
       "    .dataframe tbody tr th {\n",
       "        vertical-align: top;\n",
       "    }\n",
       "\n",
       "    .dataframe thead th {\n",
       "        text-align: right;\n",
       "    }\n",
       "</style>\n",
       "<table border=\"1\" class=\"dataframe\">\n",
       "  <thead>\n",
       "    <tr style=\"text-align: right;\">\n",
       "      <th></th>\n",
       "      <th>params</th>\n",
       "      <th>mean_test_accuracy</th>\n",
       "      <th>std_test_accuracy</th>\n",
       "    </tr>\n",
       "  </thead>\n",
       "  <tbody>\n",
       "    <tr>\n",
       "      <th>8</th>\n",
       "      <td>{'C': 1, 'penalty': 'l1'}</td>\n",
       "      <td>0.502124</td>\n",
       "      <td>0.009045</td>\n",
       "    </tr>\n",
       "    <tr>\n",
       "      <th>6</th>\n",
       "      <td>{'C': 0.1, 'penalty': 'l1'}</td>\n",
       "      <td>0.501810</td>\n",
       "      <td>0.007337</td>\n",
       "    </tr>\n",
       "    <tr>\n",
       "      <th>10</th>\n",
       "      <td>{'C': 10, 'penalty': 'l1'}</td>\n",
       "      <td>0.501652</td>\n",
       "      <td>0.009960</td>\n",
       "    </tr>\n",
       "    <tr>\n",
       "      <th>11</th>\n",
       "      <td>{'C': 10, 'penalty': 'l2'}</td>\n",
       "      <td>0.501652</td>\n",
       "      <td>0.009960</td>\n",
       "    </tr>\n",
       "    <tr>\n",
       "      <th>9</th>\n",
       "      <td>{'C': 1, 'penalty': 'l2'}</td>\n",
       "      <td>0.501338</td>\n",
       "      <td>0.009845</td>\n",
       "    </tr>\n",
       "  </tbody>\n",
       "</table>\n",
       "</div>\n",
       "      <button class=\"colab-df-convert\" onclick=\"convertToInteractive('df-5e5e9c31-8c3b-4bba-b594-1de2158b82d1')\"\n",
       "              title=\"Convert this dataframe to an interactive table.\"\n",
       "              style=\"display:none;\">\n",
       "        \n",
       "  <svg xmlns=\"http://www.w3.org/2000/svg\" height=\"24px\"viewBox=\"0 0 24 24\"\n",
       "       width=\"24px\">\n",
       "    <path d=\"M0 0h24v24H0V0z\" fill=\"none\"/>\n",
       "    <path d=\"M18.56 5.44l.94 2.06.94-2.06 2.06-.94-2.06-.94-.94-2.06-.94 2.06-2.06.94zm-11 1L8.5 8.5l.94-2.06 2.06-.94-2.06-.94L8.5 2.5l-.94 2.06-2.06.94zm10 10l.94 2.06.94-2.06 2.06-.94-2.06-.94-.94-2.06-.94 2.06-2.06.94z\"/><path d=\"M17.41 7.96l-1.37-1.37c-.4-.4-.92-.59-1.43-.59-.52 0-1.04.2-1.43.59L10.3 9.45l-7.72 7.72c-.78.78-.78 2.05 0 2.83L4 21.41c.39.39.9.59 1.41.59.51 0 1.02-.2 1.41-.59l7.78-7.78 2.81-2.81c.8-.78.8-2.07 0-2.86zM5.41 20L4 18.59l7.72-7.72 1.47 1.35L5.41 20z\"/>\n",
       "  </svg>\n",
       "      </button>\n",
       "      \n",
       "  <style>\n",
       "    .colab-df-container {\n",
       "      display:flex;\n",
       "      flex-wrap:wrap;\n",
       "      gap: 12px;\n",
       "    }\n",
       "\n",
       "    .colab-df-convert {\n",
       "      background-color: #E8F0FE;\n",
       "      border: none;\n",
       "      border-radius: 50%;\n",
       "      cursor: pointer;\n",
       "      display: none;\n",
       "      fill: #1967D2;\n",
       "      height: 32px;\n",
       "      padding: 0 0 0 0;\n",
       "      width: 32px;\n",
       "    }\n",
       "\n",
       "    .colab-df-convert:hover {\n",
       "      background-color: #E2EBFA;\n",
       "      box-shadow: 0px 1px 2px rgba(60, 64, 67, 0.3), 0px 1px 3px 1px rgba(60, 64, 67, 0.15);\n",
       "      fill: #174EA6;\n",
       "    }\n",
       "\n",
       "    [theme=dark] .colab-df-convert {\n",
       "      background-color: #3B4455;\n",
       "      fill: #D2E3FC;\n",
       "    }\n",
       "\n",
       "    [theme=dark] .colab-df-convert:hover {\n",
       "      background-color: #434B5C;\n",
       "      box-shadow: 0px 1px 3px 1px rgba(0, 0, 0, 0.15);\n",
       "      filter: drop-shadow(0px 1px 2px rgba(0, 0, 0, 0.3));\n",
       "      fill: #FFFFFF;\n",
       "    }\n",
       "  </style>\n",
       "\n",
       "      <script>\n",
       "        const buttonEl =\n",
       "          document.querySelector('#df-5e5e9c31-8c3b-4bba-b594-1de2158b82d1 button.colab-df-convert');\n",
       "        buttonEl.style.display =\n",
       "          google.colab.kernel.accessAllowed ? 'block' : 'none';\n",
       "\n",
       "        async function convertToInteractive(key) {\n",
       "          const element = document.querySelector('#df-5e5e9c31-8c3b-4bba-b594-1de2158b82d1');\n",
       "          const dataTable =\n",
       "            await google.colab.kernel.invokeFunction('convertToInteractive',\n",
       "                                                     [key], {});\n",
       "          if (!dataTable) return;\n",
       "\n",
       "          const docLinkHtml = 'Like what you see? Visit the ' +\n",
       "            '<a target=\"_blank\" href=https://colab.research.google.com/notebooks/data_table.ipynb>data table notebook</a>'\n",
       "            + ' to learn more about interactive tables.';\n",
       "          element.innerHTML = '';\n",
       "          dataTable['output_type'] = 'display_data';\n",
       "          await google.colab.output.renderOutput(dataTable, element);\n",
       "          const docLink = document.createElement('div');\n",
       "          docLink.innerHTML = docLinkHtml;\n",
       "          element.appendChild(docLink);\n",
       "        }\n",
       "      </script>\n",
       "    </div>\n",
       "  </div>\n",
       "  "
      ],
      "text/plain": [
       "                         params  mean_test_accuracy  std_test_accuracy\n",
       "8     {'C': 1, 'penalty': 'l1'}            0.502124           0.009045\n",
       "6   {'C': 0.1, 'penalty': 'l1'}            0.501810           0.007337\n",
       "10   {'C': 10, 'penalty': 'l1'}            0.501652           0.009960\n",
       "11   {'C': 10, 'penalty': 'l2'}            0.501652           0.009960\n",
       "9     {'C': 1, 'penalty': 'l2'}            0.501338           0.009845"
      ]
     },
     "execution_count": 58,
     "metadata": {},
     "output_type": "execute_result"
    }
   ],
   "source": [
    "grid_logistic_result = pd.DataFrame.from_dict(grid_logistic.cv_results_)\n",
    "grid_logistic_result = grid_logistic_result.sort_values('rank_test_accuracy')\n",
    "grid_logistic_result[['params', 'mean_test_accuracy', 'std_test_accuracy']].head(5)"
   ]
  },
  {
   "cell_type": "markdown",
   "id": "hBckTMJxiWuY",
   "metadata": {
    "id": "hBckTMJxiWuY"
   },
   "source": [
    "### ผลของ RBF SVM"
   ]
  },
  {
   "cell_type": "code",
   "execution_count": 59,
   "id": "EKCBC_QXiXHx",
   "metadata": {
    "colab": {
     "base_uri": "https://localhost:8080/",
     "height": 206
    },
    "executionInfo": {
     "elapsed": 6,
     "status": "ok",
     "timestamp": 1667133632652,
     "user": {
      "displayName": "Sira Sriswasdi",
      "userId": "03069351775920236110"
     },
     "user_tz": -420
    },
    "id": "EKCBC_QXiXHx",
    "outputId": "8aa2c359-f654-4a6a-c498-b7e539174744"
   },
   "outputs": [
    {
     "data": {
      "text/html": [
       "\n",
       "  <div id=\"df-35c7a23f-2f75-46ab-8132-101c0de82372\">\n",
       "    <div class=\"colab-df-container\">\n",
       "      <div>\n",
       "<style scoped>\n",
       "    .dataframe tbody tr th:only-of-type {\n",
       "        vertical-align: middle;\n",
       "    }\n",
       "\n",
       "    .dataframe tbody tr th {\n",
       "        vertical-align: top;\n",
       "    }\n",
       "\n",
       "    .dataframe thead th {\n",
       "        text-align: right;\n",
       "    }\n",
       "</style>\n",
       "<table border=\"1\" class=\"dataframe\">\n",
       "  <thead>\n",
       "    <tr style=\"text-align: right;\">\n",
       "      <th></th>\n",
       "      <th>params</th>\n",
       "      <th>mean_test_accuracy</th>\n",
       "      <th>std_test_accuracy</th>\n",
       "    </tr>\n",
       "  </thead>\n",
       "  <tbody>\n",
       "    <tr>\n",
       "      <th>2</th>\n",
       "      <td>{'C': 1.0}</td>\n",
       "      <td>0.508891</td>\n",
       "      <td>0.008198</td>\n",
       "    </tr>\n",
       "    <tr>\n",
       "      <th>3</th>\n",
       "      <td>{'C': 31.622776601683793}</td>\n",
       "      <td>0.500708</td>\n",
       "      <td>0.007686</td>\n",
       "    </tr>\n",
       "    <tr>\n",
       "      <th>4</th>\n",
       "      <td>{'C': 1000.0}</td>\n",
       "      <td>0.480094</td>\n",
       "      <td>0.010838</td>\n",
       "    </tr>\n",
       "    <tr>\n",
       "      <th>1</th>\n",
       "      <td>{'C': 0.03162277660168379}</td>\n",
       "      <td>0.476947</td>\n",
       "      <td>0.017233</td>\n",
       "    </tr>\n",
       "    <tr>\n",
       "      <th>0</th>\n",
       "      <td>{'C': 0.001}</td>\n",
       "      <td>0.278993</td>\n",
       "      <td>0.000385</td>\n",
       "    </tr>\n",
       "  </tbody>\n",
       "</table>\n",
       "</div>\n",
       "      <button class=\"colab-df-convert\" onclick=\"convertToInteractive('df-35c7a23f-2f75-46ab-8132-101c0de82372')\"\n",
       "              title=\"Convert this dataframe to an interactive table.\"\n",
       "              style=\"display:none;\">\n",
       "        \n",
       "  <svg xmlns=\"http://www.w3.org/2000/svg\" height=\"24px\"viewBox=\"0 0 24 24\"\n",
       "       width=\"24px\">\n",
       "    <path d=\"M0 0h24v24H0V0z\" fill=\"none\"/>\n",
       "    <path d=\"M18.56 5.44l.94 2.06.94-2.06 2.06-.94-2.06-.94-.94-2.06-.94 2.06-2.06.94zm-11 1L8.5 8.5l.94-2.06 2.06-.94-2.06-.94L8.5 2.5l-.94 2.06-2.06.94zm10 10l.94 2.06.94-2.06 2.06-.94-2.06-.94-.94-2.06-.94 2.06-2.06.94z\"/><path d=\"M17.41 7.96l-1.37-1.37c-.4-.4-.92-.59-1.43-.59-.52 0-1.04.2-1.43.59L10.3 9.45l-7.72 7.72c-.78.78-.78 2.05 0 2.83L4 21.41c.39.39.9.59 1.41.59.51 0 1.02-.2 1.41-.59l7.78-7.78 2.81-2.81c.8-.78.8-2.07 0-2.86zM5.41 20L4 18.59l7.72-7.72 1.47 1.35L5.41 20z\"/>\n",
       "  </svg>\n",
       "      </button>\n",
       "      \n",
       "  <style>\n",
       "    .colab-df-container {\n",
       "      display:flex;\n",
       "      flex-wrap:wrap;\n",
       "      gap: 12px;\n",
       "    }\n",
       "\n",
       "    .colab-df-convert {\n",
       "      background-color: #E8F0FE;\n",
       "      border: none;\n",
       "      border-radius: 50%;\n",
       "      cursor: pointer;\n",
       "      display: none;\n",
       "      fill: #1967D2;\n",
       "      height: 32px;\n",
       "      padding: 0 0 0 0;\n",
       "      width: 32px;\n",
       "    }\n",
       "\n",
       "    .colab-df-convert:hover {\n",
       "      background-color: #E2EBFA;\n",
       "      box-shadow: 0px 1px 2px rgba(60, 64, 67, 0.3), 0px 1px 3px 1px rgba(60, 64, 67, 0.15);\n",
       "      fill: #174EA6;\n",
       "    }\n",
       "\n",
       "    [theme=dark] .colab-df-convert {\n",
       "      background-color: #3B4455;\n",
       "      fill: #D2E3FC;\n",
       "    }\n",
       "\n",
       "    [theme=dark] .colab-df-convert:hover {\n",
       "      background-color: #434B5C;\n",
       "      box-shadow: 0px 1px 3px 1px rgba(0, 0, 0, 0.15);\n",
       "      filter: drop-shadow(0px 1px 2px rgba(0, 0, 0, 0.3));\n",
       "      fill: #FFFFFF;\n",
       "    }\n",
       "  </style>\n",
       "\n",
       "      <script>\n",
       "        const buttonEl =\n",
       "          document.querySelector('#df-35c7a23f-2f75-46ab-8132-101c0de82372 button.colab-df-convert');\n",
       "        buttonEl.style.display =\n",
       "          google.colab.kernel.accessAllowed ? 'block' : 'none';\n",
       "\n",
       "        async function convertToInteractive(key) {\n",
       "          const element = document.querySelector('#df-35c7a23f-2f75-46ab-8132-101c0de82372');\n",
       "          const dataTable =\n",
       "            await google.colab.kernel.invokeFunction('convertToInteractive',\n",
       "                                                     [key], {});\n",
       "          if (!dataTable) return;\n",
       "\n",
       "          const docLinkHtml = 'Like what you see? Visit the ' +\n",
       "            '<a target=\"_blank\" href=https://colab.research.google.com/notebooks/data_table.ipynb>data table notebook</a>'\n",
       "            + ' to learn more about interactive tables.';\n",
       "          element.innerHTML = '';\n",
       "          dataTable['output_type'] = 'display_data';\n",
       "          await google.colab.output.renderOutput(dataTable, element);\n",
       "          const docLink = document.createElement('div');\n",
       "          docLink.innerHTML = docLinkHtml;\n",
       "          element.appendChild(docLink);\n",
       "        }\n",
       "      </script>\n",
       "    </div>\n",
       "  </div>\n",
       "  "
      ],
      "text/plain": [
       "                       params  mean_test_accuracy  std_test_accuracy\n",
       "2                  {'C': 1.0}            0.508891           0.008198\n",
       "3   {'C': 31.622776601683793}            0.500708           0.007686\n",
       "4               {'C': 1000.0}            0.480094           0.010838\n",
       "1  {'C': 0.03162277660168379}            0.476947           0.017233\n",
       "0                {'C': 0.001}            0.278993           0.000385"
      ]
     },
     "execution_count": 59,
     "metadata": {},
     "output_type": "execute_result"
    }
   ],
   "source": [
    "grid_rbf_svm_result = pd.DataFrame.from_dict(grid_rbf_svm.cv_results_)\n",
    "grid_rbf_svm_result = grid_rbf_svm_result.sort_values('rank_test_accuracy')\n",
    "grid_rbf_svm_result[['params', 'mean_test_accuracy', 'std_test_accuracy']].head(5)"
   ]
  },
  {
   "cell_type": "markdown",
   "id": "xy4wUPXW6KfC",
   "metadata": {
    "id": "xy4wUPXW6KfC"
   },
   "source": [
    "## วิเคราะห์ความผิดพลาดของโมเดล Logistic Regression\n",
    "รายงานผลภาพรวมด้วย Classification report"
   ]
  },
  {
   "cell_type": "code",
   "execution_count": 63,
   "id": "6xU8dHNz6Kyg",
   "metadata": {
    "colab": {
     "base_uri": "https://localhost:8080/"
    },
    "executionInfo": {
     "elapsed": 3,
     "status": "ok",
     "timestamp": 1667133682125,
     "user": {
      "displayName": "Sira Sriswasdi",
      "userId": "03069351775920236110"
     },
     "user_tz": -420
    },
    "id": "6xU8dHNz6Kyg",
    "outputId": "dc2bef37-53ce-47df-be9b-d54c33e72880"
   },
   "outputs": [
    {
     "name": "stdout",
     "output_type": "stream",
     "text": [
      "              precision    recall  f1-score   support\n",
      "\n",
      "           A       0.42      0.49      0.45       388\n",
      "           B       0.38      0.12      0.18       367\n",
      "           C       0.48      0.67      0.56       390\n",
      "           D       0.65      0.69      0.67       444\n",
      "\n",
      "    accuracy                           0.50      1589\n",
      "   macro avg       0.48      0.49      0.46      1589\n",
      "weighted avg       0.49      0.50      0.47      1589\n",
      "\n"
     ]
    }
   ],
   "source": [
    "grid_logistic_pred_test = grid_logistic.predict(X_test_std)\n",
    "print(classification_report(y_test, grid_logistic_pred_test))"
   ]
  },
  {
   "cell_type": "markdown",
   "id": "ljosLPzcjsvo",
   "metadata": {
    "id": "ljosLPzcjsvo"
   },
   "source": [
    "ดูรายละเอียดความผิดพลาดระหว่างกลุ่มด้วย Confusion matrix"
   ]
  },
  {
   "cell_type": "code",
   "execution_count": 64,
   "id": "UmHwRNoS6VJw",
   "metadata": {
    "colab": {
     "base_uri": "https://localhost:8080/",
     "height": 175
    },
    "executionInfo": {
     "elapsed": 579,
     "status": "ok",
     "timestamp": 1667133709546,
     "user": {
      "displayName": "Sira Sriswasdi",
      "userId": "03069351775920236110"
     },
     "user_tz": -420
    },
    "id": "UmHwRNoS6VJw",
    "outputId": "f3faf8f7-10a1-4037-ace5-bee1c95c71bd"
   },
   "outputs": [
    {
     "data": {
      "text/html": [
       "\n",
       "  <div id=\"df-965206a3-8926-4a94-80e8-00372929b12c\">\n",
       "    <div class=\"colab-df-container\">\n",
       "      <div>\n",
       "<style scoped>\n",
       "    .dataframe tbody tr th:only-of-type {\n",
       "        vertical-align: middle;\n",
       "    }\n",
       "\n",
       "    .dataframe tbody tr th {\n",
       "        vertical-align: top;\n",
       "    }\n",
       "\n",
       "    .dataframe thead th {\n",
       "        text-align: right;\n",
       "    }\n",
       "</style>\n",
       "<table border=\"1\" class=\"dataframe\">\n",
       "  <thead>\n",
       "    <tr style=\"text-align: right;\">\n",
       "      <th></th>\n",
       "      <th>Predicted A</th>\n",
       "      <th>Predicted B</th>\n",
       "      <th>Predicted C</th>\n",
       "      <th>Predicted D</th>\n",
       "    </tr>\n",
       "  </thead>\n",
       "  <tbody>\n",
       "    <tr>\n",
       "      <th>A</th>\n",
       "      <td>189</td>\n",
       "      <td>33</td>\n",
       "      <td>92</td>\n",
       "      <td>74</td>\n",
       "    </tr>\n",
       "    <tr>\n",
       "      <th>B</th>\n",
       "      <td>117</td>\n",
       "      <td>43</td>\n",
       "      <td>164</td>\n",
       "      <td>43</td>\n",
       "    </tr>\n",
       "    <tr>\n",
       "      <th>C</th>\n",
       "      <td>53</td>\n",
       "      <td>24</td>\n",
       "      <td>261</td>\n",
       "      <td>52</td>\n",
       "    </tr>\n",
       "    <tr>\n",
       "      <th>D</th>\n",
       "      <td>93</td>\n",
       "      <td>12</td>\n",
       "      <td>31</td>\n",
       "      <td>308</td>\n",
       "    </tr>\n",
       "  </tbody>\n",
       "</table>\n",
       "</div>\n",
       "      <button class=\"colab-df-convert\" onclick=\"convertToInteractive('df-965206a3-8926-4a94-80e8-00372929b12c')\"\n",
       "              title=\"Convert this dataframe to an interactive table.\"\n",
       "              style=\"display:none;\">\n",
       "        \n",
       "  <svg xmlns=\"http://www.w3.org/2000/svg\" height=\"24px\"viewBox=\"0 0 24 24\"\n",
       "       width=\"24px\">\n",
       "    <path d=\"M0 0h24v24H0V0z\" fill=\"none\"/>\n",
       "    <path d=\"M18.56 5.44l.94 2.06.94-2.06 2.06-.94-2.06-.94-.94-2.06-.94 2.06-2.06.94zm-11 1L8.5 8.5l.94-2.06 2.06-.94-2.06-.94L8.5 2.5l-.94 2.06-2.06.94zm10 10l.94 2.06.94-2.06 2.06-.94-2.06-.94-.94-2.06-.94 2.06-2.06.94z\"/><path d=\"M17.41 7.96l-1.37-1.37c-.4-.4-.92-.59-1.43-.59-.52 0-1.04.2-1.43.59L10.3 9.45l-7.72 7.72c-.78.78-.78 2.05 0 2.83L4 21.41c.39.39.9.59 1.41.59.51 0 1.02-.2 1.41-.59l7.78-7.78 2.81-2.81c.8-.78.8-2.07 0-2.86zM5.41 20L4 18.59l7.72-7.72 1.47 1.35L5.41 20z\"/>\n",
       "  </svg>\n",
       "      </button>\n",
       "      \n",
       "  <style>\n",
       "    .colab-df-container {\n",
       "      display:flex;\n",
       "      flex-wrap:wrap;\n",
       "      gap: 12px;\n",
       "    }\n",
       "\n",
       "    .colab-df-convert {\n",
       "      background-color: #E8F0FE;\n",
       "      border: none;\n",
       "      border-radius: 50%;\n",
       "      cursor: pointer;\n",
       "      display: none;\n",
       "      fill: #1967D2;\n",
       "      height: 32px;\n",
       "      padding: 0 0 0 0;\n",
       "      width: 32px;\n",
       "    }\n",
       "\n",
       "    .colab-df-convert:hover {\n",
       "      background-color: #E2EBFA;\n",
       "      box-shadow: 0px 1px 2px rgba(60, 64, 67, 0.3), 0px 1px 3px 1px rgba(60, 64, 67, 0.15);\n",
       "      fill: #174EA6;\n",
       "    }\n",
       "\n",
       "    [theme=dark] .colab-df-convert {\n",
       "      background-color: #3B4455;\n",
       "      fill: #D2E3FC;\n",
       "    }\n",
       "\n",
       "    [theme=dark] .colab-df-convert:hover {\n",
       "      background-color: #434B5C;\n",
       "      box-shadow: 0px 1px 3px 1px rgba(0, 0, 0, 0.15);\n",
       "      filter: drop-shadow(0px 1px 2px rgba(0, 0, 0, 0.3));\n",
       "      fill: #FFFFFF;\n",
       "    }\n",
       "  </style>\n",
       "\n",
       "      <script>\n",
       "        const buttonEl =\n",
       "          document.querySelector('#df-965206a3-8926-4a94-80e8-00372929b12c button.colab-df-convert');\n",
       "        buttonEl.style.display =\n",
       "          google.colab.kernel.accessAllowed ? 'block' : 'none';\n",
       "\n",
       "        async function convertToInteractive(key) {\n",
       "          const element = document.querySelector('#df-965206a3-8926-4a94-80e8-00372929b12c');\n",
       "          const dataTable =\n",
       "            await google.colab.kernel.invokeFunction('convertToInteractive',\n",
       "                                                     [key], {});\n",
       "          if (!dataTable) return;\n",
       "\n",
       "          const docLinkHtml = 'Like what you see? Visit the ' +\n",
       "            '<a target=\"_blank\" href=https://colab.research.google.com/notebooks/data_table.ipynb>data table notebook</a>'\n",
       "            + ' to learn more about interactive tables.';\n",
       "          element.innerHTML = '';\n",
       "          dataTable['output_type'] = 'display_data';\n",
       "          await google.colab.output.renderOutput(dataTable, element);\n",
       "          const docLink = document.createElement('div');\n",
       "          docLink.innerHTML = docLinkHtml;\n",
       "          element.appendChild(docLink);\n",
       "        }\n",
       "      </script>\n",
       "    </div>\n",
       "  </div>\n",
       "  "
      ],
      "text/plain": [
       "   Predicted A  Predicted B  Predicted C  Predicted D\n",
       "A          189           33           92           74\n",
       "B          117           43          164           43\n",
       "C           53           24          261           52\n",
       "D           93           12           31          308"
      ]
     },
     "execution_count": 64,
     "metadata": {},
     "output_type": "execute_result"
    }
   ],
   "source": [
    "conf_mat = pd.DataFrame(confusion_matrix(y_test, grid_logistic_pred_test),\n",
    "                        index = ordered_class, columns = ['Predicted ' + x for x in ordered_class])\n",
    "conf_mat.head(5)"
   ]
  },
  {
   "cell_type": "code",
   "execution_count": 65,
   "id": "5rzhqjDJ6X3A",
   "metadata": {
    "colab": {
     "base_uri": "https://localhost:8080/",
     "height": 320
    },
    "executionInfo": {
     "elapsed": 12,
     "status": "ok",
     "timestamp": 1667133713409,
     "user": {
      "displayName": "Sira Sriswasdi",
      "userId": "03069351775920236110"
     },
     "user_tz": -420
    },
    "id": "5rzhqjDJ6X3A",
    "outputId": "6159bd03-a284-43bd-de5f-52a37b1e4e6d"
   },
   "outputs": [
    {
     "data": {
      "image/png": "[encoded data removed]",
      "text/plain": [
       "<Figure size 432x360 with 2 Axes>"
      ]
     },
     "metadata": {
      "needs_background": "light"
     },
     "output_type": "display_data"
    }
   ],
   "source": [
    "plt.figure(figsize = (6, 5))\n",
    "sns.heatmap(conf_mat, annot = True)\n",
    "plt.show()"
   ]
  },
  {
   "cell_type": "markdown",
   "id": "x11jLBb0D-5c",
   "metadata": {
    "id": "x11jLBb0D-5c"
   },
   "source": [
    "## วิเคราะห์ความผิดพลาดของโมเดล RBF SVM\n",
    "รายงานผลภาพรวมด้วย Classification report"
   ]
  },
  {
   "cell_type": "code",
   "execution_count": 60,
   "id": "dd56qLEK7gyZ",
   "metadata": {
    "colab": {
     "base_uri": "https://localhost:8080/"
    },
    "executionInfo": {
     "elapsed": 1965,
     "status": "ok",
     "timestamp": 1667133634612,
     "user": {
      "displayName": "Sira Sriswasdi",
      "userId": "03069351775920236110"
     },
     "user_tz": -420
    },
    "id": "dd56qLEK7gyZ",
    "outputId": "f0c46394-e432-4995-dd4a-c8f203f6b834"
   },
   "outputs": [
    {
     "name": "stdout",
     "output_type": "stream",
     "text": [
      "              precision    recall  f1-score   support\n",
      "\n",
      "           A       0.45      0.51      0.48       388\n",
      "           B       0.39      0.34      0.36       367\n",
      "           C       0.58      0.52      0.55       390\n",
      "           D       0.64      0.69      0.67       444\n",
      "\n",
      "    accuracy                           0.52      1589\n",
      "   macro avg       0.52      0.52      0.51      1589\n",
      "weighted avg       0.52      0.52      0.52      1589\n",
      "\n"
     ]
    }
   ],
   "source": [
    "grid_rbf_svm_pred_test = grid_rbf_svm.predict(X_test_std)\n",
    "print(classification_report(y_test, grid_rbf_svm_pred_test))"
   ]
  },
  {
   "cell_type": "code",
   "execution_count": 61,
   "id": "Y9sKQOXWjs__",
   "metadata": {
    "colab": {
     "base_uri": "https://localhost:8080/",
     "height": 175
    },
    "executionInfo": {
     "elapsed": 12,
     "status": "ok",
     "timestamp": 1667133634613,
     "user": {
      "displayName": "Sira Sriswasdi",
      "userId": "03069351775920236110"
     },
     "user_tz": -420
    },
    "id": "Y9sKQOXWjs__",
    "outputId": "3eac4bd3-97fb-48af-beed-065a7382ec59"
   },
   "outputs": [
    {
     "data": {
      "text/html": [
       "\n",
       "  <div id=\"df-21179e0f-6256-4275-90c0-b7c304976b88\">\n",
       "    <div class=\"colab-df-container\">\n",
       "      <div>\n",
       "<style scoped>\n",
       "    .dataframe tbody tr th:only-of-type {\n",
       "        vertical-align: middle;\n",
       "    }\n",
       "\n",
       "    .dataframe tbody tr th {\n",
       "        vertical-align: top;\n",
       "    }\n",
       "\n",
       "    .dataframe thead th {\n",
       "        text-align: right;\n",
       "    }\n",
       "</style>\n",
       "<table border=\"1\" class=\"dataframe\">\n",
       "  <thead>\n",
       "    <tr style=\"text-align: right;\">\n",
       "      <th></th>\n",
       "      <th>Predicted A</th>\n",
       "      <th>Predicted B</th>\n",
       "      <th>Predicted C</th>\n",
       "      <th>Predicted D</th>\n",
       "    </tr>\n",
       "  </thead>\n",
       "  <tbody>\n",
       "    <tr>\n",
       "      <th>A</th>\n",
       "      <td>198</td>\n",
       "      <td>87</td>\n",
       "      <td>30</td>\n",
       "      <td>73</td>\n",
       "    </tr>\n",
       "    <tr>\n",
       "      <th>B</th>\n",
       "      <td>90</td>\n",
       "      <td>125</td>\n",
       "      <td>107</td>\n",
       "      <td>45</td>\n",
       "    </tr>\n",
       "    <tr>\n",
       "      <th>C</th>\n",
       "      <td>48</td>\n",
       "      <td>86</td>\n",
       "      <td>204</td>\n",
       "      <td>52</td>\n",
       "    </tr>\n",
       "    <tr>\n",
       "      <th>D</th>\n",
       "      <td>100</td>\n",
       "      <td>25</td>\n",
       "      <td>12</td>\n",
       "      <td>307</td>\n",
       "    </tr>\n",
       "  </tbody>\n",
       "</table>\n",
       "</div>\n",
       "      <button class=\"colab-df-convert\" onclick=\"convertToInteractive('df-21179e0f-6256-4275-90c0-b7c304976b88')\"\n",
       "              title=\"Convert this dataframe to an interactive table.\"\n",
       "              style=\"display:none;\">\n",
       "        \n",
       "  <svg xmlns=\"http://www.w3.org/2000/svg\" height=\"24px\"viewBox=\"0 0 24 24\"\n",
       "       width=\"24px\">\n",
       "    <path d=\"M0 0h24v24H0V0z\" fill=\"none\"/>\n",
       "    <path d=\"M18.56 5.44l.94 2.06.94-2.06 2.06-.94-2.06-.94-.94-2.06-.94 2.06-2.06.94zm-11 1L8.5 8.5l.94-2.06 2.06-.94-2.06-.94L8.5 2.5l-.94 2.06-2.06.94zm10 10l.94 2.06.94-2.06 2.06-.94-2.06-.94-.94-2.06-.94 2.06-2.06.94z\"/><path d=\"M17.41 7.96l-1.37-1.37c-.4-.4-.92-.59-1.43-.59-.52 0-1.04.2-1.43.59L10.3 9.45l-7.72 7.72c-.78.78-.78 2.05 0 2.83L4 21.41c.39.39.9.59 1.41.59.51 0 1.02-.2 1.41-.59l7.78-7.78 2.81-2.81c.8-.78.8-2.07 0-2.86zM5.41 20L4 18.59l7.72-7.72 1.47 1.35L5.41 20z\"/>\n",
       "  </svg>\n",
       "      </button>\n",
       "      \n",
       "  <style>\n",
       "    .colab-df-container {\n",
       "      display:flex;\n",
       "      flex-wrap:wrap;\n",
       "      gap: 12px;\n",
       "    }\n",
       "\n",
       "    .colab-df-convert {\n",
       "      background-color: #E8F0FE;\n",
       "      border: none;\n",
       "      border-radius: 50%;\n",
       "      cursor: pointer;\n",
       "      display: none;\n",
       "      fill: #1967D2;\n",
       "      height: 32px;\n",
       "      padding: 0 0 0 0;\n",
       "      width: 32px;\n",
       "    }\n",
       "\n",
       "    .colab-df-convert:hover {\n",
       "      background-color: #E2EBFA;\n",
       "      box-shadow: 0px 1px 2px rgba(60, 64, 67, 0.3), 0px 1px 3px 1px rgba(60, 64, 67, 0.15);\n",
       "      fill: #174EA6;\n",
       "    }\n",
       "\n",
       "    [theme=dark] .colab-df-convert {\n",
       "      background-color: #3B4455;\n",
       "      fill: #D2E3FC;\n",
       "    }\n",
       "\n",
       "    [theme=dark] .colab-df-convert:hover {\n",
       "      background-color: #434B5C;\n",
       "      box-shadow: 0px 1px 3px 1px rgba(0, 0, 0, 0.15);\n",
       "      filter: drop-shadow(0px 1px 2px rgba(0, 0, 0, 0.3));\n",
       "      fill: #FFFFFF;\n",
       "    }\n",
       "  </style>\n",
       "\n",
       "      <script>\n",
       "        const buttonEl =\n",
       "          document.querySelector('#df-21179e0f-6256-4275-90c0-b7c304976b88 button.colab-df-convert');\n",
       "        buttonEl.style.display =\n",
       "          google.colab.kernel.accessAllowed ? 'block' : 'none';\n",
       "\n",
       "        async function convertToInteractive(key) {\n",
       "          const element = document.querySelector('#df-21179e0f-6256-4275-90c0-b7c304976b88');\n",
       "          const dataTable =\n",
       "            await google.colab.kernel.invokeFunction('convertToInteractive',\n",
       "                                                     [key], {});\n",
       "          if (!dataTable) return;\n",
       "\n",
       "          const docLinkHtml = 'Like what you see? Visit the ' +\n",
       "            '<a target=\"_blank\" href=https://colab.research.google.com/notebooks/data_table.ipynb>data table notebook</a>'\n",
       "            + ' to learn more about interactive tables.';\n",
       "          element.innerHTML = '';\n",
       "          dataTable['output_type'] = 'display_data';\n",
       "          await google.colab.output.renderOutput(dataTable, element);\n",
       "          const docLink = document.createElement('div');\n",
       "          docLink.innerHTML = docLinkHtml;\n",
       "          element.appendChild(docLink);\n",
       "        }\n",
       "      </script>\n",
       "    </div>\n",
       "  </div>\n",
       "  "
      ],
      "text/plain": [
       "   Predicted A  Predicted B  Predicted C  Predicted D\n",
       "A          198           87           30           73\n",
       "B           90          125          107           45\n",
       "C           48           86          204           52\n",
       "D          100           25           12          307"
      ]
     },
     "execution_count": 61,
     "metadata": {},
     "output_type": "execute_result"
    }
   ],
   "source": [
    "conf_mat = pd.DataFrame(confusion_matrix(y_test, grid_rbf_svm_pred_test),\n",
    "                        index = ordered_class, columns = ['Predicted ' + x for x in ordered_class])\n",
    "conf_mat.head(5)"
   ]
  },
  {
   "cell_type": "code",
   "execution_count": 62,
   "id": "0Qhzn5IJkYkA",
   "metadata": {
    "colab": {
     "base_uri": "https://localhost:8080/",
     "height": 320
    },
    "executionInfo": {
     "elapsed": 1031,
     "status": "ok",
     "timestamp": 1667133635635,
     "user": {
      "displayName": "Sira Sriswasdi",
      "userId": "03069351775920236110"
     },
     "user_tz": -420
    },
    "id": "0Qhzn5IJkYkA",
    "outputId": "ef29fb4a-4cbf-4063-8a67-2712ca9ec83a"
   },
   "outputs": [
    {
     "data": {
      "image/png": "[encoded data removed]",
      "text/plain": [
       "<Figure size 432x360 with 2 Axes>"
      ]
     },
     "metadata": {
      "needs_background": "light"
     },
     "output_type": "display_data"
    }
   ],
   "source": [
    "plt.figure(figsize = (6, 5))\n",
    "sns.heatmap(conf_mat, annot = True)\n",
    "plt.show()"
   ]
  }
 ],
 "metadata": {
  "colab": {
   "collapsed_sections": [],
   "provenance": [],
   "toc_visible": true
  },
  "kernelspec": {
   "display_name": "Python 3",
   "language": "python",
   "name": "python3"
  },
  "language_info": {
   "codemirror_mode": {
    "name": "ipython",
    "version": 3
   },
   "file_extension": ".py",
   "mimetype": "text/x-python",
   "name": "python",
   "nbconvert_exporter": "python",
   "pygments_lexer": "ipython3",
   "version": "3.8.7"
  }
 },
 "nbformat": 4,
 "nbformat_minor": 5
}
