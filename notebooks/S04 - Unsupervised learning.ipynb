{
 "cells": [
  {
   "cell_type": "markdown",
   "id": "undefined-helping",
   "metadata": {
    "id": "undefined-helping"
   },
   "source": [
    "# คำชี้แจง\n",
    "ในสัปดาห์นี้ เราจะฝึกใช้ library scikit-learn และ umap-learn เพื่อทำการลดมิติข้อมูลสำหรับแสดงผลและตีความ\n",
    "\n",
    "บน Colab ไม่มี umap-learn ดังนั้นต้อง install ก่อน"
   ]
  },
  {
   "cell_type": "code",
   "execution_count": null,
   "id": "pointed-dependence",
   "metadata": {
    "colab": {
     "base_uri": "https://localhost:8080/"
    },
    "id": "pointed-dependence",
    "outputId": "d22a0524-77ae-46d6-aab3-bffffd64a98a"
   },
   "outputs": [],
   "source": [
    "!pip install umap-learn"
   ]
  },
  {
   "cell_type": "code",
   "execution_count": null,
   "id": "WVseCUDsi1mE",
   "metadata": {
    "colab": {
     "base_uri": "https://localhost:8080/"
    },
    "id": "WVseCUDsi1mE",
    "outputId": "a853fa37-c45f-4124-8d25-799c5d41435d"
   },
   "outputs": [],
   "source": [
    "from google.colab import drive\n",
    "drive.mount('/content/drive')"
   ]
  },
  {
   "cell_type": "code",
   "execution_count": null,
   "id": "pharmaceutical-thomson",
   "metadata": {
    "id": "pharmaceutical-thomson"
   },
   "outputs": [],
   "source": [
    "import numpy as np\n",
    "import pandas as pd\n",
    "import matplotlib.pyplot as plt\n",
    "import umap\n",
    "\n",
    "from sklearn.decomposition import PCA\n",
    "from sklearn.manifold import TSNE, MDS"
   ]
  },
  {
   "cell_type": "markdown",
   "id": "l9NCmW-Pj5dz",
   "metadata": {
    "id": "l9NCmW-Pj5dz"
   },
   "source": [
    "# ข้อมูลความแข็งแรงของคอนกรีต"
   ]
  },
  {
   "cell_type": "code",
   "execution_count": null,
   "id": "KzLoPJT2j40I",
   "metadata": {
    "colab": {
     "base_uri": "https://localhost:8080/",
     "height": 206
    },
    "id": "KzLoPJT2j40I",
    "outputId": "1ac78f68-6e4c-4cb9-ae03-0cd29438a980"
   },
   "outputs": [],
   "source": [
    "data = pd.read_csv('/content/drive/MyDrive/Datasets/ConcreteStrength.csv', index_col = None, header = 0)\n",
    "data.columns = [c.split('(')[0].strip() for c in data.columns] ## clean up column names\n",
    "data.head()"
   ]
  },
  {
   "cell_type": "markdown",
   "id": "frank-greensboro",
   "metadata": {
    "id": "frank-greensboro"
   },
   "source": [
    "## ใช้เฉพาะตัวแปร input\n",
    "ทำการ standardize"
   ]
  },
  {
   "cell_type": "code",
   "execution_count": null,
   "id": "surface-share",
   "metadata": {
    "colab": {
     "base_uri": "https://localhost:8080/",
     "height": 206
    },
    "id": "surface-share",
    "outputId": "7a5b34e3-8a2b-457e-da03-b420486301c5"
   },
   "outputs": [],
   "source": [
    "input_data = data.iloc[:, :-1]\n",
    "std_data = (input_data - input_data.mean()) / input_data.std()\n",
    "\n",
    "std_data.head()"
   ]
  },
  {
   "cell_type": "markdown",
   "id": "cleared-place",
   "metadata": {
    "id": "cleared-place"
   },
   "source": [
    "# เริ่มจาก PCA บนข้อมูลทุกจุด"
   ]
  },
  {
   "cell_type": "code",
   "execution_count": null,
   "id": "scheduled-aspect",
   "metadata": {
    "colab": {
     "base_uri": "https://localhost:8080/",
     "height": 297
    },
    "id": "scheduled-aspect",
    "outputId": "ffeab3af-e0cc-4531-8037-e25f2981e7e6"
   },
   "outputs": [],
   "source": [
    "pca = PCA(random_state = 25).fit(std_data)\n",
    "pca_embed = pca.transform(std_data)\n",
    "\n",
    "plt.figure(figsize = (10, 4))\n",
    "plt.subplot(1, 2, 1)\n",
    "plt.bar(range(1, pca.n_components_ + 1), pca.explained_variance_ratio_)\n",
    "plt.xlabel('PCA component')\n",
    "plt.ylabel('explained variance ratio')\n",
    "\n",
    "plt.subplot(1, 2, 2)\n",
    "cumulative = np.cumsum(pca.explained_variance_ratio_)\n",
    "plt.bar(range(1, pca.n_components_ + 1), cumulative)\n",
    "plt.plot([1, std_data.shape[1]], [0.95, 0.95], '--', color = 'tab:orange')\n",
    "plt.xlabel('PCA component')\n",
    "plt.ylabel('explained variance ratio')\n",
    "plt.title('cumulative')\n",
    "\n",
    "plt.tight_layout()\n",
    "plt.show()"
   ]
  },
  {
   "cell_type": "markdown",
   "id": "arbitrary-booth",
   "metadata": {
    "id": "arbitrary-booth"
   },
   "source": [
    "### ดู embedding ของข้อมูลบน PC1, PC2, PC3"
   ]
  },
  {
   "cell_type": "code",
   "execution_count": null,
   "id": "intense-marathon",
   "metadata": {
    "colab": {
     "base_uri": "https://localhost:8080/",
     "height": 369
    },
    "id": "intense-marathon",
    "outputId": "3e3231fb-0461-4f47-b5d0-a00fbd8d548f"
   },
   "outputs": [],
   "source": [
    "plt.figure(figsize = (10, 5))\n",
    "\n",
    "plt.subplot(1, 2, 1)\n",
    "plt.scatter(pca_embed[:, 0], pca_embed[:, 1])\n",
    "plt.xlabel('PCA component 1'); plt.ylabel('PCA component 2')\n",
    "\n",
    "plt.subplot(1, 2, 2)\n",
    "plt.scatter(pca_embed[:, 0], pca_embed[:, 2])\n",
    "plt.xlabel('PCA component 1'); plt.ylabel('PCA component 3')\n",
    "\n",
    "plt.tight_layout()\n",
    "plt.show()"
   ]
  },
  {
   "cell_type": "markdown",
   "id": "sitting-danger",
   "metadata": {
    "id": "sitting-danger"
   },
   "source": [
    "### ระบายสีด้วยค่าตัวแปรต่าง ๆ เพื่อทำความเข้าใจ"
   ]
  },
  {
   "cell_type": "code",
   "execution_count": null,
   "id": "marine-sellers",
   "metadata": {
    "colab": {
     "base_uri": "https://localhost:8080/",
     "height": 729
    },
    "id": "marine-sellers",
    "outputId": "5e1c972f-5fe5-48f8-9437-da26e0235eee"
   },
   "outputs": [],
   "source": [
    "plt.figure(figsize = (15, 10))\n",
    "\n",
    "for i, feature in enumerate(['Concrete compressive strength', 'Age', 'Cement', 'Water', 'Fly Ash', 'Fine Aggregate'], start = 1):\n",
    "    plt.subplot(2, 3, i)\n",
    "    plt.scatter(pca_embed[:, 0], pca_embed[:, 1], c = data[feature]);\n",
    "    plt.xlabel('PCA component 1'); plt.ylabel('PCA component 2')\n",
    "    plt.title(feature)\n",
    "\n",
    "plt.tight_layout()\n",
    "plt.show()"
   ]
  },
  {
   "cell_type": "markdown",
   "id": "simple-truck",
   "metadata": {
    "id": "simple-truck"
   },
   "source": [
    "## สนใจเฉพาะส่วนผสมของคอนกรีต\n",
    "ตัดตัวแปรอายุออก"
   ]
  },
  {
   "cell_type": "code",
   "execution_count": null,
   "id": "collected-replacement",
   "metadata": {
    "colab": {
     "base_uri": "https://localhost:8080/",
     "height": 314
    },
    "id": "collected-replacement",
    "outputId": "a0d2c3e1-f159-479e-9f61-35111a01c793"
   },
   "outputs": [],
   "source": [
    "mix_data = std_data.iloc[:, :-1].drop_duplicates()\n",
    "print(std_data.shape[0], mix_data.shape[0])\n",
    "\n",
    "pca = PCA(random_state = 25).fit(mix_data)\n",
    "pca_embed = pca.transform(mix_data)\n",
    "\n",
    "plt.figure(figsize = (10, 4))\n",
    "plt.subplot(1, 2, 1)\n",
    "plt.bar(range(1, pca.n_components_ + 1), pca.explained_variance_ratio_)\n",
    "plt.xlabel('PCA component')\n",
    "plt.ylabel('explained variance ratio')\n",
    "\n",
    "plt.subplot(1, 2, 2)\n",
    "cumulative = np.cumsum(pca.explained_variance_ratio_)\n",
    "plt.bar(range(1, pca.n_components_ + 1), cumulative)\n",
    "plt.plot([1, std_data.shape[1]], [0.95, 0.95], '--', color = 'tab:orange')\n",
    "plt.xlabel('PCA component')\n",
    "plt.ylabel('explained variance ratio')\n",
    "plt.title('cumulative')\n",
    "\n",
    "plt.tight_layout()\n",
    "plt.show()"
   ]
  },
  {
   "cell_type": "code",
   "execution_count": null,
   "id": "7ufbHmVKotVE",
   "metadata": {
    "colab": {
     "base_uri": "https://localhost:8080/",
     "height": 729
    },
    "id": "7ufbHmVKotVE",
    "outputId": "fd9cd8c8-0422-4dce-c243-ffa491e0cd70"
   },
   "outputs": [],
   "source": [
    "plt.figure(figsize = (15, 10))\n",
    "\n",
    "for i, feature in enumerate(['Concrete compressive strength', 'Age', 'Cement', 'Water', 'Fly Ash', 'Fine Aggregate'], start = 1):\n",
    "    plt.subplot(2, 3, i)\n",
    "    plt.scatter(pca_embed[:, 0], pca_embed[:, 1], c = data[feature].loc[mix_data.index]);\n",
    "    plt.xlabel('PCA component 1'); plt.ylabel('PCA component 2')\n",
    "    plt.title(feature)\n",
    "\n",
    "plt.tight_layout()\n",
    "plt.show()"
   ]
  },
  {
   "cell_type": "markdown",
   "id": "bronze-value",
   "metadata": {
    "id": "bronze-value"
   },
   "source": [
    "### PC1 ดูจะให้น้ำหนักกับ Cement และ Fly Ash"
   ]
  },
  {
   "cell_type": "code",
   "execution_count": null,
   "id": "cloudy-garage",
   "metadata": {
    "colab": {
     "base_uri": "https://localhost:8080/"
    },
    "id": "cloudy-garage",
    "outputId": "e81a9402-ba12-4f76-babf-8e272598710d"
   },
   "outputs": [],
   "source": [
    "print(pca.components_[0])"
   ]
  },
  {
   "cell_type": "code",
   "execution_count": null,
   "id": "stupid-measure",
   "metadata": {
    "colab": {
     "base_uri": "https://localhost:8080/",
     "height": 348
    },
    "id": "stupid-measure",
    "outputId": "e30e1645-2fd9-40cf-b5a9-3152ba258cbb"
   },
   "outputs": [],
   "source": [
    "plt.figure(figsize = (7, 4))\n",
    "plt.bar(range(mix_data.shape[1]), pca.components_[0])\n",
    "plt.xticks(range(mix_data.shape[1]), labels = mix_data.columns, rotation = 90)\n",
    "plt.ylabel('PC1 loading')\n",
    "plt.show()"
   ]
  },
  {
   "cell_type": "markdown",
   "id": "MNYTnYOdrQyv",
   "metadata": {
    "id": "MNYTnYOdrQyv"
   },
   "source": [
    "### PC2 ให้ความสำคัญกับ Blast Furnace Slag และ Water"
   ]
  },
  {
   "cell_type": "code",
   "execution_count": null,
   "id": "rmU9Hjn_rJoC",
   "metadata": {
    "colab": {
     "base_uri": "https://localhost:8080/",
     "height": 348
    },
    "id": "rmU9Hjn_rJoC",
    "outputId": "1fe5cef3-eca5-4747-df7b-f593d36d3abb"
   },
   "outputs": [],
   "source": [
    "plt.figure(figsize = (7, 4))\n",
    "plt.bar(range(mix_data.shape[1]), pca.components_[1])\n",
    "plt.xticks(range(mix_data.shape[1]), labels = mix_data.columns, rotation = 90)\n",
    "plt.ylabel('PC2 loading')\n",
    "plt.show()"
   ]
  },
  {
   "cell_type": "markdown",
   "id": "gothic-measure",
   "metadata": {
    "id": "gothic-measure"
   },
   "source": [
    "## จริง ๆ แล้ว PCA ต้องการแค่ centering (mean = 0) แต่ไม่ต้องสเกลก็ได้"
   ]
  },
  {
   "cell_type": "code",
   "execution_count": null,
   "id": "intense-introduction",
   "metadata": {
    "id": "intense-introduction"
   },
   "outputs": [],
   "source": [
    "center_data = input_data - input_data.mean()\n",
    "center_data = center_data.iloc[:, :-1].drop_duplicates()"
   ]
  },
  {
   "cell_type": "code",
   "execution_count": null,
   "id": "apart-electric",
   "metadata": {
    "colab": {
     "base_uri": "https://localhost:8080/",
     "height": 297
    },
    "id": "apart-electric",
    "outputId": "1c90bad3-edfd-474a-c4a2-fda9071b1118"
   },
   "outputs": [],
   "source": [
    "pca = PCA(random_state = 25).fit(center_data)\n",
    "pca_embed = pca.transform(center_data)\n",
    "\n",
    "plt.figure(figsize = (10, 4))\n",
    "plt.subplot(1, 2, 1)\n",
    "plt.bar(range(1, pca.n_components_ + 1), pca.explained_variance_ratio_)\n",
    "plt.xlabel('PCA component')\n",
    "plt.ylabel('explained variance ratio')\n",
    "\n",
    "plt.subplot(1, 2, 2)\n",
    "cumulative = np.cumsum(pca.explained_variance_ratio_)\n",
    "plt.bar(range(1, pca.n_components_ + 1), cumulative)\n",
    "plt.plot([1, pca.n_components_], [0.95, 0.95], '--', color = 'tab:orange')\n",
    "plt.xlabel('PCA component')\n",
    "plt.ylabel('explained variance ratio')\n",
    "plt.title('cumulative')\n",
    "\n",
    "plt.tight_layout()\n",
    "plt.show()"
   ]
  },
  {
   "cell_type": "markdown",
   "id": "interested-hamilton",
   "metadata": {
    "id": "interested-hamilton"
   },
   "source": [
    "### ตรวจสอบ loading ใหม่"
   ]
  },
  {
   "cell_type": "code",
   "execution_count": null,
   "id": "noted-hindu",
   "metadata": {
    "colab": {
     "base_uri": "https://localhost:8080/",
     "height": 406
    },
    "id": "noted-hindu",
    "outputId": "3c18c0bc-7bfa-4666-9a7e-ffe83ea809fa"
   },
   "outputs": [],
   "source": [
    "plt.figure(figsize = (7, 5))\n",
    "plt.imshow(pca.components_, cmap = 'RdBu', vmin = -1, vmax = 1)\n",
    "plt.xticks(range(pca.components_.shape[1]), labels = center_data.columns, rotation = 90)\n",
    "plt.yticks(range(pca.n_components_), labels = ['PC' + str(i) for i in range(1, pca.n_components_ + 1)])\n",
    "plt.colorbar()\n",
    "plt.show()"
   ]
  },
  {
   "cell_type": "markdown",
   "id": "3d44NGBUsTIE",
   "metadata": {
    "id": "3d44NGBUsTIE"
   },
   "source": [
    "### เปรียบเทียบกับ variance ในข้อมูล\n",
    "ดูสาเหตุที่ PCA ใหม่ไม่สนใจ Water และ Superplasticizer"
   ]
  },
  {
   "cell_type": "code",
   "execution_count": null,
   "id": "JRZC-DqSsTZC",
   "metadata": {
    "colab": {
     "base_uri": "https://localhost:8080/",
     "height": 348
    },
    "id": "JRZC-DqSsTZC",
    "outputId": "219a182a-b5c2-463a-bb91-bc53b9fc4273"
   },
   "outputs": [],
   "source": [
    "plt.figure(figsize = (7, 4))\n",
    "plt.bar(range(center_data.shape[1]), center_data.std())\n",
    "plt.xticks(range(center_data.shape[1]), labels = center_data.columns, rotation = 90)\n",
    "plt.ylabel('SD')\n",
    "plt.show()"
   ]
  },
  {
   "cell_type": "markdown",
   "id": "nWgxS7EEssJy",
   "metadata": {
    "id": "nWgxS7EEssJy"
   },
   "source": [
    "# ใช้ t-SNE\n",
    "ระบายสีด้วย compressive strength"
   ]
  },
  {
   "cell_type": "code",
   "execution_count": null,
   "id": "EzAjGk7Esseo",
   "metadata": {
    "colab": {
     "base_uri": "https://localhost:8080/",
     "height": 811
    },
    "id": "EzAjGk7Esseo",
    "outputId": "d06c7e2b-4aff-4bd3-b91e-029cd63ce87b"
   },
   "outputs": [],
   "source": [
    "perplexities = [5, 15, 25, 50]\n",
    "\n",
    "plt.figure(figsize = (15, 7))\n",
    "\n",
    "for i, k in enumerate(perplexities, start = 1):\n",
    "    plt.subplot(2, 4, i)\n",
    "    tsne_embed = TSNE(n_components = 2, perplexity = k, random_state = 25).fit_transform(std_data)\n",
    "    plt.scatter(tsne_embed[:, 0], tsne_embed[:, 1], c = data['Concrete compressive strength'])\n",
    "    plt.xlabel('t-SNE 1'); plt.ylabel('t-SNE 2')\n",
    "    plt.title('perplexity = ' + str(k))\n",
    "    \n",
    "    plt.subplot(2, 4, i + 4)\n",
    "    plt.scatter(tsne_embed[:, 0], tsne_embed[:, 1], c = data['Age'])\n",
    "    plt.xlabel('t-SNE 1'); plt.ylabel('t-SNE 2')\n",
    "    plt.title('perplexity = ' + str(k))\n",
    "\n",
    "plt.tight_layout()\n",
    "plt.show()"
   ]
  },
  {
   "cell_type": "markdown",
   "id": "2olnnglZtrGd",
   "metadata": {
    "id": "2olnnglZtrGd"
   },
   "source": [
    "ถ้าตั้งค่า preplexity ต่ำเกินไป ข้อมูลจะแตกเป็นกลุ่มย่อย ๆ ส่วนใหญ่ลองใช้กันที่ระหว่าง 5 - 50\n",
    "\n",
    "สำหรับกรณีนี้ 25 หรือ 50 ดูใช้ได้"
   ]
  },
  {
   "cell_type": "markdown",
   "id": "dJxm51GowOms",
   "metadata": {
    "id": "dJxm51GowOms"
   },
   "source": [
    "# ใช้ UMAP"
   ]
  },
  {
   "cell_type": "code",
   "execution_count": null,
   "id": "0qBN3ntlwO2-",
   "metadata": {
    "colab": {
     "base_uri": "https://localhost:8080/",
     "height": 513
    },
    "id": "0qBN3ntlwO2-",
    "outputId": "3106dd7e-94fb-4edd-9ffb-e00fba6ff84f"
   },
   "outputs": [],
   "source": [
    "neighbers = [5, 15, 25, 50]\n",
    "\n",
    "plt.figure(figsize = (15, 7))\n",
    "\n",
    "for i, n in enumerate(neighbers, start = 1):\n",
    "    plt.subplot(2, 4, i)\n",
    "    umap_embed = umap.UMAP(n_components = 2, n_neighbors = n, random_state = 25).fit_transform(std_data)\n",
    "    plt.scatter(umap_embed[:, 0], umap_embed[:, 1], c = data['Concrete compressive strength'])\n",
    "    plt.xlabel('UMAP 1'); plt.ylabel('UMAP 2')\n",
    "    plt.title('n_neighbors = ' + str(n))\n",
    "    \n",
    "    plt.subplot(2, 4, i + 4)\n",
    "    plt.scatter(umap_embed[:, 0], umap_embed[:, 1], c = data['Age'])\n",
    "    plt.xlabel('UMAP 1'); plt.ylabel('UMAP 2')\n",
    "    plt.title('n_neighbors = ' + str(n))\n",
    "\n",
    "plt.tight_layout()\n",
    "plt.show()"
   ]
  },
  {
   "cell_type": "markdown",
   "id": "MOuqJukRwiUQ",
   "metadata": {
    "id": "MOuqJukRwiUQ"
   },
   "source": [
    "## ปรับค่า min_dist เพื่อเพิ่มหรือลดการกระจายตัวของจุด (สำหรับดูด้วยตา)"
   ]
  },
  {
   "cell_type": "code",
   "execution_count": null,
   "id": "K52bvXzewikn",
   "metadata": {
    "colab": {
     "base_uri": "https://localhost:8080/",
     "height": 297
    },
    "id": "K52bvXzewikn",
    "outputId": "4cadbad8-b495-4792-df46-d2dc9bd824d1"
   },
   "outputs": [],
   "source": [
    "dists = [0.1, 0.5, 1.0]\n",
    "\n",
    "plt.figure(figsize = (12, 4))\n",
    "\n",
    "for i, d in enumerate(dists, start = 1):\n",
    "    plt.subplot(1, 3, i)\n",
    "    umap_embed = umap.UMAP(n_components = 2, n_neighbors = 50, min_dist = d, random_state = 25).fit_transform(std_data)\n",
    "    plt.scatter(umap_embed[:, 0], umap_embed[:, 1], c = data['Concrete compressive strength'])\n",
    "    plt.xlabel('UMAP 1'); plt.ylabel('UMAP 2')\n",
    "    plt.title('min_dist = ' + str(d))\n",
    "\n",
    "plt.tight_layout()\n",
    "plt.show()"
   ]
  },
  {
   "cell_type": "markdown",
   "id": "FGv8j1pObE4t",
   "metadata": {
    "id": "FGv8j1pObE4t"
   },
   "source": [
    "## ดูการกระจายตัวของตัวแปรต่าง ๆ บน UMAP"
   ]
  },
  {
   "cell_type": "code",
   "execution_count": null,
   "id": "lmq40DVLbFIQ",
   "metadata": {
    "colab": {
     "base_uri": "https://localhost:8080/",
     "height": 441
    },
    "id": "lmq40DVLbFIQ",
    "outputId": "269b93f8-165a-4a99-8d84-39a4278e5e5e"
   },
   "outputs": [],
   "source": [
    "umap_embed = umap.UMAP(n_components = 2, n_neighbors = 50, min_dist = 0.5, random_state = 25).fit_transform(std_data)\n",
    "\n",
    "plt.figure(figsize = (15, 6))\n",
    "\n",
    "for i, feature in enumerate(data.columns, start = 1):\n",
    "    plt.subplot(2, 5, i)\n",
    "    plt.scatter(umap_embed[:, 0], umap_embed[:, 1], c = data[feature]);\n",
    "    plt.xlabel('UMAP 1'); plt.ylabel('UMAP 2')\n",
    "    plt.title(feature)\n",
    "\n",
    "plt.tight_layout()\n",
    "plt.show()"
   ]
  },
  {
   "cell_type": "markdown",
   "id": "2UdcFxhmnY8W",
   "metadata": {
    "id": "2UdcFxhmnY8W"
   },
   "source": [
    "# ข้อมูลราคาบ้าน"
   ]
  },
  {
   "cell_type": "code",
   "execution_count": null,
   "id": "lightweight-thompson",
   "metadata": {
    "colab": {
     "base_uri": "https://localhost:8080/",
     "height": 418
    },
    "id": "lightweight-thompson",
    "outputId": "404bbe40-42f6-48a1-ea33-10f6eaa8ec0a"
   },
   "outputs": [],
   "source": [
    "data = pd.read_csv('/content/drive/MyDrive/Datasets/HousePrices.csv', index_col = 0, header = 0)\n",
    "data.head()"
   ]
  },
  {
   "cell_type": "markdown",
   "id": "1w0AGpotndat",
   "metadata": {
    "id": "1w0AGpotndat"
   },
   "source": [
    "## จัดการเรื่อง missing data"
   ]
  },
  {
   "cell_type": "code",
   "execution_count": null,
   "id": "cG64h4igndpQ",
   "metadata": {
    "colab": {
     "base_uri": "https://localhost:8080/",
     "height": 279
    },
    "id": "cG64h4igndpQ",
    "outputId": "9af7ad1c-0cf3-4ca6-f6ee-c0091a74e040"
   },
   "outputs": [],
   "source": [
    "missing_count = pd.isna(data).sum()\n",
    "with_missing = missing_count.index[missing_count > 0]\n",
    "\n",
    "plt.figure()\n",
    "plt.barh(range(len(with_missing)), missing_count[with_missing])\n",
    "plt.yticks(range(len(with_missing)), with_missing)\n",
    "plt.xlabel('missing value count')\n",
    "plt.show()"
   ]
  },
  {
   "cell_type": "markdown",
   "id": "O3rQoFkLoJRi",
   "metadata": {
    "id": "O3rQoFkLoJRi"
   },
   "source": [
    "ตัดตัวแปรที่หายไปมาก ๆ ออก"
   ]
  },
  {
   "cell_type": "code",
   "execution_count": null,
   "id": "KOVWre4PoJj8",
   "metadata": {
    "colab": {
     "base_uri": "https://localhost:8080/"
    },
    "id": "KOVWre4PoJj8",
    "outputId": "411d52fc-2f84-43ce-b71e-1f974a2239cd"
   },
   "outputs": [],
   "source": [
    "filtered_data = data.drop(missing_count.index[missing_count > 500], axis = 1)\n",
    "print('from', data.shape[1], 'to', filtered_data.shape[1], 'features')"
   ]
  },
  {
   "cell_type": "markdown",
   "id": "qVfpmwju8sXJ",
   "metadata": {
    "id": "qVfpmwju8sXJ"
   },
   "source": [
    "เติมค่าด้วย mode หรือ mean ตามชนิดของตัวแปร"
   ]
  },
  {
   "cell_type": "code",
   "execution_count": null,
   "id": "kY_7bje98sxp",
   "metadata": {
    "id": "kY_7bje98sxp"
   },
   "outputs": [],
   "source": [
    "imputed_data = filtered_data.copy()\n",
    "\n",
    "imputed_data['GarageType'] = filtered_data['GarageType'].fillna(filtered_data['GarageType'].mode()[0])\n",
    "imputed_data['LotFrontage'] = np.round(filtered_data['LotFrontage'].fillna(filtered_data['LotFrontage'].mean()))"
   ]
  },
  {
   "cell_type": "markdown",
   "id": "XepX0YtF_BSK",
   "metadata": {
    "id": "XepX0YtF_BSK"
   },
   "source": [
    "### ดึงเฉพาะ feature ที่เป็นตัวเลขออกมา"
   ]
  },
  {
   "cell_type": "code",
   "execution_count": null,
   "id": "dmmvN2tR87bp",
   "metadata": {
    "id": "dmmvN2tR87bp"
   },
   "outputs": [],
   "source": [
    "numeric_data = imputed_data.select_dtypes(include = [np.number]).iloc[:, :-1]\n",
    "std_data = (numeric_data - numeric_data.mean()) / numeric_data.std()"
   ]
  },
  {
   "cell_type": "markdown",
   "id": "scfy7PbP87Lq",
   "metadata": {
    "id": "scfy7PbP87Lq"
   },
   "source": [
    "## ใช้ PCA"
   ]
  },
  {
   "cell_type": "code",
   "execution_count": null,
   "id": "WxA5Cgnj-hRz",
   "metadata": {
    "colab": {
     "base_uri": "https://localhost:8080/",
     "height": 297
    },
    "id": "WxA5Cgnj-hRz",
    "outputId": "559230a6-d417-4163-aae6-71e84e31bcee"
   },
   "outputs": [],
   "source": [
    "pca = PCA(random_state = 25).fit(std_data)\n",
    "pca_embed = pca.transform(std_data)\n",
    "\n",
    "plt.figure(figsize = (10, 4))\n",
    "plt.subplot(1, 2, 1)\n",
    "plt.bar(range(1, pca.n_components_ + 1), pca.explained_variance_ratio_)\n",
    "plt.xlabel('PCA component')\n",
    "plt.ylabel('explained variance ratio')\n",
    "\n",
    "plt.subplot(1, 2, 2)\n",
    "cumulative = np.cumsum(pca.explained_variance_ratio_)\n",
    "plt.bar(range(1, pca.n_components_ + 1), cumulative)\n",
    "plt.plot([1, std_data.shape[1]], [0.95, 0.95], '--', color = 'tab:orange')\n",
    "plt.xlabel('PCA component')\n",
    "plt.ylabel('explained variance ratio')\n",
    "plt.title('cumulative')\n",
    "\n",
    "plt.tight_layout()\n",
    "plt.show()"
   ]
  },
  {
   "cell_type": "markdown",
   "id": "k05DYAQDB1wi",
   "metadata": {
    "id": "k05DYAQDB1wi"
   },
   "source": [
    "### ดู loading ของ PC1 ที่ variance สูง"
   ]
  },
  {
   "cell_type": "code",
   "execution_count": null,
   "id": "SYSUErN-_Vbi",
   "metadata": {
    "colab": {
     "base_uri": "https://localhost:8080/",
     "height": 331
    },
    "id": "SYSUErN-_Vbi",
    "outputId": "ea1f22f2-c9b9-4548-de53-5f8e6f668767"
   },
   "outputs": [],
   "source": [
    "plt.figure(figsize = (14, 4))\n",
    "plt.bar(range(numeric_data.shape[1]), pca.components_[0])\n",
    "plt.xticks(range(numeric_data.shape[1]), labels = numeric_data.columns, rotation = 90)\n",
    "plt.ylabel('PC1 loading')\n",
    "plt.show()"
   ]
  },
  {
   "cell_type": "markdown",
   "id": "jnDFWk9eB60S",
   "metadata": {
    "id": "jnDFWk9eB60S"
   },
   "source": [
    "### ระบายสีด้วยตัวแปรต่าง ๆ"
   ]
  },
  {
   "cell_type": "code",
   "execution_count": null,
   "id": "jNi5D3Jw_HV_",
   "metadata": {
    "colab": {
     "base_uri": "https://localhost:8080/",
     "height": 225
    },
    "id": "jNi5D3Jw_HV_",
    "outputId": "3515fe54-ae65-4a0c-8158-1b025c7ef8cc"
   },
   "outputs": [],
   "source": [
    "plt.figure(figsize = (12, 3))\n",
    "\n",
    "for i, feature in enumerate(['SalePrice', 'OverallQual', 'GarageArea', 'Fence'], start = 1):\n",
    "    plt.subplot(1, 4, i)\n",
    "    plt.scatter(pca_embed[:, 0], pca_embed[:, 1], c = data[feature]);\n",
    "    plt.xlabel('PCA component 1'); plt.ylabel('PCA component 2')\n",
    "    plt.title(feature)\n",
    "\n",
    "plt.tight_layout()\n",
    "plt.show()"
   ]
  },
  {
   "cell_type": "markdown",
   "id": "28jnb-VgB_8R",
   "metadata": {
    "id": "28jnb-VgB_8R"
   },
   "source": [
    "## ใช้ t-SNE"
   ]
  },
  {
   "cell_type": "code",
   "execution_count": null,
   "id": "BYW-QquRBIha",
   "metadata": {
    "colab": {
     "base_uri": "https://localhost:8080/",
     "height": 523
    },
    "id": "BYW-QquRBIha",
    "outputId": "4c93b6ad-212b-4a01-ff5a-6e94258d7457"
   },
   "outputs": [],
   "source": [
    "perplexities = [5, 15, 25, 50]\n",
    "\n",
    "plt.figure(figsize = (12, 3))\n",
    "\n",
    "for i, k in enumerate(perplexities, start = 1):\n",
    "    plt.subplot(1, 4, i)\n",
    "    tsne_embed = TSNE(n_components = 2, perplexity = k, random_state = 25).fit_transform(std_data)\n",
    "    plt.scatter(tsne_embed[:, 0], tsne_embed[:, 1], c = data['SalePrice'])\n",
    "    plt.xlabel('t-SNE 1'); plt.ylabel('t-SNE 2')\n",
    "    plt.title('perplexity = ' + str(k))\n",
    "\n",
    "plt.tight_layout()\n",
    "plt.show()"
   ]
  },
  {
   "cell_type": "markdown",
   "id": "Dx8bn1wuCB2J",
   "metadata": {
    "id": "Dx8bn1wuCB2J"
   },
   "source": [
    "## ใช้ UMAP"
   ]
  },
  {
   "cell_type": "code",
   "execution_count": null,
   "id": "GNjFmN7yBY-J",
   "metadata": {
    "colab": {
     "base_uri": "https://localhost:8080/",
     "height": 225
    },
    "id": "GNjFmN7yBY-J",
    "outputId": "9726f7c7-8f60-4d9e-fa2e-fa78838e4cfe"
   },
   "outputs": [],
   "source": [
    "neighbers = [5, 15, 25, 50]\n",
    "\n",
    "plt.figure(figsize = (12, 3))\n",
    "\n",
    "for i, n in enumerate(neighbers, start = 1):\n",
    "    plt.subplot(1, 4, i)\n",
    "    umap_embed = umap.UMAP(n_components = 2, n_neighbors = n, min_dist = 0.5, random_state = 25).fit_transform(std_data)\n",
    "    plt.scatter(umap_embed[:, 0], umap_embed[:, 1], c = data['SalePrice'])\n",
    "    plt.xlabel('UMAP 1'); plt.ylabel('UMAP 2')\n",
    "    plt.title('n_neighbors = ' + str(n))\n",
    "\n",
    "plt.tight_layout()\n",
    "plt.show()"
   ]
  },
  {
   "cell_type": "markdown",
   "id": "eiGfdQcFGpuE",
   "metadata": {
    "id": "eiGfdQcFGpuE"
   },
   "source": [
    "### ระบายสีด้วยตัวแปร 10 ตัวแรก"
   ]
  },
  {
   "cell_type": "code",
   "execution_count": null,
   "id": "BpmVPSFyGp64",
   "metadata": {
    "colab": {
     "base_uri": "https://localhost:8080/",
     "height": 378
    },
    "id": "BpmVPSFyGp64",
    "outputId": "116d6c83-5a2f-46d4-dfda-5f9d413b6b64"
   },
   "outputs": [],
   "source": [
    "umap_embed = umap.UMAP(n_components = 2, n_neighbors = 25, min_dist = 0.5, random_state = 25).fit_transform(std_data)\n",
    "\n",
    "plt.figure(figsize = (15, 6))\n",
    "\n",
    "for i, feature in enumerate(numeric_data.columns[:10], start = 1):\n",
    "    plt.subplot(2, 5, i)\n",
    "    plt.scatter(umap_embed[:, 0], umap_embed[:, 1], c = numeric_data[feature]);\n",
    "    plt.xlabel('UMAP 1'); plt.ylabel('UMAP 2')\n",
    "    plt.title(feature)\n",
    "\n",
    "plt.tight_layout()\n",
    "plt.show()"
   ]
  },
  {
   "cell_type": "markdown",
   "id": "pDPawQD7DDFJ",
   "metadata": {
    "id": "pDPawQD7DDFJ"
   },
   "source": [
    "# ข้อมูลกลุ่มลูกค้า (CustomerSegment)\n",
    "จัดกลุ่มลูกค้าจากข้อมูลส่วนบุคคล\n",
    "* ตัวแปร Work_Experience มีข้อมูลหายมากเกินไป\n",
    "* ตัวแปร Profession ไม่สามารถ impute ได้"
   ]
  },
  {
   "cell_type": "code",
   "execution_count": null,
   "id": "m5yrLzD0DDVx",
   "metadata": {
    "colab": {
     "base_uri": "https://localhost:8080/",
     "height": 238
    },
    "id": "m5yrLzD0DDVx",
    "outputId": "c7197642-6813-4df1-b17a-c2cc0428d3d9"
   },
   "outputs": [],
   "source": [
    "data = pd.read_csv('/content/drive/MyDrive/Datasets/CustomerSegment.csv', index_col = 0)\n",
    "data = data.drop('Work_Experience', axis = 1)\n",
    "data = data.loc[~pd.isna(data['Profession']), :]\n",
    "data.head()"
   ]
  },
  {
   "cell_type": "markdown",
   "id": "KlbcurWPOlRh",
   "metadata": {
    "id": "KlbcurWPOlRh"
   },
   "source": [
    "## impute ข้อมูล"
   ]
  },
  {
   "cell_type": "code",
   "execution_count": null,
   "id": "2Xf5w1ZQD4rq",
   "metadata": {
    "id": "2Xf5w1ZQD4rq"
   },
   "outputs": [],
   "source": [
    "categorical_features = ['Gender', 'Ever_Married', 'Graduated', 'Profession', 'Spending_Score', 'Var_1']\n",
    "\n",
    "imputed_data = data.copy()\n",
    "imputed_data.loc[:, categorical_features] = imputed_data.loc[:, categorical_features].fillna(data[categorical_features].mode().iloc[0])\n",
    "imputed_data.loc[:, 'Family_Size'] = imputed_data['Family_Size'].fillna(data['Family_Size'].mean()).astype(int) ## ปรับจำนวนสมาชิกในครอบครัวเป็นจำนวนเต็ม"
   ]
  },
  {
   "cell_type": "code",
   "execution_count": null,
   "id": "GB6YTuIlEx9Z",
   "metadata": {
    "colab": {
     "base_uri": "https://localhost:8080/"
    },
    "id": "GB6YTuIlEx9Z",
    "outputId": "9f4e850c-fcf5-45fa-ea46-ea74c2d84c37"
   },
   "outputs": [],
   "source": [
    "pd.isna(imputed_data).sum()"
   ]
  },
  {
   "cell_type": "markdown",
   "id": "DYN8EoM8OpBG",
   "metadata": {
    "id": "DYN8EoM8OpBG"
   },
   "source": [
    "## แปลงข้อมูลตัวอักษรให้เป็นตัวเลข"
   ]
  },
  {
   "cell_type": "code",
   "execution_count": null,
   "id": "FYZv1TGPFFAZ",
   "metadata": {
    "colab": {
     "base_uri": "https://localhost:8080/",
     "height": 238
    },
    "id": "FYZv1TGPFFAZ",
    "outputId": "59c61259-0b58-4372-ccb2-e53596804de6"
   },
   "outputs": [],
   "source": [
    "numeric_data = imputed_data.copy()\n",
    "numeric_data.drop(['Profession', 'Var_1', 'Segmentation'], axis = 1, inplace = True)\n",
    "\n",
    "numeric_data.loc[:, 'Gender'] = (imputed_data['Gender'] == 'Male').astype(int)\n",
    "numeric_data.loc[:, 'Ever_Married'] = (imputed_data['Ever_Married'] == 'Yes').astype(int)\n",
    "numeric_data.loc[:, 'Graduated'] = (imputed_data['Graduated'] == 'Yes').astype(int)\n",
    "\n",
    "numeric_data.loc[:, 'Spending_Score'] = numeric_data['Spending_Score'].map({'Low':0, 'Average':1, 'High':2})\n",
    "numeric_data.head()"
   ]
  },
  {
   "cell_type": "markdown",
   "id": "rMrCX_v_Ovxf",
   "metadata": {
    "id": "rMrCX_v_Ovxf"
   },
   "source": [
    "## ใช้ PCA"
   ]
  },
  {
   "cell_type": "code",
   "execution_count": null,
   "id": "v8XEf9u9FoT4",
   "metadata": {
    "id": "v8XEf9u9FoT4"
   },
   "outputs": [],
   "source": [
    "std_data = (numeric_data - numeric_data.mean()) / numeric_data.std()"
   ]
  },
  {
   "cell_type": "code",
   "execution_count": null,
   "id": "uF5fntxKF04S",
   "metadata": {
    "colab": {
     "base_uri": "https://localhost:8080/",
     "height": 297
    },
    "id": "uF5fntxKF04S",
    "outputId": "8c95582f-815c-41b0-8708-da6f23db462f"
   },
   "outputs": [],
   "source": [
    "pca = PCA(random_state = 25).fit(std_data)\n",
    "pca_embed = pca.transform(std_data)\n",
    "\n",
    "plt.figure(figsize = (10, 4))\n",
    "plt.subplot(1, 2, 1)\n",
    "plt.bar(range(1, pca.n_components_ + 1), pca.explained_variance_ratio_)\n",
    "plt.xlabel('PCA component')\n",
    "plt.ylabel('explained variance ratio')\n",
    "\n",
    "plt.subplot(1, 2, 2)\n",
    "cumulative = np.cumsum(pca.explained_variance_ratio_)\n",
    "plt.bar(range(1, pca.n_components_ + 1), cumulative)\n",
    "plt.plot([1, std_data.shape[1]], [0.95, 0.95], '--', color = 'tab:orange')\n",
    "plt.xlabel('PCA component')\n",
    "plt.ylabel('explained variance ratio')\n",
    "plt.title('cumulative')\n",
    "\n",
    "plt.tight_layout()\n",
    "plt.show()"
   ]
  },
  {
   "cell_type": "code",
   "execution_count": null,
   "id": "GaaVztrXF6bQ",
   "metadata": {
    "colab": {
     "base_uri": "https://localhost:8080/",
     "height": 335
    },
    "id": "GaaVztrXF6bQ",
    "outputId": "acba85de-72c2-4a66-b9c1-fe319e0c9c3a"
   },
   "outputs": [],
   "source": [
    "plt.figure(figsize = (7, 4))\n",
    "plt.bar(range(numeric_data.shape[1]), pca.components_[0])\n",
    "plt.xticks(range(numeric_data.shape[1]), labels = numeric_data.columns, rotation = 90)\n",
    "plt.ylabel('PC1 loading')\n",
    "plt.show()"
   ]
  },
  {
   "cell_type": "markdown",
   "id": "Ygsp6gq7O3on",
   "metadata": {
    "id": "Ygsp6gq7O3on"
   },
   "source": [
    "### ระบายสีด้วยตัวแปรต่าง ๆ"
   ]
  },
  {
   "cell_type": "code",
   "execution_count": null,
   "id": "S-wel7tqF6_K",
   "metadata": {
    "colab": {
     "base_uri": "https://localhost:8080/",
     "height": 441
    },
    "id": "S-wel7tqF6_K",
    "outputId": "68e60e4b-64a6-4d47-f873-d39a6f4457f7"
   },
   "outputs": [],
   "source": [
    "plt.figure(figsize = (12, 6))\n",
    "\n",
    "for i, feature in enumerate(numeric_data.columns, start = 1):\n",
    "    plt.subplot(2, 4, i)\n",
    "    plt.scatter(pca_embed[:, 0], pca_embed[:, 1], c = numeric_data[feature]);\n",
    "    plt.xlabel('PCA component 1'); plt.ylabel('PCA component 2')\n",
    "    plt.title(feature)\n",
    "\n",
    "plt.tight_layout()\n",
    "plt.show()"
   ]
  },
  {
   "cell_type": "markdown",
   "id": "9N4rS1j1Ozwe",
   "metadata": {
    "id": "9N4rS1j1Ozwe"
   },
   "source": [
    "## ใช้ UMAP"
   ]
  },
  {
   "cell_type": "code",
   "execution_count": null,
   "id": "ZWusZ4jrF66q",
   "metadata": {
    "colab": {
     "base_uri": "https://localhost:8080/",
     "height": 441
    },
    "id": "ZWusZ4jrF66q",
    "outputId": "898d3400-f16e-4b90-f370-97c583b0c939"
   },
   "outputs": [],
   "source": [
    "umap_embed = umap.UMAP(n_components = 2, n_neighbors = 25, min_dist = 1, random_state = 25).fit_transform(std_data)\n",
    "\n",
    "plt.figure(figsize = (12, 6))\n",
    "\n",
    "for i, feature in enumerate(numeric_data.columns, start = 1):\n",
    "    plt.subplot(2, 4, i)\n",
    "    plt.scatter(umap_embed[:, 0], umap_embed[:, 1], c = numeric_data[feature]);\n",
    "    plt.xlabel('UMAP 1'); plt.ylabel('UMAP 2')\n",
    "    plt.title(feature)\n",
    "\n",
    "plt.tight_layout()\n",
    "plt.show()"
   ]
  },
  {
   "cell_type": "markdown",
   "id": "b1vay1DePDBn",
   "metadata": {
    "id": "b1vay1DePDBn"
   },
   "source": [
    "### ระบายสีด้วยอาชีพ"
   ]
  },
  {
   "cell_type": "code",
   "execution_count": null,
   "id": "bC6K-Zf0F63x",
   "metadata": {
    "colab": {
     "base_uri": "https://localhost:8080/",
     "height": 369
    },
    "id": "bC6K-Zf0F63x",
    "outputId": "d4215b3f-ab6a-4f1f-9323-1bda57227c92"
   },
   "outputs": [],
   "source": [
    "plt.figure(figsize = (10, 5))\n",
    "\n",
    "plt.subplot(1, 2, 1)\n",
    "\n",
    "for prof in sorted(pd.unique(imputed_data['Profession'])):\n",
    "    filt = imputed_data['Profession'] == prof\n",
    "    plt.scatter(pca_embed[filt, 0], pca_embed[filt, 1], label = prof, alpha = 0.6);\n",
    "\n",
    "plt.xlabel('PCA component 1'); plt.ylabel('PCA component 2')\n",
    "plt.legend()\n",
    "\n",
    "plt.subplot(1, 2, 2)\n",
    "\n",
    "for prof in sorted(pd.unique(imputed_data['Profession'])):\n",
    "    filt = imputed_data['Profession'] == prof\n",
    "    plt.scatter(umap_embed[filt, 0], umap_embed[filt, 1], label = prof, alpha = 0.6);\n",
    "\n",
    "plt.xlabel('UMAP1'); plt.ylabel('UMAP2')\n",
    "\n",
    "plt.tight_layout()\n",
    "plt.show()"
   ]
  },
  {
   "cell_type": "markdown",
   "id": "7EkaeBubPFmW",
   "metadata": {
    "id": "7EkaeBubPFmW"
   },
   "source": [
    "### ระบายสีด้วยกลุ่มลูกค้า"
   ]
  },
  {
   "cell_type": "code",
   "execution_count": null,
   "id": "8kc5S6O1F60Y",
   "metadata": {
    "colab": {
     "base_uri": "https://localhost:8080/",
     "height": 369
    },
    "id": "8kc5S6O1F60Y",
    "outputId": "8dbcce42-33e1-4fec-8744-c8436a4fe442"
   },
   "outputs": [],
   "source": [
    "plt.figure(figsize = (10, 5))\n",
    "\n",
    "plt.subplot(1, 2, 1)\n",
    "\n",
    "for seg in sorted(pd.unique(imputed_data['Segmentation'])):\n",
    "    filt = imputed_data['Segmentation'] == seg\n",
    "    plt.scatter(pca_embed[filt, 0], pca_embed[filt, 1], label = seg, alpha = 0.4);\n",
    "\n",
    "plt.xlabel('PCA component 1'); plt.ylabel('PCA component 2')\n",
    "plt.legend()\n",
    "\n",
    "plt.subplot(1, 2, 2)\n",
    "\n",
    "for seg in sorted(pd.unique(imputed_data['Segmentation'])):\n",
    "    filt = imputed_data['Segmentation'] == seg\n",
    "    plt.scatter(umap_embed[filt, 0], umap_embed[filt, 1], label = seg, alpha = 0.4);\n",
    "\n",
    "plt.xlabel('UMAP1'); plt.ylabel('UMAP2')\n",
    "\n",
    "plt.tight_layout()\n",
    "plt.show()"
   ]
  },
  {
   "cell_type": "code",
   "execution_count": null,
   "id": "FCFn46jHF6no",
   "metadata": {
    "colab": {
     "base_uri": "https://localhost:8080/",
     "height": 369
    },
    "id": "FCFn46jHF6no",
    "outputId": "73120532-4050-4b8d-c86d-60025807f0ad"
   },
   "outputs": [],
   "source": [
    "plt.figure(figsize = (10, 5))\n",
    "colors = ['tab:red', 'tab:green', 'tab:orange', 'tab:blue']\n",
    "segments = sorted(pd.unique(imputed_data['Segmentation']), reverse = True)\n",
    "\n",
    "plt.subplot(1, 2, 1)\n",
    "\n",
    "for seg, color in zip(segments, colors):\n",
    "    filt = imputed_data['Segmentation'] == seg\n",
    "    plt.scatter(pca_embed[filt, 0], pca_embed[filt, 1], label = seg, alpha = 0.4, c = color);\n",
    "\n",
    "plt.xlabel('PCA component 1'); plt.ylabel('PCA component 2')\n",
    "plt.legend()\n",
    "\n",
    "plt.subplot(1, 2, 2)\n",
    "\n",
    "for seg, color in zip(segments, colors):\n",
    "    filt = imputed_data['Segmentation'] == seg\n",
    "    plt.scatter(umap_embed[filt, 0], umap_embed[filt, 1], label = seg, alpha = 0.4, c = color);\n",
    "\n",
    "plt.xlabel('UMAP1'); plt.ylabel('UMAP2')\n",
    "\n",
    "plt.tight_layout()\n",
    "plt.show()"
   ]
  }
 ],
 "metadata": {
  "colab": {
   "collapsed_sections": [],
   "provenance": [],
   "toc_visible": true
  },
  "kernelspec": {
   "display_name": "Python 3 (ipykernel)",
   "language": "python",
   "name": "python3"
  },
  "language_info": {
   "codemirror_mode": {
    "name": "ipython",
    "version": 3
   },
   "file_extension": ".py",
   "mimetype": "text/x-python",
   "name": "python",
   "nbconvert_exporter": "python",
   "pygments_lexer": "ipython3",
   "version": "3.9.7"
  }
 },
 "nbformat": 4,
 "nbformat_minor": 5
}
