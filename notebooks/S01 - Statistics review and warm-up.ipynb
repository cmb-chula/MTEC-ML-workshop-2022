{
 "cells": [
  {
   "cell_type": "markdown",
   "id": "8a2ab97e",
   "metadata": {
    "id": "8a2ab97e"
   },
   "source": [
    "# คำชี้แจง\n",
    "ในสัปดาห์นี้ เราจะฝึกใช้ library numpy, pandas, scipy, matplotlib ในการศึกษา pattern ของข้อมูลและทำการทดสอบทางสถิติกัน\n",
    "\n",
    "และจะมีการแนะนำถึง library seaborn และ statsmodels ซึ่งจะช่วยให้เราวาดกราฟและทำการทดสอบทางสถิติที่ซับซ้อนได้ง่ายขึ้นด้วย"
   ]
  },
  {
   "cell_type": "code",
   "execution_count": 7,
   "id": "536853d9",
   "metadata": {
    "id": "536853d9"
   },
   "outputs": [],
   "source": [
    "import scipy.stats\n",
    "import pandas as pd\n",
    "import numpy as np\n",
    "import matplotlib.pyplot as plt"
   ]
  },
  {
   "cell_type": "markdown",
   "id": "a0649fca",
   "metadata": {
    "id": "a0649fca"
   },
   "source": [
    "## ทำการเชื่อมต่อกับ Google Drive ส่วนตัวเพื่อเข้าถึงไฟล์\n",
    "ถ้าใครที่ไม่ได้วางไฟล์ข้อมูลไว้บน Google Drive ภายใต้ folder Dataset ก็จะต้องแก้ path ข้างล่างด้วย"
   ]
  },
  {
   "cell_type": "code",
   "execution_count": 8,
   "id": "VbNxCPXLR49s",
   "metadata": {
    "colab": {
     "base_uri": "https://localhost:8080/"
    },
    "id": "VbNxCPXLR49s",
    "outputId": "47d5a397-5996-43eb-fa44-05f414702f09"
   },
   "outputs": [
    {
     "name": "stdout",
     "output_type": "stream",
     "text": [
      "Drive already mounted at /content/drive; to attempt to forcibly remount, call drive.mount(\"/content/drive\", force_remount=True).\n"
     ]
    }
   ],
   "source": [
    "from google.colab import drive\n",
    "drive.mount('/content/drive')"
   ]
  },
  {
   "cell_type": "markdown",
   "id": "rO-q0lYkancX",
   "metadata": {
    "id": "rO-q0lYkancX"
   },
   "source": [
    "# ข้อมูลความแข็งแรงของคอนกรีต\n",
    "ผมวางไฟล์ข้อมูลไว้บน Drive ส่วนตัวที่ folder **Datasets** ถ้าหากว่าวางไฟล์ไว้ที่อื่นก็ต้องเปลี่ยน path ในคำสั่ง **read_csv** ข้างล่างตามด้วย"
   ]
  },
  {
   "cell_type": "code",
   "execution_count": 64,
   "id": "57db2072",
   "metadata": {
    "colab": {
     "base_uri": "https://localhost:8080/",
     "height": 206
    },
    "id": "57db2072",
    "outputId": "5bab7e1d-f055-4736-86b6-71708cfc3db8"
   },
   "outputs": [
    {
     "data": {
      "text/html": [
       "\n",
       "  <div id=\"df-a7427ff9-f606-41df-9390-21ed4b259659\">\n",
       "    <div class=\"colab-df-container\">\n",
       "      <div>\n",
       "<style scoped>\n",
       "    .dataframe tbody tr th:only-of-type {\n",
       "        vertical-align: middle;\n",
       "    }\n",
       "\n",
       "    .dataframe tbody tr th {\n",
       "        vertical-align: top;\n",
       "    }\n",
       "\n",
       "    .dataframe thead th {\n",
       "        text-align: right;\n",
       "    }\n",
       "</style>\n",
       "<table border=\"1\" class=\"dataframe\">\n",
       "  <thead>\n",
       "    <tr style=\"text-align: right;\">\n",
       "      <th></th>\n",
       "      <th>Cement</th>\n",
       "      <th>Blast Furnace Slag</th>\n",
       "      <th>Fly Ash</th>\n",
       "      <th>Water</th>\n",
       "      <th>Superplasticizer</th>\n",
       "      <th>Coarse Aggregate</th>\n",
       "      <th>Fine Aggregate</th>\n",
       "      <th>Age</th>\n",
       "      <th>Concrete compressive strength</th>\n",
       "    </tr>\n",
       "  </thead>\n",
       "  <tbody>\n",
       "    <tr>\n",
       "      <th>0</th>\n",
       "      <td>540.0</td>\n",
       "      <td>0.0</td>\n",
       "      <td>0.0</td>\n",
       "      <td>162.0</td>\n",
       "      <td>2.5</td>\n",
       "      <td>1040.0</td>\n",
       "      <td>676.0</td>\n",
       "      <td>28</td>\n",
       "      <td>79.99</td>\n",
       "    </tr>\n",
       "    <tr>\n",
       "      <th>1</th>\n",
       "      <td>540.0</td>\n",
       "      <td>0.0</td>\n",
       "      <td>0.0</td>\n",
       "      <td>162.0</td>\n",
       "      <td>2.5</td>\n",
       "      <td>1055.0</td>\n",
       "      <td>676.0</td>\n",
       "      <td>28</td>\n",
       "      <td>61.89</td>\n",
       "    </tr>\n",
       "    <tr>\n",
       "      <th>2</th>\n",
       "      <td>332.5</td>\n",
       "      <td>142.5</td>\n",
       "      <td>0.0</td>\n",
       "      <td>228.0</td>\n",
       "      <td>0.0</td>\n",
       "      <td>932.0</td>\n",
       "      <td>594.0</td>\n",
       "      <td>270</td>\n",
       "      <td>40.27</td>\n",
       "    </tr>\n",
       "    <tr>\n",
       "      <th>3</th>\n",
       "      <td>332.5</td>\n",
       "      <td>142.5</td>\n",
       "      <td>0.0</td>\n",
       "      <td>228.0</td>\n",
       "      <td>0.0</td>\n",
       "      <td>932.0</td>\n",
       "      <td>594.0</td>\n",
       "      <td>365</td>\n",
       "      <td>41.05</td>\n",
       "    </tr>\n",
       "    <tr>\n",
       "      <th>4</th>\n",
       "      <td>198.6</td>\n",
       "      <td>132.4</td>\n",
       "      <td>0.0</td>\n",
       "      <td>192.0</td>\n",
       "      <td>0.0</td>\n",
       "      <td>978.4</td>\n",
       "      <td>825.5</td>\n",
       "      <td>360</td>\n",
       "      <td>44.30</td>\n",
       "    </tr>\n",
       "  </tbody>\n",
       "</table>\n",
       "</div>\n",
       "      <button class=\"colab-df-convert\" onclick=\"convertToInteractive('df-a7427ff9-f606-41df-9390-21ed4b259659')\"\n",
       "              title=\"Convert this dataframe to an interactive table.\"\n",
       "              style=\"display:none;\">\n",
       "        \n",
       "  <svg xmlns=\"http://www.w3.org/2000/svg\" height=\"24px\"viewBox=\"0 0 24 24\"\n",
       "       width=\"24px\">\n",
       "    <path d=\"M0 0h24v24H0V0z\" fill=\"none\"/>\n",
       "    <path d=\"M18.56 5.44l.94 2.06.94-2.06 2.06-.94-2.06-.94-.94-2.06-.94 2.06-2.06.94zm-11 1L8.5 8.5l.94-2.06 2.06-.94-2.06-.94L8.5 2.5l-.94 2.06-2.06.94zm10 10l.94 2.06.94-2.06 2.06-.94-2.06-.94-.94-2.06-.94 2.06-2.06.94z\"/><path d=\"M17.41 7.96l-1.37-1.37c-.4-.4-.92-.59-1.43-.59-.52 0-1.04.2-1.43.59L10.3 9.45l-7.72 7.72c-.78.78-.78 2.05 0 2.83L4 21.41c.39.39.9.59 1.41.59.51 0 1.02-.2 1.41-.59l7.78-7.78 2.81-2.81c.8-.78.8-2.07 0-2.86zM5.41 20L4 18.59l7.72-7.72 1.47 1.35L5.41 20z\"/>\n",
       "  </svg>\n",
       "      </button>\n",
       "      \n",
       "  <style>\n",
       "    .colab-df-container {\n",
       "      display:flex;\n",
       "      flex-wrap:wrap;\n",
       "      gap: 12px;\n",
       "    }\n",
       "\n",
       "    .colab-df-convert {\n",
       "      background-color: #E8F0FE;\n",
       "      border: none;\n",
       "      border-radius: 50%;\n",
       "      cursor: pointer;\n",
       "      display: none;\n",
       "      fill: #1967D2;\n",
       "      height: 32px;\n",
       "      padding: 0 0 0 0;\n",
       "      width: 32px;\n",
       "    }\n",
       "\n",
       "    .colab-df-convert:hover {\n",
       "      background-color: #E2EBFA;\n",
       "      box-shadow: 0px 1px 2px rgba(60, 64, 67, 0.3), 0px 1px 3px 1px rgba(60, 64, 67, 0.15);\n",
       "      fill: #174EA6;\n",
       "    }\n",
       "\n",
       "    [theme=dark] .colab-df-convert {\n",
       "      background-color: #3B4455;\n",
       "      fill: #D2E3FC;\n",
       "    }\n",
       "\n",
       "    [theme=dark] .colab-df-convert:hover {\n",
       "      background-color: #434B5C;\n",
       "      box-shadow: 0px 1px 3px 1px rgba(0, 0, 0, 0.15);\n",
       "      filter: drop-shadow(0px 1px 2px rgba(0, 0, 0, 0.3));\n",
       "      fill: #FFFFFF;\n",
       "    }\n",
       "  </style>\n",
       "\n",
       "      <script>\n",
       "        const buttonEl =\n",
       "          document.querySelector('#df-a7427ff9-f606-41df-9390-21ed4b259659 button.colab-df-convert');\n",
       "        buttonEl.style.display =\n",
       "          google.colab.kernel.accessAllowed ? 'block' : 'none';\n",
       "\n",
       "        async function convertToInteractive(key) {\n",
       "          const element = document.querySelector('#df-a7427ff9-f606-41df-9390-21ed4b259659');\n",
       "          const dataTable =\n",
       "            await google.colab.kernel.invokeFunction('convertToInteractive',\n",
       "                                                     [key], {});\n",
       "          if (!dataTable) return;\n",
       "\n",
       "          const docLinkHtml = 'Like what you see? Visit the ' +\n",
       "            '<a target=\"_blank\" href=https://colab.research.google.com/notebooks/data_table.ipynb>data table notebook</a>'\n",
       "            + ' to learn more about interactive tables.';\n",
       "          element.innerHTML = '';\n",
       "          dataTable['output_type'] = 'display_data';\n",
       "          await google.colab.output.renderOutput(dataTable, element);\n",
       "          const docLink = document.createElement('div');\n",
       "          docLink.innerHTML = docLinkHtml;\n",
       "          element.appendChild(docLink);\n",
       "        }\n",
       "      </script>\n",
       "    </div>\n",
       "  </div>\n",
       "  "
      ],
      "text/plain": [
       "   Cement  Blast Furnace Slag  Fly Ash  Water  Superplasticizer  \\\n",
       "0   540.0                 0.0      0.0  162.0               2.5   \n",
       "1   540.0                 0.0      0.0  162.0               2.5   \n",
       "2   332.5               142.5      0.0  228.0               0.0   \n",
       "3   332.5               142.5      0.0  228.0               0.0   \n",
       "4   198.6               132.4      0.0  192.0               0.0   \n",
       "\n",
       "   Coarse Aggregate  Fine Aggregate  Age  Concrete compressive strength  \n",
       "0            1040.0           676.0   28                          79.99  \n",
       "1            1055.0           676.0   28                          61.89  \n",
       "2             932.0           594.0  270                          40.27  \n",
       "3             932.0           594.0  365                          41.05  \n",
       "4             978.4           825.5  360                          44.30  "
      ]
     },
     "execution_count": 64,
     "metadata": {},
     "output_type": "execute_result"
    }
   ],
   "source": [
    "data = pd.read_csv('/content/drive/MyDrive/Datasets/ConcreteStrength.csv', index_col = None, header = 0)\n",
    "data.columns = [c.split('(')[0].strip() for c in data.columns] ## clean up column names\n",
    "data.head()"
   ]
  },
  {
   "cell_type": "markdown",
   "id": "cardiac-colors",
   "metadata": {
    "id": "cardiac-colors"
   },
   "source": [
    "## ตรวจสอบการกระจายตัวของค่าของตัวแปร\n",
    "ใช้คำสั่ง **normaltest** ใน scipy.stats เพื่อทดสอบว่าค่าการกระจายตัวเป็นไปตาม normal distribution หรือไม่"
   ]
  },
  {
   "cell_type": "markdown",
   "id": "OS4XuTSYT7k5",
   "metadata": {
    "id": "OS4XuTSYT7k5"
   },
   "source": [
    "### ตัวแปร Compressive strength"
   ]
  },
  {
   "cell_type": "code",
   "execution_count": 10,
   "id": "a917f8d6",
   "metadata": {
    "colab": {
     "base_uri": "https://localhost:8080/"
    },
    "id": "a917f8d6",
    "outputId": "db8b2ce7-f2af-4fa1-ef15-21cb16e9606a"
   },
   "outputs": [
    {
     "name": "stdout",
     "output_type": "stream",
     "text": [
      "NormaltestResult(statistic=33.64775006912804, pvalue=4.937236241653123e-08)\n"
     ]
    }
   ],
   "source": [
    "print(scipy.stats.normaltest(data['Concrete compressive strength']))"
   ]
  },
  {
   "cell_type": "markdown",
   "id": "GDX6mYseTiIh",
   "metadata": {
    "id": "GDX6mYseTiIh"
   },
   "source": [
    "เปรียบเทียบข้อมูลที่เห็นกับค่าการกระจายตัวทางทฤษฎีของ normal distribution\n",
    "\n",
    "ใช้คำสั่ง **norm.fit** เพื่อคำนวณค่า mean และ SD จากข้อมูล และใช้คำสั่ง **norm.pdf** เพื่อคำนวณค่าการกระจายตัวทางทฤษฎี"
   ]
  },
  {
   "cell_type": "code",
   "execution_count": 11,
   "id": "6c9c31f0",
   "metadata": {
    "colab": {
     "base_uri": "https://localhost:8080/",
     "height": 279
    },
    "id": "6c9c31f0",
    "outputId": "266b403f-b0b8-4f49-892e-b46fcaff98cf"
   },
   "outputs": [
    {
     "data": {
      "image/png": "[encoded data removed]",
      "text/plain": [
       "<Figure size 432x288 with 1 Axes>"
      ]
     },
     "metadata": {
      "needs_background": "light"
     },
     "output_type": "display_data"
    }
   ],
   "source": [
    "mean, std = scipy.stats.norm.fit(data['Concrete compressive strength'])\n",
    "\n",
    "plt.figure()\n",
    "plt.hist(data['Concrete compressive strength'], bins = 15, density = True, label = 'Observed')\n",
    "\n",
    "x = np.linspace(mean - 3 * std, mean +  3 * std, 100)\n",
    "plt.plot(x, scipy.stats.norm.pdf(x, mean, std), label = 'Fitted')\n",
    "\n",
    "plt.xlabel('Compressive strength'); plt.ylabel('Density')\n",
    "plt.show()"
   ]
  },
  {
   "cell_type": "markdown",
   "id": "GHbIQ0wuTzep",
   "metadata": {
    "id": "GHbIQ0wuTzep"
   },
   "source": [
    "### ตัวแปร Age\n",
    "ทดลองแปลงข้อมูลด้วย logarithm ผลการใช้ **normaltest** ต่างกันอย่างไร"
   ]
  },
  {
   "cell_type": "code",
   "execution_count": 65,
   "id": "Hietm3-_U3Ii",
   "metadata": {
    "colab": {
     "base_uri": "https://localhost:8080/"
    },
    "id": "Hietm3-_U3Ii",
    "outputId": "7468d8b1-33c7-49ca-ae3d-376192e99a68"
   },
   "outputs": [
    {
     "name": "stdout",
     "output_type": "stream",
     "text": [
      "NormaltestResult(statistic=727.478896123572, pvalue=1.0714325997785868e-158)\n",
      "NormaltestResult(statistic=11.646329703785783, pvalue=0.002958227960547812)\n"
     ]
    }
   ],
   "source": [
    "print(scipy.stats.normaltest(data['Age']))\n",
    "print(scipy.stats.normaltest(np.log(data['Age'])))"
   ]
  },
  {
   "cell_type": "markdown",
   "id": "b7CDud8mWxyw",
   "metadata": {
    "id": "b7CDud8mWxyw"
   },
   "source": [
    "แสดงผล histogram เพื่อเปรียบเทียบก่อนและหลัง log-transform"
   ]
  },
  {
   "cell_type": "code",
   "execution_count": 13,
   "id": "laden-foster",
   "metadata": {
    "colab": {
     "base_uri": "https://localhost:8080/",
     "height": 297
    },
    "id": "laden-foster",
    "outputId": "c08f3737-a4a8-410c-8d72-957242b74125"
   },
   "outputs": [
    {
     "data": {
      "image/png": "[encoded data removed]",
      "text/plain": [
       "<Figure size 720x288 with 2 Axes>"
      ]
     },
     "metadata": {
      "needs_background": "light"
     },
     "output_type": "display_data"
    }
   ],
   "source": [
    "plt.figure(figsize = (10, 4))\n",
    "plt.subplot(1, 2, 1)\n",
    "plt.hist(data['Age'], density = True)\n",
    "plt.xlabel('Age'); plt.ylabel('Density')\n",
    "\n",
    "plt.subplot(1, 2, 2)\n",
    "plt.hist(np.log(data['Age']), density = True)\n",
    "plt.xlabel('Log Age'); plt.ylabel('Density')\n",
    "\n",
    "plt.tight_layout()\n",
    "plt.show()"
   ]
  },
  {
   "cell_type": "markdown",
   "id": "JHzVGL6QVJRw",
   "metadata": {
    "id": "JHzVGL6QVJRw"
   },
   "source": [
    "เปรียบเทียบข้อมูลที่เห็นกับค่าการกระจายตัวทางทฤษฎีของ normal distribution"
   ]
  },
  {
   "cell_type": "code",
   "execution_count": 14,
   "id": "32a864e3",
   "metadata": {
    "colab": {
     "base_uri": "https://localhost:8080/",
     "height": 279
    },
    "id": "32a864e3",
    "outputId": "98efc76e-b2e2-43cd-e20b-e8981ccca08e"
   },
   "outputs": [
    {
     "data": {
      "image/png": "[encoded data removed]",
      "text/plain": [
       "<Figure size 432x288 with 1 Axes>"
      ]
     },
     "metadata": {
      "needs_background": "light"
     },
     "output_type": "display_data"
    }
   ],
   "source": [
    "log_age = np.log(data['Age'])\n",
    "mean, std = scipy.stats.norm.fit(log_age)\n",
    "\n",
    "plt.figure()\n",
    "plt.hist(log_age, density = True, label = 'Observed')\n",
    "\n",
    "x = np.linspace(mean - 3 * std, mean +  3 * std, 100)\n",
    "plt.plot(x, scipy.stats.norm.pdf(x, mean, std), label = 'Fitted')\n",
    "\n",
    "plt.xlabel('Log Age'); plt.ylabel('Density')\n",
    "plt.show()"
   ]
  },
  {
   "cell_type": "markdown",
   "id": "established-courtesy",
   "metadata": {
    "id": "established-courtesy"
   },
   "source": [
    "## ศึกษาความสัมพันธ์ระหว่างตัวแปรส่วนผสมปูนกับความแข็งแรง\n",
    "เริ่มต้นด้วยการแสดง scatter plot เปรียบเทียบ"
   ]
  },
  {
   "cell_type": "code",
   "execution_count": 16,
   "id": "be04c42d",
   "metadata": {
    "colab": {
     "base_uri": "https://localhost:8080/",
     "height": 513
    },
    "id": "be04c42d",
    "outputId": "62a27f81-8619-4e22-f662-ec536bed9f76"
   },
   "outputs": [
    {
     "data": {
      "image/png": "[encoded data removed]",
      "text/plain": [
       "<Figure size 1080x504 with 8 Axes>"
      ]
     },
     "metadata": {
      "needs_background": "light"
     },
     "output_type": "display_data"
    }
   ],
   "source": [
    "plt.figure(figsize = (15, 7))\n",
    "\n",
    "for i in range(data.shape[1] - 1):\n",
    "    plt.subplot(2, 4, i + 1)\n",
    "    plt.scatter(data.iloc[:, i], data['Concrete compressive strength'])\n",
    "    plt.xlabel(data.columns[i]); plt.ylabel('Compressive Strength')\n",
    "\n",
    "plt.tight_layout()\n",
    "plt.show()"
   ]
  },
  {
   "cell_type": "markdown",
   "id": "v2WNZalDVi1Q",
   "metadata": {
    "id": "v2WNZalDVi1Q"
   },
   "source": [
    "### เจาะลึกที่ตัวแปรส่วนผสม cement\n",
    "แบ่งข้อมูลเป็นสองกลุ่มตามค่าส่วนผสม cement >200 kg/m$^3$ กับ $\\leq$200 kg/m$^3$"
   ]
  },
  {
   "cell_type": "code",
   "execution_count": 66,
   "id": "6153ef9d",
   "metadata": {
    "id": "6153ef9d"
   },
   "outputs": [],
   "source": [
    "high_cement = data.loc[data['Cement'] > 200, 'Concrete compressive strength']\n",
    "low_cement = data.loc[data['Cement'] <= 200, 'Concrete compressive strength']"
   ]
  },
  {
   "cell_type": "markdown",
   "id": "34GPPbO_V9zS",
   "metadata": {
    "id": "34GPPbO_V9zS"
   },
   "source": [
    "เปรียบเทียบความแข็งแรงระหว่างข้อมูลสองกลุ่มด้วย **box plot**"
   ]
  },
  {
   "cell_type": "code",
   "execution_count": null,
   "id": "fpgseccVV99I",
   "metadata": {
    "id": "fpgseccVV99I"
   },
   "outputs": [],
   "source": [
    "plt.figure()\n",
    "plt.boxplot([high_cement, low_cement], labels = ['Cement > 200', 'Cement <= 200'])\n",
    "plt.ylabel('Compressive strength')\n",
    "plt.show()"
   ]
  },
  {
   "cell_type": "markdown",
   "id": "ZeYvXGvFWBTo",
   "metadata": {
    "id": "ZeYvXGvFWBTo"
   },
   "source": [
    "เปรียบเทียบความแข็งแรงระหว่างข้อมูลสองกลุ่มด้วย **histogram**"
   ]
  },
  {
   "cell_type": "code",
   "execution_count": null,
   "id": "u9JYWMsZWBoQ",
   "metadata": {
    "id": "u9JYWMsZWBoQ"
   },
   "outputs": [],
   "source": [
    "plt.figure()\n",
    "plt.hist([high_cement, low_cement], bins = 15, density = True)\n",
    "plt.xlabel('Compressive strength'); plt.ylabel('Data density')\n",
    "plt.legend(['Cement > 200', 'Cement <= 200'])\n",
    "plt.show()"
   ]
  },
  {
   "cell_type": "markdown",
   "id": "Iq9nCtnrWNFY",
   "metadata": {
    "id": "Iq9nCtnrWNFY"
   },
   "source": [
    "### ใช้ t-test เพื่อทดสอบว่าความแข็งแรงของข้อมูลสองกลุ่มแตกต่างกันหรือไม่\n",
    "ทำแบบ two-sided test กับแบบ one-sided test แตกต่างกันอย่างไร"
   ]
  },
  {
   "cell_type": "code",
   "execution_count": 18,
   "id": "7c9d6f6c",
   "metadata": {
    "colab": {
     "base_uri": "https://localhost:8080/"
    },
    "id": "7c9d6f6c",
    "outputId": "590a8fdd-4b7f-47c6-be12-3319c6615596"
   },
   "outputs": [
    {
     "name": "stdout",
     "output_type": "stream",
     "text": [
      "t-test\n",
      "Ttest_indResult(statistic=13.073104130277816, pvalue=5.563624021583685e-35)\n",
      "Ttest_indResult(statistic=13.073104130277816, pvalue=2.7818120107918425e-35)\n"
     ]
    }
   ],
   "source": [
    "print('t-test')\n",
    "print(scipy.stats.ttest_ind(high_cement, low_cement, equal_var = False, alternative = 'two-sided'))\n",
    "print(scipy.stats.ttest_ind(high_cement, low_cement, equal_var = False, alternative = 'greater'))"
   ]
  },
  {
   "cell_type": "markdown",
   "id": "stopped-defendant",
   "metadata": {
    "id": "stopped-defendant"
   },
   "source": [
    "## คำนวณหา correlation ระหว่างส่วนผสมต่าง ๆ กับค่าความแข็งแรง\n",
    "ใช้ **pearsonr** ใน scipy.stats"
   ]
  },
  {
   "cell_type": "code",
   "execution_count": 19,
   "id": "bce60387",
   "metadata": {
    "colab": {
     "base_uri": "https://localhost:8080/"
    },
    "id": "bce60387",
    "outputId": "f76bb7f5-7f28-4cde-841d-9ec7f58cfaf6"
   },
   "outputs": [
    {
     "name": "stdout",
     "output_type": "stream",
     "text": [
      "(0.4978319193241573, 1.3241833072266299e-65)\n"
     ]
    }
   ],
   "source": [
    "cement_corr = scipy.stats.pearsonr(data['Concrete compressive strength'], data['Cement'])[0]\n",
    "print(scipy.stats.pearsonr(data['Concrete compressive strength'], data['Cement']))"
   ]
  },
  {
   "cell_type": "markdown",
   "id": "lHaHJoTZXH2r",
   "metadata": {
    "id": "lHaHJoTZXH2r"
   },
   "source": [
    "### ใช้ permutation test เพื่อทดสอบความมีนัยสำคัญทางสถิติของค่า correlation\n",
    "ขั้นแรกต้องสามารถสลับข้อมูลมั่ว ๆ ได้ก่อน ด้วยคำสั่ง **random.permutation** จาก numpy"
   ]
  },
  {
   "cell_type": "code",
   "execution_count": 20,
   "id": "9eaa9ae8",
   "metadata": {
    "colab": {
     "base_uri": "https://localhost:8080/"
    },
    "id": "9eaa9ae8",
    "outputId": "7ff371d3-3b85-4fb2-8553-516f5dc68fab"
   },
   "outputs": [
    {
     "name": "stdout",
     "output_type": "stream",
     "text": [
      "[0 1 4 3 2]\n",
      "[0 4 2 3 1]\n",
      "[2 3 0 4 1]\n",
      "[2 4 3 0 1]\n",
      "[3 2 4 1 0]\n"
     ]
    }
   ],
   "source": [
    "np.random.seed(4649)\n",
    "\n",
    "for n in range(5):\n",
    "    print(np.random.permutation(5))"
   ]
  },
  {
   "cell_type": "markdown",
   "id": "aCi_e0_kXeYI",
   "metadata": {
    "id": "aCi_e0_kXeYI"
   },
   "source": [
    "ลองคำนวณค่า correlation ระหว่างส่วนผสม cement ที่สลับมั่ว ๆ แล้ว กับค่าความแข็งแรง"
   ]
  },
  {
   "cell_type": "code",
   "execution_count": 21,
   "id": "5b3a10e4",
   "metadata": {
    "colab": {
     "base_uri": "https://localhost:8080/"
    },
    "id": "5b3a10e4",
    "outputId": "30f20fa1-5b05-4fc2-ef3b-d020b5918840"
   },
   "outputs": [
    {
     "name": "stdout",
     "output_type": "stream",
     "text": [
      "(0.02763001169015095, 0.3757041443999795)\n"
     ]
    }
   ],
   "source": [
    "shuffled_cement = data['Cement'].iloc[np.random.permutation(data.shape[0])]\n",
    "print(scipy.stats.pearsonr(data['Concrete compressive strength'], shuffled_cement))"
   ]
  },
  {
   "cell_type": "markdown",
   "id": "aeE-aSMpXmv6",
   "metadata": {
    "id": "aeE-aSMpXmv6"
   },
   "source": [
    "### สลับค่าส่วนผสม cement 1000 ครั้งเพื่อเก็บสถิติการกระจายตัวของค่า correlation\n",
    "คำสั่ง **random.seed** ใน numpy จะช่วยให้การสลับแต่ละครั้งได้ผลเหมือนเดิม"
   ]
  },
  {
   "cell_type": "code",
   "execution_count": 22,
   "id": "79ebe260",
   "metadata": {
    "id": "79ebe260"
   },
   "outputs": [],
   "source": [
    "np.random.seed(4649)\n",
    "n_run = 1000\n",
    "shuffled_corr = np.zeros([n_run, ])\n",
    "\n",
    "for i in range(n_run):\n",
    "    shuffled_cement = data['Cement'].iloc[np.random.permutation(data.shape[0])]\n",
    "    shuffled_corr[i] = scipy.stats.pearsonr(data['Concrete compressive strength'], shuffled_cement)[0]"
   ]
  },
  {
   "cell_type": "markdown",
   "id": "kXmtq0koYCgA",
   "metadata": {
    "id": "kXmtq0koYCgA"
   },
   "source": [
    "แสดงผลด้วย histogram เปรียบเทียบกับค่าที่ได้จริง"
   ]
  },
  {
   "cell_type": "code",
   "execution_count": 23,
   "id": "9a348166",
   "metadata": {
    "colab": {
     "base_uri": "https://localhost:8080/",
     "height": 279
    },
    "id": "9a348166",
    "outputId": "fbe8e046-0831-4f9a-869e-dd2055736825"
   },
   "outputs": [
    {
     "data": {
      "image/png": "[encoded data removed]",
      "text/plain": [
       "<Figure size 432x288 with 1 Axes>"
      ]
     },
     "metadata": {
      "needs_background": "light"
     },
     "output_type": "display_data"
    }
   ],
   "source": [
    "plt.figure();\n",
    "plt.hist(shuffled_corr, bins = 30);\n",
    "plt.plot([cement_corr, cement_corr], [0, 30], 'tab:red')\n",
    "plt.xlabel('Correlation'); plt.ylabel('Number of shuffles')\n",
    "plt.show()"
   ]
  },
  {
   "cell_type": "markdown",
   "id": "eastern-symbol",
   "metadata": {
    "id": "eastern-symbol"
   },
   "source": [
    "## ทำความรู้จักค่า correlation แบบอื่น ๆ\n",
    "* [Spearman's rank correlation](https://docs.scipy.org/doc/scipy/reference/generated/scipy.stats.spearmanr.html) สนใจลำดับแทนค่าจริง ถ้าตัวแปรสองตัวทำให้ข้อมูลถูกเรียงลำดับเหมือนกันก็ถือว่าตัวแปรสองตัวนี้ correlate กัน\n",
    "* [Kendall's tau](https://docs.scipy.org/doc/scipy/reference/generated/scipy.stats.kendalltau.html) สนใจว่าเมื่อหยิบข้อมูลใด ๆ มาสองจุด แล้วเรียงลำดับด้วยตัวแปรสองตัว จะได้ลำดับมากน้อยที่สอดคล้องกันหรือไม่\n",
    "\n",
    "ลองคำนวณ correlation ทั้งสองค่าแล้วเปรียบเทียบกับ Pearson's correlation"
   ]
  },
  {
   "cell_type": "code",
   "execution_count": 67,
   "id": "1b5b6d43",
   "metadata": {
    "colab": {
     "base_uri": "https://localhost:8080/"
    },
    "id": "1b5b6d43",
    "outputId": "da6fbeb8-d5eb-42bb-a80d-391ad7fafde9"
   },
   "outputs": [
    {
     "name": "stdout",
     "output_type": "stream",
     "text": [
      "(0.4978319193241573, 1.3241833072266299e-65)\n",
      "SpearmanrResult(correlation=0.4776143065003231, pvalue=8.265313080448207e-60)\n",
      "KendalltauResult(correlation=0.3272368700349914, pvalue=2.0332220019448656e-55)\n"
     ]
    }
   ],
   "source": [
    "print(scipy.stats.pearsonr(data['Concrete compressive strength'], data['Cement']))\n",
    "print(scipy.stats.spearmanr(data['Concrete compressive strength'], data['Cement']))\n",
    "print(scipy.stats.kendalltau(data['Concrete compressive strength'], data['Cement']))"
   ]
  },
  {
   "cell_type": "markdown",
   "id": "sorted-force",
   "metadata": {
    "id": "sorted-force"
   },
   "source": [
    "## ทดสอบความแตกต่างของค่าตัวแปร\n",
    "เริ่มจากข้อมูลคะแนนพื้นที่ใต้กราฟของโมเดลสองตัว บนข้อมูล 7 ชุด พื้นที่ใต้กราฟสูงแปลว่าโมเดลทำงานได้ดีกว่า"
   ]
  },
  {
   "cell_type": "code",
   "execution_count": 25,
   "id": "e8db0b1f",
   "metadata": {
    "colab": {
     "base_uri": "https://localhost:8080/",
     "height": 112
    },
    "id": "e8db0b1f",
    "outputId": "79fab8ed-23ce-44ee-d41f-0045b3e1a33b"
   },
   "outputs": [
    {
     "data": {
      "text/html": [
       "\n",
       "  <div id=\"df-9c441826-3188-4a4d-b7e2-f2449d8a1024\">\n",
       "    <div class=\"colab-df-container\">\n",
       "      <div>\n",
       "<style scoped>\n",
       "    .dataframe tbody tr th:only-of-type {\n",
       "        vertical-align: middle;\n",
       "    }\n",
       "\n",
       "    .dataframe tbody tr th {\n",
       "        vertical-align: top;\n",
       "    }\n",
       "\n",
       "    .dataframe thead th {\n",
       "        text-align: right;\n",
       "    }\n",
       "</style>\n",
       "<table border=\"1\" class=\"dataframe\">\n",
       "  <thead>\n",
       "    <tr style=\"text-align: right;\">\n",
       "      <th></th>\n",
       "      <th>Dataset 1</th>\n",
       "      <th>Dataset 2</th>\n",
       "      <th>Dataset 3</th>\n",
       "      <th>Dataset 4</th>\n",
       "      <th>Dataset 5</th>\n",
       "      <th>Dataset 6</th>\n",
       "      <th>Dataset 7</th>\n",
       "    </tr>\n",
       "  </thead>\n",
       "  <tbody>\n",
       "    <tr>\n",
       "      <th>Model A</th>\n",
       "      <td>0.701</td>\n",
       "      <td>0.503</td>\n",
       "      <td>0.991</td>\n",
       "      <td>0.827</td>\n",
       "      <td>0.623</td>\n",
       "      <td>0.728</td>\n",
       "      <td>0.596</td>\n",
       "    </tr>\n",
       "    <tr>\n",
       "      <th>Model B</th>\n",
       "      <td>0.691</td>\n",
       "      <td>0.478</td>\n",
       "      <td>0.905</td>\n",
       "      <td>0.739</td>\n",
       "      <td>0.589</td>\n",
       "      <td>0.719</td>\n",
       "      <td>0.508</td>\n",
       "    </tr>\n",
       "  </tbody>\n",
       "</table>\n",
       "</div>\n",
       "      <button class=\"colab-df-convert\" onclick=\"convertToInteractive('df-9c441826-3188-4a4d-b7e2-f2449d8a1024')\"\n",
       "              title=\"Convert this dataframe to an interactive table.\"\n",
       "              style=\"display:none;\">\n",
       "        \n",
       "  <svg xmlns=\"http://www.w3.org/2000/svg\" height=\"24px\"viewBox=\"0 0 24 24\"\n",
       "       width=\"24px\">\n",
       "    <path d=\"M0 0h24v24H0V0z\" fill=\"none\"/>\n",
       "    <path d=\"M18.56 5.44l.94 2.06.94-2.06 2.06-.94-2.06-.94-.94-2.06-.94 2.06-2.06.94zm-11 1L8.5 8.5l.94-2.06 2.06-.94-2.06-.94L8.5 2.5l-.94 2.06-2.06.94zm10 10l.94 2.06.94-2.06 2.06-.94-2.06-.94-.94-2.06-.94 2.06-2.06.94z\"/><path d=\"M17.41 7.96l-1.37-1.37c-.4-.4-.92-.59-1.43-.59-.52 0-1.04.2-1.43.59L10.3 9.45l-7.72 7.72c-.78.78-.78 2.05 0 2.83L4 21.41c.39.39.9.59 1.41.59.51 0 1.02-.2 1.41-.59l7.78-7.78 2.81-2.81c.8-.78.8-2.07 0-2.86zM5.41 20L4 18.59l7.72-7.72 1.47 1.35L5.41 20z\"/>\n",
       "  </svg>\n",
       "      </button>\n",
       "      \n",
       "  <style>\n",
       "    .colab-df-container {\n",
       "      display:flex;\n",
       "      flex-wrap:wrap;\n",
       "      gap: 12px;\n",
       "    }\n",
       "\n",
       "    .colab-df-convert {\n",
       "      background-color: #E8F0FE;\n",
       "      border: none;\n",
       "      border-radius: 50%;\n",
       "      cursor: pointer;\n",
       "      display: none;\n",
       "      fill: #1967D2;\n",
       "      height: 32px;\n",
       "      padding: 0 0 0 0;\n",
       "      width: 32px;\n",
       "    }\n",
       "\n",
       "    .colab-df-convert:hover {\n",
       "      background-color: #E2EBFA;\n",
       "      box-shadow: 0px 1px 2px rgba(60, 64, 67, 0.3), 0px 1px 3px 1px rgba(60, 64, 67, 0.15);\n",
       "      fill: #174EA6;\n",
       "    }\n",
       "\n",
       "    [theme=dark] .colab-df-convert {\n",
       "      background-color: #3B4455;\n",
       "      fill: #D2E3FC;\n",
       "    }\n",
       "\n",
       "    [theme=dark] .colab-df-convert:hover {\n",
       "      background-color: #434B5C;\n",
       "      box-shadow: 0px 1px 3px 1px rgba(0, 0, 0, 0.15);\n",
       "      filter: drop-shadow(0px 1px 2px rgba(0, 0, 0, 0.3));\n",
       "      fill: #FFFFFF;\n",
       "    }\n",
       "  </style>\n",
       "\n",
       "      <script>\n",
       "        const buttonEl =\n",
       "          document.querySelector('#df-9c441826-3188-4a4d-b7e2-f2449d8a1024 button.colab-df-convert');\n",
       "        buttonEl.style.display =\n",
       "          google.colab.kernel.accessAllowed ? 'block' : 'none';\n",
       "\n",
       "        async function convertToInteractive(key) {\n",
       "          const element = document.querySelector('#df-9c441826-3188-4a4d-b7e2-f2449d8a1024');\n",
       "          const dataTable =\n",
       "            await google.colab.kernel.invokeFunction('convertToInteractive',\n",
       "                                                     [key], {});\n",
       "          if (!dataTable) return;\n",
       "\n",
       "          const docLinkHtml = 'Like what you see? Visit the ' +\n",
       "            '<a target=\"_blank\" href=https://colab.research.google.com/notebooks/data_table.ipynb>data table notebook</a>'\n",
       "            + ' to learn more about interactive tables.';\n",
       "          element.innerHTML = '';\n",
       "          dataTable['output_type'] = 'display_data';\n",
       "          await google.colab.output.renderOutput(dataTable, element);\n",
       "          const docLink = document.createElement('div');\n",
       "          docLink.innerHTML = docLinkHtml;\n",
       "          element.appendChild(docLink);\n",
       "        }\n",
       "      </script>\n",
       "    </div>\n",
       "  </div>\n",
       "  "
      ],
      "text/plain": [
       "         Dataset 1  Dataset 2  Dataset 3  Dataset 4  Dataset 5  Dataset 6  \\\n",
       "Model A      0.701      0.503      0.991      0.827      0.623      0.728   \n",
       "Model B      0.691      0.478      0.905      0.739      0.589      0.719   \n",
       "\n",
       "         Dataset 7  \n",
       "Model A      0.596  \n",
       "Model B      0.508  "
      ]
     },
     "execution_count": 25,
     "metadata": {},
     "output_type": "execute_result"
    }
   ],
   "source": [
    "auc_df = pd.DataFrame([[0.701, 0.503, 0.991, 0.827, 0.623, 0.728, 0.596], \n",
    "                       [0.691, 0.478, 0.905, 0.739, 0.589, 0.719, 0.508]],\n",
    "                      index = ['Model A', 'Model B'], columns = ['Dataset ' + str(i) for i in range(1, 8)])\n",
    "auc_df.head()"
   ]
  },
  {
   "cell_type": "markdown",
   "id": "pDWqFW4BZPCR",
   "metadata": {
    "id": "pDWqFW4BZPCR"
   },
   "source": [
    "### เปรียบเทียบความแตกต่างด้วยกราฟ\n",
    "ใช้ **boxplot**"
   ]
  },
  {
   "cell_type": "code",
   "execution_count": 26,
   "id": "possible-lawrence",
   "metadata": {
    "colab": {
     "base_uri": "https://localhost:8080/",
     "height": 265
    },
    "id": "possible-lawrence",
    "outputId": "5d43fbfd-47f9-4bb5-c7fe-9a06d81486b8"
   },
   "outputs": [
    {
     "data": {
      "image/png": "[encoded data removed]",
      "text/plain": [
       "<Figure size 432x288 with 1 Axes>"
      ]
     },
     "metadata": {
      "needs_background": "light"
     },
     "output_type": "display_data"
    }
   ],
   "source": [
    "plt.figure()\n",
    "plt.boxplot([auc_df.loc[index, :] for index in auc_df.index], labels = auc_df.index)\n",
    "plt.ylabel('AUC')\n",
    "plt.show()"
   ]
  },
  {
   "cell_type": "markdown",
   "id": "xivu5_IhZTxv",
   "metadata": {
    "id": "xivu5_IhZTxv"
   },
   "source": [
    "การใช้ **scatter** ให้มุมมองที่แตกต่างจาก **boxplot** อย่างไร"
   ]
  },
  {
   "cell_type": "code",
   "execution_count": 27,
   "id": "above-chemistry",
   "metadata": {
    "colab": {
     "base_uri": "https://localhost:8080/",
     "height": 295
    },
    "id": "above-chemistry",
    "outputId": "8a002528-695c-4d3a-cc1f-b2ea1e94097a"
   },
   "outputs": [
    {
     "data": {
      "image/png": "[encoded data removed]",
      "text/plain": [
       "<Figure size 288x288 with 1 Axes>"
      ]
     },
     "metadata": {
      "needs_background": "light"
     },
     "output_type": "display_data"
    }
   ],
   "source": [
    "plt.figure(figsize = (4, 4))\n",
    "plt.scatter(auc_df.loc['Model A', :], auc_df.loc['Model B', :])\n",
    "plt.xlabel('Model A'); plt.ylabel('Model B'); plt.title('AUC')\n",
    "plt.plot([0.5, 1], [0.5, 1], '--k')\n",
    "plt.show()"
   ]
  },
  {
   "cell_type": "markdown",
   "id": "iZBnPIRHZe4Y",
   "metadata": {
    "id": "iZBnPIRHZe4Y"
   },
   "source": [
    "### เปรียบเทียบการทดสอบด้วย t-tests กับ non-parametric tests\n",
    "Mann-Whitney U test (**mannwhitneyu**) กับ Wilcoxon signed rank test (**wilcoxon**) ใน scipy.stats คือ unpaired และ paired test แบบ non-parametric "
   ]
  },
  {
   "cell_type": "code",
   "execution_count": 28,
   "id": "cc5f0c86",
   "metadata": {
    "colab": {
     "base_uri": "https://localhost:8080/"
    },
    "id": "cc5f0c86",
    "outputId": "b00204aa-da15-486f-9fec-dcf5ac84cb19"
   },
   "outputs": [
    {
     "name": "stdout",
     "output_type": "stream",
     "text": [
      "unpaired t-test: Ttest_indResult(statistic=0.5861139805745107, pvalue=0.5686597321571196)\n",
      "paired t-test: Ttest_relResult(statistic=3.4485643789623377, pvalue=0.013656963060721596)\n",
      "Mann-Whitney U test: MannwhitneyuResult(statistic=29.0, pvalue=0.6200466200466201)\n",
      "Wilcoxon signed rank test: WilcoxonResult(statistic=0.0, pvalue=0.015625)\n"
     ]
    }
   ],
   "source": [
    "print('unpaired t-test:', scipy.stats.ttest_ind(auc_df.loc['Model A', :], auc_df.loc['Model B', :]))\n",
    "print('paired t-test:', scipy.stats.ttest_rel(auc_df.loc['Model A', :], auc_df.loc['Model B', :]))\n",
    "\n",
    "print('Mann-Whitney U test:', scipy.stats.mannwhitneyu(auc_df.loc['Model A', :], auc_df.loc['Model B', :]))\n",
    "print('Wilcoxon signed rank test:', scipy.stats.wilcoxon(auc_df.loc['Model A', :], auc_df.loc['Model B', :]))"
   ]
  },
  {
   "cell_type": "markdown",
   "id": "widespread-express",
   "metadata": {
    "id": "widespread-express"
   },
   "source": [
    "# ข้อมูลผลการสอบของเด็กนักเรียน\n",
    "สำหรับข้อมูลชุดนี้ เราจะฝึกวิเคราะห์ตัวแปรชนิด categorical กัน"
   ]
  },
  {
   "cell_type": "code",
   "execution_count": 68,
   "id": "cloudy-fitting",
   "metadata": {
    "colab": {
     "base_uri": "https://localhost:8080/",
     "height": 206
    },
    "id": "cloudy-fitting",
    "outputId": "e0af2b68-7377-4b8b-dc23-688203a6c8b4"
   },
   "outputs": [
    {
     "data": {
      "text/html": [
       "\n",
       "  <div id=\"df-003d5806-82cd-443e-a4d5-6db385c19640\">\n",
       "    <div class=\"colab-df-container\">\n",
       "      <div>\n",
       "<style scoped>\n",
       "    .dataframe tbody tr th:only-of-type {\n",
       "        vertical-align: middle;\n",
       "    }\n",
       "\n",
       "    .dataframe tbody tr th {\n",
       "        vertical-align: top;\n",
       "    }\n",
       "\n",
       "    .dataframe thead th {\n",
       "        text-align: right;\n",
       "    }\n",
       "</style>\n",
       "<table border=\"1\" class=\"dataframe\">\n",
       "  <thead>\n",
       "    <tr style=\"text-align: right;\">\n",
       "      <th></th>\n",
       "      <th>gender</th>\n",
       "      <th>race/ethnicity</th>\n",
       "      <th>parental level of education</th>\n",
       "      <th>lunch</th>\n",
       "      <th>test preparation course</th>\n",
       "      <th>math score</th>\n",
       "      <th>reading score</th>\n",
       "      <th>writing score</th>\n",
       "    </tr>\n",
       "  </thead>\n",
       "  <tbody>\n",
       "    <tr>\n",
       "      <th>0</th>\n",
       "      <td>female</td>\n",
       "      <td>group B</td>\n",
       "      <td>bachelor's degree</td>\n",
       "      <td>standard</td>\n",
       "      <td>none</td>\n",
       "      <td>72</td>\n",
       "      <td>72</td>\n",
       "      <td>74</td>\n",
       "    </tr>\n",
       "    <tr>\n",
       "      <th>1</th>\n",
       "      <td>female</td>\n",
       "      <td>group C</td>\n",
       "      <td>some college</td>\n",
       "      <td>standard</td>\n",
       "      <td>completed</td>\n",
       "      <td>69</td>\n",
       "      <td>90</td>\n",
       "      <td>88</td>\n",
       "    </tr>\n",
       "    <tr>\n",
       "      <th>2</th>\n",
       "      <td>female</td>\n",
       "      <td>group B</td>\n",
       "      <td>master's degree</td>\n",
       "      <td>standard</td>\n",
       "      <td>none</td>\n",
       "      <td>90</td>\n",
       "      <td>95</td>\n",
       "      <td>93</td>\n",
       "    </tr>\n",
       "    <tr>\n",
       "      <th>3</th>\n",
       "      <td>male</td>\n",
       "      <td>group A</td>\n",
       "      <td>associate's degree</td>\n",
       "      <td>free/reduced</td>\n",
       "      <td>none</td>\n",
       "      <td>47</td>\n",
       "      <td>57</td>\n",
       "      <td>44</td>\n",
       "    </tr>\n",
       "    <tr>\n",
       "      <th>4</th>\n",
       "      <td>male</td>\n",
       "      <td>group C</td>\n",
       "      <td>some college</td>\n",
       "      <td>standard</td>\n",
       "      <td>none</td>\n",
       "      <td>76</td>\n",
       "      <td>78</td>\n",
       "      <td>75</td>\n",
       "    </tr>\n",
       "  </tbody>\n",
       "</table>\n",
       "</div>\n",
       "      <button class=\"colab-df-convert\" onclick=\"convertToInteractive('df-003d5806-82cd-443e-a4d5-6db385c19640')\"\n",
       "              title=\"Convert this dataframe to an interactive table.\"\n",
       "              style=\"display:none;\">\n",
       "        \n",
       "  <svg xmlns=\"http://www.w3.org/2000/svg\" height=\"24px\"viewBox=\"0 0 24 24\"\n",
       "       width=\"24px\">\n",
       "    <path d=\"M0 0h24v24H0V0z\" fill=\"none\"/>\n",
       "    <path d=\"M18.56 5.44l.94 2.06.94-2.06 2.06-.94-2.06-.94-.94-2.06-.94 2.06-2.06.94zm-11 1L8.5 8.5l.94-2.06 2.06-.94-2.06-.94L8.5 2.5l-.94 2.06-2.06.94zm10 10l.94 2.06.94-2.06 2.06-.94-2.06-.94-.94-2.06-.94 2.06-2.06.94z\"/><path d=\"M17.41 7.96l-1.37-1.37c-.4-.4-.92-.59-1.43-.59-.52 0-1.04.2-1.43.59L10.3 9.45l-7.72 7.72c-.78.78-.78 2.05 0 2.83L4 21.41c.39.39.9.59 1.41.59.51 0 1.02-.2 1.41-.59l7.78-7.78 2.81-2.81c.8-.78.8-2.07 0-2.86zM5.41 20L4 18.59l7.72-7.72 1.47 1.35L5.41 20z\"/>\n",
       "  </svg>\n",
       "      </button>\n",
       "      \n",
       "  <style>\n",
       "    .colab-df-container {\n",
       "      display:flex;\n",
       "      flex-wrap:wrap;\n",
       "      gap: 12px;\n",
       "    }\n",
       "\n",
       "    .colab-df-convert {\n",
       "      background-color: #E8F0FE;\n",
       "      border: none;\n",
       "      border-radius: 50%;\n",
       "      cursor: pointer;\n",
       "      display: none;\n",
       "      fill: #1967D2;\n",
       "      height: 32px;\n",
       "      padding: 0 0 0 0;\n",
       "      width: 32px;\n",
       "    }\n",
       "\n",
       "    .colab-df-convert:hover {\n",
       "      background-color: #E2EBFA;\n",
       "      box-shadow: 0px 1px 2px rgba(60, 64, 67, 0.3), 0px 1px 3px 1px rgba(60, 64, 67, 0.15);\n",
       "      fill: #174EA6;\n",
       "    }\n",
       "\n",
       "    [theme=dark] .colab-df-convert {\n",
       "      background-color: #3B4455;\n",
       "      fill: #D2E3FC;\n",
       "    }\n",
       "\n",
       "    [theme=dark] .colab-df-convert:hover {\n",
       "      background-color: #434B5C;\n",
       "      box-shadow: 0px 1px 3px 1px rgba(0, 0, 0, 0.15);\n",
       "      filter: drop-shadow(0px 1px 2px rgba(0, 0, 0, 0.3));\n",
       "      fill: #FFFFFF;\n",
       "    }\n",
       "  </style>\n",
       "\n",
       "      <script>\n",
       "        const buttonEl =\n",
       "          document.querySelector('#df-003d5806-82cd-443e-a4d5-6db385c19640 button.colab-df-convert');\n",
       "        buttonEl.style.display =\n",
       "          google.colab.kernel.accessAllowed ? 'block' : 'none';\n",
       "\n",
       "        async function convertToInteractive(key) {\n",
       "          const element = document.querySelector('#df-003d5806-82cd-443e-a4d5-6db385c19640');\n",
       "          const dataTable =\n",
       "            await google.colab.kernel.invokeFunction('convertToInteractive',\n",
       "                                                     [key], {});\n",
       "          if (!dataTable) return;\n",
       "\n",
       "          const docLinkHtml = 'Like what you see? Visit the ' +\n",
       "            '<a target=\"_blank\" href=https://colab.research.google.com/notebooks/data_table.ipynb>data table notebook</a>'\n",
       "            + ' to learn more about interactive tables.';\n",
       "          element.innerHTML = '';\n",
       "          dataTable['output_type'] = 'display_data';\n",
       "          await google.colab.output.renderOutput(dataTable, element);\n",
       "          const docLink = document.createElement('div');\n",
       "          docLink.innerHTML = docLinkHtml;\n",
       "          element.appendChild(docLink);\n",
       "        }\n",
       "      </script>\n",
       "    </div>\n",
       "  </div>\n",
       "  "
      ],
      "text/plain": [
       "   gender race/ethnicity parental level of education         lunch  \\\n",
       "0  female        group B           bachelor's degree      standard   \n",
       "1  female        group C                some college      standard   \n",
       "2  female        group B             master's degree      standard   \n",
       "3    male        group A          associate's degree  free/reduced   \n",
       "4    male        group C                some college      standard   \n",
       "\n",
       "  test preparation course  math score  reading score  writing score  \n",
       "0                    none          72             72             74  \n",
       "1               completed          69             90             88  \n",
       "2                    none          90             95             93  \n",
       "3                    none          47             57             44  \n",
       "4                    none          76             78             75  "
      ]
     },
     "execution_count": 68,
     "metadata": {},
     "output_type": "execute_result"
    }
   ],
   "source": [
    "data = pd.read_csv('/content/drive/MyDrive/Datasets/StudentsPerformance.csv', index_col = None, header = 0)\n",
    "data.head()"
   ]
  },
  {
   "cell_type": "markdown",
   "id": "acute-lesbian",
   "metadata": {
    "id": "acute-lesbian"
   },
   "source": [
    "## นับจำนวนข้อมูลที่มาจากแต่ละ category\n",
    "ด้วย **value_counts**"
   ]
  },
  {
   "cell_type": "code",
   "execution_count": 31,
   "id": "organized-camel",
   "metadata": {
    "colab": {
     "base_uri": "https://localhost:8080/"
    },
    "id": "organized-camel",
    "outputId": "b9e85358-cb00-4834-fae3-432a9e31858c"
   },
   "outputs": [
    {
     "data": {
      "text/plain": [
       "some college          226\n",
       "associate's degree    222\n",
       "high school           196\n",
       "some high school      179\n",
       "bachelor's degree     118\n",
       "master's degree        59\n",
       "Name: parental level of education, dtype: int64"
      ]
     },
     "execution_count": 31,
     "metadata": {},
     "output_type": "execute_result"
    }
   ],
   "source": [
    "data['parental level of education'].value_counts()"
   ]
  },
  {
   "cell_type": "markdown",
   "id": "d8Ba98HPbARW",
   "metadata": {
    "id": "d8Ba98HPbARW"
   },
   "source": [
    "ด้วย **crosstab**"
   ]
  },
  {
   "cell_type": "code",
   "execution_count": 32,
   "id": "built-happiness",
   "metadata": {
    "colab": {
     "base_uri": "https://localhost:8080/",
     "height": 238
    },
    "id": "built-happiness",
    "outputId": "cb166ad3-b2a7-4523-e4a3-67dae05be0d6"
   },
   "outputs": [
    {
     "data": {
      "text/html": [
       "\n",
       "  <div id=\"df-ccc89cde-f663-4538-a393-0468be4f0f64\">\n",
       "    <div class=\"colab-df-container\">\n",
       "      <div>\n",
       "<style scoped>\n",
       "    .dataframe tbody tr th:only-of-type {\n",
       "        vertical-align: middle;\n",
       "    }\n",
       "\n",
       "    .dataframe tbody tr th {\n",
       "        vertical-align: top;\n",
       "    }\n",
       "\n",
       "    .dataframe thead th {\n",
       "        text-align: right;\n",
       "    }\n",
       "</style>\n",
       "<table border=\"1\" class=\"dataframe\">\n",
       "  <thead>\n",
       "    <tr style=\"text-align: right;\">\n",
       "      <th>parental level of education</th>\n",
       "      <th>associate's degree</th>\n",
       "      <th>bachelor's degree</th>\n",
       "      <th>high school</th>\n",
       "      <th>master's degree</th>\n",
       "      <th>some college</th>\n",
       "      <th>some high school</th>\n",
       "    </tr>\n",
       "    <tr>\n",
       "      <th>race/ethnicity</th>\n",
       "      <th></th>\n",
       "      <th></th>\n",
       "      <th></th>\n",
       "      <th></th>\n",
       "      <th></th>\n",
       "      <th></th>\n",
       "    </tr>\n",
       "  </thead>\n",
       "  <tbody>\n",
       "    <tr>\n",
       "      <th>group A</th>\n",
       "      <td>14</td>\n",
       "      <td>12</td>\n",
       "      <td>18</td>\n",
       "      <td>3</td>\n",
       "      <td>18</td>\n",
       "      <td>24</td>\n",
       "    </tr>\n",
       "    <tr>\n",
       "      <th>group B</th>\n",
       "      <td>41</td>\n",
       "      <td>20</td>\n",
       "      <td>48</td>\n",
       "      <td>6</td>\n",
       "      <td>37</td>\n",
       "      <td>38</td>\n",
       "    </tr>\n",
       "    <tr>\n",
       "      <th>group C</th>\n",
       "      <td>78</td>\n",
       "      <td>40</td>\n",
       "      <td>64</td>\n",
       "      <td>19</td>\n",
       "      <td>69</td>\n",
       "      <td>49</td>\n",
       "    </tr>\n",
       "    <tr>\n",
       "      <th>group D</th>\n",
       "      <td>50</td>\n",
       "      <td>28</td>\n",
       "      <td>44</td>\n",
       "      <td>23</td>\n",
       "      <td>67</td>\n",
       "      <td>50</td>\n",
       "    </tr>\n",
       "    <tr>\n",
       "      <th>group E</th>\n",
       "      <td>39</td>\n",
       "      <td>18</td>\n",
       "      <td>22</td>\n",
       "      <td>8</td>\n",
       "      <td>35</td>\n",
       "      <td>18</td>\n",
       "    </tr>\n",
       "  </tbody>\n",
       "</table>\n",
       "</div>\n",
       "      <button class=\"colab-df-convert\" onclick=\"convertToInteractive('df-ccc89cde-f663-4538-a393-0468be4f0f64')\"\n",
       "              title=\"Convert this dataframe to an interactive table.\"\n",
       "              style=\"display:none;\">\n",
       "        \n",
       "  <svg xmlns=\"http://www.w3.org/2000/svg\" height=\"24px\"viewBox=\"0 0 24 24\"\n",
       "       width=\"24px\">\n",
       "    <path d=\"M0 0h24v24H0V0z\" fill=\"none\"/>\n",
       "    <path d=\"M18.56 5.44l.94 2.06.94-2.06 2.06-.94-2.06-.94-.94-2.06-.94 2.06-2.06.94zm-11 1L8.5 8.5l.94-2.06 2.06-.94-2.06-.94L8.5 2.5l-.94 2.06-2.06.94zm10 10l.94 2.06.94-2.06 2.06-.94-2.06-.94-.94-2.06-.94 2.06-2.06.94z\"/><path d=\"M17.41 7.96l-1.37-1.37c-.4-.4-.92-.59-1.43-.59-.52 0-1.04.2-1.43.59L10.3 9.45l-7.72 7.72c-.78.78-.78 2.05 0 2.83L4 21.41c.39.39.9.59 1.41.59.51 0 1.02-.2 1.41-.59l7.78-7.78 2.81-2.81c.8-.78.8-2.07 0-2.86zM5.41 20L4 18.59l7.72-7.72 1.47 1.35L5.41 20z\"/>\n",
       "  </svg>\n",
       "      </button>\n",
       "      \n",
       "  <style>\n",
       "    .colab-df-container {\n",
       "      display:flex;\n",
       "      flex-wrap:wrap;\n",
       "      gap: 12px;\n",
       "    }\n",
       "\n",
       "    .colab-df-convert {\n",
       "      background-color: #E8F0FE;\n",
       "      border: none;\n",
       "      border-radius: 50%;\n",
       "      cursor: pointer;\n",
       "      display: none;\n",
       "      fill: #1967D2;\n",
       "      height: 32px;\n",
       "      padding: 0 0 0 0;\n",
       "      width: 32px;\n",
       "    }\n",
       "\n",
       "    .colab-df-convert:hover {\n",
       "      background-color: #E2EBFA;\n",
       "      box-shadow: 0px 1px 2px rgba(60, 64, 67, 0.3), 0px 1px 3px 1px rgba(60, 64, 67, 0.15);\n",
       "      fill: #174EA6;\n",
       "    }\n",
       "\n",
       "    [theme=dark] .colab-df-convert {\n",
       "      background-color: #3B4455;\n",
       "      fill: #D2E3FC;\n",
       "    }\n",
       "\n",
       "    [theme=dark] .colab-df-convert:hover {\n",
       "      background-color: #434B5C;\n",
       "      box-shadow: 0px 1px 3px 1px rgba(0, 0, 0, 0.15);\n",
       "      filter: drop-shadow(0px 1px 2px rgba(0, 0, 0, 0.3));\n",
       "      fill: #FFFFFF;\n",
       "    }\n",
       "  </style>\n",
       "\n",
       "      <script>\n",
       "        const buttonEl =\n",
       "          document.querySelector('#df-ccc89cde-f663-4538-a393-0468be4f0f64 button.colab-df-convert');\n",
       "        buttonEl.style.display =\n",
       "          google.colab.kernel.accessAllowed ? 'block' : 'none';\n",
       "\n",
       "        async function convertToInteractive(key) {\n",
       "          const element = document.querySelector('#df-ccc89cde-f663-4538-a393-0468be4f0f64');\n",
       "          const dataTable =\n",
       "            await google.colab.kernel.invokeFunction('convertToInteractive',\n",
       "                                                     [key], {});\n",
       "          if (!dataTable) return;\n",
       "\n",
       "          const docLinkHtml = 'Like what you see? Visit the ' +\n",
       "            '<a target=\"_blank\" href=https://colab.research.google.com/notebooks/data_table.ipynb>data table notebook</a>'\n",
       "            + ' to learn more about interactive tables.';\n",
       "          element.innerHTML = '';\n",
       "          dataTable['output_type'] = 'display_data';\n",
       "          await google.colab.output.renderOutput(dataTable, element);\n",
       "          const docLink = document.createElement('div');\n",
       "          docLink.innerHTML = docLinkHtml;\n",
       "          element.appendChild(docLink);\n",
       "        }\n",
       "      </script>\n",
       "    </div>\n",
       "  </div>\n",
       "  "
      ],
      "text/plain": [
       "parental level of education  associate's degree  bachelor's degree  \\\n",
       "race/ethnicity                                                       \n",
       "group A                                      14                 12   \n",
       "group B                                      41                 20   \n",
       "group C                                      78                 40   \n",
       "group D                                      50                 28   \n",
       "group E                                      39                 18   \n",
       "\n",
       "parental level of education  high school  master's degree  some college  \\\n",
       "race/ethnicity                                                            \n",
       "group A                               18                3            18   \n",
       "group B                               48                6            37   \n",
       "group C                               64               19            69   \n",
       "group D                               44               23            67   \n",
       "group E                               22                8            35   \n",
       "\n",
       "parental level of education  some high school  \n",
       "race/ethnicity                                 \n",
       "group A                                    24  \n",
       "group B                                    38  \n",
       "group C                                    49  \n",
       "group D                                    50  \n",
       "group E                                    18  "
      ]
     },
     "execution_count": 32,
     "metadata": {},
     "output_type": "execute_result"
    }
   ],
   "source": [
    "race_vs_parent = pd.crosstab(data['race/ethnicity'], data['parental level of education'])\n",
    "race_vs_parent.head()"
   ]
  },
  {
   "cell_type": "markdown",
   "id": "WcQ6cE19bE0G",
   "metadata": {
    "id": "WcQ6cE19bE0G"
   },
   "source": [
    "แปลงจาก count เป็น percent ภายในแต่ละกลุ่มของปริญญาได้มั้ย?"
   ]
  },
  {
   "cell_type": "code",
   "execution_count": 33,
   "id": "68dcf660",
   "metadata": {
    "colab": {
     "base_uri": "https://localhost:8080/",
     "height": 238
    },
    "id": "68dcf660",
    "outputId": "c496ab58-cc6f-441b-9bce-08e2d1902621"
   },
   "outputs": [
    {
     "data": {
      "text/html": [
       "\n",
       "  <div id=\"df-89822cc0-00d0-4480-8d41-16a85b17cf2e\">\n",
       "    <div class=\"colab-df-container\">\n",
       "      <div>\n",
       "<style scoped>\n",
       "    .dataframe tbody tr th:only-of-type {\n",
       "        vertical-align: middle;\n",
       "    }\n",
       "\n",
       "    .dataframe tbody tr th {\n",
       "        vertical-align: top;\n",
       "    }\n",
       "\n",
       "    .dataframe thead th {\n",
       "        text-align: right;\n",
       "    }\n",
       "</style>\n",
       "<table border=\"1\" class=\"dataframe\">\n",
       "  <thead>\n",
       "    <tr style=\"text-align: right;\">\n",
       "      <th>parental level of education</th>\n",
       "      <th>associate's degree</th>\n",
       "      <th>bachelor's degree</th>\n",
       "      <th>high school</th>\n",
       "      <th>master's degree</th>\n",
       "      <th>some college</th>\n",
       "      <th>some high school</th>\n",
       "    </tr>\n",
       "    <tr>\n",
       "      <th>race/ethnicity</th>\n",
       "      <th></th>\n",
       "      <th></th>\n",
       "      <th></th>\n",
       "      <th></th>\n",
       "      <th></th>\n",
       "      <th></th>\n",
       "    </tr>\n",
       "  </thead>\n",
       "  <tbody>\n",
       "    <tr>\n",
       "      <th>group A</th>\n",
       "      <td>6.306306</td>\n",
       "      <td>10.169492</td>\n",
       "      <td>9.183673</td>\n",
       "      <td>5.084746</td>\n",
       "      <td>7.964602</td>\n",
       "      <td>13.407821</td>\n",
       "    </tr>\n",
       "    <tr>\n",
       "      <th>group B</th>\n",
       "      <td>18.468468</td>\n",
       "      <td>16.949153</td>\n",
       "      <td>24.489796</td>\n",
       "      <td>10.169492</td>\n",
       "      <td>16.371681</td>\n",
       "      <td>21.229050</td>\n",
       "    </tr>\n",
       "    <tr>\n",
       "      <th>group C</th>\n",
       "      <td>35.135135</td>\n",
       "      <td>33.898305</td>\n",
       "      <td>32.653061</td>\n",
       "      <td>32.203390</td>\n",
       "      <td>30.530973</td>\n",
       "      <td>27.374302</td>\n",
       "    </tr>\n",
       "    <tr>\n",
       "      <th>group D</th>\n",
       "      <td>22.522523</td>\n",
       "      <td>23.728814</td>\n",
       "      <td>22.448980</td>\n",
       "      <td>38.983051</td>\n",
       "      <td>29.646018</td>\n",
       "      <td>27.932961</td>\n",
       "    </tr>\n",
       "    <tr>\n",
       "      <th>group E</th>\n",
       "      <td>17.567568</td>\n",
       "      <td>15.254237</td>\n",
       "      <td>11.224490</td>\n",
       "      <td>13.559322</td>\n",
       "      <td>15.486726</td>\n",
       "      <td>10.055866</td>\n",
       "    </tr>\n",
       "  </tbody>\n",
       "</table>\n",
       "</div>\n",
       "      <button class=\"colab-df-convert\" onclick=\"convertToInteractive('df-89822cc0-00d0-4480-8d41-16a85b17cf2e')\"\n",
       "              title=\"Convert this dataframe to an interactive table.\"\n",
       "              style=\"display:none;\">\n",
       "        \n",
       "  <svg xmlns=\"http://www.w3.org/2000/svg\" height=\"24px\"viewBox=\"0 0 24 24\"\n",
       "       width=\"24px\">\n",
       "    <path d=\"M0 0h24v24H0V0z\" fill=\"none\"/>\n",
       "    <path d=\"M18.56 5.44l.94 2.06.94-2.06 2.06-.94-2.06-.94-.94-2.06-.94 2.06-2.06.94zm-11 1L8.5 8.5l.94-2.06 2.06-.94-2.06-.94L8.5 2.5l-.94 2.06-2.06.94zm10 10l.94 2.06.94-2.06 2.06-.94-2.06-.94-.94-2.06-.94 2.06-2.06.94z\"/><path d=\"M17.41 7.96l-1.37-1.37c-.4-.4-.92-.59-1.43-.59-.52 0-1.04.2-1.43.59L10.3 9.45l-7.72 7.72c-.78.78-.78 2.05 0 2.83L4 21.41c.39.39.9.59 1.41.59.51 0 1.02-.2 1.41-.59l7.78-7.78 2.81-2.81c.8-.78.8-2.07 0-2.86zM5.41 20L4 18.59l7.72-7.72 1.47 1.35L5.41 20z\"/>\n",
       "  </svg>\n",
       "      </button>\n",
       "      \n",
       "  <style>\n",
       "    .colab-df-container {\n",
       "      display:flex;\n",
       "      flex-wrap:wrap;\n",
       "      gap: 12px;\n",
       "    }\n",
       "\n",
       "    .colab-df-convert {\n",
       "      background-color: #E8F0FE;\n",
       "      border: none;\n",
       "      border-radius: 50%;\n",
       "      cursor: pointer;\n",
       "      display: none;\n",
       "      fill: #1967D2;\n",
       "      height: 32px;\n",
       "      padding: 0 0 0 0;\n",
       "      width: 32px;\n",
       "    }\n",
       "\n",
       "    .colab-df-convert:hover {\n",
       "      background-color: #E2EBFA;\n",
       "      box-shadow: 0px 1px 2px rgba(60, 64, 67, 0.3), 0px 1px 3px 1px rgba(60, 64, 67, 0.15);\n",
       "      fill: #174EA6;\n",
       "    }\n",
       "\n",
       "    [theme=dark] .colab-df-convert {\n",
       "      background-color: #3B4455;\n",
       "      fill: #D2E3FC;\n",
       "    }\n",
       "\n",
       "    [theme=dark] .colab-df-convert:hover {\n",
       "      background-color: #434B5C;\n",
       "      box-shadow: 0px 1px 3px 1px rgba(0, 0, 0, 0.15);\n",
       "      filter: drop-shadow(0px 1px 2px rgba(0, 0, 0, 0.3));\n",
       "      fill: #FFFFFF;\n",
       "    }\n",
       "  </style>\n",
       "\n",
       "      <script>\n",
       "        const buttonEl =\n",
       "          document.querySelector('#df-89822cc0-00d0-4480-8d41-16a85b17cf2e button.colab-df-convert');\n",
       "        buttonEl.style.display =\n",
       "          google.colab.kernel.accessAllowed ? 'block' : 'none';\n",
       "\n",
       "        async function convertToInteractive(key) {\n",
       "          const element = document.querySelector('#df-89822cc0-00d0-4480-8d41-16a85b17cf2e');\n",
       "          const dataTable =\n",
       "            await google.colab.kernel.invokeFunction('convertToInteractive',\n",
       "                                                     [key], {});\n",
       "          if (!dataTable) return;\n",
       "\n",
       "          const docLinkHtml = 'Like what you see? Visit the ' +\n",
       "            '<a target=\"_blank\" href=https://colab.research.google.com/notebooks/data_table.ipynb>data table notebook</a>'\n",
       "            + ' to learn more about interactive tables.';\n",
       "          element.innerHTML = '';\n",
       "          dataTable['output_type'] = 'display_data';\n",
       "          await google.colab.output.renderOutput(dataTable, element);\n",
       "          const docLink = document.createElement('div');\n",
       "          docLink.innerHTML = docLinkHtml;\n",
       "          element.appendChild(docLink);\n",
       "        }\n",
       "      </script>\n",
       "    </div>\n",
       "  </div>\n",
       "  "
      ],
      "text/plain": [
       "parental level of education  associate's degree  bachelor's degree  \\\n",
       "race/ethnicity                                                       \n",
       "group A                                6.306306          10.169492   \n",
       "group B                               18.468468          16.949153   \n",
       "group C                               35.135135          33.898305   \n",
       "group D                               22.522523          23.728814   \n",
       "group E                               17.567568          15.254237   \n",
       "\n",
       "parental level of education  high school  master's degree  some college  \\\n",
       "race/ethnicity                                                            \n",
       "group A                         9.183673         5.084746      7.964602   \n",
       "group B                        24.489796        10.169492     16.371681   \n",
       "group C                        32.653061        32.203390     30.530973   \n",
       "group D                        22.448980        38.983051     29.646018   \n",
       "group E                        11.224490        13.559322     15.486726   \n",
       "\n",
       "parental level of education  some high school  \n",
       "race/ethnicity                                 \n",
       "group A                             13.407821  \n",
       "group B                             21.229050  \n",
       "group C                             27.374302  \n",
       "group D                             27.932961  \n",
       "group E                             10.055866  "
      ]
     },
     "execution_count": 33,
     "metadata": {},
     "output_type": "execute_result"
    }
   ],
   "source": [
    "race_vs_parent_percent = race_vs_parent * 100.0 / race_vs_parent.sum()\n",
    "race_vs_parent_percent.head()"
   ]
  },
  {
   "cell_type": "markdown",
   "id": "96f647ba",
   "metadata": {
    "id": "96f647ba"
   },
   "source": [
    "## ดูการกระจายตัวของคะแนนสอบในแต่ละ category"
   ]
  },
  {
   "cell_type": "code",
   "execution_count": 69,
   "id": "b678487b",
   "metadata": {
    "id": "b678487b"
   },
   "outputs": [],
   "source": [
    "categorical_features = ['gender', 'race/ethnicity', 'parental level of education', 'lunch', 'test preparation course']"
   ]
  },
  {
   "cell_type": "markdown",
   "id": "hSSC6La-bnAo",
   "metadata": {
    "id": "hSSC6La-bnAo"
   },
   "source": [
    "ใช้ **subplot** ร่วมกับ **boxplot** เพื่อแสดงการกระจายตัวทุกตัวแปรในภาพเดียว"
   ]
  },
  {
   "cell_type": "code",
   "execution_count": 71,
   "id": "b1e361d4",
   "metadata": {
    "colab": {
     "base_uri": "https://localhost:8080/",
     "height": 635
    },
    "id": "b1e361d4",
    "outputId": "f1cac110-1455-40b7-fd9b-8f9f4187b242"
   },
   "outputs": [
    {
     "name": "stderr",
     "output_type": "stream",
     "text": [
      "/usr/local/lib/python3.7/dist-packages/matplotlib/cbook/__init__.py:1376: VisibleDeprecationWarning: Creating an ndarray from ragged nested sequences (which is a list-or-tuple of lists-or-tuples-or ndarrays with different lengths or shapes) is deprecated. If you meant to do this, you must specify 'dtype=object' when creating the ndarray.\n",
      "  X = np.atleast_1d(X.T if isinstance(X, np.ndarray) else np.asarray(X))\n",
      "/usr/local/lib/python3.7/dist-packages/matplotlib/cbook/__init__.py:1376: VisibleDeprecationWarning: Creating an ndarray from ragged nested sequences (which is a list-or-tuple of lists-or-tuples-or ndarrays with different lengths or shapes) is deprecated. If you meant to do this, you must specify 'dtype=object' when creating the ndarray.\n",
      "  X = np.atleast_1d(X.T if isinstance(X, np.ndarray) else np.asarray(X))\n",
      "/usr/local/lib/python3.7/dist-packages/matplotlib/cbook/__init__.py:1376: VisibleDeprecationWarning: Creating an ndarray from ragged nested sequences (which is a list-or-tuple of lists-or-tuples-or ndarrays with different lengths or shapes) is deprecated. If you meant to do this, you must specify 'dtype=object' when creating the ndarray.\n",
      "  X = np.atleast_1d(X.T if isinstance(X, np.ndarray) else np.asarray(X))\n",
      "/usr/local/lib/python3.7/dist-packages/matplotlib/cbook/__init__.py:1376: VisibleDeprecationWarning: Creating an ndarray from ragged nested sequences (which is a list-or-tuple of lists-or-tuples-or ndarrays with different lengths or shapes) is deprecated. If you meant to do this, you must specify 'dtype=object' when creating the ndarray.\n",
      "  X = np.atleast_1d(X.T if isinstance(X, np.ndarray) else np.asarray(X))\n",
      "/usr/local/lib/python3.7/dist-packages/matplotlib/cbook/__init__.py:1376: VisibleDeprecationWarning: Creating an ndarray from ragged nested sequences (which is a list-or-tuple of lists-or-tuples-or ndarrays with different lengths or shapes) is deprecated. If you meant to do this, you must specify 'dtype=object' when creating the ndarray.\n",
      "  X = np.atleast_1d(X.T if isinstance(X, np.ndarray) else np.asarray(X))\n"
     ]
    },
    {
     "data": {
      "image/png": "[encoded data removed]",
      "text/plain": [
       "<Figure size 1008x432 with 5 Axes>"
      ]
     },
     "metadata": {
      "needs_background": "light"
     },
     "output_type": "display_data"
    }
   ],
   "source": [
    "plt.figure(figsize = (14, 6))\n",
    "\n",
    "for i, cat in enumerate(categorical_features, start = 1):\n",
    "    categories = sorted(pd.unique(data[cat]))\n",
    "    \n",
    "    plt.subplot(2, 3, i)\n",
    "    plt.boxplot([data.loc[data[cat] == x, 'math score'] for x in categories], labels = categories, vert = False)\n",
    "    plt.xlabel('math score')\n",
    "\n",
    "plt.tight_layout()\n",
    "plt.show()"
   ]
  },
  {
   "cell_type": "markdown",
   "id": "2cc9782a",
   "metadata": {
    "id": "2cc9782a"
   },
   "source": [
    "## ทดสอบความแตกต่างของค่าคะแนนสอบคณิตศาสตร์\n",
    "ใช้ t-test ระหว่างกลุ่มตัวแปร **lunch**"
   ]
  },
  {
   "cell_type": "code",
   "execution_count": 36,
   "id": "b542f9c8",
   "metadata": {
    "colab": {
     "base_uri": "https://localhost:8080/"
    },
    "id": "b542f9c8",
    "outputId": "20ab6dcb-7fef-47bf-cc39-0f76e662c4d5"
   },
   "outputs": [
    {
     "name": "stdout",
     "output_type": "stream",
     "text": [
      "unpaired t-test: Ttest_indResult(statistic=11.837180472914612, pvalue=2.4131955993137074e-30)\n",
      "Mann-Whitney U test: MannwhitneyuResult(statistic=161077.0, pvalue=1.522041803652298e-26)\n"
     ]
    }
   ],
   "source": [
    "standard_math = data.loc[data['lunch'] == 'standard', 'math score']\n",
    "free_math = data.loc[data['lunch'] == 'free/reduced', 'math score']\n",
    "\n",
    "print('unpaired t-test:', scipy.stats.ttest_ind(standard_math, free_math))\n",
    "print('Mann-Whitney U test:', scipy.stats.mannwhitneyu(standard_math, free_math))"
   ]
  },
  {
   "cell_type": "markdown",
   "id": "982a2051",
   "metadata": {
    "id": "982a2051"
   },
   "source": [
    "### ทดสอบความสัมพันธ์ระหว่างเด็กที่ได้คะแนนคณิตศาสตร์สูงกับตัวแปร category ต่าง ๆ\n",
    "เริ่มจากใช้ **crosstab** สร้างตารางระหว่างเด็กที่ใช้ **test preparation course** กับไม่ได้ใช้"
   ]
  },
  {
   "cell_type": "code",
   "execution_count": 37,
   "id": "assumed-cleaners",
   "metadata": {
    "colab": {
     "base_uri": "https://localhost:8080/",
     "height": 143
    },
    "id": "assumed-cleaners",
    "outputId": "1f3e8f4f-ef3d-46a7-ed55-dafaf9b80bdc"
   },
   "outputs": [
    {
     "data": {
      "text/html": [
       "\n",
       "  <div id=\"df-07947f12-d68f-41f4-9702-cd68ee8e3354\">\n",
       "    <div class=\"colab-df-container\">\n",
       "      <div>\n",
       "<style scoped>\n",
       "    .dataframe tbody tr th:only-of-type {\n",
       "        vertical-align: middle;\n",
       "    }\n",
       "\n",
       "    .dataframe tbody tr th {\n",
       "        vertical-align: top;\n",
       "    }\n",
       "\n",
       "    .dataframe thead th {\n",
       "        text-align: right;\n",
       "    }\n",
       "</style>\n",
       "<table border=\"1\" class=\"dataframe\">\n",
       "  <thead>\n",
       "    <tr style=\"text-align: right;\">\n",
       "      <th>math score</th>\n",
       "      <th>&lt;=50</th>\n",
       "      <th>&gt;50</th>\n",
       "    </tr>\n",
       "    <tr>\n",
       "      <th>test preparation course</th>\n",
       "      <th></th>\n",
       "      <th></th>\n",
       "    </tr>\n",
       "  </thead>\n",
       "  <tbody>\n",
       "    <tr>\n",
       "      <th>yes</th>\n",
       "      <td>33</td>\n",
       "      <td>325</td>\n",
       "    </tr>\n",
       "    <tr>\n",
       "      <th>no</th>\n",
       "      <td>117</td>\n",
       "      <td>525</td>\n",
       "    </tr>\n",
       "  </tbody>\n",
       "</table>\n",
       "</div>\n",
       "      <button class=\"colab-df-convert\" onclick=\"convertToInteractive('df-07947f12-d68f-41f4-9702-cd68ee8e3354')\"\n",
       "              title=\"Convert this dataframe to an interactive table.\"\n",
       "              style=\"display:none;\">\n",
       "        \n",
       "  <svg xmlns=\"http://www.w3.org/2000/svg\" height=\"24px\"viewBox=\"0 0 24 24\"\n",
       "       width=\"24px\">\n",
       "    <path d=\"M0 0h24v24H0V0z\" fill=\"none\"/>\n",
       "    <path d=\"M18.56 5.44l.94 2.06.94-2.06 2.06-.94-2.06-.94-.94-2.06-.94 2.06-2.06.94zm-11 1L8.5 8.5l.94-2.06 2.06-.94-2.06-.94L8.5 2.5l-.94 2.06-2.06.94zm10 10l.94 2.06.94-2.06 2.06-.94-2.06-.94-.94-2.06-.94 2.06-2.06.94z\"/><path d=\"M17.41 7.96l-1.37-1.37c-.4-.4-.92-.59-1.43-.59-.52 0-1.04.2-1.43.59L10.3 9.45l-7.72 7.72c-.78.78-.78 2.05 0 2.83L4 21.41c.39.39.9.59 1.41.59.51 0 1.02-.2 1.41-.59l7.78-7.78 2.81-2.81c.8-.78.8-2.07 0-2.86zM5.41 20L4 18.59l7.72-7.72 1.47 1.35L5.41 20z\"/>\n",
       "  </svg>\n",
       "      </button>\n",
       "      \n",
       "  <style>\n",
       "    .colab-df-container {\n",
       "      display:flex;\n",
       "      flex-wrap:wrap;\n",
       "      gap: 12px;\n",
       "    }\n",
       "\n",
       "    .colab-df-convert {\n",
       "      background-color: #E8F0FE;\n",
       "      border: none;\n",
       "      border-radius: 50%;\n",
       "      cursor: pointer;\n",
       "      display: none;\n",
       "      fill: #1967D2;\n",
       "      height: 32px;\n",
       "      padding: 0 0 0 0;\n",
       "      width: 32px;\n",
       "    }\n",
       "\n",
       "    .colab-df-convert:hover {\n",
       "      background-color: #E2EBFA;\n",
       "      box-shadow: 0px 1px 2px rgba(60, 64, 67, 0.3), 0px 1px 3px 1px rgba(60, 64, 67, 0.15);\n",
       "      fill: #174EA6;\n",
       "    }\n",
       "\n",
       "    [theme=dark] .colab-df-convert {\n",
       "      background-color: #3B4455;\n",
       "      fill: #D2E3FC;\n",
       "    }\n",
       "\n",
       "    [theme=dark] .colab-df-convert:hover {\n",
       "      background-color: #434B5C;\n",
       "      box-shadow: 0px 1px 3px 1px rgba(0, 0, 0, 0.15);\n",
       "      filter: drop-shadow(0px 1px 2px rgba(0, 0, 0, 0.3));\n",
       "      fill: #FFFFFF;\n",
       "    }\n",
       "  </style>\n",
       "\n",
       "      <script>\n",
       "        const buttonEl =\n",
       "          document.querySelector('#df-07947f12-d68f-41f4-9702-cd68ee8e3354 button.colab-df-convert');\n",
       "        buttonEl.style.display =\n",
       "          google.colab.kernel.accessAllowed ? 'block' : 'none';\n",
       "\n",
       "        async function convertToInteractive(key) {\n",
       "          const element = document.querySelector('#df-07947f12-d68f-41f4-9702-cd68ee8e3354');\n",
       "          const dataTable =\n",
       "            await google.colab.kernel.invokeFunction('convertToInteractive',\n",
       "                                                     [key], {});\n",
       "          if (!dataTable) return;\n",
       "\n",
       "          const docLinkHtml = 'Like what you see? Visit the ' +\n",
       "            '<a target=\"_blank\" href=https://colab.research.google.com/notebooks/data_table.ipynb>data table notebook</a>'\n",
       "            + ' to learn more about interactive tables.';\n",
       "          element.innerHTML = '';\n",
       "          dataTable['output_type'] = 'display_data';\n",
       "          await google.colab.output.renderOutput(dataTable, element);\n",
       "          const docLink = document.createElement('div');\n",
       "          docLink.innerHTML = docLinkHtml;\n",
       "          element.appendChild(docLink);\n",
       "        }\n",
       "      </script>\n",
       "    </div>\n",
       "  </div>\n",
       "  "
      ],
      "text/plain": [
       "math score               <=50  >50\n",
       "test preparation course           \n",
       "yes                        33  325\n",
       "no                        117  525"
      ]
     },
     "execution_count": 37,
     "metadata": {},
     "output_type": "execute_result"
    }
   ],
   "source": [
    "prep_vs_math50 = pd.crosstab(data['test preparation course'], data['math score'] > 50)\n",
    "prep_vs_math50.rename(columns = {False: '<=50', True: '>50'}, inplace = True)\n",
    "prep_vs_math50.rename(index = {'completed': 'yes', 'none': 'no'}, inplace = True)\n",
    "prep_vs_math50.head()"
   ]
  },
  {
   "cell_type": "markdown",
   "id": "Swrwv3D2chMo",
   "metadata": {
    "id": "Swrwv3D2chMo"
   },
   "source": [
    "ใช้ Fisher's exact test **fisher_exact** เพื่อทดสอบความสัมพันธ์ข้างบน\n",
    "\n",
    "ตั้งค่า **alternative** เป็นอะไรดี?"
   ]
  },
  {
   "cell_type": "code",
   "execution_count": 38,
   "id": "covered-healthcare",
   "metadata": {
    "colab": {
     "base_uri": "https://localhost:8080/"
    },
    "id": "covered-healthcare",
    "outputId": "1910bbde-d81b-4e8b-aa49-2b21d9257578"
   },
   "outputs": [
    {
     "name": "stdout",
     "output_type": "stream",
     "text": [
      "two-tailed: (0.4556213017751479, 9.817463464958036e-05)\n",
      "yes and math score <=50 is lower than expected: (0.4556213017751479, 0.999973362529135)\n",
      "yes and math score <=50 is higher than expected: (0.4556213017751479, 6.105475694314792e-05)\n"
     ]
    }
   ],
   "source": [
    "print('two-tailed:', scipy.stats.fisher_exact(prep_vs_math50))\n",
    "print('yes and math score <=50 is lower than expected:', scipy.stats.fisher_exact(prep_vs_math50, alternative = 'greater'))\n",
    "print('yes and math score <=50 is higher than expected:', scipy.stats.fisher_exact(prep_vs_math50, alternative = 'less'))"
   ]
  },
  {
   "cell_type": "markdown",
   "id": "forced-blink",
   "metadata": {
    "id": "forced-blink"
   },
   "source": [
    "### ถ้ามีหลาย category จะทำยังไง\n",
    "มองแต่ละ category แยกกัน เป็น yes/no ได้ เช่น **race/erhnicity** is group A เทียบกับ **race/erhnicity** is not group A "
   ]
  },
  {
   "cell_type": "code",
   "execution_count": 39,
   "id": "configured-example",
   "metadata": {
    "colab": {
     "base_uri": "https://localhost:8080/",
     "height": 238
    },
    "id": "configured-example",
    "outputId": "10ce69fd-2db4-41aa-c49c-04e64bb63588"
   },
   "outputs": [
    {
     "data": {
      "text/html": [
       "\n",
       "  <div id=\"df-4192c6f4-71cc-479d-ac36-7c5f530194fa\">\n",
       "    <div class=\"colab-df-container\">\n",
       "      <div>\n",
       "<style scoped>\n",
       "    .dataframe tbody tr th:only-of-type {\n",
       "        vertical-align: middle;\n",
       "    }\n",
       "\n",
       "    .dataframe tbody tr th {\n",
       "        vertical-align: top;\n",
       "    }\n",
       "\n",
       "    .dataframe thead th {\n",
       "        text-align: right;\n",
       "    }\n",
       "</style>\n",
       "<table border=\"1\" class=\"dataframe\">\n",
       "  <thead>\n",
       "    <tr style=\"text-align: right;\">\n",
       "      <th>math score</th>\n",
       "      <th>&lt;=50</th>\n",
       "      <th>&gt;50</th>\n",
       "    </tr>\n",
       "    <tr>\n",
       "      <th>race/ethnicity</th>\n",
       "      <th></th>\n",
       "      <th></th>\n",
       "    </tr>\n",
       "  </thead>\n",
       "  <tbody>\n",
       "    <tr>\n",
       "      <th>group A</th>\n",
       "      <td>22</td>\n",
       "      <td>67</td>\n",
       "    </tr>\n",
       "    <tr>\n",
       "      <th>group B</th>\n",
       "      <td>35</td>\n",
       "      <td>155</td>\n",
       "    </tr>\n",
       "    <tr>\n",
       "      <th>group C</th>\n",
       "      <td>50</td>\n",
       "      <td>269</td>\n",
       "    </tr>\n",
       "    <tr>\n",
       "      <th>group D</th>\n",
       "      <td>31</td>\n",
       "      <td>231</td>\n",
       "    </tr>\n",
       "    <tr>\n",
       "      <th>group E</th>\n",
       "      <td>12</td>\n",
       "      <td>128</td>\n",
       "    </tr>\n",
       "  </tbody>\n",
       "</table>\n",
       "</div>\n",
       "      <button class=\"colab-df-convert\" onclick=\"convertToInteractive('df-4192c6f4-71cc-479d-ac36-7c5f530194fa')\"\n",
       "              title=\"Convert this dataframe to an interactive table.\"\n",
       "              style=\"display:none;\">\n",
       "        \n",
       "  <svg xmlns=\"http://www.w3.org/2000/svg\" height=\"24px\"viewBox=\"0 0 24 24\"\n",
       "       width=\"24px\">\n",
       "    <path d=\"M0 0h24v24H0V0z\" fill=\"none\"/>\n",
       "    <path d=\"M18.56 5.44l.94 2.06.94-2.06 2.06-.94-2.06-.94-.94-2.06-.94 2.06-2.06.94zm-11 1L8.5 8.5l.94-2.06 2.06-.94-2.06-.94L8.5 2.5l-.94 2.06-2.06.94zm10 10l.94 2.06.94-2.06 2.06-.94-2.06-.94-.94-2.06-.94 2.06-2.06.94z\"/><path d=\"M17.41 7.96l-1.37-1.37c-.4-.4-.92-.59-1.43-.59-.52 0-1.04.2-1.43.59L10.3 9.45l-7.72 7.72c-.78.78-.78 2.05 0 2.83L4 21.41c.39.39.9.59 1.41.59.51 0 1.02-.2 1.41-.59l7.78-7.78 2.81-2.81c.8-.78.8-2.07 0-2.86zM5.41 20L4 18.59l7.72-7.72 1.47 1.35L5.41 20z\"/>\n",
       "  </svg>\n",
       "      </button>\n",
       "      \n",
       "  <style>\n",
       "    .colab-df-container {\n",
       "      display:flex;\n",
       "      flex-wrap:wrap;\n",
       "      gap: 12px;\n",
       "    }\n",
       "\n",
       "    .colab-df-convert {\n",
       "      background-color: #E8F0FE;\n",
       "      border: none;\n",
       "      border-radius: 50%;\n",
       "      cursor: pointer;\n",
       "      display: none;\n",
       "      fill: #1967D2;\n",
       "      height: 32px;\n",
       "      padding: 0 0 0 0;\n",
       "      width: 32px;\n",
       "    }\n",
       "\n",
       "    .colab-df-convert:hover {\n",
       "      background-color: #E2EBFA;\n",
       "      box-shadow: 0px 1px 2px rgba(60, 64, 67, 0.3), 0px 1px 3px 1px rgba(60, 64, 67, 0.15);\n",
       "      fill: #174EA6;\n",
       "    }\n",
       "\n",
       "    [theme=dark] .colab-df-convert {\n",
       "      background-color: #3B4455;\n",
       "      fill: #D2E3FC;\n",
       "    }\n",
       "\n",
       "    [theme=dark] .colab-df-convert:hover {\n",
       "      background-color: #434B5C;\n",
       "      box-shadow: 0px 1px 3px 1px rgba(0, 0, 0, 0.15);\n",
       "      filter: drop-shadow(0px 1px 2px rgba(0, 0, 0, 0.3));\n",
       "      fill: #FFFFFF;\n",
       "    }\n",
       "  </style>\n",
       "\n",
       "      <script>\n",
       "        const buttonEl =\n",
       "          document.querySelector('#df-4192c6f4-71cc-479d-ac36-7c5f530194fa button.colab-df-convert');\n",
       "        buttonEl.style.display =\n",
       "          google.colab.kernel.accessAllowed ? 'block' : 'none';\n",
       "\n",
       "        async function convertToInteractive(key) {\n",
       "          const element = document.querySelector('#df-4192c6f4-71cc-479d-ac36-7c5f530194fa');\n",
       "          const dataTable =\n",
       "            await google.colab.kernel.invokeFunction('convertToInteractive',\n",
       "                                                     [key], {});\n",
       "          if (!dataTable) return;\n",
       "\n",
       "          const docLinkHtml = 'Like what you see? Visit the ' +\n",
       "            '<a target=\"_blank\" href=https://colab.research.google.com/notebooks/data_table.ipynb>data table notebook</a>'\n",
       "            + ' to learn more about interactive tables.';\n",
       "          element.innerHTML = '';\n",
       "          dataTable['output_type'] = 'display_data';\n",
       "          await google.colab.output.renderOutput(dataTable, element);\n",
       "          const docLink = document.createElement('div');\n",
       "          docLink.innerHTML = docLinkHtml;\n",
       "          element.appendChild(docLink);\n",
       "        }\n",
       "      </script>\n",
       "    </div>\n",
       "  </div>\n",
       "  "
      ],
      "text/plain": [
       "math score      <=50  >50\n",
       "race/ethnicity           \n",
       "group A           22   67\n",
       "group B           35  155\n",
       "group C           50  269\n",
       "group D           31  231\n",
       "group E           12  128"
      ]
     },
     "execution_count": 39,
     "metadata": {},
     "output_type": "execute_result"
    }
   ],
   "source": [
    "race_vs_math50 = pd.crosstab(data['race/ethnicity'], data['math score'] > 50)\n",
    "race_vs_math50.rename(columns = {False: '<=50', True: '>50'}, inplace = True)\n",
    "race_vs_math50.head()"
   ]
  },
  {
   "cell_type": "markdown",
   "id": "A3o9mhC8dA9W",
   "metadata": {
    "id": "A3o9mhC8dA9W"
   },
   "source": [
    "ใช้ Fisher's exact test ทดสอบทีละ category ของ **race/erhnicity**"
   ]
  },
  {
   "cell_type": "code",
   "execution_count": 40,
   "id": "norman-october",
   "metadata": {
    "colab": {
     "base_uri": "https://localhost:8080/",
     "height": 206
    },
    "id": "norman-october",
    "outputId": "2d9b3ae0-89fb-4e48-c1d1-4fc4eb34eea9"
   },
   "outputs": [
    {
     "data": {
      "text/html": [
       "\n",
       "  <div id=\"df-8e6aa7f9-0d63-4eb0-b510-09741fa5740c\">\n",
       "    <div class=\"colab-df-container\">\n",
       "      <div>\n",
       "<style scoped>\n",
       "    .dataframe tbody tr th:only-of-type {\n",
       "        vertical-align: middle;\n",
       "    }\n",
       "\n",
       "    .dataframe tbody tr th {\n",
       "        vertical-align: top;\n",
       "    }\n",
       "\n",
       "    .dataframe thead th {\n",
       "        text-align: right;\n",
       "    }\n",
       "</style>\n",
       "<table border=\"1\" class=\"dataframe\">\n",
       "  <thead>\n",
       "    <tr style=\"text-align: right;\">\n",
       "      <th></th>\n",
       "      <th>Fisher p-value</th>\n",
       "      <th>mininmum support</th>\n",
       "    </tr>\n",
       "  </thead>\n",
       "  <tbody>\n",
       "    <tr>\n",
       "      <th>group A</th>\n",
       "      <td>0.004225</td>\n",
       "      <td>41</td>\n",
       "    </tr>\n",
       "    <tr>\n",
       "      <th>group B</th>\n",
       "      <td>0.047334</td>\n",
       "      <td>87</td>\n",
       "    </tr>\n",
       "    <tr>\n",
       "      <th>group C</th>\n",
       "      <td>0.488151</td>\n",
       "      <td>120</td>\n",
       "    </tr>\n",
       "    <tr>\n",
       "      <th>group D</th>\n",
       "      <td>0.269765</td>\n",
       "      <td>95</td>\n",
       "    </tr>\n",
       "    <tr>\n",
       "      <th>group E</th>\n",
       "      <td>0.019363</td>\n",
       "      <td>42</td>\n",
       "    </tr>\n",
       "  </tbody>\n",
       "</table>\n",
       "</div>\n",
       "      <button class=\"colab-df-convert\" onclick=\"convertToInteractive('df-8e6aa7f9-0d63-4eb0-b510-09741fa5740c')\"\n",
       "              title=\"Convert this dataframe to an interactive table.\"\n",
       "              style=\"display:none;\">\n",
       "        \n",
       "  <svg xmlns=\"http://www.w3.org/2000/svg\" height=\"24px\"viewBox=\"0 0 24 24\"\n",
       "       width=\"24px\">\n",
       "    <path d=\"M0 0h24v24H0V0z\" fill=\"none\"/>\n",
       "    <path d=\"M18.56 5.44l.94 2.06.94-2.06 2.06-.94-2.06-.94-.94-2.06-.94 2.06-2.06.94zm-11 1L8.5 8.5l.94-2.06 2.06-.94-2.06-.94L8.5 2.5l-.94 2.06-2.06.94zm10 10l.94 2.06.94-2.06 2.06-.94-2.06-.94-.94-2.06-.94 2.06-2.06.94z\"/><path d=\"M17.41 7.96l-1.37-1.37c-.4-.4-.92-.59-1.43-.59-.52 0-1.04.2-1.43.59L10.3 9.45l-7.72 7.72c-.78.78-.78 2.05 0 2.83L4 21.41c.39.39.9.59 1.41.59.51 0 1.02-.2 1.41-.59l7.78-7.78 2.81-2.81c.8-.78.8-2.07 0-2.86zM5.41 20L4 18.59l7.72-7.72 1.47 1.35L5.41 20z\"/>\n",
       "  </svg>\n",
       "      </button>\n",
       "      \n",
       "  <style>\n",
       "    .colab-df-container {\n",
       "      display:flex;\n",
       "      flex-wrap:wrap;\n",
       "      gap: 12px;\n",
       "    }\n",
       "\n",
       "    .colab-df-convert {\n",
       "      background-color: #E8F0FE;\n",
       "      border: none;\n",
       "      border-radius: 50%;\n",
       "      cursor: pointer;\n",
       "      display: none;\n",
       "      fill: #1967D2;\n",
       "      height: 32px;\n",
       "      padding: 0 0 0 0;\n",
       "      width: 32px;\n",
       "    }\n",
       "\n",
       "    .colab-df-convert:hover {\n",
       "      background-color: #E2EBFA;\n",
       "      box-shadow: 0px 1px 2px rgba(60, 64, 67, 0.3), 0px 1px 3px 1px rgba(60, 64, 67, 0.15);\n",
       "      fill: #174EA6;\n",
       "    }\n",
       "\n",
       "    [theme=dark] .colab-df-convert {\n",
       "      background-color: #3B4455;\n",
       "      fill: #D2E3FC;\n",
       "    }\n",
       "\n",
       "    [theme=dark] .colab-df-convert:hover {\n",
       "      background-color: #434B5C;\n",
       "      box-shadow: 0px 1px 3px 1px rgba(0, 0, 0, 0.15);\n",
       "      filter: drop-shadow(0px 1px 2px rgba(0, 0, 0, 0.3));\n",
       "      fill: #FFFFFF;\n",
       "    }\n",
       "  </style>\n",
       "\n",
       "      <script>\n",
       "        const buttonEl =\n",
       "          document.querySelector('#df-8e6aa7f9-0d63-4eb0-b510-09741fa5740c button.colab-df-convert');\n",
       "        buttonEl.style.display =\n",
       "          google.colab.kernel.accessAllowed ? 'block' : 'none';\n",
       "\n",
       "        async function convertToInteractive(key) {\n",
       "          const element = document.querySelector('#df-8e6aa7f9-0d63-4eb0-b510-09741fa5740c');\n",
       "          const dataTable =\n",
       "            await google.colab.kernel.invokeFunction('convertToInteractive',\n",
       "                                                     [key], {});\n",
       "          if (!dataTable) return;\n",
       "\n",
       "          const docLinkHtml = 'Like what you see? Visit the ' +\n",
       "            '<a target=\"_blank\" href=https://colab.research.google.com/notebooks/data_table.ipynb>data table notebook</a>'\n",
       "            + ' to learn more about interactive tables.';\n",
       "          element.innerHTML = '';\n",
       "          dataTable['output_type'] = 'display_data';\n",
       "          await google.colab.output.renderOutput(dataTable, element);\n",
       "          const docLink = document.createElement('div');\n",
       "          docLink.innerHTML = docLinkHtml;\n",
       "          element.appendChild(docLink);\n",
       "        }\n",
       "      </script>\n",
       "    </div>\n",
       "  </div>\n",
       "  "
      ],
      "text/plain": [
       "         Fisher p-value  mininmum support\n",
       "group A        0.004225                41\n",
       "group B        0.047334                87\n",
       "group C        0.488151               120\n",
       "group D        0.269765                95\n",
       "group E        0.019363                42"
      ]
     },
     "execution_count": 40,
     "metadata": {},
     "output_type": "execute_result"
    }
   ],
   "source": [
    "races = sorted(pd.unique(data['race/ethnicity']))\n",
    "race_vs_math_fisher = pd.DataFrame(0, index = races, columns = ['Fisher p-value', 'mininmum support'])\n",
    "\n",
    "for race in races:\n",
    "    temp_table = pd.crosstab(data['race/ethnicity'] == race, data['reading score'] > 65)\n",
    "    race_vs_math_fisher.loc[race, :] = [scipy.stats.fisher_exact(temp_table)[1], temp_table.values.min()]\n",
    "    \n",
    "race_vs_math_fisher.head()"
   ]
  },
  {
   "cell_type": "markdown",
   "id": "modular-calibration",
   "metadata": {
    "id": "modular-calibration"
   },
   "source": [
    "## เมื่อทำการทดสอบหลายครั้ง ก็ต้องทำการ correct p-value ที่ได้\n",
    "ไม่เช่นนั้น error จริงจะสูงขึ้นกว่า cutoff ที่ตั้งไว้\n",
    "\n",
    "เริ่มจาก Bonferroni ที่ง่ายที่สุด"
   ]
  },
  {
   "cell_type": "code",
   "execution_count": 41,
   "id": "monetary-treasure",
   "metadata": {
    "colab": {
     "base_uri": "https://localhost:8080/",
     "height": 206
    },
    "id": "monetary-treasure",
    "outputId": "31e58234-a62e-405f-da32-7890f7bf5c98"
   },
   "outputs": [
    {
     "data": {
      "text/html": [
       "\n",
       "  <div id=\"df-1b78b2e0-b70d-4451-b0b5-750b9f87bc13\">\n",
       "    <div class=\"colab-df-container\">\n",
       "      <div>\n",
       "<style scoped>\n",
       "    .dataframe tbody tr th:only-of-type {\n",
       "        vertical-align: middle;\n",
       "    }\n",
       "\n",
       "    .dataframe tbody tr th {\n",
       "        vertical-align: top;\n",
       "    }\n",
       "\n",
       "    .dataframe thead th {\n",
       "        text-align: right;\n",
       "    }\n",
       "</style>\n",
       "<table border=\"1\" class=\"dataframe\">\n",
       "  <thead>\n",
       "    <tr style=\"text-align: right;\">\n",
       "      <th></th>\n",
       "      <th>Fisher p-value</th>\n",
       "      <th>mininmum support</th>\n",
       "      <th>Bonferroni</th>\n",
       "    </tr>\n",
       "  </thead>\n",
       "  <tbody>\n",
       "    <tr>\n",
       "      <th>group A</th>\n",
       "      <td>0.004225</td>\n",
       "      <td>41</td>\n",
       "      <td>True</td>\n",
       "    </tr>\n",
       "    <tr>\n",
       "      <th>group B</th>\n",
       "      <td>0.047334</td>\n",
       "      <td>87</td>\n",
       "      <td>False</td>\n",
       "    </tr>\n",
       "    <tr>\n",
       "      <th>group C</th>\n",
       "      <td>0.488151</td>\n",
       "      <td>120</td>\n",
       "      <td>False</td>\n",
       "    </tr>\n",
       "    <tr>\n",
       "      <th>group D</th>\n",
       "      <td>0.269765</td>\n",
       "      <td>95</td>\n",
       "      <td>False</td>\n",
       "    </tr>\n",
       "    <tr>\n",
       "      <th>group E</th>\n",
       "      <td>0.019363</td>\n",
       "      <td>42</td>\n",
       "      <td>False</td>\n",
       "    </tr>\n",
       "  </tbody>\n",
       "</table>\n",
       "</div>\n",
       "      <button class=\"colab-df-convert\" onclick=\"convertToInteractive('df-1b78b2e0-b70d-4451-b0b5-750b9f87bc13')\"\n",
       "              title=\"Convert this dataframe to an interactive table.\"\n",
       "              style=\"display:none;\">\n",
       "        \n",
       "  <svg xmlns=\"http://www.w3.org/2000/svg\" height=\"24px\"viewBox=\"0 0 24 24\"\n",
       "       width=\"24px\">\n",
       "    <path d=\"M0 0h24v24H0V0z\" fill=\"none\"/>\n",
       "    <path d=\"M18.56 5.44l.94 2.06.94-2.06 2.06-.94-2.06-.94-.94-2.06-.94 2.06-2.06.94zm-11 1L8.5 8.5l.94-2.06 2.06-.94-2.06-.94L8.5 2.5l-.94 2.06-2.06.94zm10 10l.94 2.06.94-2.06 2.06-.94-2.06-.94-.94-2.06-.94 2.06-2.06.94z\"/><path d=\"M17.41 7.96l-1.37-1.37c-.4-.4-.92-.59-1.43-.59-.52 0-1.04.2-1.43.59L10.3 9.45l-7.72 7.72c-.78.78-.78 2.05 0 2.83L4 21.41c.39.39.9.59 1.41.59.51 0 1.02-.2 1.41-.59l7.78-7.78 2.81-2.81c.8-.78.8-2.07 0-2.86zM5.41 20L4 18.59l7.72-7.72 1.47 1.35L5.41 20z\"/>\n",
       "  </svg>\n",
       "      </button>\n",
       "      \n",
       "  <style>\n",
       "    .colab-df-container {\n",
       "      display:flex;\n",
       "      flex-wrap:wrap;\n",
       "      gap: 12px;\n",
       "    }\n",
       "\n",
       "    .colab-df-convert {\n",
       "      background-color: #E8F0FE;\n",
       "      border: none;\n",
       "      border-radius: 50%;\n",
       "      cursor: pointer;\n",
       "      display: none;\n",
       "      fill: #1967D2;\n",
       "      height: 32px;\n",
       "      padding: 0 0 0 0;\n",
       "      width: 32px;\n",
       "    }\n",
       "\n",
       "    .colab-df-convert:hover {\n",
       "      background-color: #E2EBFA;\n",
       "      box-shadow: 0px 1px 2px rgba(60, 64, 67, 0.3), 0px 1px 3px 1px rgba(60, 64, 67, 0.15);\n",
       "      fill: #174EA6;\n",
       "    }\n",
       "\n",
       "    [theme=dark] .colab-df-convert {\n",
       "      background-color: #3B4455;\n",
       "      fill: #D2E3FC;\n",
       "    }\n",
       "\n",
       "    [theme=dark] .colab-df-convert:hover {\n",
       "      background-color: #434B5C;\n",
       "      box-shadow: 0px 1px 3px 1px rgba(0, 0, 0, 0.15);\n",
       "      filter: drop-shadow(0px 1px 2px rgba(0, 0, 0, 0.3));\n",
       "      fill: #FFFFFF;\n",
       "    }\n",
       "  </style>\n",
       "\n",
       "      <script>\n",
       "        const buttonEl =\n",
       "          document.querySelector('#df-1b78b2e0-b70d-4451-b0b5-750b9f87bc13 button.colab-df-convert');\n",
       "        buttonEl.style.display =\n",
       "          google.colab.kernel.accessAllowed ? 'block' : 'none';\n",
       "\n",
       "        async function convertToInteractive(key) {\n",
       "          const element = document.querySelector('#df-1b78b2e0-b70d-4451-b0b5-750b9f87bc13');\n",
       "          const dataTable =\n",
       "            await google.colab.kernel.invokeFunction('convertToInteractive',\n",
       "                                                     [key], {});\n",
       "          if (!dataTable) return;\n",
       "\n",
       "          const docLinkHtml = 'Like what you see? Visit the ' +\n",
       "            '<a target=\"_blank\" href=https://colab.research.google.com/notebooks/data_table.ipynb>data table notebook</a>'\n",
       "            + ' to learn more about interactive tables.';\n",
       "          element.innerHTML = '';\n",
       "          dataTable['output_type'] = 'display_data';\n",
       "          await google.colab.output.renderOutput(dataTable, element);\n",
       "          const docLink = document.createElement('div');\n",
       "          docLink.innerHTML = docLinkHtml;\n",
       "          element.appendChild(docLink);\n",
       "        }\n",
       "      </script>\n",
       "    </div>\n",
       "  </div>\n",
       "  "
      ],
      "text/plain": [
       "         Fisher p-value  mininmum support  Bonferroni\n",
       "group A        0.004225                41        True\n",
       "group B        0.047334                87       False\n",
       "group C        0.488151               120       False\n",
       "group D        0.269765                95       False\n",
       "group E        0.019363                42       False"
      ]
     },
     "execution_count": 41,
     "metadata": {},
     "output_type": "execute_result"
    }
   ],
   "source": [
    "cutoff = 0.05\n",
    "\n",
    "race_vs_math_fisher['Bonferroni'] = race_vs_math_fisher['Fisher p-value'] <= cutoff / race_vs_math_fisher.shape[0]\n",
    "race_vs_math_fisher.head()"
   ]
  },
  {
   "cell_type": "markdown",
   "id": "colonial-dressing",
   "metadata": {
    "id": "colonial-dressing"
   },
   "source": [
    "### อยากใช้ Benjamini-Hochberg แต่ไม่อยากเขียนโค้ดเอง\n",
    "มีคนเขียนไว้แล้วใน [statsmodels](https://www.statsmodels.org/dev/index.html)\n",
    "\n",
    "ข่าวดีคือ Google Colab ลงไว้ให้แล้ว"
   ]
  },
  {
   "cell_type": "code",
   "execution_count": 42,
   "id": "finite-message",
   "metadata": {
    "id": "finite-message"
   },
   "outputs": [],
   "source": [
    "# !pip install statsmodels"
   ]
  },
  {
   "cell_type": "markdown",
   "id": "tP1kTYYTdoa2",
   "metadata": {
    "id": "tP1kTYYTdoa2"
   },
   "source": [
    "ใช้ [multipletests](https://www.statsmodels.org/dev/generated/statsmodels.stats.multitest.multipletests.html)"
   ]
  },
  {
   "cell_type": "code",
   "execution_count": 43,
   "id": "interpreted-master",
   "metadata": {
    "colab": {
     "base_uri": "https://localhost:8080/"
    },
    "id": "interpreted-master",
    "outputId": "542bb0b1-cd47-4e38-d279-c44f5b2a07fc"
   },
   "outputs": [
    {
     "name": "stdout",
     "output_type": "stream",
     "text": [
      "(array([ True, False, False, False,  True]), array([0.02112254, 0.07888926, 0.48815061, 0.33720597, 0.04840731]), 0.010206218313011495, 0.01)\n"
     ]
    }
   ],
   "source": [
    "from statsmodels.stats.multitest import multipletests\n",
    "\n",
    "benjamini_hochberg = multipletests(race_vs_math_fisher['Fisher p-value'].values, alpha = cutoff, method = 'fdr_bh')\n",
    "print(benjamini_hochberg)"
   ]
  },
  {
   "cell_type": "markdown",
   "id": "PPYCNtEnd09e",
   "metadata": {
    "id": "PPYCNtEnd09e"
   },
   "source": [
    "เปรียบเทียบผลระหว่าง Bonferroni กับ Benjamini-Hochberg คุ้มค่าการลงทุนเรียนรู้ library ใหม่มั้ย?"
   ]
  },
  {
   "cell_type": "code",
   "execution_count": 44,
   "id": "assisted-cabin",
   "metadata": {
    "colab": {
     "base_uri": "https://localhost:8080/",
     "height": 206
    },
    "id": "assisted-cabin",
    "outputId": "1003332d-093d-4106-a6a4-1825519c4cee"
   },
   "outputs": [
    {
     "data": {
      "text/html": [
       "\n",
       "  <div id=\"df-f353d8f8-c6a2-4a04-9fae-b6083b194e17\">\n",
       "    <div class=\"colab-df-container\">\n",
       "      <div>\n",
       "<style scoped>\n",
       "    .dataframe tbody tr th:only-of-type {\n",
       "        vertical-align: middle;\n",
       "    }\n",
       "\n",
       "    .dataframe tbody tr th {\n",
       "        vertical-align: top;\n",
       "    }\n",
       "\n",
       "    .dataframe thead th {\n",
       "        text-align: right;\n",
       "    }\n",
       "</style>\n",
       "<table border=\"1\" class=\"dataframe\">\n",
       "  <thead>\n",
       "    <tr style=\"text-align: right;\">\n",
       "      <th></th>\n",
       "      <th>Fisher p-value</th>\n",
       "      <th>mininmum support</th>\n",
       "      <th>Bonferroni</th>\n",
       "      <th>Benjamini-Hochberg</th>\n",
       "      <th>FDR</th>\n",
       "    </tr>\n",
       "  </thead>\n",
       "  <tbody>\n",
       "    <tr>\n",
       "      <th>group A</th>\n",
       "      <td>0.004225</td>\n",
       "      <td>41</td>\n",
       "      <td>True</td>\n",
       "      <td>True</td>\n",
       "      <td>0.021123</td>\n",
       "    </tr>\n",
       "    <tr>\n",
       "      <th>group B</th>\n",
       "      <td>0.047334</td>\n",
       "      <td>87</td>\n",
       "      <td>False</td>\n",
       "      <td>False</td>\n",
       "      <td>0.078889</td>\n",
       "    </tr>\n",
       "    <tr>\n",
       "      <th>group C</th>\n",
       "      <td>0.488151</td>\n",
       "      <td>120</td>\n",
       "      <td>False</td>\n",
       "      <td>False</td>\n",
       "      <td>0.488151</td>\n",
       "    </tr>\n",
       "    <tr>\n",
       "      <th>group D</th>\n",
       "      <td>0.269765</td>\n",
       "      <td>95</td>\n",
       "      <td>False</td>\n",
       "      <td>False</td>\n",
       "      <td>0.337206</td>\n",
       "    </tr>\n",
       "    <tr>\n",
       "      <th>group E</th>\n",
       "      <td>0.019363</td>\n",
       "      <td>42</td>\n",
       "      <td>False</td>\n",
       "      <td>True</td>\n",
       "      <td>0.048407</td>\n",
       "    </tr>\n",
       "  </tbody>\n",
       "</table>\n",
       "</div>\n",
       "      <button class=\"colab-df-convert\" onclick=\"convertToInteractive('df-f353d8f8-c6a2-4a04-9fae-b6083b194e17')\"\n",
       "              title=\"Convert this dataframe to an interactive table.\"\n",
       "              style=\"display:none;\">\n",
       "        \n",
       "  <svg xmlns=\"http://www.w3.org/2000/svg\" height=\"24px\"viewBox=\"0 0 24 24\"\n",
       "       width=\"24px\">\n",
       "    <path d=\"M0 0h24v24H0V0z\" fill=\"none\"/>\n",
       "    <path d=\"M18.56 5.44l.94 2.06.94-2.06 2.06-.94-2.06-.94-.94-2.06-.94 2.06-2.06.94zm-11 1L8.5 8.5l.94-2.06 2.06-.94-2.06-.94L8.5 2.5l-.94 2.06-2.06.94zm10 10l.94 2.06.94-2.06 2.06-.94-2.06-.94-.94-2.06-.94 2.06-2.06.94z\"/><path d=\"M17.41 7.96l-1.37-1.37c-.4-.4-.92-.59-1.43-.59-.52 0-1.04.2-1.43.59L10.3 9.45l-7.72 7.72c-.78.78-.78 2.05 0 2.83L4 21.41c.39.39.9.59 1.41.59.51 0 1.02-.2 1.41-.59l7.78-7.78 2.81-2.81c.8-.78.8-2.07 0-2.86zM5.41 20L4 18.59l7.72-7.72 1.47 1.35L5.41 20z\"/>\n",
       "  </svg>\n",
       "      </button>\n",
       "      \n",
       "  <style>\n",
       "    .colab-df-container {\n",
       "      display:flex;\n",
       "      flex-wrap:wrap;\n",
       "      gap: 12px;\n",
       "    }\n",
       "\n",
       "    .colab-df-convert {\n",
       "      background-color: #E8F0FE;\n",
       "      border: none;\n",
       "      border-radius: 50%;\n",
       "      cursor: pointer;\n",
       "      display: none;\n",
       "      fill: #1967D2;\n",
       "      height: 32px;\n",
       "      padding: 0 0 0 0;\n",
       "      width: 32px;\n",
       "    }\n",
       "\n",
       "    .colab-df-convert:hover {\n",
       "      background-color: #E2EBFA;\n",
       "      box-shadow: 0px 1px 2px rgba(60, 64, 67, 0.3), 0px 1px 3px 1px rgba(60, 64, 67, 0.15);\n",
       "      fill: #174EA6;\n",
       "    }\n",
       "\n",
       "    [theme=dark] .colab-df-convert {\n",
       "      background-color: #3B4455;\n",
       "      fill: #D2E3FC;\n",
       "    }\n",
       "\n",
       "    [theme=dark] .colab-df-convert:hover {\n",
       "      background-color: #434B5C;\n",
       "      box-shadow: 0px 1px 3px 1px rgba(0, 0, 0, 0.15);\n",
       "      filter: drop-shadow(0px 1px 2px rgba(0, 0, 0, 0.3));\n",
       "      fill: #FFFFFF;\n",
       "    }\n",
       "  </style>\n",
       "\n",
       "      <script>\n",
       "        const buttonEl =\n",
       "          document.querySelector('#df-f353d8f8-c6a2-4a04-9fae-b6083b194e17 button.colab-df-convert');\n",
       "        buttonEl.style.display =\n",
       "          google.colab.kernel.accessAllowed ? 'block' : 'none';\n",
       "\n",
       "        async function convertToInteractive(key) {\n",
       "          const element = document.querySelector('#df-f353d8f8-c6a2-4a04-9fae-b6083b194e17');\n",
       "          const dataTable =\n",
       "            await google.colab.kernel.invokeFunction('convertToInteractive',\n",
       "                                                     [key], {});\n",
       "          if (!dataTable) return;\n",
       "\n",
       "          const docLinkHtml = 'Like what you see? Visit the ' +\n",
       "            '<a target=\"_blank\" href=https://colab.research.google.com/notebooks/data_table.ipynb>data table notebook</a>'\n",
       "            + ' to learn more about interactive tables.';\n",
       "          element.innerHTML = '';\n",
       "          dataTable['output_type'] = 'display_data';\n",
       "          await google.colab.output.renderOutput(dataTable, element);\n",
       "          const docLink = document.createElement('div');\n",
       "          docLink.innerHTML = docLinkHtml;\n",
       "          element.appendChild(docLink);\n",
       "        }\n",
       "      </script>\n",
       "    </div>\n",
       "  </div>\n",
       "  "
      ],
      "text/plain": [
       "         Fisher p-value  mininmum support  Bonferroni  Benjamini-Hochberg  \\\n",
       "group A        0.004225                41        True                True   \n",
       "group B        0.047334                87       False               False   \n",
       "group C        0.488151               120       False               False   \n",
       "group D        0.269765                95       False               False   \n",
       "group E        0.019363                42       False                True   \n",
       "\n",
       "              FDR  \n",
       "group A  0.021123  \n",
       "group B  0.078889  \n",
       "group C  0.488151  \n",
       "group D  0.337206  \n",
       "group E  0.048407  "
      ]
     },
     "execution_count": 44,
     "metadata": {},
     "output_type": "execute_result"
    }
   ],
   "source": [
    "race_vs_math_fisher['Benjamini-Hochberg'] = benjamini_hochberg[0]\n",
    "race_vs_math_fisher['FDR'] = benjamini_hochberg[1]\n",
    "race_vs_math_fisher.head()"
   ]
  },
  {
   "cell_type": "markdown",
   "id": "04112615",
   "metadata": {
    "id": "04112615"
   },
   "source": [
    "### เวลาจะใช้ตัวแปร categorical ในโมเดลต้องทำการแปลงเป็น one-hot encoding\n",
    "เช่น จากตัวแปร race/ethnicity เดียวก็แตกเป็นตัวแปร race group A, race group B, ..., race group E แยก column กัน"
   ]
  },
  {
   "cell_type": "code",
   "execution_count": 45,
   "id": "clean-cartoon",
   "metadata": {
    "colab": {
     "base_uri": "https://localhost:8080/",
     "height": 206
    },
    "id": "clean-cartoon",
    "outputId": "b3741f5a-20f8-4374-ca35-fcc65732bb7d"
   },
   "outputs": [
    {
     "data": {
      "text/html": [
       "\n",
       "  <div id=\"df-86b13d24-9441-4256-8123-36abf2d55443\">\n",
       "    <div class=\"colab-df-container\">\n",
       "      <div>\n",
       "<style scoped>\n",
       "    .dataframe tbody tr th:only-of-type {\n",
       "        vertical-align: middle;\n",
       "    }\n",
       "\n",
       "    .dataframe tbody tr th {\n",
       "        vertical-align: top;\n",
       "    }\n",
       "\n",
       "    .dataframe thead th {\n",
       "        text-align: right;\n",
       "    }\n",
       "</style>\n",
       "<table border=\"1\" class=\"dataframe\">\n",
       "  <thead>\n",
       "    <tr style=\"text-align: right;\">\n",
       "      <th></th>\n",
       "      <th>race: group A</th>\n",
       "      <th>race: group B</th>\n",
       "      <th>race: group C</th>\n",
       "      <th>race: group D</th>\n",
       "      <th>race: group E</th>\n",
       "    </tr>\n",
       "  </thead>\n",
       "  <tbody>\n",
       "    <tr>\n",
       "      <th>0</th>\n",
       "      <td>0</td>\n",
       "      <td>1</td>\n",
       "      <td>0</td>\n",
       "      <td>0</td>\n",
       "      <td>0</td>\n",
       "    </tr>\n",
       "    <tr>\n",
       "      <th>1</th>\n",
       "      <td>0</td>\n",
       "      <td>0</td>\n",
       "      <td>1</td>\n",
       "      <td>0</td>\n",
       "      <td>0</td>\n",
       "    </tr>\n",
       "    <tr>\n",
       "      <th>2</th>\n",
       "      <td>0</td>\n",
       "      <td>1</td>\n",
       "      <td>0</td>\n",
       "      <td>0</td>\n",
       "      <td>0</td>\n",
       "    </tr>\n",
       "    <tr>\n",
       "      <th>3</th>\n",
       "      <td>1</td>\n",
       "      <td>0</td>\n",
       "      <td>0</td>\n",
       "      <td>0</td>\n",
       "      <td>0</td>\n",
       "    </tr>\n",
       "    <tr>\n",
       "      <th>4</th>\n",
       "      <td>0</td>\n",
       "      <td>0</td>\n",
       "      <td>1</td>\n",
       "      <td>0</td>\n",
       "      <td>0</td>\n",
       "    </tr>\n",
       "  </tbody>\n",
       "</table>\n",
       "</div>\n",
       "      <button class=\"colab-df-convert\" onclick=\"convertToInteractive('df-86b13d24-9441-4256-8123-36abf2d55443')\"\n",
       "              title=\"Convert this dataframe to an interactive table.\"\n",
       "              style=\"display:none;\">\n",
       "        \n",
       "  <svg xmlns=\"http://www.w3.org/2000/svg\" height=\"24px\"viewBox=\"0 0 24 24\"\n",
       "       width=\"24px\">\n",
       "    <path d=\"M0 0h24v24H0V0z\" fill=\"none\"/>\n",
       "    <path d=\"M18.56 5.44l.94 2.06.94-2.06 2.06-.94-2.06-.94-.94-2.06-.94 2.06-2.06.94zm-11 1L8.5 8.5l.94-2.06 2.06-.94-2.06-.94L8.5 2.5l-.94 2.06-2.06.94zm10 10l.94 2.06.94-2.06 2.06-.94-2.06-.94-.94-2.06-.94 2.06-2.06.94z\"/><path d=\"M17.41 7.96l-1.37-1.37c-.4-.4-.92-.59-1.43-.59-.52 0-1.04.2-1.43.59L10.3 9.45l-7.72 7.72c-.78.78-.78 2.05 0 2.83L4 21.41c.39.39.9.59 1.41.59.51 0 1.02-.2 1.41-.59l7.78-7.78 2.81-2.81c.8-.78.8-2.07 0-2.86zM5.41 20L4 18.59l7.72-7.72 1.47 1.35L5.41 20z\"/>\n",
       "  </svg>\n",
       "      </button>\n",
       "      \n",
       "  <style>\n",
       "    .colab-df-container {\n",
       "      display:flex;\n",
       "      flex-wrap:wrap;\n",
       "      gap: 12px;\n",
       "    }\n",
       "\n",
       "    .colab-df-convert {\n",
       "      background-color: #E8F0FE;\n",
       "      border: none;\n",
       "      border-radius: 50%;\n",
       "      cursor: pointer;\n",
       "      display: none;\n",
       "      fill: #1967D2;\n",
       "      height: 32px;\n",
       "      padding: 0 0 0 0;\n",
       "      width: 32px;\n",
       "    }\n",
       "\n",
       "    .colab-df-convert:hover {\n",
       "      background-color: #E2EBFA;\n",
       "      box-shadow: 0px 1px 2px rgba(60, 64, 67, 0.3), 0px 1px 3px 1px rgba(60, 64, 67, 0.15);\n",
       "      fill: #174EA6;\n",
       "    }\n",
       "\n",
       "    [theme=dark] .colab-df-convert {\n",
       "      background-color: #3B4455;\n",
       "      fill: #D2E3FC;\n",
       "    }\n",
       "\n",
       "    [theme=dark] .colab-df-convert:hover {\n",
       "      background-color: #434B5C;\n",
       "      box-shadow: 0px 1px 3px 1px rgba(0, 0, 0, 0.15);\n",
       "      filter: drop-shadow(0px 1px 2px rgba(0, 0, 0, 0.3));\n",
       "      fill: #FFFFFF;\n",
       "    }\n",
       "  </style>\n",
       "\n",
       "      <script>\n",
       "        const buttonEl =\n",
       "          document.querySelector('#df-86b13d24-9441-4256-8123-36abf2d55443 button.colab-df-convert');\n",
       "        buttonEl.style.display =\n",
       "          google.colab.kernel.accessAllowed ? 'block' : 'none';\n",
       "\n",
       "        async function convertToInteractive(key) {\n",
       "          const element = document.querySelector('#df-86b13d24-9441-4256-8123-36abf2d55443');\n",
       "          const dataTable =\n",
       "            await google.colab.kernel.invokeFunction('convertToInteractive',\n",
       "                                                     [key], {});\n",
       "          if (!dataTable) return;\n",
       "\n",
       "          const docLinkHtml = 'Like what you see? Visit the ' +\n",
       "            '<a target=\"_blank\" href=https://colab.research.google.com/notebooks/data_table.ipynb>data table notebook</a>'\n",
       "            + ' to learn more about interactive tables.';\n",
       "          element.innerHTML = '';\n",
       "          dataTable['output_type'] = 'display_data';\n",
       "          await google.colab.output.renderOutput(dataTable, element);\n",
       "          const docLink = document.createElement('div');\n",
       "          docLink.innerHTML = docLinkHtml;\n",
       "          element.appendChild(docLink);\n",
       "        }\n",
       "      </script>\n",
       "    </div>\n",
       "  </div>\n",
       "  "
      ],
      "text/plain": [
       "   race: group A  race: group B  race: group C  race: group D  race: group E\n",
       "0              0              1              0              0              0\n",
       "1              0              0              1              0              0\n",
       "2              0              1              0              0              0\n",
       "3              1              0              0              0              0\n",
       "4              0              0              1              0              0"
      ]
     },
     "execution_count": 45,
     "metadata": {},
     "output_type": "execute_result"
    }
   ],
   "source": [
    "race_onehot = pd.get_dummies(data['race/ethnicity'], prefix = 'race', prefix_sep = ' ')\n",
    "race_onehot.head()"
   ]
  },
  {
   "cell_type": "markdown",
   "id": "9d490ab6",
   "metadata": {
    "id": "9d490ab6"
   },
   "source": [
    "### สำรวจความถี่ของแต่ละ category\n",
    "category ที่มีความถี่ต่ำเกินไปอาจจะไม่มีประโยชน์ในการนำไปพัฒนาโมเดล\n",
    "\n",
    "เริ่มจากการนับจำนวนข้อมูลสำหรับแต่ละ category จากทุกตัวแปร"
   ]
  },
  {
   "cell_type": "code",
   "execution_count": 46,
   "id": "53903047",
   "metadata": {
    "id": "53903047"
   },
   "outputs": [],
   "source": [
    "sample_count = {}\n",
    "\n",
    "for cat_feat in categorical_features:\n",
    "    count = data[cat_feat].value_counts()\n",
    "    sample_count.update({x: count[x] for x in count.index})"
   ]
  },
  {
   "cell_type": "code",
   "execution_count": 47,
   "id": "9968e22c",
   "metadata": {
    "colab": {
     "base_uri": "https://localhost:8080/",
     "height": 206
    },
    "id": "9968e22c",
    "outputId": "4e1602b0-8ccc-467a-d36f-17af9f3bd9cc"
   },
   "outputs": [
    {
     "data": {
      "text/html": [
       "\n",
       "  <div id=\"df-1b04aa7a-e87b-41fb-bcbc-8d3497a63061\">\n",
       "    <div class=\"colab-df-container\">\n",
       "      <div>\n",
       "<style scoped>\n",
       "    .dataframe tbody tr th:only-of-type {\n",
       "        vertical-align: middle;\n",
       "    }\n",
       "\n",
       "    .dataframe tbody tr th {\n",
       "        vertical-align: top;\n",
       "    }\n",
       "\n",
       "    .dataframe thead th {\n",
       "        text-align: right;\n",
       "    }\n",
       "</style>\n",
       "<table border=\"1\" class=\"dataframe\">\n",
       "  <thead>\n",
       "    <tr style=\"text-align: right;\">\n",
       "      <th></th>\n",
       "      <th>frequency</th>\n",
       "    </tr>\n",
       "  </thead>\n",
       "  <tbody>\n",
       "    <tr>\n",
       "      <th>female</th>\n",
       "      <td>518</td>\n",
       "    </tr>\n",
       "    <tr>\n",
       "      <th>male</th>\n",
       "      <td>482</td>\n",
       "    </tr>\n",
       "    <tr>\n",
       "      <th>group C</th>\n",
       "      <td>319</td>\n",
       "    </tr>\n",
       "    <tr>\n",
       "      <th>group D</th>\n",
       "      <td>262</td>\n",
       "    </tr>\n",
       "    <tr>\n",
       "      <th>group B</th>\n",
       "      <td>190</td>\n",
       "    </tr>\n",
       "  </tbody>\n",
       "</table>\n",
       "</div>\n",
       "      <button class=\"colab-df-convert\" onclick=\"convertToInteractive('df-1b04aa7a-e87b-41fb-bcbc-8d3497a63061')\"\n",
       "              title=\"Convert this dataframe to an interactive table.\"\n",
       "              style=\"display:none;\">\n",
       "        \n",
       "  <svg xmlns=\"http://www.w3.org/2000/svg\" height=\"24px\"viewBox=\"0 0 24 24\"\n",
       "       width=\"24px\">\n",
       "    <path d=\"M0 0h24v24H0V0z\" fill=\"none\"/>\n",
       "    <path d=\"M18.56 5.44l.94 2.06.94-2.06 2.06-.94-2.06-.94-.94-2.06-.94 2.06-2.06.94zm-11 1L8.5 8.5l.94-2.06 2.06-.94-2.06-.94L8.5 2.5l-.94 2.06-2.06.94zm10 10l.94 2.06.94-2.06 2.06-.94-2.06-.94-.94-2.06-.94 2.06-2.06.94z\"/><path d=\"M17.41 7.96l-1.37-1.37c-.4-.4-.92-.59-1.43-.59-.52 0-1.04.2-1.43.59L10.3 9.45l-7.72 7.72c-.78.78-.78 2.05 0 2.83L4 21.41c.39.39.9.59 1.41.59.51 0 1.02-.2 1.41-.59l7.78-7.78 2.81-2.81c.8-.78.8-2.07 0-2.86zM5.41 20L4 18.59l7.72-7.72 1.47 1.35L5.41 20z\"/>\n",
       "  </svg>\n",
       "      </button>\n",
       "      \n",
       "  <style>\n",
       "    .colab-df-container {\n",
       "      display:flex;\n",
       "      flex-wrap:wrap;\n",
       "      gap: 12px;\n",
       "    }\n",
       "\n",
       "    .colab-df-convert {\n",
       "      background-color: #E8F0FE;\n",
       "      border: none;\n",
       "      border-radius: 50%;\n",
       "      cursor: pointer;\n",
       "      display: none;\n",
       "      fill: #1967D2;\n",
       "      height: 32px;\n",
       "      padding: 0 0 0 0;\n",
       "      width: 32px;\n",
       "    }\n",
       "\n",
       "    .colab-df-convert:hover {\n",
       "      background-color: #E2EBFA;\n",
       "      box-shadow: 0px 1px 2px rgba(60, 64, 67, 0.3), 0px 1px 3px 1px rgba(60, 64, 67, 0.15);\n",
       "      fill: #174EA6;\n",
       "    }\n",
       "\n",
       "    [theme=dark] .colab-df-convert {\n",
       "      background-color: #3B4455;\n",
       "      fill: #D2E3FC;\n",
       "    }\n",
       "\n",
       "    [theme=dark] .colab-df-convert:hover {\n",
       "      background-color: #434B5C;\n",
       "      box-shadow: 0px 1px 3px 1px rgba(0, 0, 0, 0.15);\n",
       "      filter: drop-shadow(0px 1px 2px rgba(0, 0, 0, 0.3));\n",
       "      fill: #FFFFFF;\n",
       "    }\n",
       "  </style>\n",
       "\n",
       "      <script>\n",
       "        const buttonEl =\n",
       "          document.querySelector('#df-1b04aa7a-e87b-41fb-bcbc-8d3497a63061 button.colab-df-convert');\n",
       "        buttonEl.style.display =\n",
       "          google.colab.kernel.accessAllowed ? 'block' : 'none';\n",
       "\n",
       "        async function convertToInteractive(key) {\n",
       "          const element = document.querySelector('#df-1b04aa7a-e87b-41fb-bcbc-8d3497a63061');\n",
       "          const dataTable =\n",
       "            await google.colab.kernel.invokeFunction('convertToInteractive',\n",
       "                                                     [key], {});\n",
       "          if (!dataTable) return;\n",
       "\n",
       "          const docLinkHtml = 'Like what you see? Visit the ' +\n",
       "            '<a target=\"_blank\" href=https://colab.research.google.com/notebooks/data_table.ipynb>data table notebook</a>'\n",
       "            + ' to learn more about interactive tables.';\n",
       "          element.innerHTML = '';\n",
       "          dataTable['output_type'] = 'display_data';\n",
       "          await google.colab.output.renderOutput(dataTable, element);\n",
       "          const docLink = document.createElement('div');\n",
       "          docLink.innerHTML = docLinkHtml;\n",
       "          element.appendChild(docLink);\n",
       "        }\n",
       "      </script>\n",
       "    </div>\n",
       "  </div>\n",
       "  "
      ],
      "text/plain": [
       "         frequency\n",
       "female         518\n",
       "male           482\n",
       "group C        319\n",
       "group D        262\n",
       "group B        190"
      ]
     },
     "execution_count": 47,
     "metadata": {},
     "output_type": "execute_result"
    }
   ],
   "source": [
    "sample_count_df = pd.DataFrame().from_dict(sample_count, orient = 'index', columns = ['frequency'])\n",
    "sample_count_df.head()"
   ]
  },
  {
   "cell_type": "markdown",
   "id": "pcgrPBV5ggmF",
   "metadata": {
    "id": "pcgrPBV5ggmF"
   },
   "source": [
    "ใช้ **bar** แสดงความถี่"
   ]
  },
  {
   "cell_type": "code",
   "execution_count": 48,
   "id": "b9e868da",
   "metadata": {
    "colab": {
     "base_uri": "https://localhost:8080/",
     "height": 349
    },
    "id": "b9e868da",
    "outputId": "1e776072-72dc-4f34-f338-844a885c31be"
   },
   "outputs": [
    {
     "data": {
      "image/png": "[encoded data removed]",
      "text/plain": [
       "<Figure size 432x288 with 1 Axes>"
      ]
     },
     "metadata": {
      "needs_background": "light"
     },
     "output_type": "display_data"
    }
   ],
   "source": [
    "plt.figure()\n",
    "plt.bar(range(sample_count_df.shape[0]), sample_count_df['frequency'].values)\n",
    "plt.xticks(ticks = range(sample_count_df.shape[0]), labels = sample_count_df.index, rotation = 90)\n",
    "plt.ylabel('sample count')\n",
    "plt.show()"
   ]
  },
  {
   "cell_type": "markdown",
   "id": "minimal-layout",
   "metadata": {
    "id": "minimal-layout"
   },
   "source": [
    "# ข้อมูลราคาบ้าน\n",
    "เราจะจัดการ missing data และศึกษา correlation ระหว่างตัวแปรกัน"
   ]
  },
  {
   "cell_type": "code",
   "execution_count": 72,
   "id": "crude-plumbing",
   "metadata": {
    "colab": {
     "base_uri": "https://localhost:8080/",
     "height": 418
    },
    "id": "crude-plumbing",
    "outputId": "cf36dd44-8d6e-460e-a49b-7c7afab5292a"
   },
   "outputs": [
    {
     "data": {
      "text/html": [
       "\n",
       "  <div id=\"df-4e8112a9-f014-498b-a5cf-711a3bad3bec\">\n",
       "    <div class=\"colab-df-container\">\n",
       "      <div>\n",
       "<style scoped>\n",
       "    .dataframe tbody tr th:only-of-type {\n",
       "        vertical-align: middle;\n",
       "    }\n",
       "\n",
       "    .dataframe tbody tr th {\n",
       "        vertical-align: top;\n",
       "    }\n",
       "\n",
       "    .dataframe thead th {\n",
       "        text-align: right;\n",
       "    }\n",
       "</style>\n",
       "<table border=\"1\" class=\"dataframe\">\n",
       "  <thead>\n",
       "    <tr style=\"text-align: right;\">\n",
       "      <th></th>\n",
       "      <th>MSSubClass</th>\n",
       "      <th>MSZoning</th>\n",
       "      <th>LotFrontage</th>\n",
       "      <th>LotArea</th>\n",
       "      <th>Street</th>\n",
       "      <th>Alley</th>\n",
       "      <th>LotShape</th>\n",
       "      <th>LandContour</th>\n",
       "      <th>Utilities</th>\n",
       "      <th>LotConfig</th>\n",
       "      <th>...</th>\n",
       "      <th>PoolArea</th>\n",
       "      <th>PoolQC</th>\n",
       "      <th>Fence</th>\n",
       "      <th>MiscFeature</th>\n",
       "      <th>MiscVal</th>\n",
       "      <th>MoSold</th>\n",
       "      <th>YrSold</th>\n",
       "      <th>SaleType</th>\n",
       "      <th>SaleCondition</th>\n",
       "      <th>SalePrice</th>\n",
       "    </tr>\n",
       "    <tr>\n",
       "      <th>Id</th>\n",
       "      <th></th>\n",
       "      <th></th>\n",
       "      <th></th>\n",
       "      <th></th>\n",
       "      <th></th>\n",
       "      <th></th>\n",
       "      <th></th>\n",
       "      <th></th>\n",
       "      <th></th>\n",
       "      <th></th>\n",
       "      <th></th>\n",
       "      <th></th>\n",
       "      <th></th>\n",
       "      <th></th>\n",
       "      <th></th>\n",
       "      <th></th>\n",
       "      <th></th>\n",
       "      <th></th>\n",
       "      <th></th>\n",
       "      <th></th>\n",
       "      <th></th>\n",
       "    </tr>\n",
       "  </thead>\n",
       "  <tbody>\n",
       "    <tr>\n",
       "      <th>1</th>\n",
       "      <td>2-STORY 1946+</td>\n",
       "      <td>RL</td>\n",
       "      <td>65.0</td>\n",
       "      <td>8450</td>\n",
       "      <td>Pave</td>\n",
       "      <td>NaN</td>\n",
       "      <td>0</td>\n",
       "      <td>Lvl</td>\n",
       "      <td>3</td>\n",
       "      <td>Inside</td>\n",
       "      <td>...</td>\n",
       "      <td>0</td>\n",
       "      <td>0</td>\n",
       "      <td>0</td>\n",
       "      <td>NaN</td>\n",
       "      <td>0</td>\n",
       "      <td>Feb</td>\n",
       "      <td>2008</td>\n",
       "      <td>WD</td>\n",
       "      <td>Normal</td>\n",
       "      <td>208500</td>\n",
       "    </tr>\n",
       "    <tr>\n",
       "      <th>2</th>\n",
       "      <td>1-STORY 1946+</td>\n",
       "      <td>RL</td>\n",
       "      <td>80.0</td>\n",
       "      <td>9600</td>\n",
       "      <td>Pave</td>\n",
       "      <td>NaN</td>\n",
       "      <td>0</td>\n",
       "      <td>Lvl</td>\n",
       "      <td>3</td>\n",
       "      <td>FR2</td>\n",
       "      <td>...</td>\n",
       "      <td>0</td>\n",
       "      <td>0</td>\n",
       "      <td>0</td>\n",
       "      <td>NaN</td>\n",
       "      <td>0</td>\n",
       "      <td>May</td>\n",
       "      <td>2007</td>\n",
       "      <td>WD</td>\n",
       "      <td>Normal</td>\n",
       "      <td>181500</td>\n",
       "    </tr>\n",
       "    <tr>\n",
       "      <th>3</th>\n",
       "      <td>2-STORY 1946+</td>\n",
       "      <td>RL</td>\n",
       "      <td>68.0</td>\n",
       "      <td>11250</td>\n",
       "      <td>Pave</td>\n",
       "      <td>NaN</td>\n",
       "      <td>1</td>\n",
       "      <td>Lvl</td>\n",
       "      <td>3</td>\n",
       "      <td>Inside</td>\n",
       "      <td>...</td>\n",
       "      <td>0</td>\n",
       "      <td>0</td>\n",
       "      <td>0</td>\n",
       "      <td>NaN</td>\n",
       "      <td>0</td>\n",
       "      <td>Sept</td>\n",
       "      <td>2008</td>\n",
       "      <td>WD</td>\n",
       "      <td>Normal</td>\n",
       "      <td>223500</td>\n",
       "    </tr>\n",
       "    <tr>\n",
       "      <th>4</th>\n",
       "      <td>2-STORY 1945-</td>\n",
       "      <td>RL</td>\n",
       "      <td>60.0</td>\n",
       "      <td>9550</td>\n",
       "      <td>Pave</td>\n",
       "      <td>NaN</td>\n",
       "      <td>1</td>\n",
       "      <td>Lvl</td>\n",
       "      <td>3</td>\n",
       "      <td>Corner</td>\n",
       "      <td>...</td>\n",
       "      <td>0</td>\n",
       "      <td>0</td>\n",
       "      <td>0</td>\n",
       "      <td>NaN</td>\n",
       "      <td>0</td>\n",
       "      <td>Feb</td>\n",
       "      <td>2006</td>\n",
       "      <td>WD</td>\n",
       "      <td>Abnorml</td>\n",
       "      <td>140000</td>\n",
       "    </tr>\n",
       "    <tr>\n",
       "      <th>5</th>\n",
       "      <td>2-STORY 1946+</td>\n",
       "      <td>RL</td>\n",
       "      <td>84.0</td>\n",
       "      <td>14260</td>\n",
       "      <td>Pave</td>\n",
       "      <td>NaN</td>\n",
       "      <td>1</td>\n",
       "      <td>Lvl</td>\n",
       "      <td>3</td>\n",
       "      <td>FR2</td>\n",
       "      <td>...</td>\n",
       "      <td>0</td>\n",
       "      <td>0</td>\n",
       "      <td>0</td>\n",
       "      <td>NaN</td>\n",
       "      <td>0</td>\n",
       "      <td>Dec</td>\n",
       "      <td>2008</td>\n",
       "      <td>WD</td>\n",
       "      <td>Normal</td>\n",
       "      <td>250000</td>\n",
       "    </tr>\n",
       "  </tbody>\n",
       "</table>\n",
       "<p>5 rows × 80 columns</p>\n",
       "</div>\n",
       "      <button class=\"colab-df-convert\" onclick=\"convertToInteractive('df-4e8112a9-f014-498b-a5cf-711a3bad3bec')\"\n",
       "              title=\"Convert this dataframe to an interactive table.\"\n",
       "              style=\"display:none;\">\n",
       "        \n",
       "  <svg xmlns=\"http://www.w3.org/2000/svg\" height=\"24px\"viewBox=\"0 0 24 24\"\n",
       "       width=\"24px\">\n",
       "    <path d=\"M0 0h24v24H0V0z\" fill=\"none\"/>\n",
       "    <path d=\"M18.56 5.44l.94 2.06.94-2.06 2.06-.94-2.06-.94-.94-2.06-.94 2.06-2.06.94zm-11 1L8.5 8.5l.94-2.06 2.06-.94-2.06-.94L8.5 2.5l-.94 2.06-2.06.94zm10 10l.94 2.06.94-2.06 2.06-.94-2.06-.94-.94-2.06-.94 2.06-2.06.94z\"/><path d=\"M17.41 7.96l-1.37-1.37c-.4-.4-.92-.59-1.43-.59-.52 0-1.04.2-1.43.59L10.3 9.45l-7.72 7.72c-.78.78-.78 2.05 0 2.83L4 21.41c.39.39.9.59 1.41.59.51 0 1.02-.2 1.41-.59l7.78-7.78 2.81-2.81c.8-.78.8-2.07 0-2.86zM5.41 20L4 18.59l7.72-7.72 1.47 1.35L5.41 20z\"/>\n",
       "  </svg>\n",
       "      </button>\n",
       "      \n",
       "  <style>\n",
       "    .colab-df-container {\n",
       "      display:flex;\n",
       "      flex-wrap:wrap;\n",
       "      gap: 12px;\n",
       "    }\n",
       "\n",
       "    .colab-df-convert {\n",
       "      background-color: #E8F0FE;\n",
       "      border: none;\n",
       "      border-radius: 50%;\n",
       "      cursor: pointer;\n",
       "      display: none;\n",
       "      fill: #1967D2;\n",
       "      height: 32px;\n",
       "      padding: 0 0 0 0;\n",
       "      width: 32px;\n",
       "    }\n",
       "\n",
       "    .colab-df-convert:hover {\n",
       "      background-color: #E2EBFA;\n",
       "      box-shadow: 0px 1px 2px rgba(60, 64, 67, 0.3), 0px 1px 3px 1px rgba(60, 64, 67, 0.15);\n",
       "      fill: #174EA6;\n",
       "    }\n",
       "\n",
       "    [theme=dark] .colab-df-convert {\n",
       "      background-color: #3B4455;\n",
       "      fill: #D2E3FC;\n",
       "    }\n",
       "\n",
       "    [theme=dark] .colab-df-convert:hover {\n",
       "      background-color: #434B5C;\n",
       "      box-shadow: 0px 1px 3px 1px rgba(0, 0, 0, 0.15);\n",
       "      filter: drop-shadow(0px 1px 2px rgba(0, 0, 0, 0.3));\n",
       "      fill: #FFFFFF;\n",
       "    }\n",
       "  </style>\n",
       "\n",
       "      <script>\n",
       "        const buttonEl =\n",
       "          document.querySelector('#df-4e8112a9-f014-498b-a5cf-711a3bad3bec button.colab-df-convert');\n",
       "        buttonEl.style.display =\n",
       "          google.colab.kernel.accessAllowed ? 'block' : 'none';\n",
       "\n",
       "        async function convertToInteractive(key) {\n",
       "          const element = document.querySelector('#df-4e8112a9-f014-498b-a5cf-711a3bad3bec');\n",
       "          const dataTable =\n",
       "            await google.colab.kernel.invokeFunction('convertToInteractive',\n",
       "                                                     [key], {});\n",
       "          if (!dataTable) return;\n",
       "\n",
       "          const docLinkHtml = 'Like what you see? Visit the ' +\n",
       "            '<a target=\"_blank\" href=https://colab.research.google.com/notebooks/data_table.ipynb>data table notebook</a>'\n",
       "            + ' to learn more about interactive tables.';\n",
       "          element.innerHTML = '';\n",
       "          dataTable['output_type'] = 'display_data';\n",
       "          await google.colab.output.renderOutput(dataTable, element);\n",
       "          const docLink = document.createElement('div');\n",
       "          docLink.innerHTML = docLinkHtml;\n",
       "          element.appendChild(docLink);\n",
       "        }\n",
       "      </script>\n",
       "    </div>\n",
       "  </div>\n",
       "  "
      ],
      "text/plain": [
       "       MSSubClass MSZoning  LotFrontage  LotArea Street Alley  LotShape  \\\n",
       "Id                                                                        \n",
       "1   2-STORY 1946+       RL         65.0     8450   Pave   NaN         0   \n",
       "2   1-STORY 1946+       RL         80.0     9600   Pave   NaN         0   \n",
       "3   2-STORY 1946+       RL         68.0    11250   Pave   NaN         1   \n",
       "4   2-STORY 1945-       RL         60.0     9550   Pave   NaN         1   \n",
       "5   2-STORY 1946+       RL         84.0    14260   Pave   NaN         1   \n",
       "\n",
       "   LandContour  Utilities LotConfig  ...  PoolArea PoolQC Fence MiscFeature  \\\n",
       "Id                                   ...                                      \n",
       "1          Lvl          3    Inside  ...         0      0     0         NaN   \n",
       "2          Lvl          3       FR2  ...         0      0     0         NaN   \n",
       "3          Lvl          3    Inside  ...         0      0     0         NaN   \n",
       "4          Lvl          3    Corner  ...         0      0     0         NaN   \n",
       "5          Lvl          3       FR2  ...         0      0     0         NaN   \n",
       "\n",
       "   MiscVal MoSold  YrSold  SaleType  SaleCondition  SalePrice  \n",
       "Id                                                             \n",
       "1        0    Feb    2008        WD         Normal     208500  \n",
       "2        0    May    2007        WD         Normal     181500  \n",
       "3        0   Sept    2008        WD         Normal     223500  \n",
       "4        0    Feb    2006        WD        Abnorml     140000  \n",
       "5        0    Dec    2008        WD         Normal     250000  \n",
       "\n",
       "[5 rows x 80 columns]"
      ]
     },
     "execution_count": 72,
     "metadata": {},
     "output_type": "execute_result"
    }
   ],
   "source": [
    "data = pd.read_csv('/content/drive/MyDrive/Datasets/HousePrices.csv', index_col = 0, header = 0)\n",
    "data.head()"
   ]
  },
  {
   "cell_type": "markdown",
   "id": "7a7a2c87",
   "metadata": {
    "id": "7a7a2c87"
   },
   "source": [
    "### ตรวจหา missing value\n",
    "ใช้ **isna** ของ pandas ในการนับจำนวน missing value\n",
    "\n",
    "นำเสนอในรูปแบบ **barh** (bar แนวนอน)"
   ]
  },
  {
   "cell_type": "code",
   "execution_count": 50,
   "id": "581f5edb",
   "metadata": {
    "colab": {
     "base_uri": "https://localhost:8080/",
     "height": 279
    },
    "id": "581f5edb",
    "outputId": "68583b5e-ec99-4074-bd04-2ed05189d7e5"
   },
   "outputs": [
    {
     "data": {
      "image/png": "[encoded data removed]",
      "text/plain": [
       "<Figure size 432x288 with 1 Axes>"
      ]
     },
     "metadata": {
      "needs_background": "light"
     },
     "output_type": "display_data"
    }
   ],
   "source": [
    "missing_count = pd.isna(data).sum()\n",
    "with_missing = missing_count.index[missing_count > 0]\n",
    "\n",
    "plt.figure()\n",
    "plt.barh(range(len(with_missing)), missing_count[with_missing])\n",
    "plt.yticks(range(len(with_missing)), labels = with_missing)\n",
    "plt.xlabel('missing value count')\n",
    "plt.show()"
   ]
  },
  {
   "cell_type": "markdown",
   "id": "27yMiAFTg7UV",
   "metadata": {
    "id": "27yMiAFTg7UV"
   },
   "source": [
    "เราตัดสินใจตัดตัวแปรที่มี missing data เยอะเกินไปออก"
   ]
  },
  {
   "cell_type": "code",
   "execution_count": 51,
   "id": "fdb7e10a",
   "metadata": {
    "colab": {
     "base_uri": "https://localhost:8080/"
    },
    "id": "fdb7e10a",
    "outputId": "72bd08a9-8a55-4207-b8dc-23bdaf03fb1a"
   },
   "outputs": [
    {
     "name": "stdout",
     "output_type": "stream",
     "text": [
      "from 80 to 78 features\n"
     ]
    }
   ],
   "source": [
    "filtered_data = data.drop(['MiscFeature', 'Alley'], axis = 1)\n",
    "\n",
    "print('from', data.shape[1], 'to', filtered_data.shape[1], 'features')"
   ]
  },
  {
   "cell_type": "markdown",
   "id": "57cc6a64",
   "metadata": {
    "id": "57cc6a64"
   },
   "source": [
    "### การเติมค่าที่หายไปด้วย imputation\n",
    "เริ่มจากแบบพื้นฐานกันก่อน\n",
    "* ตัวแปร category จะใช้ mode เติม\n",
    "* ตัวแปร numerical จะใช้ mean หรือ median ก็ได้"
   ]
  },
  {
   "cell_type": "code",
   "execution_count": 52,
   "id": "3ae85209",
   "metadata": {
    "colab": {
     "base_uri": "https://localhost:8080/"
    },
    "id": "3ae85209",
    "outputId": "a45fc4f6-b58c-48d9-8407-d9bb4530fa8a"
   },
   "outputs": [
    {
     "name": "stdout",
     "output_type": "stream",
     "text": [
      "object ['Attchd' 'Detchd' 'BuiltIn' 'CarPort' nan 'Basment' '2Types']\n",
      "float64 [ 65.  80.  68.  60.  84.  85.  75.  nan  51.  50.  70.  91.  72.  66.\n",
      " 101.  57.  44. 110.  98.  47. 108. 112.  74. 115.  61.  48.  33.  52.\n",
      " 100.  24.  89.  63.  76.  81.  95.  69.  21.  32.  78. 121. 122.  40.\n",
      " 105.  73.  77.  64.  94.  34.  90.  55.  88.  82.  71. 120. 107.  92.\n",
      " 134.  62.  86. 141.  97.  54.  41.  79. 174.  99.  67.  83.  43. 103.\n",
      "  93.  30. 129. 140.  35.  37. 118.  87. 116. 150. 111.  49.  96.  59.\n",
      "  36.  56. 102.  58.  38. 109. 130.  53. 137.  45. 106.  42.  39. 104.\n",
      " 144. 114. 128. 149. 313. 168. 182. 138. 152. 124. 153.  46.]\n"
     ]
    }
   ],
   "source": [
    "print(filtered_data['GarageType'].dtype, pd.unique(filtered_data['GarageType']))\n",
    "print(filtered_data['LotFrontage'].dtype, pd.unique(filtered_data['LotFrontage']))"
   ]
  },
  {
   "cell_type": "code",
   "execution_count": 53,
   "id": "e4e29d9b",
   "metadata": {
    "id": "e4e29d9b"
   },
   "outputs": [],
   "source": [
    "imputed_data = filtered_data.copy()\n",
    "imputed_data['GarageType'] = filtered_data['GarageType'].fillna(filtered_data['GarageType'].mode())\n",
    "imputed_data['LotFrontage'] = np.round(filtered_data['LotFrontage'].fillna(filtered_data['LotFrontage'].mean()))"
   ]
  },
  {
   "cell_type": "markdown",
   "id": "8C502HeKhWOd",
   "metadata": {
    "id": "8C502HeKhWOd"
   },
   "source": [
    "ตรวจสอบค่าที่เติมด้วย ระวังว่าตัวแปร numerical บางตัว อาจจะเป็นจำนวนเต็ม (integer) ไม่ใช่จำนวนจริง (float)"
   ]
  },
  {
   "cell_type": "code",
   "execution_count": 54,
   "id": "1727bdee",
   "metadata": {
    "colab": {
     "base_uri": "https://localhost:8080/"
    },
    "id": "1727bdee",
    "outputId": "a0ca5de8-899f-436b-80e6-dd999357f2ac"
   },
   "outputs": [
    {
     "name": "stdout",
     "output_type": "stream",
     "text": [
      "[ 65.  80.  68.  60.  84.  85.  75.  70.  51.  50.  91.  72.  66. 101.\n",
      "  57.  44. 110.  98.  47. 108. 112.  74. 115.  61.  48.  33.  52. 100.\n",
      "  24.  89.  63.  76.  81.  95.  69.  21.  32.  78. 121. 122.  40. 105.\n",
      "  73.  77.  64.  94.  34.  90.  55.  88.  82.  71. 120. 107.  92. 134.\n",
      "  62.  86. 141.  97.  54.  41.  79. 174.  99.  67.  83.  43. 103.  93.\n",
      "  30. 129. 140.  35.  37. 118.  87. 116. 150. 111.  49.  96.  59.  36.\n",
      "  56. 102.  58.  38. 109. 130.  53. 137.  45. 106.  42.  39. 104. 144.\n",
      " 114. 128. 149. 313. 168. 182. 138. 152. 124. 153.  46.]\n"
     ]
    }
   ],
   "source": [
    "print(pd.unique(imputed_data['LotFrontage']))"
   ]
  },
  {
   "cell_type": "markdown",
   "id": "d5763d53",
   "metadata": {
    "id": "d5763d53"
   },
   "source": [
    "### คำนวณ correlation ระหว่างตัวแปร numerical ทั้งหลาย\n",
    "**corrcoef** ใน numpy คำนวณ Pearson's correlation ได้"
   ]
  },
  {
   "cell_type": "code",
   "execution_count": 55,
   "id": "615c8181",
   "metadata": {
    "colab": {
     "base_uri": "https://localhost:8080/"
    },
    "id": "615c8181",
    "outputId": "54e5b103-b0d7-45fe-9ded-78aa07d9aac5"
   },
   "outputs": [
    {
     "name": "stdout",
     "output_type": "stream",
     "text": [
      "(10, 10)\n"
     ]
    }
   ],
   "source": [
    "numerical_features = ['LotFrontage', 'LotArea', 'MasVnrArea', 'BsmtFinSF1', 'BsmtUnfSF', '1stFlrSF', 'GrLivArea', 'GarageArea',\n",
    "                      'WoodDeckSF', 'OpenPorchSF']\n",
    "\n",
    "all_correlation = np.corrcoef(imputed_data[numerical_features].T)\n",
    "print(all_correlation.shape)"
   ]
  },
  {
   "cell_type": "markdown",
   "id": "9551d6ba",
   "metadata": {
    "id": "9551d6ba"
   },
   "source": [
    "### แสดงค่า correlation ระหว่างตัวแปรด้วย heatmap \n",
    "ใน [seaborn](https://seaborn.pydata.org/generated/seaborn.heatmap.html) ในกราฟสวย ๆ สำเร็จรูปให้ใช้งาน\n",
    "\n",
    "ข่าวดี Google Colab ก็ลงไว้แล้วเช่นกัน"
   ]
  },
  {
   "cell_type": "code",
   "execution_count": 56,
   "id": "b151945b",
   "metadata": {
    "id": "b151945b"
   },
   "outputs": [],
   "source": [
    "# !pip install seaborn\n",
    "\n",
    "import seaborn as sns"
   ]
  },
  {
   "cell_type": "markdown",
   "id": "j5ARamp1h93G",
   "metadata": {
    "id": "j5ARamp1h93G"
   },
   "source": [
    "ใช้ **heatmap** แสดงโครงสร้าง correlation ระหว่างตัวแปร"
   ]
  },
  {
   "cell_type": "code",
   "execution_count": 57,
   "id": "7391ad16",
   "metadata": {
    "colab": {
     "base_uri": "https://localhost:8080/",
     "height": 376
    },
    "id": "7391ad16",
    "outputId": "0ce18b76-9510-4bea-a547-d37cddc80741"
   },
   "outputs": [
    {
     "data": {
      "image/png": "[encoded data removed]",
      "text/plain": [
       "<Figure size 432x360 with 2 Axes>"
      ]
     },
     "metadata": {
      "needs_background": "light"
     },
     "output_type": "display_data"
    }
   ],
   "source": [
    "all_correlation = pd.DataFrame(all_correlation, index = numerical_features, columns = numerical_features)\n",
    "\n",
    "plt.figure(figsize = (6, 5))\n",
    "sns.heatmap(all_correlation, cmap = 'RdBu', center = 0, vmax = 0.5, vmin = -0.5)\n",
    "plt.show()"
   ]
  },
  {
   "cell_type": "markdown",
   "id": "82lUHbKhiLXM",
   "metadata": {
    "id": "82lUHbKhiLXM"
   },
   "source": [
    "เปลี่ยนเป็นใช้ Spearman's correlation ดูซิ"
   ]
  },
  {
   "cell_type": "code",
   "execution_count": 58,
   "id": "50f63807",
   "metadata": {
    "colab": {
     "base_uri": "https://localhost:8080/",
     "height": 206
    },
    "id": "50f63807",
    "outputId": "e6fc9f6d-e00d-4374-cbd2-9504770e4b6c"
   },
   "outputs": [
    {
     "data": {
      "text/html": [
       "\n",
       "  <div id=\"df-2e2db8d6-bd88-4495-8792-12f4dd25f2b6\">\n",
       "    <div class=\"colab-df-container\">\n",
       "      <div>\n",
       "<style scoped>\n",
       "    .dataframe tbody tr th:only-of-type {\n",
       "        vertical-align: middle;\n",
       "    }\n",
       "\n",
       "    .dataframe tbody tr th {\n",
       "        vertical-align: top;\n",
       "    }\n",
       "\n",
       "    .dataframe thead th {\n",
       "        text-align: right;\n",
       "    }\n",
       "</style>\n",
       "<table border=\"1\" class=\"dataframe\">\n",
       "  <thead>\n",
       "    <tr style=\"text-align: right;\">\n",
       "      <th></th>\n",
       "      <th>LotFrontage</th>\n",
       "      <th>LotArea</th>\n",
       "      <th>MasVnrArea</th>\n",
       "      <th>BsmtFinSF1</th>\n",
       "      <th>BsmtUnfSF</th>\n",
       "      <th>1stFlrSF</th>\n",
       "      <th>GrLivArea</th>\n",
       "      <th>GarageArea</th>\n",
       "      <th>WoodDeckSF</th>\n",
       "      <th>OpenPorchSF</th>\n",
       "    </tr>\n",
       "  </thead>\n",
       "  <tbody>\n",
       "    <tr>\n",
       "      <th>LotFrontage</th>\n",
       "      <td>1.000000</td>\n",
       "      <td>0.560485</td>\n",
       "      <td>0.245566</td>\n",
       "      <td>0.144475</td>\n",
       "      <td>0.097357</td>\n",
       "      <td>0.384612</td>\n",
       "      <td>0.331716</td>\n",
       "      <td>0.344058</td>\n",
       "      <td>0.100033</td>\n",
       "      <td>0.152340</td>\n",
       "    </tr>\n",
       "    <tr>\n",
       "      <th>LotArea</th>\n",
       "      <td>0.560485</td>\n",
       "      <td>1.000000</td>\n",
       "      <td>0.171457</td>\n",
       "      <td>0.165422</td>\n",
       "      <td>0.076367</td>\n",
       "      <td>0.439520</td>\n",
       "      <td>0.444751</td>\n",
       "      <td>0.362600</td>\n",
       "      <td>0.179204</td>\n",
       "      <td>0.172116</td>\n",
       "    </tr>\n",
       "    <tr>\n",
       "      <th>MasVnrArea</th>\n",
       "      <td>0.245566</td>\n",
       "      <td>0.171457</td>\n",
       "      <td>1.000000</td>\n",
       "      <td>0.233517</td>\n",
       "      <td>0.071900</td>\n",
       "      <td>0.345782</td>\n",
       "      <td>0.315238</td>\n",
       "      <td>0.357794</td>\n",
       "      <td>0.170191</td>\n",
       "      <td>0.201062</td>\n",
       "    </tr>\n",
       "    <tr>\n",
       "      <th>BsmtFinSF1</th>\n",
       "      <td>0.144475</td>\n",
       "      <td>0.165422</td>\n",
       "      <td>0.233517</td>\n",
       "      <td>1.000000</td>\n",
       "      <td>-0.578332</td>\n",
       "      <td>0.317805</td>\n",
       "      <td>0.049578</td>\n",
       "      <td>0.238429</td>\n",
       "      <td>0.174074</td>\n",
       "      <td>0.075627</td>\n",
       "    </tr>\n",
       "    <tr>\n",
       "      <th>BsmtUnfSF</th>\n",
       "      <td>0.097357</td>\n",
       "      <td>0.076367</td>\n",
       "      <td>0.071900</td>\n",
       "      <td>-0.578332</td>\n",
       "      <td>1.000000</td>\n",
       "      <td>0.222719</td>\n",
       "      <td>0.252757</td>\n",
       "      <td>0.107738</td>\n",
       "      <td>-0.036694</td>\n",
       "      <td>0.155471</td>\n",
       "    </tr>\n",
       "  </tbody>\n",
       "</table>\n",
       "</div>\n",
       "      <button class=\"colab-df-convert\" onclick=\"convertToInteractive('df-2e2db8d6-bd88-4495-8792-12f4dd25f2b6')\"\n",
       "              title=\"Convert this dataframe to an interactive table.\"\n",
       "              style=\"display:none;\">\n",
       "        \n",
       "  <svg xmlns=\"http://www.w3.org/2000/svg\" height=\"24px\"viewBox=\"0 0 24 24\"\n",
       "       width=\"24px\">\n",
       "    <path d=\"M0 0h24v24H0V0z\" fill=\"none\"/>\n",
       "    <path d=\"M18.56 5.44l.94 2.06.94-2.06 2.06-.94-2.06-.94-.94-2.06-.94 2.06-2.06.94zm-11 1L8.5 8.5l.94-2.06 2.06-.94-2.06-.94L8.5 2.5l-.94 2.06-2.06.94zm10 10l.94 2.06.94-2.06 2.06-.94-2.06-.94-.94-2.06-.94 2.06-2.06.94z\"/><path d=\"M17.41 7.96l-1.37-1.37c-.4-.4-.92-.59-1.43-.59-.52 0-1.04.2-1.43.59L10.3 9.45l-7.72 7.72c-.78.78-.78 2.05 0 2.83L4 21.41c.39.39.9.59 1.41.59.51 0 1.02-.2 1.41-.59l7.78-7.78 2.81-2.81c.8-.78.8-2.07 0-2.86zM5.41 20L4 18.59l7.72-7.72 1.47 1.35L5.41 20z\"/>\n",
       "  </svg>\n",
       "      </button>\n",
       "      \n",
       "  <style>\n",
       "    .colab-df-container {\n",
       "      display:flex;\n",
       "      flex-wrap:wrap;\n",
       "      gap: 12px;\n",
       "    }\n",
       "\n",
       "    .colab-df-convert {\n",
       "      background-color: #E8F0FE;\n",
       "      border: none;\n",
       "      border-radius: 50%;\n",
       "      cursor: pointer;\n",
       "      display: none;\n",
       "      fill: #1967D2;\n",
       "      height: 32px;\n",
       "      padding: 0 0 0 0;\n",
       "      width: 32px;\n",
       "    }\n",
       "\n",
       "    .colab-df-convert:hover {\n",
       "      background-color: #E2EBFA;\n",
       "      box-shadow: 0px 1px 2px rgba(60, 64, 67, 0.3), 0px 1px 3px 1px rgba(60, 64, 67, 0.15);\n",
       "      fill: #174EA6;\n",
       "    }\n",
       "\n",
       "    [theme=dark] .colab-df-convert {\n",
       "      background-color: #3B4455;\n",
       "      fill: #D2E3FC;\n",
       "    }\n",
       "\n",
       "    [theme=dark] .colab-df-convert:hover {\n",
       "      background-color: #434B5C;\n",
       "      box-shadow: 0px 1px 3px 1px rgba(0, 0, 0, 0.15);\n",
       "      filter: drop-shadow(0px 1px 2px rgba(0, 0, 0, 0.3));\n",
       "      fill: #FFFFFF;\n",
       "    }\n",
       "  </style>\n",
       "\n",
       "      <script>\n",
       "        const buttonEl =\n",
       "          document.querySelector('#df-2e2db8d6-bd88-4495-8792-12f4dd25f2b6 button.colab-df-convert');\n",
       "        buttonEl.style.display =\n",
       "          google.colab.kernel.accessAllowed ? 'block' : 'none';\n",
       "\n",
       "        async function convertToInteractive(key) {\n",
       "          const element = document.querySelector('#df-2e2db8d6-bd88-4495-8792-12f4dd25f2b6');\n",
       "          const dataTable =\n",
       "            await google.colab.kernel.invokeFunction('convertToInteractive',\n",
       "                                                     [key], {});\n",
       "          if (!dataTable) return;\n",
       "\n",
       "          const docLinkHtml = 'Like what you see? Visit the ' +\n",
       "            '<a target=\"_blank\" href=https://colab.research.google.com/notebooks/data_table.ipynb>data table notebook</a>'\n",
       "            + ' to learn more about interactive tables.';\n",
       "          element.innerHTML = '';\n",
       "          dataTable['output_type'] = 'display_data';\n",
       "          await google.colab.output.renderOutput(dataTable, element);\n",
       "          const docLink = document.createElement('div');\n",
       "          docLink.innerHTML = docLinkHtml;\n",
       "          element.appendChild(docLink);\n",
       "        }\n",
       "      </script>\n",
       "    </div>\n",
       "  </div>\n",
       "  "
      ],
      "text/plain": [
       "             LotFrontage   LotArea  MasVnrArea  BsmtFinSF1  BsmtUnfSF  \\\n",
       "LotFrontage     1.000000  0.560485    0.245566    0.144475   0.097357   \n",
       "LotArea         0.560485  1.000000    0.171457    0.165422   0.076367   \n",
       "MasVnrArea      0.245566  0.171457    1.000000    0.233517   0.071900   \n",
       "BsmtFinSF1      0.144475  0.165422    0.233517    1.000000  -0.578332   \n",
       "BsmtUnfSF       0.097357  0.076367    0.071900   -0.578332   1.000000   \n",
       "\n",
       "             1stFlrSF  GrLivArea  GarageArea  WoodDeckSF  OpenPorchSF  \n",
       "LotFrontage  0.384612   0.331716    0.344058    0.100033     0.152340  \n",
       "LotArea      0.439520   0.444751    0.362600    0.179204     0.172116  \n",
       "MasVnrArea   0.345782   0.315238    0.357794    0.170191     0.201062  \n",
       "BsmtFinSF1   0.317805   0.049578    0.238429    0.174074     0.075627  \n",
       "BsmtUnfSF    0.222719   0.252757    0.107738   -0.036694     0.155471  "
      ]
     },
     "execution_count": 58,
     "metadata": {},
     "output_type": "execute_result"
    }
   ],
   "source": [
    "all_spearmanr = pd.DataFrame(0, index = numerical_features, columns = numerical_features)\n",
    "\n",
    "for i in range(len(numerical_features)):\n",
    "    all_spearmanr.iloc[i, i] = 1\n",
    "    \n",
    "    for j in range(i + 1, len(numerical_features)):\n",
    "        all_spearmanr.iloc[i, j] = scipy.stats.spearmanr(imputed_data[numerical_features[i]], imputed_data[numerical_features[j]])[0]\n",
    "        all_spearmanr.iloc[j, i] = all_spearmanr.iloc[i, j]\n",
    "\n",
    "all_spearmanr.head()"
   ]
  },
  {
   "cell_type": "code",
   "execution_count": 59,
   "id": "d2c9d3a2",
   "metadata": {
    "colab": {
     "base_uri": "https://localhost:8080/",
     "height": 376
    },
    "id": "d2c9d3a2",
    "outputId": "d10707ac-904d-42a1-ac1f-81f08a8401ec"
   },
   "outputs": [
    {
     "data": {
      "image/png": "[encoded data removed]",
      "text/plain": [
       "<Figure size 432x360 with 2 Axes>"
      ]
     },
     "metadata": {
      "needs_background": "light"
     },
     "output_type": "display_data"
    }
   ],
   "source": [
    "plt.figure(figsize = (6, 5))\n",
    "sns.heatmap(all_spearmanr, cmap = 'RdBu', center = 0, vmax = 0.5, vmin = -0.5)\n",
    "plt.show()"
   ]
  },
  {
   "cell_type": "markdown",
   "id": "19ba2e20",
   "metadata": {
    "id": "19ba2e20"
   },
   "source": [
    "### คำนวณ correlation กับราคาขายบ้าน\n",
    "เพื่อค้นหาตัวแปรที่น่าจะมีประโยชน์ในการทำนายราคาขาย\n",
    "\n",
    "ใช้ Pearson's correlation และแสดงผลด้วย **bar**"
   ]
  },
  {
   "cell_type": "code",
   "execution_count": 60,
   "id": "5ab9277c",
   "metadata": {
    "colab": {
     "base_uri": "https://localhost:8080/",
     "height": 337
    },
    "id": "5ab9277c",
    "outputId": "6a79cf4b-69e0-4725-cc66-73d4b27237fe"
   },
   "outputs": [
    {
     "data": {
      "image/png": "[encoded data removed]",
      "text/plain": [
       "<Figure size 432x288 with 1 Axes>"
      ]
     },
     "metadata": {
      "needs_background": "light"
     },
     "output_type": "display_data"
    }
   ],
   "source": [
    "price_correlation = [scipy.stats.pearsonr(imputed_data['SalePrice'], imputed_data[x])[0] for x in numerical_features]\n",
    "\n",
    "plt.figure()\n",
    "plt.bar(range(len(numerical_features)), price_correlation)\n",
    "plt.ylabel('Pearson correlation')\n",
    "plt.xticks(range(len(numerical_features)), labels = numerical_features, rotation = 90)\n",
    "plt.title('Correlation with sale price')\n",
    "plt.show()"
   ]
  },
  {
   "cell_type": "markdown",
   "id": "1R4gWuJzibdz",
   "metadata": {
    "id": "1R4gWuJzibdz"
   },
   "source": [
    "### อยากรู้ว่าค่า correlation ที่ได้ มันนิ่งแค่ไหน\n",
    "ถ้ามีข้อมูลน้อยลงเหลือแค่ 40% ของทั้งหมด จะได้ correlation ค่าเดิม หรือว่าค่าจะแกว่งไปมา ขึ้นอยู่กับแต่ละส่วนของข้อมูล\n",
    "\n",
    "ไอเดียคล้ายกับการสลับข้อมูลเพื่อคำนวณ correlation แต่คราวนี้เราไม่ได้จะสลับ แต่จะสุ่มเลือกเพียง 40% ออกมา\n",
    "\n",
    "มีทางเลือกระหว่างคำสั่ง **random.choice** กับ **random.permutation** ใน numpy"
   ]
  },
  {
   "cell_type": "code",
   "execution_count": 73,
   "id": "0c70a267",
   "metadata": {
    "id": "0c70a267"
   },
   "outputs": [],
   "source": [
    "np.random.seed(4649)\n",
    "n_run = 100\n",
    "subset_size = int(imputed_data.shape[0] * 0.4)\n",
    "subset_corr = np.zeros([n_run, len(numerical_features)])\n",
    "\n",
    "for i in range(n_run):\n",
    "    indices = np.random.choice(imputed_data.index, size = subset_size, replace = False)\n",
    "    subset_corr[i] = [scipy.stats.pearsonr(imputed_data['SalePrice'].loc[indices], imputed_data[x].loc[indices])[0] for x in numerical_features]"
   ]
  },
  {
   "cell_type": "markdown",
   "id": "KrCLv3WJjVkL",
   "metadata": {
    "id": "KrCLv3WJjVkL"
   },
   "source": [
    "แสดงผลด้วย **bar** แบบมีขีดแสดงช่วง $\\pm$1 SD "
   ]
  },
  {
   "cell_type": "code",
   "execution_count": 74,
   "id": "cf421ad4",
   "metadata": {
    "colab": {
     "base_uri": "https://localhost:8080/",
     "height": 337
    },
    "id": "cf421ad4",
    "outputId": "4a74f1ab-b519-4b3e-9c30-2e7cf115ed25"
   },
   "outputs": [
    {
     "data": {
      "image/png": "[encoded data removed]",
      "text/plain": [
       "<Figure size 432x288 with 1 Axes>"
      ]
     },
     "metadata": {
      "needs_background": "light"
     },
     "output_type": "display_data"
    }
   ],
   "source": [
    "plt.figure()\n",
    "plt.bar(range(len(numerical_features)), subset_corr.mean(axis = 0), yerr = subset_corr.std(axis = 0))\n",
    "plt.ylabel('Pearson correlation')\n",
    "plt.xticks(range(len(numerical_features)), labels = numerical_features, rotation = 90)\n",
    "plt.title('Correlation with sale price')\n",
    "plt.show()"
   ]
  }
 ],
 "metadata": {
  "colab": {
   "collapsed_sections": [],
   "provenance": [],
   "toc_visible": true
  },
  "kernelspec": {
   "display_name": "Python 3",
   "language": "python",
   "name": "python3"
  },
  "language_info": {
   "codemirror_mode": {
    "name": "ipython",
    "version": 3
   },
   "file_extension": ".py",
   "mimetype": "text/x-python",
   "name": "python",
   "nbconvert_exporter": "python",
   "pygments_lexer": "ipython3",
   "version": "3.8.8"
  }
 },
 "nbformat": 4,
 "nbformat_minor": 5
}
